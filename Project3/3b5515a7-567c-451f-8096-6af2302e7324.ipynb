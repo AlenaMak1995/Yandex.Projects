{
 "cells": [
  {
   "cell_type": "markdown",
   "metadata": {},
   "source": [
    "<div class=\"alert alert-info\">\n",
    "<h2> Комментарий от ревьюера<a class=\"tocSkip\"></a></h2>\n",
    "Привет. Меня зовут Алина Гусева, я буду делать ревью к твоей работе по исследовательскому анализу данных. В дальнейшем предлагаю общаться на \"ты\".\n",
    "    \n",
    "Видно, что ты старалась, делая проект. Все ключевые этапы проекта выполнены, в целом тебе удалось со всем справиться. Особенно хочется отметить, что соблюдена структура проекта, а код написан аккуратно.\n",
    "    \n",
    "Для того, чтобы и тебе и мне удобнее было ориентироваться в комментариях, я буду помечать их разными цветами:\n",
    "- красный цвет означает комментарии, которые требуют доработки. Как только ты их исправишь - проект будет принят;\n",
    "- желтый цвет - то, что в следующий раз можно будет сделать по-другому. На твое усмотрение можешь доделать маленькие правки сейчас или учесть замечание для выполнения следующих проектов;\n",
    "- зеленый цвет - очень элегантные и удачные решение, которые желательно использовать в дальнейшей работе.\n",
    "- синий цвет - информация\n",
    "    \n",
    "Предлагаю работать над проектом в диалоге: если ты что-то изменяешь или вносишь какие-то коррективы - выделяй это каким-нибудь цветом и пиши об этом мне. Так мне гораздо легче будет отследить сделанные изменения.\n",
    "    \n",
    "Также попрошу тебя не изменять и не удалять мои комментарии, чтобы проверка твоего самостоятельного проекта прошла оперативнее.\n",
    "    \n",
    " \n",
    "</div>"
   ]
  },
  {
   "cell_type": "code",
   "execution_count": 1,
   "metadata": {},
   "outputs": [],
   "source": [
    "# import numpy as np\n",
    "\n",
    "# fruits_small = np.load('/datasets/fruits_small/')\n",
    "# np.save('fruits_small.npy', fruits_small)\n"
   ]
  },
  {
   "cell_type": "markdown",
   "metadata": {
    "toc": true
   },
   "source": [
    "<h1>Содержание<span class=\"tocSkip\"></span></h1>\n",
    "<div class=\"toc\"><ul class=\"toc-item\"><li><span><a href=\"#Изучение-данных-из-файла\" data-toc-modified-id=\"Изучение-данных-из-файла-1\"><span class=\"toc-item-num\">1&nbsp;&nbsp;</span>Изучение данных из файла</a></span><ul class=\"toc-item\"><li><span><a href=\"#Вывод\" data-toc-modified-id=\"Вывод-1.1\"><span class=\"toc-item-num\">1.1&nbsp;&nbsp;</span>Вывод</a></span></li></ul></li><li><span><a href=\"#Предобработка-данных\" data-toc-modified-id=\"Предобработка-данных-2\"><span class=\"toc-item-num\">2&nbsp;&nbsp;</span>Предобработка данных</a></span><ul class=\"toc-item\"><li><span><a href=\"#Замена-типа-данных\" data-toc-modified-id=\"Замена-типа-данных-2.1\"><span class=\"toc-item-num\">2.1&nbsp;&nbsp;</span>Замена типа данных</a></span></li><li><span><a href=\"#Вывод\" data-toc-modified-id=\"Вывод-2.2\"><span class=\"toc-item-num\">2.2&nbsp;&nbsp;</span>Вывод</a></span></li></ul></li><li><span><a href=\"#Расчёты-и-добавление-результатов-в-таблицу\" data-toc-modified-id=\"Расчёты-и-добавление-результатов-в-таблицу-3\"><span class=\"toc-item-num\">3&nbsp;&nbsp;</span>Расчёты и добавление результатов в таблицу</a></span><ul class=\"toc-item\"><li><span><a href=\"#Вывод\" data-toc-modified-id=\"Вывод-3.1\"><span class=\"toc-item-num\">3.1&nbsp;&nbsp;</span>Вывод</a></span></li></ul></li><li><span><a href=\"#Исследовательский-анализ-данных\" data-toc-modified-id=\"Исследовательский-анализ-данных-4\"><span class=\"toc-item-num\">4&nbsp;&nbsp;</span>Исследовательский анализ данных</a></span><ul class=\"toc-item\"><li><span><a href=\"#Изучение-площади,-цены,-числа-комнат-и-высоты-потолков\" data-toc-modified-id=\"Изучение-площади,-цены,-числа-комнат-и-высоты-потолков-4.1\"><span class=\"toc-item-num\">4.1&nbsp;&nbsp;</span>Изучение площади, цены, числа комнат и высоты потолков</a></span></li><li><span><a href=\"#Изучение-времени-продажи-квартиры\" data-toc-modified-id=\"Изучение-времени-продажи-квартиры-4.2\"><span class=\"toc-item-num\">4.2&nbsp;&nbsp;</span>Изучение времени продажи квартиры</a></span></li><li><span><a href=\"#Удаление-редких-и-выбивающихся-значений\" data-toc-modified-id=\"Удаление-редких-и-выбивающихся-значений-4.3\"><span class=\"toc-item-num\">4.3&nbsp;&nbsp;</span>Удаление редких и выбивающихся значений</a></span></li><li><span><a href=\"#Изучение-зависимости-цены-от-параметров\" data-toc-modified-id=\"Изучение-зависимости-цены-от-параметров-4.4\"><span class=\"toc-item-num\">4.4&nbsp;&nbsp;</span>Изучение зависимости цены от параметров</a></span></li><li><span><a href=\"#Подсчет-средней-цены-квадратного-метра-в-10-ти-населённых-пунктах-с-наибольшим-числом-объявлений.\" data-toc-modified-id=\"Подсчет-средней-цены-квадратного-метра-в-10-ти-населённых-пунктах-с-наибольшим-числом-объявлений.-4.5\"><span class=\"toc-item-num\">4.5&nbsp;&nbsp;</span>Подсчет средней цены квадратного метра в 10-ти населённых пунктах с наибольшим числом объявлений.</a></span></li><li><span><a href=\"#Нахождение-область,-входящей-в-центр\" data-toc-modified-id=\"Нахождение-область,-входящей-в-центр-4.6\"><span class=\"toc-item-num\">4.6&nbsp;&nbsp;</span>Нахождение область, входящей в центр</a></span></li><li><span><a href=\"#Анализ-сегмента-квартир-в-центре\" data-toc-modified-id=\"Анализ-сегмента-квартир-в-центре-4.7\"><span class=\"toc-item-num\">4.7&nbsp;&nbsp;</span>Анализ сегмента квартир в центре</a></span></li></ul></li><li><span><a href=\"#Общий-вывод\" data-toc-modified-id=\"Общий-вывод-5\"><span class=\"toc-item-num\">5&nbsp;&nbsp;</span>Общий вывод</a></span></li><li><span><a href=\"#Чек-лист-готовности-проекта\" data-toc-modified-id=\"Чек-лист-готовности-проекта-6\"><span class=\"toc-item-num\">6&nbsp;&nbsp;</span>Чек-лист готовности проекта</a></span></li></ul></div>"
   ]
  },
  {
   "cell_type": "markdown",
   "metadata": {},
   "source": [
    "# Исследование объявлений о продаже квартир\n",
    "\n",
    "В данном проекте будут использоваться данные сервиса Яндекс.Недвижимость — архив объявлений о продаже квартир в Санкт-Петербурге и соседних населённых пунктах за несколько лет. Цель - научиться определять рыночную стоимость объектов недвижимости. Задача — установить параметры, которые позволят построить автоматизированную систему: она отследит аномалии и мошенническую деятельность. \n",
    "\n",
    "По каждой квартире на продажу доступны два вида данных. Первые вписаны пользователем, вторые получены автоматически на основе картографических данных. Например, расстояние до центра, аэропорта, ближайшего парка и водоёма.  "
   ]
  },
  {
   "cell_type": "markdown",
   "metadata": {},
   "source": [
    "## Изучение данных из файла"
   ]
  },
  {
   "cell_type": "markdown",
   "metadata": {},
   "source": [
    "Сперва откроем файл и посмотрим общую информацию."
   ]
  },
  {
   "cell_type": "code",
   "execution_count": 2,
   "metadata": {},
   "outputs": [
    {
     "name": "stdout",
     "output_type": "stream",
     "text": [
      "<class 'pandas.core.frame.DataFrame'>\n",
      "RangeIndex: 23699 entries, 0 to 23698\n",
      "Data columns (total 1 columns):\n",
      " #   Column                                                                                                                                                                                                                                                                                           Non-Null Count  Dtype \n",
      "---  ------                                                                                                                                                                                                                                                                                           --------------  ----- \n",
      " 0   total_images\tlast_price\ttotal_area\tfirst_day_exposition\trooms\tceiling_height\tfloors_total\tliving_area\tfloor\tis_apartment\tstudio\topen_plan\tkitchen_area\tbalcony\tlocality_name\tairports_nearest\tcityCenters_nearest\tparks_around3000\tparks_nearest\tponds_around3000\tponds_nearest\tdays_exposition  23699 non-null  object\n",
      "dtypes: object(1)\n",
      "memory usage: 185.3+ KB\n"
     ]
    },
    {
     "data": {
      "text/plain": [
       "None"
      ]
     },
     "metadata": {},
     "output_type": "display_data"
    }
   ],
   "source": [
    "# Импорт библиотек pandas\n",
    "import pandas as pd\n",
    "#Открываем файл методом try-exept\n",
    "try:\n",
    "    df = pd.read_csv('/datasets/real_estate_data.csv')\n",
    "except:\n",
    "    print('The required file does not exist!')    \n",
    "# Выведем первые 5 строк таблицы\n",
    "display(df.info())"
   ]
  },
  {
   "cell_type": "markdown",
   "metadata": {},
   "source": [
    "Таблица отображается некорректно, почему-то все данные слились в одно целое.\n",
    "Посмотрим всю информацию о таблице."
   ]
  },
  {
   "cell_type": "code",
   "execution_count": 3,
   "metadata": {},
   "outputs": [
    {
     "name": "stdout",
     "output_type": "stream",
     "text": [
      "<class 'pandas.core.frame.DataFrame'>\n",
      "RangeIndex: 23699 entries, 0 to 23698\n",
      "Data columns (total 1 columns):\n",
      " #   Column                                                                                                                                                                                                                                                                                           Non-Null Count  Dtype \n",
      "---  ------                                                                                                                                                                                                                                                                                           --------------  ----- \n",
      " 0   total_images\tlast_price\ttotal_area\tfirst_day_exposition\trooms\tceiling_height\tfloors_total\tliving_area\tfloor\tis_apartment\tstudio\topen_plan\tkitchen_area\tbalcony\tlocality_name\tairports_nearest\tcityCenters_nearest\tparks_around3000\tparks_nearest\tponds_around3000\tponds_nearest\tdays_exposition  23699 non-null  object\n",
      "dtypes: object(1)\n",
      "memory usage: 185.3+ KB\n"
     ]
    }
   ],
   "source": [
    "# Изучим колонки и размер таблицы\n",
    "df.info()"
   ]
  },
  {
   "cell_type": "markdown",
   "metadata": {},
   "source": [
    "Что и следовало ожидать - в таблице всего одна колонка, где смешались все остальные. Попробуем это дело исправить. Видно, что названия колонок друг от друга отделает сепаратор \"t\"."
   ]
  },
  {
   "cell_type": "code",
   "execution_count": 4,
   "metadata": {},
   "outputs": [
    {
     "data": {
      "text/html": [
       "<div>\n",
       "<style scoped>\n",
       "    .dataframe tbody tr th:only-of-type {\n",
       "        vertical-align: middle;\n",
       "    }\n",
       "\n",
       "    .dataframe tbody tr th {\n",
       "        vertical-align: top;\n",
       "    }\n",
       "\n",
       "    .dataframe thead th {\n",
       "        text-align: right;\n",
       "    }\n",
       "</style>\n",
       "<table border=\"1\" class=\"dataframe\">\n",
       "  <thead>\n",
       "    <tr style=\"text-align: right;\">\n",
       "      <th></th>\n",
       "      <th>0</th>\n",
       "      <th>1</th>\n",
       "      <th>2</th>\n",
       "      <th>3</th>\n",
       "      <th>4</th>\n",
       "      <th>5</th>\n",
       "      <th>6</th>\n",
       "      <th>7</th>\n",
       "      <th>8</th>\n",
       "      <th>9</th>\n",
       "      <th>...</th>\n",
       "      <th>12</th>\n",
       "      <th>13</th>\n",
       "      <th>14</th>\n",
       "      <th>15</th>\n",
       "      <th>16</th>\n",
       "      <th>17</th>\n",
       "      <th>18</th>\n",
       "      <th>19</th>\n",
       "      <th>20</th>\n",
       "      <th>21</th>\n",
       "    </tr>\n",
       "  </thead>\n",
       "  <tbody>\n",
       "    <tr>\n",
       "      <th>0</th>\n",
       "      <td>20</td>\n",
       "      <td>13000000.0</td>\n",
       "      <td>108.0</td>\n",
       "      <td>2019-03-07T00:00:00</td>\n",
       "      <td>3</td>\n",
       "      <td>2.7</td>\n",
       "      <td>16.0</td>\n",
       "      <td>51.0</td>\n",
       "      <td>8</td>\n",
       "      <td></td>\n",
       "      <td>...</td>\n",
       "      <td>25.0</td>\n",
       "      <td></td>\n",
       "      <td>Санкт-Петербург</td>\n",
       "      <td>18863.0</td>\n",
       "      <td>16028.0</td>\n",
       "      <td>1.0</td>\n",
       "      <td>482.0</td>\n",
       "      <td>2.0</td>\n",
       "      <td>755.0</td>\n",
       "      <td></td>\n",
       "    </tr>\n",
       "    <tr>\n",
       "      <th>1</th>\n",
       "      <td>7</td>\n",
       "      <td>3350000.0</td>\n",
       "      <td>40.4</td>\n",
       "      <td>2018-12-04T00:00:00</td>\n",
       "      <td>1</td>\n",
       "      <td></td>\n",
       "      <td>11.0</td>\n",
       "      <td>18.6</td>\n",
       "      <td>1</td>\n",
       "      <td></td>\n",
       "      <td>...</td>\n",
       "      <td>11.0</td>\n",
       "      <td>2.0</td>\n",
       "      <td>посёлок Шушары</td>\n",
       "      <td>12817.0</td>\n",
       "      <td>18603.0</td>\n",
       "      <td>0.0</td>\n",
       "      <td></td>\n",
       "      <td>0.0</td>\n",
       "      <td></td>\n",
       "      <td>81.0</td>\n",
       "    </tr>\n",
       "    <tr>\n",
       "      <th>2</th>\n",
       "      <td>10</td>\n",
       "      <td>5196000.0</td>\n",
       "      <td>56.0</td>\n",
       "      <td>2015-08-20T00:00:00</td>\n",
       "      <td>2</td>\n",
       "      <td></td>\n",
       "      <td>5.0</td>\n",
       "      <td>34.3</td>\n",
       "      <td>4</td>\n",
       "      <td></td>\n",
       "      <td>...</td>\n",
       "      <td>8.3</td>\n",
       "      <td>0.0</td>\n",
       "      <td>Санкт-Петербург</td>\n",
       "      <td>21741.0</td>\n",
       "      <td>13933.0</td>\n",
       "      <td>1.0</td>\n",
       "      <td>90.0</td>\n",
       "      <td>2.0</td>\n",
       "      <td>574.0</td>\n",
       "      <td>558.0</td>\n",
       "    </tr>\n",
       "    <tr>\n",
       "      <th>3</th>\n",
       "      <td>0</td>\n",
       "      <td>64900000.0</td>\n",
       "      <td>159.0</td>\n",
       "      <td>2015-07-24T00:00:00</td>\n",
       "      <td>3</td>\n",
       "      <td></td>\n",
       "      <td>14.0</td>\n",
       "      <td></td>\n",
       "      <td>9</td>\n",
       "      <td></td>\n",
       "      <td>...</td>\n",
       "      <td></td>\n",
       "      <td>0.0</td>\n",
       "      <td>Санкт-Петербург</td>\n",
       "      <td>28098.0</td>\n",
       "      <td>6800.0</td>\n",
       "      <td>2.0</td>\n",
       "      <td>84.0</td>\n",
       "      <td>3.0</td>\n",
       "      <td>234.0</td>\n",
       "      <td>424.0</td>\n",
       "    </tr>\n",
       "    <tr>\n",
       "      <th>4</th>\n",
       "      <td>2</td>\n",
       "      <td>10000000.0</td>\n",
       "      <td>100.0</td>\n",
       "      <td>2018-06-19T00:00:00</td>\n",
       "      <td>2</td>\n",
       "      <td>3.03</td>\n",
       "      <td>14.0</td>\n",
       "      <td>32.0</td>\n",
       "      <td>13</td>\n",
       "      <td></td>\n",
       "      <td>...</td>\n",
       "      <td>41.0</td>\n",
       "      <td></td>\n",
       "      <td>Санкт-Петербург</td>\n",
       "      <td>31856.0</td>\n",
       "      <td>8098.0</td>\n",
       "      <td>2.0</td>\n",
       "      <td>112.0</td>\n",
       "      <td>1.0</td>\n",
       "      <td>48.0</td>\n",
       "      <td>121.0</td>\n",
       "    </tr>\n",
       "    <tr>\n",
       "      <th>...</th>\n",
       "      <td>...</td>\n",
       "      <td>...</td>\n",
       "      <td>...</td>\n",
       "      <td>...</td>\n",
       "      <td>...</td>\n",
       "      <td>...</td>\n",
       "      <td>...</td>\n",
       "      <td>...</td>\n",
       "      <td>...</td>\n",
       "      <td>...</td>\n",
       "      <td>...</td>\n",
       "      <td>...</td>\n",
       "      <td>...</td>\n",
       "      <td>...</td>\n",
       "      <td>...</td>\n",
       "      <td>...</td>\n",
       "      <td>...</td>\n",
       "      <td>...</td>\n",
       "      <td>...</td>\n",
       "      <td>...</td>\n",
       "      <td>...</td>\n",
       "    </tr>\n",
       "    <tr>\n",
       "      <th>23694</th>\n",
       "      <td>9</td>\n",
       "      <td>9700000.0</td>\n",
       "      <td>133.81</td>\n",
       "      <td>2017-03-21T00:00:00</td>\n",
       "      <td>3</td>\n",
       "      <td>3.7</td>\n",
       "      <td>5.0</td>\n",
       "      <td>73.3</td>\n",
       "      <td>3</td>\n",
       "      <td></td>\n",
       "      <td>...</td>\n",
       "      <td>13.83</td>\n",
       "      <td></td>\n",
       "      <td>Санкт-Петербург</td>\n",
       "      <td>24665.0</td>\n",
       "      <td>4232.0</td>\n",
       "      <td>1.0</td>\n",
       "      <td>796.0</td>\n",
       "      <td>3.0</td>\n",
       "      <td>381.0</td>\n",
       "      <td></td>\n",
       "    </tr>\n",
       "    <tr>\n",
       "      <th>23695</th>\n",
       "      <td>14</td>\n",
       "      <td>3100000.0</td>\n",
       "      <td>59.0</td>\n",
       "      <td>2018-01-15T00:00:00</td>\n",
       "      <td>3</td>\n",
       "      <td></td>\n",
       "      <td>5.0</td>\n",
       "      <td>38.0</td>\n",
       "      <td>4</td>\n",
       "      <td></td>\n",
       "      <td>...</td>\n",
       "      <td>8.5</td>\n",
       "      <td></td>\n",
       "      <td>Тосно</td>\n",
       "      <td></td>\n",
       "      <td></td>\n",
       "      <td></td>\n",
       "      <td></td>\n",
       "      <td></td>\n",
       "      <td></td>\n",
       "      <td>45.00000000000001</td>\n",
       "    </tr>\n",
       "    <tr>\n",
       "      <th>23696</th>\n",
       "      <td>18</td>\n",
       "      <td>2500000.0</td>\n",
       "      <td>56.7</td>\n",
       "      <td>2018-02-11T00:00:00</td>\n",
       "      <td>2</td>\n",
       "      <td></td>\n",
       "      <td>3.0</td>\n",
       "      <td>29.7</td>\n",
       "      <td>1</td>\n",
       "      <td></td>\n",
       "      <td>...</td>\n",
       "      <td></td>\n",
       "      <td></td>\n",
       "      <td>село Рождествено</td>\n",
       "      <td></td>\n",
       "      <td></td>\n",
       "      <td></td>\n",
       "      <td></td>\n",
       "      <td></td>\n",
       "      <td></td>\n",
       "      <td></td>\n",
       "    </tr>\n",
       "    <tr>\n",
       "      <th>23697</th>\n",
       "      <td>13</td>\n",
       "      <td>11475000.0</td>\n",
       "      <td>76.75</td>\n",
       "      <td>2017-03-28T00:00:00</td>\n",
       "      <td>2</td>\n",
       "      <td>3.0</td>\n",
       "      <td>17.0</td>\n",
       "      <td></td>\n",
       "      <td>12</td>\n",
       "      <td></td>\n",
       "      <td>...</td>\n",
       "      <td>23.3</td>\n",
       "      <td>2.0</td>\n",
       "      <td>Санкт-Петербург</td>\n",
       "      <td>39140.0</td>\n",
       "      <td>10364.0</td>\n",
       "      <td>2.0</td>\n",
       "      <td>173.0</td>\n",
       "      <td>3.0</td>\n",
       "      <td>196.0</td>\n",
       "      <td>602.0</td>\n",
       "    </tr>\n",
       "    <tr>\n",
       "      <th>23698</th>\n",
       "      <td>4</td>\n",
       "      <td>1350000.0</td>\n",
       "      <td>32.3</td>\n",
       "      <td>2017-07-21T00:00:00</td>\n",
       "      <td>1</td>\n",
       "      <td>2.5</td>\n",
       "      <td>5.0</td>\n",
       "      <td>12.3</td>\n",
       "      <td>1</td>\n",
       "      <td></td>\n",
       "      <td>...</td>\n",
       "      <td>9.0</td>\n",
       "      <td></td>\n",
       "      <td>поселок Новый Учхоз</td>\n",
       "      <td></td>\n",
       "      <td></td>\n",
       "      <td></td>\n",
       "      <td></td>\n",
       "      <td></td>\n",
       "      <td></td>\n",
       "      <td></td>\n",
       "    </tr>\n",
       "  </tbody>\n",
       "</table>\n",
       "<p>23699 rows × 22 columns</p>\n",
       "</div>"
      ],
      "text/plain": [
       "       0           1       2                    3  4     5     6     7   8   \\\n",
       "0      20  13000000.0   108.0  2019-03-07T00:00:00  3   2.7  16.0  51.0   8   \n",
       "1       7   3350000.0    40.4  2018-12-04T00:00:00  1        11.0  18.6   1   \n",
       "2      10   5196000.0    56.0  2015-08-20T00:00:00  2         5.0  34.3   4   \n",
       "3       0  64900000.0   159.0  2015-07-24T00:00:00  3        14.0         9   \n",
       "4       2  10000000.0   100.0  2018-06-19T00:00:00  2  3.03  14.0  32.0  13   \n",
       "...    ..         ...     ...                  ... ..   ...   ...   ...  ..   \n",
       "23694   9   9700000.0  133.81  2017-03-21T00:00:00  3   3.7   5.0  73.3   3   \n",
       "23695  14   3100000.0    59.0  2018-01-15T00:00:00  3         5.0  38.0   4   \n",
       "23696  18   2500000.0    56.7  2018-02-11T00:00:00  2         3.0  29.7   1   \n",
       "23697  13  11475000.0   76.75  2017-03-28T00:00:00  2   3.0  17.0        12   \n",
       "23698   4   1350000.0    32.3  2017-07-21T00:00:00  1   2.5   5.0  12.3   1   \n",
       "\n",
       "      9   ...     12   13                   14       15       16   17     18  \\\n",
       "0         ...   25.0           Санкт-Петербург  18863.0  16028.0  1.0  482.0   \n",
       "1         ...   11.0  2.0       посёлок Шушары  12817.0  18603.0  0.0          \n",
       "2         ...    8.3  0.0      Санкт-Петербург  21741.0  13933.0  1.0   90.0   \n",
       "3         ...         0.0      Санкт-Петербург  28098.0   6800.0  2.0   84.0   \n",
       "4         ...   41.0           Санкт-Петербург  31856.0   8098.0  2.0  112.0   \n",
       "...   ..  ...    ...  ...                  ...      ...      ...  ...    ...   \n",
       "23694     ...  13.83           Санкт-Петербург  24665.0   4232.0  1.0  796.0   \n",
       "23695     ...    8.5                     Тосно                                 \n",
       "23696     ...                 село Рождествено                                 \n",
       "23697     ...   23.3  2.0      Санкт-Петербург  39140.0  10364.0  2.0  173.0   \n",
       "23698     ...    9.0       поселок Новый Учхоз                                 \n",
       "\n",
       "        19     20                 21  \n",
       "0      2.0  755.0                     \n",
       "1      0.0                      81.0  \n",
       "2      2.0  574.0              558.0  \n",
       "3      3.0  234.0              424.0  \n",
       "4      1.0   48.0              121.0  \n",
       "...    ...    ...                ...  \n",
       "23694  3.0  381.0                     \n",
       "23695              45.00000000000001  \n",
       "23696                                 \n",
       "23697  3.0  196.0              602.0  \n",
       "23698                                 \n",
       "\n",
       "[23699 rows x 22 columns]"
      ]
     },
     "metadata": {},
     "output_type": "display_data"
    }
   ],
   "source": [
    "# Делим строку со слипшимися названиями колонок на разные столбцы\n",
    "new_df = df['total_images\tlast_price\ttotal_area\tfirst_day_exposition\t'\n",
    "'rooms\tceiling_height\tfloors_total\tliving_area\tfloor\t'\n",
    "'is_apartment\tstudio\topen_plan\tkitchen_area\tbalcony\tlocality_name\t'\n",
    "'airports_nearest\tcityCenters_nearest\tparks_around3000\tparks_nearest\t'\n",
    "'ponds_around3000\tponds_nearest\tdays_exposition'].str.split('\\t',expand=True)\n",
    "display(new_df)"
   ]
  },
  {
   "cell_type": "markdown",
   "metadata": {},
   "source": [
    "Теперь осталось переименовать названия колонок и можно будет приступить к предобработке данных."
   ]
  },
  {
   "cell_type": "code",
   "execution_count": 5,
   "metadata": {
    "scrolled": false
   },
   "outputs": [
    {
     "data": {
      "text/html": [
       "<div>\n",
       "<style scoped>\n",
       "    .dataframe tbody tr th:only-of-type {\n",
       "        vertical-align: middle;\n",
       "    }\n",
       "\n",
       "    .dataframe tbody tr th {\n",
       "        vertical-align: top;\n",
       "    }\n",
       "\n",
       "    .dataframe thead th {\n",
       "        text-align: right;\n",
       "    }\n",
       "</style>\n",
       "<table border=\"1\" class=\"dataframe\">\n",
       "  <thead>\n",
       "    <tr style=\"text-align: right;\">\n",
       "      <th></th>\n",
       "      <th>total_images</th>\n",
       "      <th>last_price</th>\n",
       "      <th>total_area</th>\n",
       "      <th>first_day_exposition</th>\n",
       "      <th>rooms</th>\n",
       "      <th>ceiling_height</th>\n",
       "      <th>floors_total</th>\n",
       "      <th>living_area</th>\n",
       "      <th>floor</th>\n",
       "      <th>is_apartment</th>\n",
       "      <th>...</th>\n",
       "      <th>kitchen_area</th>\n",
       "      <th>balcony</th>\n",
       "      <th>locality_name</th>\n",
       "      <th>airports_nearest</th>\n",
       "      <th>cityCenters_nearest</th>\n",
       "      <th>parks_around3000</th>\n",
       "      <th>parks_nearest</th>\n",
       "      <th>ponds_around3000</th>\n",
       "      <th>ponds_nearest</th>\n",
       "      <th>days_exposition</th>\n",
       "    </tr>\n",
       "  </thead>\n",
       "  <tbody>\n",
       "    <tr>\n",
       "      <th>0</th>\n",
       "      <td>20</td>\n",
       "      <td>13000000.0</td>\n",
       "      <td>108.0</td>\n",
       "      <td>2019-03-07T00:00:00</td>\n",
       "      <td>3</td>\n",
       "      <td>2.7</td>\n",
       "      <td>16.0</td>\n",
       "      <td>51.0</td>\n",
       "      <td>8</td>\n",
       "      <td></td>\n",
       "      <td>...</td>\n",
       "      <td>25.0</td>\n",
       "      <td></td>\n",
       "      <td>Санкт-Петербург</td>\n",
       "      <td>18863.0</td>\n",
       "      <td>16028.0</td>\n",
       "      <td>1.0</td>\n",
       "      <td>482.0</td>\n",
       "      <td>2.0</td>\n",
       "      <td>755.0</td>\n",
       "      <td></td>\n",
       "    </tr>\n",
       "    <tr>\n",
       "      <th>1</th>\n",
       "      <td>7</td>\n",
       "      <td>3350000.0</td>\n",
       "      <td>40.4</td>\n",
       "      <td>2018-12-04T00:00:00</td>\n",
       "      <td>1</td>\n",
       "      <td></td>\n",
       "      <td>11.0</td>\n",
       "      <td>18.6</td>\n",
       "      <td>1</td>\n",
       "      <td></td>\n",
       "      <td>...</td>\n",
       "      <td>11.0</td>\n",
       "      <td>2.0</td>\n",
       "      <td>посёлок Шушары</td>\n",
       "      <td>12817.0</td>\n",
       "      <td>18603.0</td>\n",
       "      <td>0.0</td>\n",
       "      <td></td>\n",
       "      <td>0.0</td>\n",
       "      <td></td>\n",
       "      <td>81.0</td>\n",
       "    </tr>\n",
       "    <tr>\n",
       "      <th>2</th>\n",
       "      <td>10</td>\n",
       "      <td>5196000.0</td>\n",
       "      <td>56.0</td>\n",
       "      <td>2015-08-20T00:00:00</td>\n",
       "      <td>2</td>\n",
       "      <td></td>\n",
       "      <td>5.0</td>\n",
       "      <td>34.3</td>\n",
       "      <td>4</td>\n",
       "      <td></td>\n",
       "      <td>...</td>\n",
       "      <td>8.3</td>\n",
       "      <td>0.0</td>\n",
       "      <td>Санкт-Петербург</td>\n",
       "      <td>21741.0</td>\n",
       "      <td>13933.0</td>\n",
       "      <td>1.0</td>\n",
       "      <td>90.0</td>\n",
       "      <td>2.0</td>\n",
       "      <td>574.0</td>\n",
       "      <td>558.0</td>\n",
       "    </tr>\n",
       "    <tr>\n",
       "      <th>3</th>\n",
       "      <td>0</td>\n",
       "      <td>64900000.0</td>\n",
       "      <td>159.0</td>\n",
       "      <td>2015-07-24T00:00:00</td>\n",
       "      <td>3</td>\n",
       "      <td></td>\n",
       "      <td>14.0</td>\n",
       "      <td></td>\n",
       "      <td>9</td>\n",
       "      <td></td>\n",
       "      <td>...</td>\n",
       "      <td></td>\n",
       "      <td>0.0</td>\n",
       "      <td>Санкт-Петербург</td>\n",
       "      <td>28098.0</td>\n",
       "      <td>6800.0</td>\n",
       "      <td>2.0</td>\n",
       "      <td>84.0</td>\n",
       "      <td>3.0</td>\n",
       "      <td>234.0</td>\n",
       "      <td>424.0</td>\n",
       "    </tr>\n",
       "    <tr>\n",
       "      <th>4</th>\n",
       "      <td>2</td>\n",
       "      <td>10000000.0</td>\n",
       "      <td>100.0</td>\n",
       "      <td>2018-06-19T00:00:00</td>\n",
       "      <td>2</td>\n",
       "      <td>3.03</td>\n",
       "      <td>14.0</td>\n",
       "      <td>32.0</td>\n",
       "      <td>13</td>\n",
       "      <td></td>\n",
       "      <td>...</td>\n",
       "      <td>41.0</td>\n",
       "      <td></td>\n",
       "      <td>Санкт-Петербург</td>\n",
       "      <td>31856.0</td>\n",
       "      <td>8098.0</td>\n",
       "      <td>2.0</td>\n",
       "      <td>112.0</td>\n",
       "      <td>1.0</td>\n",
       "      <td>48.0</td>\n",
       "      <td>121.0</td>\n",
       "    </tr>\n",
       "  </tbody>\n",
       "</table>\n",
       "<p>5 rows × 22 columns</p>\n",
       "</div>"
      ],
      "text/plain": [
       "  total_images  last_price total_area first_day_exposition rooms  \\\n",
       "0           20  13000000.0      108.0  2019-03-07T00:00:00     3   \n",
       "1            7   3350000.0       40.4  2018-12-04T00:00:00     1   \n",
       "2           10   5196000.0       56.0  2015-08-20T00:00:00     2   \n",
       "3            0  64900000.0      159.0  2015-07-24T00:00:00     3   \n",
       "4            2  10000000.0      100.0  2018-06-19T00:00:00     2   \n",
       "\n",
       "  ceiling_height floors_total living_area floor is_apartment  ...  \\\n",
       "0            2.7         16.0        51.0     8               ...   \n",
       "1                        11.0        18.6     1               ...   \n",
       "2                         5.0        34.3     4               ...   \n",
       "3                        14.0                 9               ...   \n",
       "4           3.03         14.0        32.0    13               ...   \n",
       "\n",
       "  kitchen_area balcony    locality_name airports_nearest cityCenters_nearest  \\\n",
       "0         25.0          Санкт-Петербург          18863.0             16028.0   \n",
       "1         11.0     2.0   посёлок Шушары          12817.0             18603.0   \n",
       "2          8.3     0.0  Санкт-Петербург          21741.0             13933.0   \n",
       "3                  0.0  Санкт-Петербург          28098.0              6800.0   \n",
       "4         41.0          Санкт-Петербург          31856.0              8098.0   \n",
       "\n",
       "  parks_around3000 parks_nearest ponds_around3000 ponds_nearest  \\\n",
       "0              1.0         482.0              2.0         755.0   \n",
       "1              0.0                            0.0                 \n",
       "2              1.0          90.0              2.0         574.0   \n",
       "3              2.0          84.0              3.0         234.0   \n",
       "4              2.0         112.0              1.0          48.0   \n",
       "\n",
       "  days_exposition  \n",
       "0                  \n",
       "1            81.0  \n",
       "2           558.0  \n",
       "3           424.0  \n",
       "4           121.0  \n",
       "\n",
       "[5 rows x 22 columns]"
      ]
     },
     "metadata": {},
     "output_type": "display_data"
    }
   ],
   "source": [
    "# Переименование колонок\n",
    "new_df.columns=['total_images','last_price','total_area', 'first_day_exposition', 'rooms', 'ceiling_height', 'floors_total', 'living_area', 'floor', 'is_apartment', 'studio', 'open_plan', 'kitchen_area','balcony', 'locality_name', 'airports_nearest',  'cityCenters_nearest', 'parks_around3000', 'parks_nearest', 'ponds_around3000','ponds_nearest', 'days_exposition']\n",
    "display(new_df.head())"
   ]
  },
  {
   "cell_type": "markdown",
   "metadata": {},
   "source": [
    "Вызовем функцию `info()` еще раз"
   ]
  },
  {
   "cell_type": "code",
   "execution_count": 6,
   "metadata": {
    "scrolled": true
   },
   "outputs": [
    {
     "name": "stdout",
     "output_type": "stream",
     "text": [
      "<class 'pandas.core.frame.DataFrame'>\n",
      "RangeIndex: 23699 entries, 0 to 23698\n",
      "Data columns (total 22 columns):\n",
      " #   Column                Non-Null Count  Dtype \n",
      "---  ------                --------------  ----- \n",
      " 0   total_images          23699 non-null  object\n",
      " 1   last_price            23699 non-null  object\n",
      " 2   total_area            23699 non-null  object\n",
      " 3   first_day_exposition  23699 non-null  object\n",
      " 4   rooms                 23699 non-null  object\n",
      " 5   ceiling_height        23699 non-null  object\n",
      " 6   floors_total          23699 non-null  object\n",
      " 7   living_area           23699 non-null  object\n",
      " 8   floor                 23699 non-null  object\n",
      " 9   is_apartment          23699 non-null  object\n",
      " 10  studio                23699 non-null  object\n",
      " 11  open_plan             23699 non-null  object\n",
      " 12  kitchen_area          23699 non-null  object\n",
      " 13  balcony               23699 non-null  object\n",
      " 14  locality_name         23699 non-null  object\n",
      " 15  airports_nearest      23699 non-null  object\n",
      " 16  cityCenters_nearest   23699 non-null  object\n",
      " 17  parks_around3000      23699 non-null  object\n",
      " 18  parks_nearest         23699 non-null  object\n",
      " 19  ponds_around3000      23699 non-null  object\n",
      " 20  ponds_nearest         23699 non-null  object\n",
      " 21  days_exposition       23699 non-null  object\n",
      "dtypes: object(22)\n",
      "memory usage: 4.0+ MB\n"
     ]
    }
   ],
   "source": [
    "new_df.info()"
   ]
  },
  {
   "cell_type": "code",
   "execution_count": 7,
   "metadata": {
    "scrolled": false
   },
   "outputs": [
    {
     "data": {
      "text/plain": [
       "array(['Санкт-Петербург', 'посёлок Шушары', 'городской посёлок Янино-1',\n",
       "       'посёлок Парголово', 'посёлок Мурино', 'Ломоносов', 'Сертолово',\n",
       "       'Петергоф', 'Пушкин', 'деревня Кудрово', 'Коммунар', 'Колпино',\n",
       "       'поселок городского типа Красный Бор', 'Гатчина', 'поселок Мурино',\n",
       "       'деревня Фёдоровское', 'Выборг', 'Кронштадт', 'Кировск',\n",
       "       'деревня Новое Девяткино', 'посёлок Металлострой',\n",
       "       'посёлок городского типа Лебяжье',\n",
       "       'посёлок городского типа Сиверский', 'поселок Молодцово',\n",
       "       'поселок городского типа Кузьмоловский',\n",
       "       'садовое товарищество Новая Ропша', 'Павловск',\n",
       "       'деревня Пикколово', 'Всеволожск', 'Волхов', 'Кингисепп',\n",
       "       'Приозерск', 'Сестрорецк', 'деревня Куттузи', 'посёлок Аннино',\n",
       "       'поселок городского типа Ефимовский', 'посёлок Плодовое',\n",
       "       'деревня Заклинье', 'поселок Торковичи', 'поселок Первомайское',\n",
       "       'Красное Село', 'посёлок Понтонный', 'Сясьстрой', 'деревня Старая',\n",
       "       'деревня Лесколово', 'посёлок Новый Свет', 'Сланцы',\n",
       "       'село Путилово', 'Ивангород', 'Мурино', 'Шлиссельбург',\n",
       "       'Никольское', 'Зеленогорск', 'Сосновый Бор', 'поселок Новый Свет',\n",
       "       'деревня Оржицы', 'деревня Кальтино', 'Кудрово',\n",
       "       'поселок Романовка', 'посёлок Бугры', 'поселок Бугры',\n",
       "       'поселок городского типа Рощино', 'Кириши', 'Луга', 'Волосово',\n",
       "       'Отрадное', 'село Павлово', 'поселок Оредеж', 'село Копорье',\n",
       "       'посёлок городского типа Красный Бор', 'посёлок Молодёжное',\n",
       "       'Тихвин', 'посёлок Победа', 'деревня Нурма',\n",
       "       'поселок городского типа Синявино', 'Тосно',\n",
       "       'посёлок городского типа Кузьмоловский', 'посёлок Стрельна',\n",
       "       'Бокситогорск', 'посёлок Александровская', 'деревня Лопухинка',\n",
       "       'Пикалёво', 'поселок Терволово',\n",
       "       'поселок городского типа Советский', 'Подпорожье',\n",
       "       'посёлок Петровское', 'посёлок городского типа Токсово',\n",
       "       'поселок Сельцо', 'посёлок городского типа Вырица',\n",
       "       'деревня Кипень', 'деревня Келози', 'деревня Вартемяги',\n",
       "       'посёлок Тельмана', 'поселок Севастьяново',\n",
       "       'городской поселок Большая Ижора', '', 'городской посёлок Павлово',\n",
       "       'деревня Агалатово', 'посёлок Новогорелово',\n",
       "       'городской посёлок Лесогорский', 'деревня Лаголово',\n",
       "       'поселок Цвелодубово', 'поселок городского типа Рахья',\n",
       "       'поселок городского типа Вырица', 'деревня Белогорка',\n",
       "       'поселок Заводской', 'городской посёлок Новоселье',\n",
       "       'деревня Большие Колпаны', 'деревня Горбунки', 'деревня Батово',\n",
       "       'деревня Заневка', 'деревня Иссад', 'Приморск',\n",
       "       'городской посёлок Фёдоровское', 'деревня Мистолово',\n",
       "       'Новая Ладога', 'поселок Зимитицы', 'поселок Барышево',\n",
       "       'деревня Разметелево', 'поселок городского типа имени Свердлова',\n",
       "       'деревня Пеники', 'поселок Рябово', 'деревня Пудомяги',\n",
       "       'поселок станции Корнево', 'деревня Низино', 'деревня Бегуницы',\n",
       "       'посёлок Поляны', 'городской посёлок Мга', 'поселок Елизаветино',\n",
       "       'посёлок городского типа Кузнечное', 'деревня Колтуши',\n",
       "       'поселок Запорожское', 'посёлок городского типа Рощино',\n",
       "       'деревня Гостилицы', 'деревня Малое Карлино',\n",
       "       'посёлок Мичуринское', 'посёлок городского типа имени Морозова',\n",
       "       'посёлок Песочный', 'посёлок Сосново', 'деревня Аро',\n",
       "       'поселок Ильичёво', 'посёлок городского типа Тайцы',\n",
       "       'деревня Малое Верево', 'деревня Извара', 'поселок станции Вещево',\n",
       "       'село Паша', 'деревня Калитино',\n",
       "       'посёлок городского типа Ульяновка', 'деревня Чудской Бор',\n",
       "       'поселок городского типа Дубровка', 'деревня Мины',\n",
       "       'поселок Войсковицы', 'посёлок городского типа имени Свердлова',\n",
       "       'деревня Коркино', 'посёлок Ропша',\n",
       "       'поселок городского типа Приладожский', 'посёлок Щеглово',\n",
       "       'посёлок Гаврилово', 'Лодейное Поле', 'деревня Рабитицы',\n",
       "       'поселок городского типа Никольский', 'деревня Кузьмолово',\n",
       "       'деревня Малые Колпаны', 'поселок Тельмана',\n",
       "       'посёлок Петро-Славянка', 'городской посёлок Назия',\n",
       "       'посёлок Репино', 'посёлок Ильичёво', 'поселок Углово',\n",
       "       'поселок Старая Малукса', 'садовое товарищество Рахья',\n",
       "       'поселок Аннино', 'поселок Победа', 'деревня Меньково',\n",
       "       'деревня Старые Бегуницы', 'посёлок Сапёрный', 'поселок Семрино',\n",
       "       'поселок Гаврилово', 'поселок Глажево', 'поселок Кобринское',\n",
       "       'деревня Гарболово', 'деревня Юкки',\n",
       "       'поселок станции Приветнинское', 'деревня Мануйлово',\n",
       "       'деревня Пчева', 'поселок Поляны', 'поселок Цвылёво',\n",
       "       'поселок Мельниково', 'посёлок Пудость', 'посёлок Усть-Луга',\n",
       "       'Светогорск', 'Любань', 'поселок Селезнёво',\n",
       "       'поселок городского типа Рябово', 'Каменногорск', 'деревня Кривко',\n",
       "       'поселок Глебычево', 'деревня Парицы', 'поселок Жилпосёлок',\n",
       "       'посёлок городского типа Мга', 'городской поселок Янино-1',\n",
       "       'посёлок Войскорово', 'село Никольское', 'посёлок Терволово',\n",
       "       'поселок Стеклянный', 'посёлок городского типа Важины',\n",
       "       'посёлок Мыза-Ивановка', 'село Русско-Высоцкое',\n",
       "       'поселок городского типа Лебяжье',\n",
       "       'поселок городского типа Форносово', 'село Старая Ладога',\n",
       "       'поселок Житково', 'городской посёлок Виллози', 'деревня Лампово',\n",
       "       'деревня Шпаньково', 'деревня Лаврики', 'посёлок Сумино',\n",
       "       'посёлок Возрождение', 'деревня Старосиверская',\n",
       "       'посёлок Кикерино', 'поселок Возрождение',\n",
       "       'деревня Старое Хинколово', 'посёлок Пригородный',\n",
       "       'посёлок Торфяное', 'городской посёлок Будогощь',\n",
       "       'поселок Суходолье', 'поселок Красная Долина', 'деревня Хапо-Ое',\n",
       "       'поселок городского типа Дружная Горка', 'поселок Лисий Нос',\n",
       "       'деревня Яльгелево', 'посёлок Стеклянный', 'село Рождествено',\n",
       "       'деревня Старополье', 'посёлок Левашово', 'деревня Сяськелево',\n",
       "       'деревня Камышовка',\n",
       "       'садоводческое некоммерческое товарищество Лесная Поляна',\n",
       "       'деревня Хязельки', 'поселок Жилгородок',\n",
       "       'посёлок городского типа Павлово', 'деревня Ялгино',\n",
       "       'поселок Новый Учхоз', 'городской посёлок Рощино',\n",
       "       'поселок Гончарово', 'поселок Почап', 'посёлок Сапёрное',\n",
       "       'посёлок Платформа 69-й километр', 'поселок Каложицы',\n",
       "       'деревня Фалилеево', 'деревня Пельгора',\n",
       "       'поселок городского типа Лесогорский', 'деревня Торошковичи',\n",
       "       'посёлок Белоостров', 'посёлок Алексеевка', 'поселок Серебрянский',\n",
       "       'поселок Лукаши', 'поселок Петровское', 'деревня Щеглово',\n",
       "       'поселок Мичуринское', 'деревня Тарасово', 'поселок Кингисеппский',\n",
       "       'посёлок при железнодорожной станции Вещево', 'поселок Ушаки',\n",
       "       'деревня Котлы', 'деревня Сижно', 'деревня Торосово',\n",
       "       'посёлок Форт Красная Горка', 'поселок городского типа Токсово',\n",
       "       'деревня Новолисино', 'посёлок станции Громово', 'деревня Глинка',\n",
       "       'посёлок Мельниково', 'поселок городского типа Назия',\n",
       "       'деревня Старая Пустошь', 'поселок Коммунары', 'поселок Починок',\n",
       "       'посёлок городского типа Вознесенье', 'деревня Разбегаево',\n",
       "       'посёлок городского типа Рябово', 'поселок Гладкое',\n",
       "       'посёлок при железнодорожной станции Приветнинское',\n",
       "       'поселок Тёсово-4', 'посёлок Жилгородок', 'деревня Бор',\n",
       "       'посёлок Коробицыно', 'деревня Большая Вруда', 'деревня Курковицы',\n",
       "       'посёлок Лисий Нос', 'городской посёлок Советский',\n",
       "       'посёлок Кобралово', 'деревня Суоранда', 'поселок Кобралово',\n",
       "       'поселок городского типа Кондратьево',\n",
       "       'коттеджный поселок Счастье', 'поселок Любань', 'деревня Реброво',\n",
       "       'деревня Зимитицы', 'деревня Тойворово', 'поселок Семиозерье',\n",
       "       'поселок Лесное', 'поселок Совхозный', 'поселок Усть-Луга',\n",
       "       'посёлок Ленинское', 'посёлок Суйда',\n",
       "       'посёлок городского типа Форносово', 'деревня Нижние Осельки',\n",
       "       'посёлок станции Свирь', 'поселок Перово', 'Высоцк',\n",
       "       'поселок Гарболово', 'село Шум', 'поселок Котельский',\n",
       "       'поселок станции Лужайка', 'деревня Большая Пустомержа',\n",
       "       'поселок Красносельское', 'деревня Вахнова Кара', 'деревня Пижма',\n",
       "       'коттеджный поселок Кивеннапа Север', 'поселок Коробицыно',\n",
       "       'поселок Ромашки', 'посёлок Перово', 'деревня Каськово',\n",
       "       'деревня Куровицы', 'посёлок Плоское', 'поселок Сумино',\n",
       "       'поселок городского типа Большая Ижора', 'поселок Кирпичное',\n",
       "       'деревня Ям-Тесово', 'деревня Раздолье', 'деревня Терпилицы',\n",
       "       'посёлок Шугозеро', 'деревня Ваганово', 'поселок Пушное',\n",
       "       'садовое товарищество Садко', 'посёлок Усть-Ижора',\n",
       "       'деревня Выскатка', 'городской посёлок Свирьстрой',\n",
       "       'поселок Громово', 'деревня Кисельня', 'посёлок Старая Малукса',\n",
       "       'деревня Трубников Бор', 'поселок Калитино',\n",
       "       'посёлок Высокоключевой', 'садовое товарищество Приладожский',\n",
       "       'посёлок Пансионат Зелёный Бор', 'деревня Ненимяки',\n",
       "       'поселок Пансионат Зелёный Бор', 'деревня Снегирёвка',\n",
       "       'деревня Рапполово', 'деревня Пустынка', 'поселок Рабитицы',\n",
       "       'деревня Большой Сабск', 'деревня Русско', 'деревня Лупполово',\n",
       "       'деревня Большое Рейзино', 'деревня Малая Романовка',\n",
       "       'поселок Дружноселье', 'поселок Пчевжа', 'поселок Володарское',\n",
       "       'деревня Нижняя', 'коттеджный посёлок Лесное', 'деревня Тихковицы',\n",
       "       'деревня Борисова Грива', 'посёлок Дзержинского'], dtype=object)"
      ]
     },
     "execution_count": 7,
     "metadata": {},
     "output_type": "execute_result"
    }
   ],
   "source": [
    "new_df['locality_name'].unique()"
   ]
  },
  {
   "cell_type": "code",
   "execution_count": 8,
   "metadata": {},
   "outputs": [],
   "source": [
    "translation_map = {\n",
    "    'Санкт-Петербург': 'Saint Petersburg',\n",
    "    'посёлок Шушары': 'Shushary settlement',\n",
    "    'деревня Кудрово': 'Kudrovo village'\n",
    "}\n",
    "\n",
    "# Function to apply the translation based on the mapping\n",
    "def apply_translation(place):\n",
    "    return translation_map.get(place, place)  # returns the original if a translation isn't found\n",
    "\n",
    "#Apply the translation to your dataframe\n",
    "new_df['locality_name'] = new_df['locality_name'].apply(apply_translation)"
   ]
  },
  {
   "cell_type": "code",
   "execution_count": 9,
   "metadata": {},
   "outputs": [
    {
     "data": {
      "text/plain": [
       "array(['Saint Petersburg', 'Shushary settlement',\n",
       "       'городской посёлок Янино-1', 'посёлок Парголово', 'посёлок Мурино',\n",
       "       'Ломоносов', 'Сертолово', 'Петергоф', 'Пушкин', 'Kudrovo village',\n",
       "       'Коммунар', 'Колпино', 'поселок городского типа Красный Бор',\n",
       "       'Гатчина', 'поселок Мурино', 'деревня Фёдоровское', 'Выборг',\n",
       "       'Кронштадт', 'Кировск', 'деревня Новое Девяткино',\n",
       "       'посёлок Металлострой', 'посёлок городского типа Лебяжье',\n",
       "       'посёлок городского типа Сиверский', 'поселок Молодцово',\n",
       "       'поселок городского типа Кузьмоловский',\n",
       "       'садовое товарищество Новая Ропша', 'Павловск',\n",
       "       'деревня Пикколово', 'Всеволожск', 'Волхов', 'Кингисепп',\n",
       "       'Приозерск', 'Сестрорецк', 'деревня Куттузи', 'посёлок Аннино',\n",
       "       'поселок городского типа Ефимовский', 'посёлок Плодовое',\n",
       "       'деревня Заклинье', 'поселок Торковичи', 'поселок Первомайское',\n",
       "       'Красное Село', 'посёлок Понтонный', 'Сясьстрой', 'деревня Старая',\n",
       "       'деревня Лесколово', 'посёлок Новый Свет', 'Сланцы',\n",
       "       'село Путилово', 'Ивангород', 'Мурино', 'Шлиссельбург',\n",
       "       'Никольское', 'Зеленогорск', 'Сосновый Бор', 'поселок Новый Свет',\n",
       "       'деревня Оржицы', 'деревня Кальтино', 'Кудрово',\n",
       "       'поселок Романовка', 'посёлок Бугры', 'поселок Бугры',\n",
       "       'поселок городского типа Рощино', 'Кириши', 'Луга', 'Волосово',\n",
       "       'Отрадное', 'село Павлово', 'поселок Оредеж', 'село Копорье',\n",
       "       'посёлок городского типа Красный Бор', 'посёлок Молодёжное',\n",
       "       'Тихвин', 'посёлок Победа', 'деревня Нурма',\n",
       "       'поселок городского типа Синявино', 'Тосно',\n",
       "       'посёлок городского типа Кузьмоловский', 'посёлок Стрельна',\n",
       "       'Бокситогорск', 'посёлок Александровская', 'деревня Лопухинка',\n",
       "       'Пикалёво', 'поселок Терволово',\n",
       "       'поселок городского типа Советский', 'Подпорожье',\n",
       "       'посёлок Петровское', 'посёлок городского типа Токсово',\n",
       "       'поселок Сельцо', 'посёлок городского типа Вырица',\n",
       "       'деревня Кипень', 'деревня Келози', 'деревня Вартемяги',\n",
       "       'посёлок Тельмана', 'поселок Севастьяново',\n",
       "       'городской поселок Большая Ижора', '', 'городской посёлок Павлово',\n",
       "       'деревня Агалатово', 'посёлок Новогорелово',\n",
       "       'городской посёлок Лесогорский', 'деревня Лаголово',\n",
       "       'поселок Цвелодубово', 'поселок городского типа Рахья',\n",
       "       'поселок городского типа Вырица', 'деревня Белогорка',\n",
       "       'поселок Заводской', 'городской посёлок Новоселье',\n",
       "       'деревня Большие Колпаны', 'деревня Горбунки', 'деревня Батово',\n",
       "       'деревня Заневка', 'деревня Иссад', 'Приморск',\n",
       "       'городской посёлок Фёдоровское', 'деревня Мистолово',\n",
       "       'Новая Ладога', 'поселок Зимитицы', 'поселок Барышево',\n",
       "       'деревня Разметелево', 'поселок городского типа имени Свердлова',\n",
       "       'деревня Пеники', 'поселок Рябово', 'деревня Пудомяги',\n",
       "       'поселок станции Корнево', 'деревня Низино', 'деревня Бегуницы',\n",
       "       'посёлок Поляны', 'городской посёлок Мга', 'поселок Елизаветино',\n",
       "       'посёлок городского типа Кузнечное', 'деревня Колтуши',\n",
       "       'поселок Запорожское', 'посёлок городского типа Рощино',\n",
       "       'деревня Гостилицы', 'деревня Малое Карлино',\n",
       "       'посёлок Мичуринское', 'посёлок городского типа имени Морозова',\n",
       "       'посёлок Песочный', 'посёлок Сосново', 'деревня Аро',\n",
       "       'поселок Ильичёво', 'посёлок городского типа Тайцы',\n",
       "       'деревня Малое Верево', 'деревня Извара', 'поселок станции Вещево',\n",
       "       'село Паша', 'деревня Калитино',\n",
       "       'посёлок городского типа Ульяновка', 'деревня Чудской Бор',\n",
       "       'поселок городского типа Дубровка', 'деревня Мины',\n",
       "       'поселок Войсковицы', 'посёлок городского типа имени Свердлова',\n",
       "       'деревня Коркино', 'посёлок Ропша',\n",
       "       'поселок городского типа Приладожский', 'посёлок Щеглово',\n",
       "       'посёлок Гаврилово', 'Лодейное Поле', 'деревня Рабитицы',\n",
       "       'поселок городского типа Никольский', 'деревня Кузьмолово',\n",
       "       'деревня Малые Колпаны', 'поселок Тельмана',\n",
       "       'посёлок Петро-Славянка', 'городской посёлок Назия',\n",
       "       'посёлок Репино', 'посёлок Ильичёво', 'поселок Углово',\n",
       "       'поселок Старая Малукса', 'садовое товарищество Рахья',\n",
       "       'поселок Аннино', 'поселок Победа', 'деревня Меньково',\n",
       "       'деревня Старые Бегуницы', 'посёлок Сапёрный', 'поселок Семрино',\n",
       "       'поселок Гаврилово', 'поселок Глажево', 'поселок Кобринское',\n",
       "       'деревня Гарболово', 'деревня Юкки',\n",
       "       'поселок станции Приветнинское', 'деревня Мануйлово',\n",
       "       'деревня Пчева', 'поселок Поляны', 'поселок Цвылёво',\n",
       "       'поселок Мельниково', 'посёлок Пудость', 'посёлок Усть-Луга',\n",
       "       'Светогорск', 'Любань', 'поселок Селезнёво',\n",
       "       'поселок городского типа Рябово', 'Каменногорск', 'деревня Кривко',\n",
       "       'поселок Глебычево', 'деревня Парицы', 'поселок Жилпосёлок',\n",
       "       'посёлок городского типа Мга', 'городской поселок Янино-1',\n",
       "       'посёлок Войскорово', 'село Никольское', 'посёлок Терволово',\n",
       "       'поселок Стеклянный', 'посёлок городского типа Важины',\n",
       "       'посёлок Мыза-Ивановка', 'село Русско-Высоцкое',\n",
       "       'поселок городского типа Лебяжье',\n",
       "       'поселок городского типа Форносово', 'село Старая Ладога',\n",
       "       'поселок Житково', 'городской посёлок Виллози', 'деревня Лампово',\n",
       "       'деревня Шпаньково', 'деревня Лаврики', 'посёлок Сумино',\n",
       "       'посёлок Возрождение', 'деревня Старосиверская',\n",
       "       'посёлок Кикерино', 'поселок Возрождение',\n",
       "       'деревня Старое Хинколово', 'посёлок Пригородный',\n",
       "       'посёлок Торфяное', 'городской посёлок Будогощь',\n",
       "       'поселок Суходолье', 'поселок Красная Долина', 'деревня Хапо-Ое',\n",
       "       'поселок городского типа Дружная Горка', 'поселок Лисий Нос',\n",
       "       'деревня Яльгелево', 'посёлок Стеклянный', 'село Рождествено',\n",
       "       'деревня Старополье', 'посёлок Левашово', 'деревня Сяськелево',\n",
       "       'деревня Камышовка',\n",
       "       'садоводческое некоммерческое товарищество Лесная Поляна',\n",
       "       'деревня Хязельки', 'поселок Жилгородок',\n",
       "       'посёлок городского типа Павлово', 'деревня Ялгино',\n",
       "       'поселок Новый Учхоз', 'городской посёлок Рощино',\n",
       "       'поселок Гончарово', 'поселок Почап', 'посёлок Сапёрное',\n",
       "       'посёлок Платформа 69-й километр', 'поселок Каложицы',\n",
       "       'деревня Фалилеево', 'деревня Пельгора',\n",
       "       'поселок городского типа Лесогорский', 'деревня Торошковичи',\n",
       "       'посёлок Белоостров', 'посёлок Алексеевка', 'поселок Серебрянский',\n",
       "       'поселок Лукаши', 'поселок Петровское', 'деревня Щеглово',\n",
       "       'поселок Мичуринское', 'деревня Тарасово', 'поселок Кингисеппский',\n",
       "       'посёлок при железнодорожной станции Вещево', 'поселок Ушаки',\n",
       "       'деревня Котлы', 'деревня Сижно', 'деревня Торосово',\n",
       "       'посёлок Форт Красная Горка', 'поселок городского типа Токсово',\n",
       "       'деревня Новолисино', 'посёлок станции Громово', 'деревня Глинка',\n",
       "       'посёлок Мельниково', 'поселок городского типа Назия',\n",
       "       'деревня Старая Пустошь', 'поселок Коммунары', 'поселок Починок',\n",
       "       'посёлок городского типа Вознесенье', 'деревня Разбегаево',\n",
       "       'посёлок городского типа Рябово', 'поселок Гладкое',\n",
       "       'посёлок при железнодорожной станции Приветнинское',\n",
       "       'поселок Тёсово-4', 'посёлок Жилгородок', 'деревня Бор',\n",
       "       'посёлок Коробицыно', 'деревня Большая Вруда', 'деревня Курковицы',\n",
       "       'посёлок Лисий Нос', 'городской посёлок Советский',\n",
       "       'посёлок Кобралово', 'деревня Суоранда', 'поселок Кобралово',\n",
       "       'поселок городского типа Кондратьево',\n",
       "       'коттеджный поселок Счастье', 'поселок Любань', 'деревня Реброво',\n",
       "       'деревня Зимитицы', 'деревня Тойворово', 'поселок Семиозерье',\n",
       "       'поселок Лесное', 'поселок Совхозный', 'поселок Усть-Луга',\n",
       "       'посёлок Ленинское', 'посёлок Суйда',\n",
       "       'посёлок городского типа Форносово', 'деревня Нижние Осельки',\n",
       "       'посёлок станции Свирь', 'поселок Перово', 'Высоцк',\n",
       "       'поселок Гарболово', 'село Шум', 'поселок Котельский',\n",
       "       'поселок станции Лужайка', 'деревня Большая Пустомержа',\n",
       "       'поселок Красносельское', 'деревня Вахнова Кара', 'деревня Пижма',\n",
       "       'коттеджный поселок Кивеннапа Север', 'поселок Коробицыно',\n",
       "       'поселок Ромашки', 'посёлок Перово', 'деревня Каськово',\n",
       "       'деревня Куровицы', 'посёлок Плоское', 'поселок Сумино',\n",
       "       'поселок городского типа Большая Ижора', 'поселок Кирпичное',\n",
       "       'деревня Ям-Тесово', 'деревня Раздолье', 'деревня Терпилицы',\n",
       "       'посёлок Шугозеро', 'деревня Ваганово', 'поселок Пушное',\n",
       "       'садовое товарищество Садко', 'посёлок Усть-Ижора',\n",
       "       'деревня Выскатка', 'городской посёлок Свирьстрой',\n",
       "       'поселок Громово', 'деревня Кисельня', 'посёлок Старая Малукса',\n",
       "       'деревня Трубников Бор', 'поселок Калитино',\n",
       "       'посёлок Высокоключевой', 'садовое товарищество Приладожский',\n",
       "       'посёлок Пансионат Зелёный Бор', 'деревня Ненимяки',\n",
       "       'поселок Пансионат Зелёный Бор', 'деревня Снегирёвка',\n",
       "       'деревня Рапполово', 'деревня Пустынка', 'поселок Рабитицы',\n",
       "       'деревня Большой Сабск', 'деревня Русско', 'деревня Лупполово',\n",
       "       'деревня Большое Рейзино', 'деревня Малая Романовка',\n",
       "       'поселок Дружноселье', 'поселок Пчевжа', 'поселок Володарское',\n",
       "       'деревня Нижняя', 'коттеджный посёлок Лесное', 'деревня Тихковицы',\n",
       "       'деревня Борисова Грива', 'посёлок Дзержинского'], dtype=object)"
      ]
     },
     "execution_count": 9,
     "metadata": {},
     "output_type": "execute_result"
    }
   ],
   "source": [
    "new_df['locality_name'].unique()"
   ]
  },
  {
   "cell_type": "markdown",
   "metadata": {},
   "source": [
    "Теперь у нас 22 колонки с общим типом данных `object` и совершенное отсутствие пропусков. Похоже на идеальные данные, если бы не одно но: необходимо перевести все данные в тип `numeric`."
   ]
  },
  {
   "cell_type": "code",
   "execution_count": 10,
   "metadata": {},
   "outputs": [],
   "source": [
    "# Создаем функцию перевода значения колонок в числовой тип \n",
    "def convert_to_numeric (value):\n",
    "    new_df[value] = pd.to_numeric(new_df[value], errors = 'raise')\n",
    "#  Чтобы не переписывать вручную все названия колонок, выделим названия столбцов\n",
    "# фрейма в list и используем метод try-except, так как не все данные числового типа.\n",
    "for value in new_df.columns.tolist():\n",
    "    try:\n",
    "        convert_to_numeric(value)\n",
    "    except:\n",
    "        'None'"
   ]
  },
  {
   "cell_type": "code",
   "execution_count": 11,
   "metadata": {},
   "outputs": [
    {
     "name": "stdout",
     "output_type": "stream",
     "text": [
      "<class 'pandas.core.frame.DataFrame'>\n",
      "RangeIndex: 23699 entries, 0 to 23698\n",
      "Data columns (total 22 columns):\n",
      " #   Column                Non-Null Count  Dtype  \n",
      "---  ------                --------------  -----  \n",
      " 0   total_images          23699 non-null  int64  \n",
      " 1   last_price            23699 non-null  float64\n",
      " 2   total_area            23699 non-null  float64\n",
      " 3   first_day_exposition  23699 non-null  object \n",
      " 4   rooms                 23699 non-null  int64  \n",
      " 5   ceiling_height        14504 non-null  float64\n",
      " 6   floors_total          23613 non-null  float64\n",
      " 7   living_area           21796 non-null  float64\n",
      " 8   floor                 23699 non-null  int64  \n",
      " 9   is_apartment          23699 non-null  object \n",
      " 10  studio                23699 non-null  object \n",
      " 11  open_plan             23699 non-null  object \n",
      " 12  kitchen_area          21421 non-null  float64\n",
      " 13  balcony               12180 non-null  float64\n",
      " 14  locality_name         23699 non-null  object \n",
      " 15  airports_nearest      18157 non-null  float64\n",
      " 16  cityCenters_nearest   18180 non-null  float64\n",
      " 17  parks_around3000      18181 non-null  float64\n",
      " 18  parks_nearest         8079 non-null   float64\n",
      " 19  ponds_around3000      18181 non-null  float64\n",
      " 20  ponds_nearest         9110 non-null   float64\n",
      " 21  days_exposition       20518 non-null  float64\n",
      "dtypes: float64(14), int64(3), object(5)\n",
      "memory usage: 4.0+ MB\n"
     ]
    }
   ],
   "source": [
    "new_df.info()"
   ]
  },
  {
   "cell_type": "markdown",
   "metadata": {},
   "source": [
    "Вот теперь похоже на правду. \n",
    "\n",
    "В данной таблице 22 столбца. Здесь представлены различные типы данных: 3 типа данных int64, 14 типов float64 и 5 типов object.\n",
    "\n",
    "Согласно документации к данным:\n",
    "\n",
    "* `airports_nearest` — расстояние до ближайшего аэропорта в метрах (м)\n",
    "* `balcony` — число балконов\n",
    "* `ceiling_height` — высота потолков (м)\n",
    "* `cityCenters_nearest` — расстояние до центра города (м)\n",
    "* `days_exposition` — сколько дней было размещено объявление (от публикации до снятия)\n",
    "* `first_day_exposition` — дата публикации\n",
    "* `floor` — этаж\n",
    "* `floors_total` — всего этажей в доме\n",
    "* `is_apartment` — апартаменты (булев тип)\n",
    "* `kitchen_area` — площадь кухни в квадратных метрах (м²)\n",
    "* `last_price` — цена на момент снятия с публикации\n",
    "* `living_area` — жилая площадь в квадратных метрах (м²)\n",
    "* `locality_name` — название населённого пункта\n",
    "* `open_plan` — свободная планировка (булев тип)\n",
    "* `parks_around3000` — число парков в радиусе 3 км\n",
    "* `parks_nearest` — расстояние до ближайшего парка (м)\n",
    "* `ponds_around3000` — число водоёмов в радиусе 3 км\n",
    "* `ponds_nearest` — расстояние до ближайшего водоёма (м)\n",
    "* `rooms` — число комнат\n",
    "* `studio` — квартира-студия (булев тип)\n",
    "* `total_area` — площадь квартиры в квадратных метрах (м²)\n",
    "* `total_images` — число фотографий квартиры в объявлении\n",
    "\n",
    "Невооруженным глазом видно, что в данных есть пропуски. Попробуем что-нибудь с этим сделать в предобработке данных."
   ]
  },
  {
   "cell_type": "markdown",
   "metadata": {},
   "source": [
    "### Вывод\n",
    "\n",
    "В каждой строке таблицы находятся основные параметры, которые могут помочь в определении рыночной стоимости объектов недвижимости в Санкт-Петербурге и области: площадь, цена, число комнат, высота потолков. Также такие параметры как число этаж, удалённость от центра и дата размещения объявления могут значительно влиять на стоимость квартиры и на то, как быстро она была продана.\n",
    "\n",
    "В следующим пунктах попробуем заполнить все пропуски, где это уместно, а также разобраться в причинах, которые могли привести к пропускам в данных."
   ]
  },
  {
   "cell_type": "markdown",
   "metadata": {},
   "source": [
    "<div class=\"alert alert-success\">\n",
    "<h2> Комментарий от ревьюера<a class=\"tocSkip\"></a></h2>\n",
    "Молодец, хороший тон использовать метод info()  для получения общей информации из таблицы. Для получения более детальной информации можно воспользоваться методом describe()\n",
    "    \n",
    " \n",
    "</div>"
   ]
  },
  {
   "cell_type": "markdown",
   "metadata": {},
   "source": [
    "## Предобработка данных"
   ]
  },
  {
   "cell_type": "markdown",
   "metadata": {},
   "source": [
    "Для начала необходимо посчитать, сколько в таблице пропущенных значений. Для этого можно использовать метод `isna()`."
   ]
  },
  {
   "cell_type": "code",
   "execution_count": 12,
   "metadata": {},
   "outputs": [
    {
     "data": {
      "text/plain": [
       "total_images                0\n",
       "last_price                  0\n",
       "total_area                  0\n",
       "first_day_exposition        0\n",
       "rooms                       0\n",
       "ceiling_height           9195\n",
       "floors_total               86\n",
       "living_area              1903\n",
       "floor                       0\n",
       "is_apartment                0\n",
       "studio                      0\n",
       "open_plan                   0\n",
       "kitchen_area             2278\n",
       "balcony                 11519\n",
       "locality_name               0\n",
       "airports_nearest         5542\n",
       "cityCenters_nearest      5519\n",
       "parks_around3000         5518\n",
       "parks_nearest           15620\n",
       "ponds_around3000         5518\n",
       "ponds_nearest           14589\n",
       "days_exposition          3181\n",
       "dtype: int64"
      ]
     },
     "execution_count": 12,
     "metadata": {},
     "output_type": "execute_result"
    }
   ],
   "source": [
    "# Подсчет количества пропусков\n",
    "new_df.isna().sum()"
   ]
  },
  {
   "cell_type": "markdown",
   "metadata": {},
   "source": [
    "В столбцах `airports_nearest`, `parks_around3000`, `parks_nearest`, `ponds_around3000` и `ponds_nearest`  можно увидеть значительное количество пропущенных значений. К счастью, не все пропущенные значения влияют на исследование, поэтому в этих столбцах какую-то часть пропусков можно заменить на явное обозначение, а остальное оставить как есть. \n",
    "\n",
    "Однако нельзя то же самое сделать со столбцом `ceiling_height`, `floors_total`, `living_area`, `kitchen_area`, `balcony` `cityCenters_nearest` и `days_exposition`, данные в которых нужны для ответов на наши вопросы. В реальности было бы неплохо установить причину пропусков и восстановить данные. \n",
    "Но у нас такой возможности нет, поэтому необходимо заполнить и эти пропуски явными обозначениями,а также оценить, насколько они повредят расчётам."
   ]
  },
  {
   "cell_type": "code",
   "execution_count": 13,
   "metadata": {},
   "outputs": [
    {
     "data": {
      "text/plain": [
       "total_images                0\n",
       "last_price                  0\n",
       "total_area                  0\n",
       "first_day_exposition        0\n",
       "rooms                       0\n",
       "ceiling_height           9195\n",
       "floors_total               86\n",
       "living_area              1903\n",
       "floor                       0\n",
       "is_apartment                0\n",
       "studio                      0\n",
       "open_plan                   0\n",
       "kitchen_area             2278\n",
       "balcony                     0\n",
       "locality_name               0\n",
       "airports_nearest         5542\n",
       "cityCenters_nearest      5519\n",
       "parks_around3000         5518\n",
       "parks_nearest           15620\n",
       "ponds_around3000         5518\n",
       "ponds_nearest           14589\n",
       "days_exposition          3181\n",
       "dtype: int64"
      ]
     },
     "execution_count": 13,
     "metadata": {},
     "output_type": "execute_result"
    }
   ],
   "source": [
    "# Заполняем пропуски в колонке 'balcony' на 0\n",
    "new_df['balcony'] = new_df['balcony'].fillna(0)\n",
    "new_df.isna().sum()"
   ]
  },
  {
   "cell_type": "markdown",
   "metadata": {},
   "source": [
    "<div class=\"alert alert-success\">\n",
    "<h2> Комментарий от ревьюера<a class=\"tocSkip\"></a></h2>\n",
    "Если в квартире не указано количество балконов, скорее всего их просто нет. Пропуски можно заменить на 0. Аналогичная ситуация и с апартаментами.\n",
    " \n",
    "</div>"
   ]
  },
  {
   "cell_type": "markdown",
   "metadata": {},
   "source": [
    "Теперь разберемся с площадью кухни. В случае, если объектом недвижимости является студия, можно однозначно заполнить пропуски на 0, так как в студиях комната и кухня - это одно целое."
   ]
  },
  {
   "cell_type": "code",
   "execution_count": 14,
   "metadata": {},
   "outputs": [
    {
     "data": {
      "text/plain": [
       "149"
      ]
     },
     "execution_count": 14,
     "metadata": {},
     "output_type": "execute_result"
    }
   ],
   "source": [
    "# Посчитаем, сколько таких квартир\n",
    "import numpy as np\n",
    "len(new_df[(np.isnan(new_df.kitchen_area)) & (new_df['studio']== \"True\")])"
   ]
  },
  {
   "cell_type": "code",
   "execution_count": 15,
   "metadata": {},
   "outputs": [],
   "source": [
    "# Заменим пропуски на 0 в тех объектах, которые являются студиями\n",
    "new_df['kitchen_area'] = new_df['kitchen_area'].mask(new_df['studio'] == \"True\", 0)"
   ]
  },
  {
   "cell_type": "markdown",
   "metadata": {},
   "source": [
    "<div class=\"alert alert-success\">\n",
    "<h2> Комментарий от ревьюера<a class=\"tocSkip\"></a></h2>\n",
    "Да, это ты верно заметила. Также, если указано 0 количество комант, то квартира тоже яывляется студией.\n",
    "    \n",
    " \n",
    "</div>"
   ]
  },
  {
   "cell_type": "markdown",
   "metadata": {},
   "source": [
    "В остальных случаях попробуем воспользоваться медианными значениями, чтобы минимизировать погрешности в дальнейших расчетах.\n",
    "\n",
    "Так  как площадь кухни зависит от количества комнат и общей площади, можно разделить среднее значение площади кухни на среднее значение обей площади (в зависимости от количества комнат) и затем умножить всю плозадь на получившийся коэффициент."
   ]
  },
  {
   "cell_type": "code",
   "execution_count": 16,
   "metadata": {},
   "outputs": [],
   "source": [
    "# Функция для группировки данных по первой колонке с нахождением среднего значения по второй\n",
    "def trandform_func(col1, col2):\n",
    "    return new_df.groupby(col1)[col2].transform('median')"
   ]
  },
  {
   "cell_type": "code",
   "execution_count": 17,
   "metadata": {},
   "outputs": [],
   "source": [
    "# Функция для заполнения пропусков в столбце col на значение value\n",
    "def fillna_func(col, value):\n",
    "    new_df[col] = new_df[col].fillna(value)\n",
    "    return new_df[col] "
   ]
  },
  {
   "cell_type": "markdown",
   "metadata": {},
   "source": [
    "<div class=\"alert alert-success\">\n",
    "<h2> Комментарий от ревьюера<a class=\"tocSkip\"></a></h2>\n",
    "Очень круто, что ты написала свою функцию. Так код становится более понятным и структурированным  \n",
    " \n",
    "</div>"
   ]
  },
  {
   "cell_type": "code",
   "execution_count": 18,
   "metadata": {},
   "outputs": [
    {
     "data": {
      "text/plain": [
       "0        25.000000\n",
       "1        11.000000\n",
       "2         8.300000\n",
       "3        20.691781\n",
       "4        41.000000\n",
       "           ...    \n",
       "23694    13.830000\n",
       "23695     8.500000\n",
       "23696     9.414340\n",
       "23697    23.300000\n",
       "23698     9.000000\n",
       "Name: kitchen_area, Length: 23699, dtype: float64"
      ]
     },
     "metadata": {},
     "output_type": "display_data"
    }
   ],
   "source": [
    "# Группируем площадь кухни по количеству комнат\n",
    "kitchen_rooms = trandform_func('rooms', 'kitchen_area')\n",
    "# Группируем общую площадь по количеству комнат\n",
    "total_area_rooms = trandform_func('rooms', 'total_area')\n",
    "# Заполняем пропуски в столбце 'kitchen_area'\n",
    "fillna_func('kitchen_area', new_df['total_area'] * kitchen_rooms / total_area_rooms)\n",
    "display(new_df['kitchen_area'])"
   ]
  },
  {
   "cell_type": "markdown",
   "metadata": {},
   "source": [
    "То же самое можно проделать со столбом `living_area`, который тоже зависит от количества комнат и от общей площади квартиры."
   ]
  },
  {
   "cell_type": "code",
   "execution_count": 19,
   "metadata": {},
   "outputs": [
    {
     "data": {
      "text/html": [
       "<div>\n",
       "<style scoped>\n",
       "    .dataframe tbody tr th:only-of-type {\n",
       "        vertical-align: middle;\n",
       "    }\n",
       "\n",
       "    .dataframe tbody tr th {\n",
       "        vertical-align: top;\n",
       "    }\n",
       "\n",
       "    .dataframe thead th {\n",
       "        text-align: right;\n",
       "    }\n",
       "</style>\n",
       "<table border=\"1\" class=\"dataframe\">\n",
       "  <thead>\n",
       "    <tr style=\"text-align: right;\">\n",
       "      <th></th>\n",
       "      <th>total_images</th>\n",
       "      <th>last_price</th>\n",
       "      <th>total_area</th>\n",
       "      <th>first_day_exposition</th>\n",
       "      <th>rooms</th>\n",
       "      <th>ceiling_height</th>\n",
       "      <th>floors_total</th>\n",
       "      <th>living_area</th>\n",
       "      <th>floor</th>\n",
       "      <th>is_apartment</th>\n",
       "      <th>...</th>\n",
       "      <th>kitchen_area</th>\n",
       "      <th>balcony</th>\n",
       "      <th>locality_name</th>\n",
       "      <th>airports_nearest</th>\n",
       "      <th>cityCenters_nearest</th>\n",
       "      <th>parks_around3000</th>\n",
       "      <th>parks_nearest</th>\n",
       "      <th>ponds_around3000</th>\n",
       "      <th>ponds_nearest</th>\n",
       "      <th>days_exposition</th>\n",
       "    </tr>\n",
       "  </thead>\n",
       "  <tbody>\n",
       "    <tr>\n",
       "      <th>0</th>\n",
       "      <td>20</td>\n",
       "      <td>13000000.0</td>\n",
       "      <td>108.0</td>\n",
       "      <td>2019-03-07T00:00:00</td>\n",
       "      <td>3</td>\n",
       "      <td>2.70</td>\n",
       "      <td>16.0</td>\n",
       "      <td>51.000000</td>\n",
       "      <td>8</td>\n",
       "      <td></td>\n",
       "      <td>...</td>\n",
       "      <td>25.000000</td>\n",
       "      <td>0.0</td>\n",
       "      <td>Saint Petersburg</td>\n",
       "      <td>18863.0</td>\n",
       "      <td>16028.0</td>\n",
       "      <td>1.0</td>\n",
       "      <td>482.0</td>\n",
       "      <td>2.0</td>\n",
       "      <td>755.0</td>\n",
       "      <td>NaN</td>\n",
       "    </tr>\n",
       "    <tr>\n",
       "      <th>1</th>\n",
       "      <td>7</td>\n",
       "      <td>3350000.0</td>\n",
       "      <td>40.4</td>\n",
       "      <td>2018-12-04T00:00:00</td>\n",
       "      <td>1</td>\n",
       "      <td>NaN</td>\n",
       "      <td>11.0</td>\n",
       "      <td>18.600000</td>\n",
       "      <td>1</td>\n",
       "      <td></td>\n",
       "      <td>...</td>\n",
       "      <td>11.000000</td>\n",
       "      <td>2.0</td>\n",
       "      <td>Shushary settlement</td>\n",
       "      <td>12817.0</td>\n",
       "      <td>18603.0</td>\n",
       "      <td>0.0</td>\n",
       "      <td>NaN</td>\n",
       "      <td>0.0</td>\n",
       "      <td>NaN</td>\n",
       "      <td>81.0</td>\n",
       "    </tr>\n",
       "    <tr>\n",
       "      <th>2</th>\n",
       "      <td>10</td>\n",
       "      <td>5196000.0</td>\n",
       "      <td>56.0</td>\n",
       "      <td>2015-08-20T00:00:00</td>\n",
       "      <td>2</td>\n",
       "      <td>NaN</td>\n",
       "      <td>5.0</td>\n",
       "      <td>34.300000</td>\n",
       "      <td>4</td>\n",
       "      <td></td>\n",
       "      <td>...</td>\n",
       "      <td>8.300000</td>\n",
       "      <td>0.0</td>\n",
       "      <td>Saint Petersburg</td>\n",
       "      <td>21741.0</td>\n",
       "      <td>13933.0</td>\n",
       "      <td>1.0</td>\n",
       "      <td>90.0</td>\n",
       "      <td>2.0</td>\n",
       "      <td>574.0</td>\n",
       "      <td>558.0</td>\n",
       "    </tr>\n",
       "    <tr>\n",
       "      <th>3</th>\n",
       "      <td>0</td>\n",
       "      <td>64900000.0</td>\n",
       "      <td>159.0</td>\n",
       "      <td>2015-07-24T00:00:00</td>\n",
       "      <td>3</td>\n",
       "      <td>NaN</td>\n",
       "      <td>14.0</td>\n",
       "      <td>98.013699</td>\n",
       "      <td>9</td>\n",
       "      <td></td>\n",
       "      <td>...</td>\n",
       "      <td>20.691781</td>\n",
       "      <td>0.0</td>\n",
       "      <td>Saint Petersburg</td>\n",
       "      <td>28098.0</td>\n",
       "      <td>6800.0</td>\n",
       "      <td>2.0</td>\n",
       "      <td>84.0</td>\n",
       "      <td>3.0</td>\n",
       "      <td>234.0</td>\n",
       "      <td>424.0</td>\n",
       "    </tr>\n",
       "    <tr>\n",
       "      <th>4</th>\n",
       "      <td>2</td>\n",
       "      <td>10000000.0</td>\n",
       "      <td>100.0</td>\n",
       "      <td>2018-06-19T00:00:00</td>\n",
       "      <td>2</td>\n",
       "      <td>3.03</td>\n",
       "      <td>14.0</td>\n",
       "      <td>32.000000</td>\n",
       "      <td>13</td>\n",
       "      <td></td>\n",
       "      <td>...</td>\n",
       "      <td>41.000000</td>\n",
       "      <td>0.0</td>\n",
       "      <td>Saint Petersburg</td>\n",
       "      <td>31856.0</td>\n",
       "      <td>8098.0</td>\n",
       "      <td>2.0</td>\n",
       "      <td>112.0</td>\n",
       "      <td>1.0</td>\n",
       "      <td>48.0</td>\n",
       "      <td>121.0</td>\n",
       "    </tr>\n",
       "  </tbody>\n",
       "</table>\n",
       "<p>5 rows × 22 columns</p>\n",
       "</div>"
      ],
      "text/plain": [
       "   total_images  last_price  total_area first_day_exposition  rooms  \\\n",
       "0            20  13000000.0       108.0  2019-03-07T00:00:00      3   \n",
       "1             7   3350000.0        40.4  2018-12-04T00:00:00      1   \n",
       "2            10   5196000.0        56.0  2015-08-20T00:00:00      2   \n",
       "3             0  64900000.0       159.0  2015-07-24T00:00:00      3   \n",
       "4             2  10000000.0       100.0  2018-06-19T00:00:00      2   \n",
       "\n",
       "   ceiling_height  floors_total  living_area  floor is_apartment  ...  \\\n",
       "0            2.70          16.0    51.000000      8               ...   \n",
       "1             NaN          11.0    18.600000      1               ...   \n",
       "2             NaN           5.0    34.300000      4               ...   \n",
       "3             NaN          14.0    98.013699      9               ...   \n",
       "4            3.03          14.0    32.000000     13               ...   \n",
       "\n",
       "  kitchen_area balcony        locality_name  airports_nearest  \\\n",
       "0    25.000000     0.0     Saint Petersburg           18863.0   \n",
       "1    11.000000     2.0  Shushary settlement           12817.0   \n",
       "2     8.300000     0.0     Saint Petersburg           21741.0   \n",
       "3    20.691781     0.0     Saint Petersburg           28098.0   \n",
       "4    41.000000     0.0     Saint Petersburg           31856.0   \n",
       "\n",
       "  cityCenters_nearest  parks_around3000  parks_nearest  ponds_around3000  \\\n",
       "0             16028.0               1.0          482.0               2.0   \n",
       "1             18603.0               0.0            NaN               0.0   \n",
       "2             13933.0               1.0           90.0               2.0   \n",
       "3              6800.0               2.0           84.0               3.0   \n",
       "4              8098.0               2.0          112.0               1.0   \n",
       "\n",
       "   ponds_nearest  days_exposition  \n",
       "0          755.0              NaN  \n",
       "1            NaN             81.0  \n",
       "2          574.0            558.0  \n",
       "3          234.0            424.0  \n",
       "4           48.0            121.0  \n",
       "\n",
       "[5 rows x 22 columns]"
      ]
     },
     "metadata": {},
     "output_type": "display_data"
    }
   ],
   "source": [
    "# Группируем площадь жилого помещения по количеству комнат\n",
    "group_living = trandform_func('rooms', 'living_area')\n",
    "# Заполняем пропуски в столбце 'living_area'\n",
    "fillna_func('living_area', new_df['total_area'] * group_living  / total_area_rooms)\n",
    "display(new_df.head())"
   ]
  },
  {
   "cell_type": "markdown",
   "metadata": {},
   "source": [
    "Нельзя просто взять и заполнить мединным значением количество этажей в столбце `floors_total`, так как это значение может быть ниже, чем значение в колонке `floor`.\n",
    "\n",
    "Поэтому сгруппируем количество этажей в зависимости от этажа, на котором находится объект недвижимости."
   ]
  },
  {
   "cell_type": "code",
   "execution_count": 20,
   "metadata": {},
   "outputs": [
    {
     "data": {
      "text/plain": [
       "0        16.0\n",
       "1        11.0\n",
       "2         5.0\n",
       "3        14.0\n",
       "4        14.0\n",
       "         ... \n",
       "23694     5.0\n",
       "23695     5.0\n",
       "23696     3.0\n",
       "23697    17.0\n",
       "23698     5.0\n",
       "Name: floors_total, Length: 23699, dtype: float64"
      ]
     },
     "execution_count": 20,
     "metadata": {},
     "output_type": "execute_result"
    }
   ],
   "source": [
    "# Группируем количество этажей в здании по этажу, где находится квартира\n",
    "group_floor = trandform_func('floor', 'floors_total')\n",
    "# Заполняем пропуски в столбце 'floors_total'\n",
    "fillna_func('floors_total', group_floor)"
   ]
  },
  {
   "cell_type": "markdown",
   "metadata": {},
   "source": [
    "Столбец  `ceiling_height` может зависеть от количества этажей, поэтому заполним пропуски мединным значением высоты потолка в зависимости от этажности здания."
   ]
  },
  {
   "cell_type": "code",
   "execution_count": 21,
   "metadata": {},
   "outputs": [
    {
     "data": {
      "text/plain": [
       "0        2.70\n",
       "1        2.75\n",
       "2        2.55\n",
       "3        2.60\n",
       "4        3.03\n",
       "         ... \n",
       "23694    3.70\n",
       "23695    2.55\n",
       "23696    2.80\n",
       "23697    3.00\n",
       "23698    2.50\n",
       "Name: ceiling_height, Length: 23699, dtype: float64"
      ]
     },
     "execution_count": 21,
     "metadata": {},
     "output_type": "execute_result"
    }
   ],
   "source": [
    "# Группируем высоту потолка по количеству этажей в здании\n",
    "ceiling = trandform_func('floors_total', 'ceiling_height')\n",
    "# Заполняем пропуски в столбце 'ceiling_height'\n",
    "fillna_func('ceiling_height', ceiling)\n",
    "# В случае, если какие-то этажи присутствовали в нашей таблице в единственном\n",
    "# экземпляре, заполним их медианным значением по всей таблице\n",
    "fillna_func('ceiling_height', new_df['ceiling_height'].median())"
   ]
  },
  {
   "cell_type": "markdown",
   "metadata": {},
   "source": [
    "<div class=\"alert alert-success\">\n",
    "<h2> Комментарий от ревьюера<a class=\"tocSkip\"></a></h2>\n",
    "Да, все верно. Медианное значение соответствует стандартам ГОСТа.\n",
    " \n",
    "</div>"
   ]
  },
  {
   "cell_type": "markdown",
   "metadata": {},
   "source": [
    "Теперь займемся теми колонками, которые зависят непосредственно от местоположения рассматриваемого объекта."
   ]
  },
  {
   "cell_type": "code",
   "execution_count": 22,
   "metadata": {},
   "outputs": [
    {
     "data": {
      "text/html": [
       "<div>\n",
       "<style scoped>\n",
       "    .dataframe tbody tr th:only-of-type {\n",
       "        vertical-align: middle;\n",
       "    }\n",
       "\n",
       "    .dataframe tbody tr th {\n",
       "        vertical-align: top;\n",
       "    }\n",
       "\n",
       "    .dataframe thead th {\n",
       "        text-align: right;\n",
       "    }\n",
       "</style>\n",
       "<table border=\"1\" class=\"dataframe\">\n",
       "  <thead>\n",
       "    <tr style=\"text-align: right;\">\n",
       "      <th></th>\n",
       "      <th>airports_nearest</th>\n",
       "      <th>cityCenters_nearest</th>\n",
       "      <th>parks_around3000</th>\n",
       "      <th>parks_nearest</th>\n",
       "      <th>ponds_around3000</th>\n",
       "      <th>ponds_nearest</th>\n",
       "    </tr>\n",
       "  </thead>\n",
       "  <tbody>\n",
       "    <tr>\n",
       "      <th>0</th>\n",
       "      <td>18863.0</td>\n",
       "      <td>16028.0</td>\n",
       "      <td>1.0</td>\n",
       "      <td>482.0</td>\n",
       "      <td>2.0</td>\n",
       "      <td>755.0</td>\n",
       "    </tr>\n",
       "    <tr>\n",
       "      <th>1</th>\n",
       "      <td>12817.0</td>\n",
       "      <td>18603.0</td>\n",
       "      <td>0.0</td>\n",
       "      <td>NaN</td>\n",
       "      <td>0.0</td>\n",
       "      <td>584.5</td>\n",
       "    </tr>\n",
       "    <tr>\n",
       "      <th>2</th>\n",
       "      <td>21741.0</td>\n",
       "      <td>13933.0</td>\n",
       "      <td>1.0</td>\n",
       "      <td>90.0</td>\n",
       "      <td>2.0</td>\n",
       "      <td>574.0</td>\n",
       "    </tr>\n",
       "    <tr>\n",
       "      <th>3</th>\n",
       "      <td>28098.0</td>\n",
       "      <td>6800.0</td>\n",
       "      <td>2.0</td>\n",
       "      <td>84.0</td>\n",
       "      <td>3.0</td>\n",
       "      <td>234.0</td>\n",
       "    </tr>\n",
       "    <tr>\n",
       "      <th>4</th>\n",
       "      <td>31856.0</td>\n",
       "      <td>8098.0</td>\n",
       "      <td>2.0</td>\n",
       "      <td>112.0</td>\n",
       "      <td>1.0</td>\n",
       "      <td>48.0</td>\n",
       "    </tr>\n",
       "    <tr>\n",
       "      <th>...</th>\n",
       "      <td>...</td>\n",
       "      <td>...</td>\n",
       "      <td>...</td>\n",
       "      <td>...</td>\n",
       "      <td>...</td>\n",
       "      <td>...</td>\n",
       "    </tr>\n",
       "    <tr>\n",
       "      <th>23694</th>\n",
       "      <td>24665.0</td>\n",
       "      <td>4232.0</td>\n",
       "      <td>1.0</td>\n",
       "      <td>796.0</td>\n",
       "      <td>3.0</td>\n",
       "      <td>381.0</td>\n",
       "    </tr>\n",
       "    <tr>\n",
       "      <th>23695</th>\n",
       "      <td>NaN</td>\n",
       "      <td>NaN</td>\n",
       "      <td>NaN</td>\n",
       "      <td>NaN</td>\n",
       "      <td>NaN</td>\n",
       "      <td>NaN</td>\n",
       "    </tr>\n",
       "    <tr>\n",
       "      <th>23696</th>\n",
       "      <td>NaN</td>\n",
       "      <td>NaN</td>\n",
       "      <td>NaN</td>\n",
       "      <td>NaN</td>\n",
       "      <td>NaN</td>\n",
       "      <td>NaN</td>\n",
       "    </tr>\n",
       "    <tr>\n",
       "      <th>23697</th>\n",
       "      <td>39140.0</td>\n",
       "      <td>10364.0</td>\n",
       "      <td>2.0</td>\n",
       "      <td>173.0</td>\n",
       "      <td>3.0</td>\n",
       "      <td>196.0</td>\n",
       "    </tr>\n",
       "    <tr>\n",
       "      <th>23698</th>\n",
       "      <td>NaN</td>\n",
       "      <td>NaN</td>\n",
       "      <td>NaN</td>\n",
       "      <td>NaN</td>\n",
       "      <td>NaN</td>\n",
       "      <td>NaN</td>\n",
       "    </tr>\n",
       "  </tbody>\n",
       "</table>\n",
       "<p>23699 rows × 6 columns</p>\n",
       "</div>"
      ],
      "text/plain": [
       "       airports_nearest  cityCenters_nearest  parks_around3000  parks_nearest  \\\n",
       "0               18863.0              16028.0               1.0          482.0   \n",
       "1               12817.0              18603.0               0.0            NaN   \n",
       "2               21741.0              13933.0               1.0           90.0   \n",
       "3               28098.0               6800.0               2.0           84.0   \n",
       "4               31856.0               8098.0               2.0          112.0   \n",
       "...                 ...                  ...               ...            ...   \n",
       "23694           24665.0               4232.0               1.0          796.0   \n",
       "23695               NaN                  NaN               NaN            NaN   \n",
       "23696               NaN                  NaN               NaN            NaN   \n",
       "23697           39140.0              10364.0               2.0          173.0   \n",
       "23698               NaN                  NaN               NaN            NaN   \n",
       "\n",
       "       ponds_around3000  ponds_nearest  \n",
       "0                   2.0          755.0  \n",
       "1                   0.0          584.5  \n",
       "2                   2.0          574.0  \n",
       "3                   3.0          234.0  \n",
       "4                   1.0           48.0  \n",
       "...                 ...            ...  \n",
       "23694               3.0          381.0  \n",
       "23695               NaN            NaN  \n",
       "23696               NaN            NaN  \n",
       "23697               3.0          196.0  \n",
       "23698               NaN            NaN  \n",
       "\n",
       "[23699 rows x 6 columns]"
      ]
     },
     "execution_count": 22,
     "metadata": {},
     "output_type": "execute_result"
    }
   ],
   "source": [
    "# Создаем список колонок, где будем группировать значения по колонке 'locality_name'\n",
    "# и менять пропуски на медианное значение\n",
    "list_of_columns =['airports_nearest', 'cityCenters_nearest', 'parks_around3000', 'parks_nearest',\n",
    "                 'ponds_around3000', 'ponds_nearest']\n",
    "fillna_func(list_of_columns, trandform_func('locality_name', list_of_columns))"
   ]
  },
  {
   "cell_type": "markdown",
   "metadata": {},
   "source": [
    "<div class=\"alert alert-success\">\n",
    "<h2> Комментарий от ревьюера<a class=\"tocSkip\"></a></h2>\n",
    "Столбцы с парками, прудами и расстоянием до аэропорта заполняются автоматически, исходя из геолокации. Пропуски можно оставить как есть, посколкьу для корректной замены не хватает данных(например, точной геолокации). Можно сообщить о подобной проблеме разработчикам базы данных во избежании дальнейших неприятностей.\n",
    " \n",
    "</div>"
   ]
  },
  {
   "cell_type": "markdown",
   "metadata": {},
   "source": [
    "Посмотрим, остались ли пропуски в нашей таблице"
   ]
  },
  {
   "cell_type": "code",
   "execution_count": 23,
   "metadata": {},
   "outputs": [
    {
     "data": {
      "text/plain": [
       "total_images               0\n",
       "last_price                 0\n",
       "total_area                 0\n",
       "first_day_exposition       0\n",
       "rooms                      0\n",
       "ceiling_height             0\n",
       "floors_total               0\n",
       "living_area                0\n",
       "floor                      0\n",
       "is_apartment               0\n",
       "studio                     0\n",
       "open_plan                  0\n",
       "kitchen_area               0\n",
       "balcony                    0\n",
       "locality_name              0\n",
       "airports_nearest        5386\n",
       "cityCenters_nearest     5386\n",
       "parks_around3000        5386\n",
       "parks_nearest           5998\n",
       "ponds_around3000        5386\n",
       "ponds_nearest           5494\n",
       "days_exposition         3181\n",
       "dtype: int64"
      ]
     },
     "execution_count": 23,
     "metadata": {},
     "output_type": "execute_result"
    }
   ],
   "source": [
    "new_df.isna().sum()"
   ]
  },
  {
   "cell_type": "markdown",
   "metadata": {},
   "source": [
    "Количество пропусков в колонках `parks_nearest` и `ponds_nearest` уменьшилось в 3 раза, но все равно, это составляет. почти 20% от всех данных. Пропущенные значения в колонках `airports_nearest`, `parks_around3000`, `parks_nearest`, `ponds_around3000` и  `ponds_nearest` можно заполнить с помощью Яндекс.Карт, но нам эти данные не так важны, поэтому можно их оставить нетронутыми.\n",
    "\n",
    "Колонки же `cityCenters_nearest` и `days_exposition` нужны нам для дальнейшего анализа, но их нельзя просто заполнить медианным значением, так как нельзя однозначно вывести зависимость расположения объекта от центра и количество дней размещения объявления. Поэтому постараемся оценить влияние этих пропусков."
   ]
  },
  {
   "cell_type": "markdown",
   "metadata": {},
   "source": [
    "### Замена типа данных"
   ]
  },
  {
   "cell_type": "markdown",
   "metadata": {},
   "source": [
    "По условию задания, колонки `is_apartment`, `open_plan` и `studio` имеют булев тип, а в столбцах `last_price`, `balcony`, `floor` и `floors_total` было бы неплохо поменять тип данных на `int`."
   ]
  },
  {
   "cell_type": "code",
   "execution_count": 24,
   "metadata": {},
   "outputs": [],
   "source": [
    "# Функция для замены вещественного типа данных на числовой\n",
    "def change_type(col, type_of_col):\n",
    "    new_df[col] = new_df[col].astype(type_of_col)\n",
    "    return new_df[col]"
   ]
  },
  {
   "cell_type": "code",
   "execution_count": 25,
   "metadata": {},
   "outputs": [
    {
     "data": {
      "text/html": [
       "<div>\n",
       "<style scoped>\n",
       "    .dataframe tbody tr th:only-of-type {\n",
       "        vertical-align: middle;\n",
       "    }\n",
       "\n",
       "    .dataframe tbody tr th {\n",
       "        vertical-align: top;\n",
       "    }\n",
       "\n",
       "    .dataframe thead th {\n",
       "        text-align: right;\n",
       "    }\n",
       "</style>\n",
       "<table border=\"1\" class=\"dataframe\">\n",
       "  <thead>\n",
       "    <tr style=\"text-align: right;\">\n",
       "      <th></th>\n",
       "      <th>last_price</th>\n",
       "      <th>balcony</th>\n",
       "      <th>floor</th>\n",
       "      <th>floors_total</th>\n",
       "    </tr>\n",
       "  </thead>\n",
       "  <tbody>\n",
       "    <tr>\n",
       "      <th>0</th>\n",
       "      <td>13000000</td>\n",
       "      <td>0</td>\n",
       "      <td>8</td>\n",
       "      <td>16</td>\n",
       "    </tr>\n",
       "    <tr>\n",
       "      <th>1</th>\n",
       "      <td>3350000</td>\n",
       "      <td>2</td>\n",
       "      <td>1</td>\n",
       "      <td>11</td>\n",
       "    </tr>\n",
       "    <tr>\n",
       "      <th>2</th>\n",
       "      <td>5196000</td>\n",
       "      <td>0</td>\n",
       "      <td>4</td>\n",
       "      <td>5</td>\n",
       "    </tr>\n",
       "    <tr>\n",
       "      <th>3</th>\n",
       "      <td>64900000</td>\n",
       "      <td>0</td>\n",
       "      <td>9</td>\n",
       "      <td>14</td>\n",
       "    </tr>\n",
       "    <tr>\n",
       "      <th>4</th>\n",
       "      <td>10000000</td>\n",
       "      <td>0</td>\n",
       "      <td>13</td>\n",
       "      <td>14</td>\n",
       "    </tr>\n",
       "    <tr>\n",
       "      <th>...</th>\n",
       "      <td>...</td>\n",
       "      <td>...</td>\n",
       "      <td>...</td>\n",
       "      <td>...</td>\n",
       "    </tr>\n",
       "    <tr>\n",
       "      <th>23694</th>\n",
       "      <td>9700000</td>\n",
       "      <td>0</td>\n",
       "      <td>3</td>\n",
       "      <td>5</td>\n",
       "    </tr>\n",
       "    <tr>\n",
       "      <th>23695</th>\n",
       "      <td>3100000</td>\n",
       "      <td>0</td>\n",
       "      <td>4</td>\n",
       "      <td>5</td>\n",
       "    </tr>\n",
       "    <tr>\n",
       "      <th>23696</th>\n",
       "      <td>2500000</td>\n",
       "      <td>0</td>\n",
       "      <td>1</td>\n",
       "      <td>3</td>\n",
       "    </tr>\n",
       "    <tr>\n",
       "      <th>23697</th>\n",
       "      <td>11475000</td>\n",
       "      <td>2</td>\n",
       "      <td>12</td>\n",
       "      <td>17</td>\n",
       "    </tr>\n",
       "    <tr>\n",
       "      <th>23698</th>\n",
       "      <td>1350000</td>\n",
       "      <td>0</td>\n",
       "      <td>1</td>\n",
       "      <td>5</td>\n",
       "    </tr>\n",
       "  </tbody>\n",
       "</table>\n",
       "<p>23699 rows × 4 columns</p>\n",
       "</div>"
      ],
      "text/plain": [
       "       last_price  balcony  floor  floors_total\n",
       "0        13000000        0      8            16\n",
       "1         3350000        2      1            11\n",
       "2         5196000        0      4             5\n",
       "3        64900000        0      9            14\n",
       "4        10000000        0     13            14\n",
       "...           ...      ...    ...           ...\n",
       "23694     9700000        0      3             5\n",
       "23695     3100000        0      4             5\n",
       "23696     2500000        0      1             3\n",
       "23697    11475000        2     12            17\n",
       "23698     1350000        0      1             5\n",
       "\n",
       "[23699 rows x 4 columns]"
      ]
     },
     "execution_count": 25,
     "metadata": {},
     "output_type": "execute_result"
    }
   ],
   "source": [
    "# Замена типов значений в колонках 'last_price', 'balcony', 'floor', 'floors_total' на int\n",
    "list_of_columns = ['last_price', 'balcony', 'floor', 'floors_total']\n",
    "change_type(list_of_columns, 'int')"
   ]
  },
  {
   "cell_type": "markdown",
   "metadata": {},
   "source": [
    "В колонке `first_day_exposition` находится дата публикации, поэтому необходимо перевести значения в тип `datetime`"
   ]
  },
  {
   "cell_type": "code",
   "execution_count": 26,
   "metadata": {},
   "outputs": [],
   "source": [
    "# Перевод типа значений колонки 'first_day_exposition' на datetime\n",
    "new_df['first_day_exposition'] = pd.to_datetime(new_df['first_day_exposition'], format='%Y.%m.%dT%H:%M:%S')"
   ]
  },
  {
   "cell_type": "code",
   "execution_count": 27,
   "metadata": {},
   "outputs": [
    {
     "data": {
      "text/html": [
       "<div>\n",
       "<style scoped>\n",
       "    .dataframe tbody tr th:only-of-type {\n",
       "        vertical-align: middle;\n",
       "    }\n",
       "\n",
       "    .dataframe tbody tr th {\n",
       "        vertical-align: top;\n",
       "    }\n",
       "\n",
       "    .dataframe thead th {\n",
       "        text-align: right;\n",
       "    }\n",
       "</style>\n",
       "<table border=\"1\" class=\"dataframe\">\n",
       "  <thead>\n",
       "    <tr style=\"text-align: right;\">\n",
       "      <th></th>\n",
       "      <th>open_plan</th>\n",
       "      <th>studio</th>\n",
       "    </tr>\n",
       "  </thead>\n",
       "  <tbody>\n",
       "    <tr>\n",
       "      <th>0</th>\n",
       "      <td>False</td>\n",
       "      <td>False</td>\n",
       "    </tr>\n",
       "    <tr>\n",
       "      <th>1</th>\n",
       "      <td>False</td>\n",
       "      <td>False</td>\n",
       "    </tr>\n",
       "    <tr>\n",
       "      <th>2</th>\n",
       "      <td>False</td>\n",
       "      <td>False</td>\n",
       "    </tr>\n",
       "    <tr>\n",
       "      <th>3</th>\n",
       "      <td>False</td>\n",
       "      <td>False</td>\n",
       "    </tr>\n",
       "    <tr>\n",
       "      <th>4</th>\n",
       "      <td>False</td>\n",
       "      <td>False</td>\n",
       "    </tr>\n",
       "    <tr>\n",
       "      <th>...</th>\n",
       "      <td>...</td>\n",
       "      <td>...</td>\n",
       "    </tr>\n",
       "    <tr>\n",
       "      <th>23694</th>\n",
       "      <td>False</td>\n",
       "      <td>False</td>\n",
       "    </tr>\n",
       "    <tr>\n",
       "      <th>23695</th>\n",
       "      <td>False</td>\n",
       "      <td>False</td>\n",
       "    </tr>\n",
       "    <tr>\n",
       "      <th>23696</th>\n",
       "      <td>False</td>\n",
       "      <td>False</td>\n",
       "    </tr>\n",
       "    <tr>\n",
       "      <th>23697</th>\n",
       "      <td>False</td>\n",
       "      <td>False</td>\n",
       "    </tr>\n",
       "    <tr>\n",
       "      <th>23698</th>\n",
       "      <td>False</td>\n",
       "      <td>False</td>\n",
       "    </tr>\n",
       "  </tbody>\n",
       "</table>\n",
       "<p>23699 rows × 2 columns</p>\n",
       "</div>"
      ],
      "text/plain": [
       "       open_plan  studio\n",
       "0          False   False\n",
       "1          False   False\n",
       "2          False   False\n",
       "3          False   False\n",
       "4          False   False\n",
       "...          ...     ...\n",
       "23694      False   False\n",
       "23695      False   False\n",
       "23696      False   False\n",
       "23697      False   False\n",
       "23698      False   False\n",
       "\n",
       "[23699 rows x 2 columns]"
      ]
     },
     "execution_count": 27,
     "metadata": {},
     "output_type": "execute_result"
    }
   ],
   "source": [
    "# Перевод типа значений колонок 'open_plan', 'studio' в bool\n",
    "list_of_columns = ['open_plan', 'studio']\n",
    "new_df[list_of_columns] = new_df[list_of_columns].replace('False', '')\n",
    "change_type(list_of_columns, 'bool')"
   ]
  },
  {
   "cell_type": "code",
   "execution_count": 28,
   "metadata": {},
   "outputs": [
    {
     "data": {
      "text/plain": [
       "         20924\n",
       "False     2725\n",
       "True        50\n",
       "Name: is_apartment, dtype: int64"
      ]
     },
     "execution_count": 28,
     "metadata": {},
     "output_type": "execute_result"
    }
   ],
   "source": [
    "# Проверяем уникальные значения в колонке 'is_apartment'\n",
    "new_df['is_apartment'].value_counts()"
   ]
  },
  {
   "cell_type": "markdown",
   "metadata": {},
   "source": [
    "С колонкой `is_apartment` не все так просто, так как там очень много пропущенных значений, и нельзя однозначно без последуюющего искажения результатов анализа предположить, какие данные там могут быть. Поэтому оставим пропуски незаполенными."
   ]
  },
  {
   "cell_type": "code",
   "execution_count": 29,
   "metadata": {},
   "outputs": [],
   "source": [
    "# Так как в колонке 'days_exposition' есть пропуски, округляем до целого и переводим в тип Int64\n",
    "new_df['days_exposition'] = round(new_df['days_exposition'])\n",
    "new_df['days_exposition'] = new_df['days_exposition'].astype('Int64')"
   ]
  },
  {
   "cell_type": "markdown",
   "metadata": {},
   "source": [
    "### Вывод\n",
    " \n",
    "* По условию задачи, для некоторых пропущенных значений можно предположить логичную замену. Например, если человек не указал число балконов — скорее всего, их нет. Поэтому пропуски в колонке `balcony` были заменены на 0;\n",
    "* Пропуски в столбцах `ceiling_height` были сгруппированы по количеству этажей, а `floors_total` по этажу, где находится объект недвижимости, и далее заменены на медианные значения;\n",
    "* Пропуски в столбцах `living_area`, `kitchen_area` были сгруппированы по колчеству комнат и по общей площади и заменены на значения, равные произведению общей площади на коэффициент отношения площади кухни и жилой площади к общей пощади соответсвенно.\n",
    "* Пропуски в столбцах `days_exposition`, `airports_nearest`, `cityCenters_nearest`, `parks_around3000`, `parks_nearest, ponds_around3000`, `ponds_nearest`, `airports_nearest` были оставлены, так как нельзя их однозначно сгруппировать в другими параметрами и заполнить медианными значениями.\n",
    "\n",
    "Помимо заполнения пропусков, были заменены типы данных:\n",
    "\n",
    "* В столбцах `last_price`, `floors_total` и `balcony` на целочисленный, так как цена в таблице не имеет ненулевой дробной части, а количество этажей и балконов в принципе не может быть нецелым числом;\n",
    "* В столбцах `studio` и `open_plan` на тип `bool` по условиям задачи.\n",
    "\n",
    "В остальных колонках тип значений не менялся, так как для более точных расчетов лучше использовать вещественный тип данных и округлять уже конечный результат."
   ]
  },
  {
   "cell_type": "markdown",
   "metadata": {},
   "source": [
    "<div class=\"alert alert-success\">\n",
    "<h2> Комментарий от ревьюера<a class=\"tocSkip\"></a></h2>\n",
    "Отлично, теперь все столбцы имеют корректный формат данных\n",
    " \n",
    "</div>"
   ]
  },
  {
   "cell_type": "markdown",
   "metadata": {},
   "source": [
    "## Расчёты и добавление результатов в таблицу"
   ]
  },
  {
   "cell_type": "markdown",
   "metadata": {},
   "source": [
    "Посчитаем цену квадратного метра"
   ]
  },
  {
   "cell_type": "code",
   "execution_count": 30,
   "metadata": {},
   "outputs": [],
   "source": [
    "# Считаем цену квадратного метра, поделив цену на общую площадь\n",
    "new_df['price_per_square_metre'] = (new_df['last_price'] / new_df['total_area'])"
   ]
  },
  {
   "cell_type": "markdown",
   "metadata": {},
   "source": [
    "Добавим в таблицу день недели, месяц и год публикации объявления"
   ]
  },
  {
   "cell_type": "code",
   "execution_count": 31,
   "metadata": {},
   "outputs": [],
   "source": [
    "# Добавляем в таблицу год\n",
    "new_df['day_of_exposition'] = new_df['first_day_exposition'].dt.dayofweek\n",
    "# месяц\n",
    "new_df['month_of_exposition'] = new_df['first_day_exposition'].dt.month\n",
    "# и день публикации объявления\n",
    "new_df['year_of_exposition'] = new_df['first_day_exposition'].dt.year"
   ]
  },
  {
   "cell_type": "markdown",
   "metadata": {},
   "source": [
    "<div class=\"alert alert-success\">\n",
    "<h2> Комментарий от ревьюера<a class=\"tocSkip\"></a></h2>\n",
    "Здорово, что ты используешь дополнительные библиотеки. Решения получаются максимально понятными и лаконичными\n",
    " \n",
    "</div>"
   ]
  },
  {
   "cell_type": "markdown",
   "metadata": {},
   "source": [
    "Также необходимо по условию задания добавить этаж квартиры; варианты — первый, последний, другой"
   ]
  },
  {
   "cell_type": "code",
   "execution_count": 32,
   "metadata": {},
   "outputs": [],
   "source": [
    "# Создаем функцию, которая принимает на вход строку таблицы\n",
    "def building_floor(row):\n",
    "    # присваиваем переменой floor этаж\n",
    "    floor = row['floor']\n",
    "    # а переменной floors_total - количество этажей в здании\n",
    "    floors_total = row['floors_total']\n",
    "    # если этаж = 1\n",
    "    if floor == 1:\n",
    "        return 'первый'\n",
    "    # если этаж совпадает с количеством этажей в здании\n",
    "    elif floor == floors_total:\n",
    "        return 'последний'\n",
    "    # иначе\n",
    "    else:\n",
    "        return 'другой'"
   ]
  },
  {
   "cell_type": "code",
   "execution_count": 33,
   "metadata": {},
   "outputs": [],
   "source": [
    "# Применим функцию к таблице\n",
    "new_df['flat_floor'] = new_df.apply(building_floor, axis = 1)"
   ]
  },
  {
   "cell_type": "markdown",
   "metadata": {},
   "source": [
    "Осталось добавить соотношение жилой и общей площади, а также отношение площади кухни к общей"
   ]
  },
  {
   "cell_type": "code",
   "execution_count": 34,
   "metadata": {},
   "outputs": [],
   "source": [
    "# Находим сотношение жилой и общей площади\n",
    "new_df['living_to_total_area'] = new_df['living_area'] / new_df['total_area']\n",
    "# и отношение площади кухни к общей \n",
    "new_df['kitchen_to_total_area'] = new_df['kitchen_area'] / new_df['total_area']"
   ]
  },
  {
   "cell_type": "code",
   "execution_count": 35,
   "metadata": {},
   "outputs": [
    {
     "data": {
      "text/html": [
       "<div>\n",
       "<style scoped>\n",
       "    .dataframe tbody tr th:only-of-type {\n",
       "        vertical-align: middle;\n",
       "    }\n",
       "\n",
       "    .dataframe tbody tr th {\n",
       "        vertical-align: top;\n",
       "    }\n",
       "\n",
       "    .dataframe thead th {\n",
       "        text-align: right;\n",
       "    }\n",
       "</style>\n",
       "<table border=\"1\" class=\"dataframe\">\n",
       "  <thead>\n",
       "    <tr style=\"text-align: right;\">\n",
       "      <th></th>\n",
       "      <th>total_images</th>\n",
       "      <th>last_price</th>\n",
       "      <th>total_area</th>\n",
       "      <th>first_day_exposition</th>\n",
       "      <th>rooms</th>\n",
       "      <th>ceiling_height</th>\n",
       "      <th>floors_total</th>\n",
       "      <th>living_area</th>\n",
       "      <th>floor</th>\n",
       "      <th>is_apartment</th>\n",
       "      <th>...</th>\n",
       "      <th>ponds_around3000</th>\n",
       "      <th>ponds_nearest</th>\n",
       "      <th>days_exposition</th>\n",
       "      <th>price_per_square_metre</th>\n",
       "      <th>day_of_exposition</th>\n",
       "      <th>month_of_exposition</th>\n",
       "      <th>year_of_exposition</th>\n",
       "      <th>flat_floor</th>\n",
       "      <th>living_to_total_area</th>\n",
       "      <th>kitchen_to_total_area</th>\n",
       "    </tr>\n",
       "  </thead>\n",
       "  <tbody>\n",
       "    <tr>\n",
       "      <th>0</th>\n",
       "      <td>20</td>\n",
       "      <td>13000000</td>\n",
       "      <td>108.0</td>\n",
       "      <td>2019-03-07</td>\n",
       "      <td>3</td>\n",
       "      <td>2.70</td>\n",
       "      <td>16</td>\n",
       "      <td>51.000000</td>\n",
       "      <td>8</td>\n",
       "      <td></td>\n",
       "      <td>...</td>\n",
       "      <td>2.0</td>\n",
       "      <td>755.0</td>\n",
       "      <td>&lt;NA&gt;</td>\n",
       "      <td>120370.370370</td>\n",
       "      <td>3</td>\n",
       "      <td>3</td>\n",
       "      <td>2019</td>\n",
       "      <td>другой</td>\n",
       "      <td>0.472222</td>\n",
       "      <td>0.231481</td>\n",
       "    </tr>\n",
       "    <tr>\n",
       "      <th>1</th>\n",
       "      <td>7</td>\n",
       "      <td>3350000</td>\n",
       "      <td>40.4</td>\n",
       "      <td>2018-12-04</td>\n",
       "      <td>1</td>\n",
       "      <td>2.75</td>\n",
       "      <td>11</td>\n",
       "      <td>18.600000</td>\n",
       "      <td>1</td>\n",
       "      <td></td>\n",
       "      <td>...</td>\n",
       "      <td>0.0</td>\n",
       "      <td>584.5</td>\n",
       "      <td>81</td>\n",
       "      <td>82920.792079</td>\n",
       "      <td>1</td>\n",
       "      <td>12</td>\n",
       "      <td>2018</td>\n",
       "      <td>первый</td>\n",
       "      <td>0.460396</td>\n",
       "      <td>0.272277</td>\n",
       "    </tr>\n",
       "    <tr>\n",
       "      <th>2</th>\n",
       "      <td>10</td>\n",
       "      <td>5196000</td>\n",
       "      <td>56.0</td>\n",
       "      <td>2015-08-20</td>\n",
       "      <td>2</td>\n",
       "      <td>2.55</td>\n",
       "      <td>5</td>\n",
       "      <td>34.300000</td>\n",
       "      <td>4</td>\n",
       "      <td></td>\n",
       "      <td>...</td>\n",
       "      <td>2.0</td>\n",
       "      <td>574.0</td>\n",
       "      <td>558</td>\n",
       "      <td>92785.714286</td>\n",
       "      <td>3</td>\n",
       "      <td>8</td>\n",
       "      <td>2015</td>\n",
       "      <td>другой</td>\n",
       "      <td>0.612500</td>\n",
       "      <td>0.148214</td>\n",
       "    </tr>\n",
       "    <tr>\n",
       "      <th>3</th>\n",
       "      <td>0</td>\n",
       "      <td>64900000</td>\n",
       "      <td>159.0</td>\n",
       "      <td>2015-07-24</td>\n",
       "      <td>3</td>\n",
       "      <td>2.60</td>\n",
       "      <td>14</td>\n",
       "      <td>98.013699</td>\n",
       "      <td>9</td>\n",
       "      <td></td>\n",
       "      <td>...</td>\n",
       "      <td>3.0</td>\n",
       "      <td>234.0</td>\n",
       "      <td>424</td>\n",
       "      <td>408176.100629</td>\n",
       "      <td>4</td>\n",
       "      <td>7</td>\n",
       "      <td>2015</td>\n",
       "      <td>другой</td>\n",
       "      <td>0.616438</td>\n",
       "      <td>0.130137</td>\n",
       "    </tr>\n",
       "    <tr>\n",
       "      <th>4</th>\n",
       "      <td>2</td>\n",
       "      <td>10000000</td>\n",
       "      <td>100.0</td>\n",
       "      <td>2018-06-19</td>\n",
       "      <td>2</td>\n",
       "      <td>3.03</td>\n",
       "      <td>14</td>\n",
       "      <td>32.000000</td>\n",
       "      <td>13</td>\n",
       "      <td></td>\n",
       "      <td>...</td>\n",
       "      <td>1.0</td>\n",
       "      <td>48.0</td>\n",
       "      <td>121</td>\n",
       "      <td>100000.000000</td>\n",
       "      <td>1</td>\n",
       "      <td>6</td>\n",
       "      <td>2018</td>\n",
       "      <td>другой</td>\n",
       "      <td>0.320000</td>\n",
       "      <td>0.410000</td>\n",
       "    </tr>\n",
       "  </tbody>\n",
       "</table>\n",
       "<p>5 rows × 29 columns</p>\n",
       "</div>"
      ],
      "text/plain": [
       "   total_images  last_price  total_area first_day_exposition  rooms  \\\n",
       "0            20    13000000       108.0           2019-03-07      3   \n",
       "1             7     3350000        40.4           2018-12-04      1   \n",
       "2            10     5196000        56.0           2015-08-20      2   \n",
       "3             0    64900000       159.0           2015-07-24      3   \n",
       "4             2    10000000       100.0           2018-06-19      2   \n",
       "\n",
       "   ceiling_height  floors_total  living_area  floor is_apartment  ...  \\\n",
       "0            2.70            16    51.000000      8               ...   \n",
       "1            2.75            11    18.600000      1               ...   \n",
       "2            2.55             5    34.300000      4               ...   \n",
       "3            2.60            14    98.013699      9               ...   \n",
       "4            3.03            14    32.000000     13               ...   \n",
       "\n",
       "   ponds_around3000  ponds_nearest  days_exposition  price_per_square_metre  \\\n",
       "0               2.0          755.0             <NA>           120370.370370   \n",
       "1               0.0          584.5               81            82920.792079   \n",
       "2               2.0          574.0              558            92785.714286   \n",
       "3               3.0          234.0              424           408176.100629   \n",
       "4               1.0           48.0              121           100000.000000   \n",
       "\n",
       "  day_of_exposition  month_of_exposition  year_of_exposition  flat_floor  \\\n",
       "0                 3                    3                2019      другой   \n",
       "1                 1                   12                2018      первый   \n",
       "2                 3                    8                2015      другой   \n",
       "3                 4                    7                2015      другой   \n",
       "4                 1                    6                2018      другой   \n",
       "\n",
       "   living_to_total_area  kitchen_to_total_area  \n",
       "0              0.472222               0.231481  \n",
       "1              0.460396               0.272277  \n",
       "2              0.612500               0.148214  \n",
       "3              0.616438               0.130137  \n",
       "4              0.320000               0.410000  \n",
       "\n",
       "[5 rows x 29 columns]"
      ]
     },
     "execution_count": 35,
     "metadata": {},
     "output_type": "execute_result"
    }
   ],
   "source": [
    "# Выведем таблицу с новыми данными\n",
    "new_df.head()"
   ]
  },
  {
   "cell_type": "markdown",
   "metadata": {},
   "source": [
    "### Вывод\n",
    "\n",
    "В результате были добавлены в таблицу:\n",
    "\n",
    "* цена квадратного метра;\n",
    "* день недели, месяц и год публикации объявления;\n",
    "* этаж квартиры; варианты — первый, последний, другой;\n",
    "* соотношение жилой и общей площади, а также отношение площади кухни к общей.\n",
    "\n",
    "Полученные данные помогут более точно провести исследовательский анализ данных и минимизировать погрешности из-за пропуска данных."
   ]
  },
  {
   "cell_type": "markdown",
   "metadata": {},
   "source": [
    "## Исследовательский анализ данных"
   ]
  },
  {
   "cell_type": "markdown",
   "metadata": {},
   "source": [
    "### Изучение площади, цены, числа комнат и высоты потолков"
   ]
  },
  {
   "cell_type": "code",
   "execution_count": 36,
   "metadata": {},
   "outputs": [],
   "source": [
    "# Импорт библиотек для построения гистограмм\n",
    "import matplotlib.pyplot as plt\n",
    "# Функция для параметра, которая строит гистограмму по значениям столбца value\n",
    "# в рамках first_boarder и last_boarder с количеством разбиений number_of_bins\n",
    "def plot_hist(value, number_of_bins, first_boarder, last_boarder ):\n",
    "    graph = new_df[value].hist(range = (first_boarder, last_boarder),bins = number_of_bins)\n",
    "    plt.show()\n",
    "    return new_df[value].describe(), graph"
   ]
  },
  {
   "cell_type": "markdown",
   "metadata": {},
   "source": [
    "<div class=\"alert alert-warning\">\n",
    "<h2> Комментарий от ревьюера<a class=\"tocSkip\"></a></h2>\n",
    "Как я уде писала выше, ты молодец, что стараешься максимально автоматизировать код. В функцию я бы еще добавила параметр с названием графика и подписью осей. Так твои графики станут более понятныыми и наглядными\n",
    "</div>"
   ]
  },
  {
   "cell_type": "code",
   "execution_count": 37,
   "metadata": {},
   "outputs": [
    {
     "data": {
      "image/png": "[encoded data removed]",
      "text/plain": [
       "<Figure size 432x288 with 1 Axes>"
      ]
     },
     "metadata": {
      "needs_background": "light"
     },
     "output_type": "display_data"
    },
    {
     "data": {
      "text/plain": [
       "(count    23699.000000\n",
       " mean        60.348651\n",
       " std         35.654083\n",
       " min         12.000000\n",
       " 25%         40.000000\n",
       " 50%         52.000000\n",
       " 75%         69.900000\n",
       " max        900.000000\n",
       " Name: total_area, dtype: float64,\n",
       " <AxesSubplot:>)"
      ]
     },
     "execution_count": 37,
     "metadata": {},
     "output_type": "execute_result"
    }
   ],
   "source": [
    "# Строим график площади\n",
    "plot_hist('total_area', 100, 10, 200) "
   ]
  },
  {
   "cell_type": "markdown",
   "metadata": {},
   "source": [
    "Хотя средняя площадь объекта недвижимости равна примерно 52 кв.м., имеются пики на 26 и на 45 кв.м. Есть подозриетльные провалы ближе к 50 и 65 кв.м. Возможно, эти площади непопулярны, а может есть проблема в самих данных."
   ]
  },
  {
   "cell_type": "code",
   "execution_count": 38,
   "metadata": {},
   "outputs": [
    {
     "data": {
      "image/png": "[encoded data removed]",
      "text/plain": [
       "<Figure size 432x288 with 1 Axes>"
      ]
     },
     "metadata": {
      "needs_background": "light"
     },
     "output_type": "display_data"
    },
    {
     "data": {
      "text/plain": [
       "(count    2.369900e+04\n",
       " mean     6.541549e+06\n",
       " std      1.088701e+07\n",
       " min      1.219000e+04\n",
       " 25%      3.400000e+06\n",
       " 50%      4.650000e+06\n",
       " 75%      6.800000e+06\n",
       " max      7.630000e+08\n",
       " Name: last_price, dtype: float64,\n",
       " <AxesSubplot:>)"
      ]
     },
     "execution_count": 38,
     "metadata": {},
     "output_type": "execute_result"
    }
   ],
   "source": [
    "# Строим график цены\n",
    "plot_hist('last_price', 100, 0, 20000000)  "
   ]
  },
  {
   "cell_type": "markdown",
   "metadata": {},
   "source": [
    "График цены представляет вид нормального распределения, не наблюдается подозрительных пиков."
   ]
  },
  {
   "cell_type": "code",
   "execution_count": 39,
   "metadata": {},
   "outputs": [
    {
     "data": {
      "image/png": "[encoded data removed]",
      "text/plain": [
       "<Figure size 432x288 with 1 Axes>"
      ]
     },
     "metadata": {
      "needs_background": "light"
     },
     "output_type": "display_data"
    },
    {
     "data": {
      "text/plain": [
       "(count    23699.000000\n",
       " mean         2.070636\n",
       " std          1.078405\n",
       " min          0.000000\n",
       " 25%          1.000000\n",
       " 50%          2.000000\n",
       " 75%          3.000000\n",
       " max         19.000000\n",
       " Name: rooms, dtype: float64,\n",
       " <AxesSubplot:>)"
      ]
     },
     "execution_count": 39,
     "metadata": {},
     "output_type": "execute_result"
    }
   ],
   "source": [
    "# Строим график количества комнат\n",
    "plot_hist('rooms',10, 0, 19)  "
   ]
  },
  {
   "cell_type": "markdown",
   "metadata": {},
   "source": [
    "Для количества комнат график адекватный - большая часть объектов недвижимости лежит от 1 до 3 комнат, однако есть странные значения с количеством комнат, равным 0. Кухня может отсутствовать, но только не комната. Такие значения надо убрать."
   ]
  },
  {
   "cell_type": "code",
   "execution_count": 40,
   "metadata": {},
   "outputs": [
    {
     "data": {
      "image/png": "[encoded data removed]",
      "text/plain": [
       "<Figure size 432x288 with 1 Axes>"
      ]
     },
     "metadata": {
      "needs_background": "light"
     },
     "output_type": "display_data"
    },
    {
     "data": {
      "text/plain": [
       "(count    23699.000000\n",
       " mean         2.735671\n",
       " std          0.994293\n",
       " min          1.000000\n",
       " 25%          2.550000\n",
       " 50%          2.650000\n",
       " 75%          2.750000\n",
       " max        100.000000\n",
       " Name: ceiling_height, dtype: float64,\n",
       " <AxesSubplot:>)"
      ]
     },
     "execution_count": 40,
     "metadata": {},
     "output_type": "execute_result"
    }
   ],
   "source": [
    "# Строим график высоты потолка\n",
    "plot_hist('ceiling_height',10, 2, 5)  "
   ]
  },
  {
   "cell_type": "markdown",
   "metadata": {},
   "source": [
    "Высота потолков лежит в пределах от 2.2 до 3 метров. Это нормальная высота для потолков в жилых и офисных зданиях. Максимальная цена потолка в 100 метров имеет место быть, однако для нашего анализа ее лучше убрать, чтобы она не влияла на средние показатели."
   ]
  },
  {
   "cell_type": "markdown",
   "metadata": {},
   "source": [
    "**Вывод**\n",
    "\n",
    "* Видно, что на гистограмме площади 75% всех значений меньше 70 кв.м., а это значит, что значения больше ~200 являются редкими, а значения в 900 кв.м. выбивающимися.\n",
    "* Гистограмма цены выглядит вполне приемлемо, разве что цена большинства объектов недвижимости (~75%)  меньше 6.800.000 у.е. \n",
    "* На гистограмме количества комнат присутствуют квартиры с нулевым значением. Такого быть не может, поэтому такие значения необходимо удлалить.\n",
    "* Высота потолков тоже не вызывает особых сомнений, за исключением высоты в 100 метров. Такие значения являются редкими, и их можно спокойно убрать, чтобы они не влияли на дальнейшие исследования.\n"
   ]
  },
  {
   "cell_type": "markdown",
   "metadata": {},
   "source": [
    "<div class=\"alert alert-success\">\n",
    "<h2> Комментарий от ревьюера<a class=\"tocSkip\"></a></h2>\n",
    "Да, слишком дорогие квартиры не стоит учитывать. Такая недвижимость относится к элитному классу и заслуживает отдельного исследования.\n",
    " \n",
    "</div>"
   ]
  },
  {
   "cell_type": "markdown",
   "metadata": {},
   "source": [
    "### Изучение времени продажи квартиры"
   ]
  },
  {
   "cell_type": "code",
   "execution_count": 41,
   "metadata": {},
   "outputs": [
    {
     "data": {
      "image/png": "[encoded data removed]",
      "text/plain": [
       "<Figure size 432x288 with 1 Axes>"
      ]
     },
     "metadata": {
      "needs_background": "light"
     },
     "output_type": "display_data"
    },
    {
     "data": {
      "text/plain": [
       "(count    20518.000000\n",
       " mean       180.888634\n",
       " std        219.727988\n",
       " min          1.000000\n",
       " 25%         45.000000\n",
       " 50%         95.000000\n",
       " 75%        232.000000\n",
       " max       1580.000000\n",
       " Name: days_exposition, dtype: float64,\n",
       " <AxesSubplot:>)"
      ]
     },
     "execution_count": 41,
     "metadata": {},
     "output_type": "execute_result"
    }
   ],
   "source": [
    "# Строим график времени продажи квартиры\n",
    "plot_hist('days_exposition', 100, 0, 1580)"
   ]
  },
  {
   "cell_type": "code",
   "execution_count": 42,
   "metadata": {},
   "outputs": [
    {
     "data": {
      "image/png": "[encoded data removed]",
      "text/plain": [
       "<Figure size 432x288 with 1 Axes>"
      ]
     },
     "metadata": {
      "needs_background": "light"
     },
     "output_type": "display_data"
    },
    {
     "data": {
      "text/plain": [
       "(count    20518.000000\n",
       " mean       180.888634\n",
       " std        219.727988\n",
       " min          1.000000\n",
       " 25%         45.000000\n",
       " 50%         95.000000\n",
       " 75%        232.000000\n",
       " max       1580.000000\n",
       " Name: days_exposition, dtype: float64,\n",
       " <AxesSubplot:>)"
      ]
     },
     "execution_count": 42,
     "metadata": {},
     "output_type": "execute_result"
    }
   ],
   "source": [
    "# Поменяем границы\n",
    "plot_hist('days_exposition', 100, 40, 100)"
   ]
  },
  {
   "cell_type": "code",
   "execution_count": 43,
   "metadata": {},
   "outputs": [
    {
     "data": {
      "text/plain": [
       "<AxesSubplot:>"
      ]
     },
     "execution_count": 43,
     "metadata": {},
     "output_type": "execute_result"
    },
    {
     "data": {
      "image/png": "[encoded data removed]",
      "text/plain": [
       "<Figure size 432x288 with 1 Axes>"
      ]
     },
     "metadata": {
      "needs_background": "light"
     },
     "output_type": "display_data"
    }
   ],
   "source": [
    "# Оценим выбросы в колонке 'days_exposition'\n",
    "new_df.boxplot(column = 'days_exposition')"
   ]
  },
  {
   "cell_type": "code",
   "execution_count": 44,
   "metadata": {},
   "outputs": [
    {
     "data": {
      "text/plain": [
       "<AxesSubplot:xlabel='first_day_exposition'>"
      ]
     },
     "execution_count": 44,
     "metadata": {},
     "output_type": "execute_result"
    },
    {
     "data": {
      "image/png": "[encoded data removed]",
      "text/plain": [
       "<Figure size 864x432 with 1 Axes>"
      ]
     },
     "metadata": {
      "needs_background": "light"
     },
     "output_type": "display_data"
    }
   ],
   "source": [
    "# Посмотрим, как зависит день выставления объявления от количества дней, когда объявление было опубликовано\n",
    "new_df.plot(x = 'first_day_exposition', y = 'days_exposition', style = 'o', ylim = (0, 1000), grid = True, figsize = (12, 6))"
   ]
  },
  {
   "cell_type": "markdown",
   "metadata": {},
   "source": [
    "Четко прослеживается, что с начала 2015 по середину 2019 годов количество дней значительно уменьшалось. Однако также наблюдается странный провал в данных - с июля 2016 по января 2017."
   ]
  },
  {
   "cell_type": "code",
   "execution_count": 45,
   "metadata": {},
   "outputs": [
    {
     "data": {
      "text/plain": [
       "0.031056162707287227"
      ]
     },
     "execution_count": 45,
     "metadata": {},
     "output_type": "execute_result"
    }
   ],
   "source": [
    "# Оценим провал данных по отношению ко всему количеству данных\n",
    "len(new_df.query('first_day_exposition >= \"2016-07-01\" & first_day_exposition <= \"2017-01-01\"')) / new_df.shape[0]"
   ]
  },
  {
   "cell_type": "markdown",
   "metadata": {},
   "source": [
    "**Вывод**\n",
    "\n",
    "* Нормальной продажей объекта является период от 45 до 232 дней, согласно диаграмме размаха. Соответсвенно, аномально быстрые продажи будут меньше 45 дней, а медленные - дольше 232 дней. \n",
    "* Среднее значение отличается от медианного в два раза (`среднее` = 180.888634, `медиана` = 95.000000), что означает, что выбивающиеся значения вляют на данные, поэтому необходимо их как-то ограничить.Так как \"усы\" графика начинаются примерно с 500 дней, эти данные можно удалить.\n",
    "* Имеются подозрительные пики на 45, 60 и 90 днях публикации. Их, по условию задачи, будет необходимо удалить.\n",
    "* Также видно, что с начала 2015 по середину 2019 годов количество дней публикации значительно уменьшалось - возможно, интернет есурсы стали со временем пользоваться бОльшей популярностью, поэтому количество дней начало сокращаться. Однако также наблюдается странный провал в данных - с июля 2016 по января 2017. Возможно, были какие-то проблемы на рынке недвижимости либо проблема в самих данных."
   ]
  },
  {
   "cell_type": "markdown",
   "metadata": {},
   "source": [
    "<div class=\"alert alert-success\">\n",
    "<h2> Комментарий от ревьюера<a class=\"tocSkip\"></a></h2>\n",
    "В среднем продажа квартир занимает 2-3 месяца. Если же сделка длилась больше года, то такую продажу можно считать долгой.   \n",
    " \n",
    "</div>"
   ]
  },
  {
   "cell_type": "markdown",
   "metadata": {},
   "source": [
    "### Удаление редких и выбивающихся значений"
   ]
  },
  {
   "cell_type": "code",
   "execution_count": 46,
   "metadata": {},
   "outputs": [
    {
     "data": {
      "image/png": "[encoded data removed]",
      "text/plain": [
       "<Figure size 432x288 with 1 Axes>"
      ]
     },
     "metadata": {
      "needs_background": "light"
     },
     "output_type": "display_data"
    },
    {
     "data": {
      "image/png": "[encoded data removed]",
      "text/plain": [
       "<Figure size 432x288 with 1 Axes>"
      ]
     },
     "metadata": {
      "needs_background": "light"
     },
     "output_type": "display_data"
    },
    {
     "data": {
      "image/png": "[encoded data removed]",
      "text/plain": [
       "<Figure size 432x288 with 1 Axes>"
      ]
     },
     "metadata": {
      "needs_background": "light"
     },
     "output_type": "display_data"
    },
    {
     "data": {
      "image/png": "[encoded data removed]",
      "text/plain": [
       "<Figure size 432x288 with 1 Axes>"
      ]
     },
     "metadata": {
      "needs_background": "light"
     },
     "output_type": "display_data"
    }
   ],
   "source": [
    "# Список исследуемых значений\n",
    "list_of_columns = ['total_area','last_price', 'rooms', 'ceiling_height' ]\n",
    "# Строим диаграммы размаха, чтобы посмотреть\n",
    "for value in list_of_columns:\n",
    "    new_df.boxplot(column = value)\n",
    "    plt.show()"
   ]
  },
  {
   "cell_type": "code",
   "execution_count": 47,
   "metadata": {},
   "outputs": [],
   "source": [
    "# Ограничим площадь 180 кв.м., так как недвижимость бОльшей площади встречается довольно редко\n",
    "new_df = new_df[(new_df['total_area'] <= 180)]\n",
    "# Ограничим цену, так как квартиры стоимостью больше 15000000 составляют менее 1% от всех данных\n",
    "new_df = new_df[(new_df['last_price'] <= 15000000) & (new_df['last_price'] >= 900000)] \n",
    "# Отбросим нулевое количество комнат и количество, больше 6\n",
    "new_df = new_df[(new_df['rooms'] <= 6 ) &(new_df['rooms'] != 0 )]\n",
    "# Удалим потолки меньше 2.3 метра и выше 3\n",
    "new_df = new_df[(new_df['ceiling_height'] >= 2.3 ) & (new_df['ceiling_height'] <= 3 )]\n",
    "# Уберем выбивающиеся значения 45, 60 и 90 дней в днях публикации оъявления\n",
    "new_df = new_df[(~new_df['days_exposition'].isin([45, 60, 90])) ]\n",
    "new_df = new_df[(new_df['days_exposition'] < 800 )]"
   ]
  },
  {
   "cell_type": "markdown",
   "metadata": {},
   "source": [
    "<div class=\"alert alert-success\">\n",
    "<h2> Комментарий от ревьюера<a class=\"tocSkip\"></a></h2>\n",
    "Да, сейчас ты сделала оценку по графикам. Можно пойти другим способом и написать формулу отсечения выбросов. Например, вот <a href='https://ru.wikipedia.org/wiki/%D0%AF%D1%89%D0%B8%D0%BA_%D1%81_%D1%83%D1%81%D0%B0%D0%BC%D0%B8'>здесь</a> есть пример, как можно убрать значения, расположенные выше и ниже усов на графике  \n",
    " \n",
    "</div>"
   ]
  },
  {
   "cell_type": "code",
   "execution_count": 48,
   "metadata": {},
   "outputs": [
    {
     "name": "stdout",
     "output_type": "stream",
     "text": [
      "total_area count    16472.000000\n",
      "mean        53.331265\n",
      "std         19.625038\n",
      "min         12.000000\n",
      "25%         39.000000\n",
      "50%         48.600000\n",
      "75%         63.000000\n",
      "max        178.000000\n",
      "Name: total_area, dtype: float64\n",
      "\n",
      "last_price count    1.647200e+04\n",
      "mean     4.940061e+06\n",
      "std      2.433000e+06\n",
      "min      9.000000e+05\n",
      "25%      3.350000e+06\n",
      "50%      4.370000e+06\n",
      "75%      5.900000e+06\n",
      "max      1.500000e+07\n",
      "Name: last_price, dtype: float64\n",
      "\n",
      "rooms count    16472.000000\n",
      "mean         1.922353\n",
      "std          0.888669\n",
      "min          1.000000\n",
      "25%          1.000000\n",
      "50%          2.000000\n",
      "75%          3.000000\n",
      "max          6.000000\n",
      "Name: rooms, dtype: float64\n",
      "\n",
      "ceiling_height count    16472.000000\n",
      "mean         2.657479\n",
      "std          0.140241\n",
      "min          2.300000\n",
      "25%          2.550000\n",
      "50%          2.600000\n",
      "75%          2.750000\n",
      "max          3.000000\n",
      "Name: ceiling_height, dtype: float64\n",
      "\n",
      "days_exposition count    16472.000000\n",
      "mean       159.839182\n",
      "std        166.008913\n",
      "min          1.000000\n",
      "25%         38.000000\n",
      "50%        100.000000\n",
      "75%        219.000000\n",
      "max        798.000000\n",
      "Name: days_exposition, dtype: float64\n",
      "\n"
     ]
    }
   ],
   "source": [
    "list_of_columns = ['total_area','last_price', 'rooms', 'ceiling_height', 'days_exposition']\n",
    "for value in list_of_columns:\n",
    "    print(value, new_df[value].describe())\n",
    "    print()"
   ]
  },
  {
   "cell_type": "markdown",
   "metadata": {},
   "source": [
    "**Вывод**\n",
    "\n",
    "* Для общей площади площади поставим верхнюю границу в 180 кв.м., так как бОльшей площадью обладает малое количество квартир, и \"усы\" диаграммы размаха с выбивающимися значениями проходят по этой границе.\n",
    "* Цену также нужно ограничить до 15млн, так как больше этой цены выставлено менее 1% объявлений; также ограничим снизу до 900000, так как есть подозрительная недвижимость стоимостью 12000.\n",
    "* Количество комнат было ограничено 6-ю, а также были удалены квартиры с нулевым количеством комнат.\n",
    "* Высота потолка была ограничена медлу 2.3 и 3 метрами, так как это наиболее распространенные высоты, а потолки высотой 1 и 100 метров являются достаточно редкими.\n",
    "* Количество дней, когда объявление было опубликовано, так же было ограничено 800 днями, а также были удалены странные всплески в районе 45, 60 и 90 дней. Теперь среднее немного приблизилось к значению медианы (`среднее` = 159.726761, `медиана` = 100.000000), данные стали точнее. Однако, все равно разница существенная - это говорит о том, что мы не избавились от всех выбивающихся значений.\n"
   ]
  },
  {
   "cell_type": "markdown",
   "metadata": {},
   "source": [
    "### Изучение зависимости цены от параметров"
   ]
  },
  {
   "cell_type": "markdown",
   "metadata": {},
   "source": [
    "Проверим, зависит ли цена от площади, числа комнат, удалённости от центра. "
   ]
  },
  {
   "cell_type": "code",
   "execution_count": 49,
   "metadata": {},
   "outputs": [
    {
     "data": {
      "text/plain": [
       "array([[<AxesSubplot:xlabel='last_price', ylabel='last_price'>,\n",
       "        <AxesSubplot:xlabel='total_area', ylabel='last_price'>,\n",
       "        <AxesSubplot:xlabel='rooms', ylabel='last_price'>,\n",
       "        <AxesSubplot:xlabel='cityCenters_nearest', ylabel='last_price'>],\n",
       "       [<AxesSubplot:xlabel='last_price', ylabel='total_area'>,\n",
       "        <AxesSubplot:xlabel='total_area', ylabel='total_area'>,\n",
       "        <AxesSubplot:xlabel='rooms', ylabel='total_area'>,\n",
       "        <AxesSubplot:xlabel='cityCenters_nearest', ylabel='total_area'>],\n",
       "       [<AxesSubplot:xlabel='last_price', ylabel='rooms'>,\n",
       "        <AxesSubplot:xlabel='total_area', ylabel='rooms'>,\n",
       "        <AxesSubplot:xlabel='rooms', ylabel='rooms'>,\n",
       "        <AxesSubplot:xlabel='cityCenters_nearest', ylabel='rooms'>],\n",
       "       [<AxesSubplot:xlabel='last_price', ylabel='cityCenters_nearest'>,\n",
       "        <AxesSubplot:xlabel='total_area', ylabel='cityCenters_nearest'>,\n",
       "        <AxesSubplot:xlabel='rooms', ylabel='cityCenters_nearest'>,\n",
       "        <AxesSubplot:xlabel='cityCenters_nearest', ylabel='cityCenters_nearest'>]],\n",
       "      dtype=object)"
      ]
     },
     "execution_count": 49,
     "metadata": {},
     "output_type": "execute_result"
    },
    {
     "data": {
      "image/png": "[encoded data removed]",
      "text/plain": [
       "<Figure size 864x864 with 16 Axes>"
      ]
     },
     "metadata": {
      "needs_background": "light"
     },
     "output_type": "display_data"
    }
   ],
   "source": [
    "# Построим матрицу диаграммы рассеяния, чтобы посмотреть сразу же все параметры\n",
    "list_of_columns = ['last_price','total_area','rooms','cityCenters_nearest']\n",
    "pd.plotting.scatter_matrix(new_df[list_of_columns], figsize=(12, 12), alpha = 0.03)"
   ]
  },
  {
   "cell_type": "code",
   "execution_count": 50,
   "metadata": {},
   "outputs": [
    {
     "data": {
      "text/plain": [
       "<AxesSubplot:xlabel='rooms'>"
      ]
     },
     "execution_count": 50,
     "metadata": {},
     "output_type": "execute_result"
    },
    {
     "data": {
      "image/png": "[encoded data removed]",
      "text/plain": [
       "<Figure size 432x288 with 1 Axes>"
      ]
     },
     "metadata": {
      "needs_background": "light"
     },
     "output_type": "display_data"
    }
   ],
   "source": [
    "# Сгруппируем данные количества комнат по цене квадратного метра\n",
    "pivot_table_df = new_df.pivot_table(index = 'rooms', values = 'price_per_square_metre',aggfunc = 'median')\n",
    "pivot_table_df.plot()"
   ]
  },
  {
   "cell_type": "code",
   "execution_count": 51,
   "metadata": {},
   "outputs": [
    {
     "name": "stdout",
     "output_type": "stream",
     "text": [
      "last_price 1.0\n",
      "total_area 0.7411706109332535\n",
      "rooms 0.47080927358034924\n",
      "cityCenters_nearest -0.32562101469663396\n"
     ]
    }
   ],
   "source": [
    "# Посчитаем корреляцию для этих параметров\n",
    "for value in list_of_columns:\n",
    "    print(value, new_df['last_price'].corr(new_df[value]))"
   ]
  },
  {
   "cell_type": "markdown",
   "metadata": {},
   "source": [
    "**Вывод**\n",
    "\n",
    "Из графика и коэффициента корреляции видно, что:\n",
    "- чем больше площадь, тем больше цена объекта;\n",
    "- самые распространенные однушки, двушки и трешки. Чем больше комнат (до 3-ех), тем выше цена. Однако, цена квадратного метра с увеличением количества комнат падает;\n",
    "- чем дальше от центра, тем квартира дешевле,  и больше всего квартир представлено в диапазоне от 10 до 20 км от центра."
   ]
  },
  {
   "cell_type": "markdown",
   "metadata": {},
   "source": [
    "<div class=\"alert alert-success\">\n",
    "<h2> Комментарий от ревьюера<a class=\"tocSkip\"></a></h2>\n",
    "Вполне логичный вовод. Цена квартиры зависит от ее площади. А вот количество комнат играет явно не решающую роль в образовании цены\n",
    "</div>"
   ]
  },
  {
   "cell_type": "markdown",
   "metadata": {},
   "source": [
    "Изучим зависимость цены от того, на каком этаже расположена квартира: первом, последнем или другом. "
   ]
  },
  {
   "cell_type": "code",
   "execution_count": 52,
   "metadata": {},
   "outputs": [
    {
     "data": {
      "text/plain": [
       "<AxesSubplot:xlabel='flat_floor'>"
      ]
     },
     "execution_count": 52,
     "metadata": {},
     "output_type": "execute_result"
    },
    {
     "data": {
      "image/png": "[encoded data removed]",
      "text/plain": [
       "<Figure size 432x288 with 1 Axes>"
      ]
     },
     "metadata": {
      "needs_background": "light"
     },
     "output_type": "display_data"
    }
   ],
   "source": [
    "# Сгруппируем данные по этажам\n",
    "pivot_table_df = new_df.pivot_table(index = 'flat_floor', values = 'last_price',aggfunc = 'median')\n",
    "pivot_table_df.plot()"
   ]
  },
  {
   "cell_type": "markdown",
   "metadata": {},
   "source": [
    "На первом этаже самые дешевые квартиры, самые дорогие - на другом."
   ]
  },
  {
   "cell_type": "markdown",
   "metadata": {},
   "source": [
    "<div class=\"alert alert-success\">\n",
    "<h2> Комментарий от ревьюера<a class=\"tocSkip\"></a></h2>\n",
    "Кваритры на первом этаже стоят дешевле всего, причем вне зависимости от месторасположения7\n",
    "</div>"
   ]
  },
  {
   "cell_type": "markdown",
   "metadata": {},
   "source": [
    "Изучим зависимость от даты размещения: дня недели, месяца и года."
   ]
  },
  {
   "cell_type": "code",
   "execution_count": 53,
   "metadata": {},
   "outputs": [
    {
     "data": {
      "text/plain": [
       "<AxesSubplot:xlabel='day_of_exposition'>"
      ]
     },
     "execution_count": 53,
     "metadata": {},
     "output_type": "execute_result"
    },
    {
     "data": {
      "image/png": "[encoded data removed]",
      "text/plain": [
       "<Figure size 432x288 with 1 Axes>"
      ]
     },
     "metadata": {
      "needs_background": "light"
     },
     "output_type": "display_data"
    }
   ],
   "source": [
    "# Сгруппируем данные по дням недели\n",
    "pivot_table_df = new_df.pivot_table(index = 'day_of_exposition', values = 'last_price',aggfunc = 'median')\n",
    "pivot_table_df.plot()"
   ]
  },
  {
   "cell_type": "markdown",
   "metadata": {},
   "source": [
    "Похоже, самые дешевые квартиры продаются по пятницам, а самые дорогие по вторникам, средам, четвергам и субботам."
   ]
  },
  {
   "cell_type": "code",
   "execution_count": 54,
   "metadata": {},
   "outputs": [
    {
     "data": {
      "text/plain": [
       "<AxesSubplot:xlabel='month_of_exposition'>"
      ]
     },
     "execution_count": 54,
     "metadata": {},
     "output_type": "execute_result"
    },
    {
     "data": {
      "image/png": "[encoded data removed]",
      "text/plain": [
       "<Figure size 432x288 with 1 Axes>"
      ]
     },
     "metadata": {
      "needs_background": "light"
     },
     "output_type": "display_data"
    }
   ],
   "source": [
    "# Сгруппируем данные по месяцам\n",
    "pivot_table_df = new_df.pivot_table(index = 'month_of_exposition', values = 'last_price',aggfunc = 'median')\n",
    "pivot_table_df.plot()"
   ]
  },
  {
   "cell_type": "markdown",
   "metadata": {},
   "source": [
    "По графику видно, что самые дорогие квартиры продаются в начале года и ближе к концу осени, а самые дешевые в середине года."
   ]
  },
  {
   "cell_type": "code",
   "execution_count": 55,
   "metadata": {},
   "outputs": [
    {
     "data": {
      "text/plain": [
       "<AxesSubplot:xlabel='year_of_exposition'>"
      ]
     },
     "execution_count": 55,
     "metadata": {},
     "output_type": "execute_result"
    },
    {
     "data": {
      "image/png": "[encoded data removed]",
      "text/plain": [
       "<Figure size 432x288 with 1 Axes>"
      ]
     },
     "metadata": {
      "needs_background": "light"
     },
     "output_type": "display_data"
    }
   ],
   "source": [
    "# Сгруппируем данные по годам\n",
    "pivot_table_df = new_df.pivot_table(index = 'year_of_exposition', values = 'last_price',aggfunc = 'median')\n",
    "pivot_table_df.plot()"
   ]
  },
  {
   "cell_type": "markdown",
   "metadata": {},
   "source": [
    "С 2014 по 2016 рынок значительно упал в цене, однако после этого начал понемногу расти."
   ]
  },
  {
   "cell_type": "markdown",
   "metadata": {},
   "source": [
    "<div class=\"alert alert-success\">\n",
    "<h2> Комментарий от ревьюера<a class=\"tocSkip\"></a></h2>\n",
    "Ни день недели, ни месяц не влияют на стоимость жилья. Цена изменяется в пределах погрешности.\n",
    "</div>"
   ]
  },
  {
   "cell_type": "markdown",
   "metadata": {},
   "source": [
    "**Вывод**\n",
    "\n",
    "* На первом этаже самые дешевые квартиры - это и понятно: на первых этажах обычно распологаются различные магазины и салоны, в таком окружении жить мало приятного, поэтому многие предпочитают жить повыше. Однако, не на последнем, так как \"другой\" этаж стоит дороже всего. Это также может быть связано с тем, что на более высоких этажах напор воды в трубах может быть меньше, если сломается лифт, придется топать очень высоко, однако вид наверняка открывается прекрасный. \n",
    "* Самые дорогие квартиры продают в начале и конце года - возможно, в это время самый пик продаж - лди стремятся начать жизн с нового листа, либо получают годовую премию и начинают покупать квартиры. Спрос рождает предложение, и цена может меняться в большую сторону. В середине года затишье, всев отпусках, тут не до квартир.\n",
    "* Пережив пик цен в 2014, рынок недвижимости сбавил обороты к 2016 - возможно, сказался мировой кризис 2014 года. Однако после этого цена начала потихоньку увеличиваться и, без сомнений, на настоящий момент вполне могла побить рекорд 2014 года."
   ]
  },
  {
   "cell_type": "markdown",
   "metadata": {},
   "source": [
    "### Подсчет средней цены квадратного метра в 10-ти населённых пунктах с наибольшим числом объявлений. "
   ]
  },
  {
   "cell_type": "code",
   "execution_count": 56,
   "metadata": {},
   "outputs": [
    {
     "data": {
      "text/plain": [
       "Saint Petersburg       10767\n",
       "посёлок Мурино           444\n",
       "Shushary settlement      360\n",
       "Всеволожск               292\n",
       "Колпино                  266\n",
       "Пушкин                   260\n",
       "посёлок Парголово        257\n",
       "Kudrovo village          245\n",
       "Гатчина                  230\n",
       "Выборг                   163\n",
       "Name: locality_name, dtype: int64"
      ]
     },
     "execution_count": 56,
     "metadata": {},
     "output_type": "execute_result"
    }
   ],
   "source": [
    "# Выберем 10 населенных пунктов с самым большим количеством объявлений\n",
    "new_df['locality_name'].value_counts().head(10)"
   ]
  },
  {
   "cell_type": "code",
   "execution_count": 57,
   "metadata": {},
   "outputs": [
    {
     "data": {
      "text/plain": [
       "477"
      ]
     },
     "execution_count": 57,
     "metadata": {},
     "output_type": "execute_result"
    }
   ],
   "source": [
    "new_df[new_df['locality_name'].str.contains('Мурино')].shape[0]"
   ]
  },
  {
   "cell_type": "markdown",
   "metadata": {},
   "source": [
    "Видно, что десятку наиболее популярных населенных пунктов возглавляет Санкт-Петербург. Однако, есть вероятность, что в списке подсчитаны не все населенные пункты, так как один и тот же пункт мог быть записан как поселок городского типа, либо просто как поселок. Поэтому посчитаем сами названия."
   ]
  },
  {
   "cell_type": "code",
   "execution_count": 58,
   "metadata": {},
   "outputs": [
    {
     "data": {
      "text/plain": [
       "Saint Petersburg    10767\n",
       "Мурино                477\n",
       "Shushary              360\n",
       "Всеволожск            292\n",
       "Колпино               266\n",
       "Пушкин                260\n",
       "Парголово             257\n",
       "Kudrovo               245\n",
       "Гатчина               230\n",
       "Выборг                163\n",
       "Name: new_names, dtype: int64"
      ]
     },
     "execution_count": 58,
     "metadata": {},
     "output_type": "execute_result"
    }
   ],
   "source": [
    "# Создаем отдельный список, куда впишем названия всех населенных пунктов\n",
    "list_of_names = []\n",
    "# Добавляем в список пункты из столбца 'locality_name'\n",
    "list_of_names = new_df['locality_name'].tolist()\n",
    "# Отделим от названий все лишние слова, начинающиеся с маленькой буквы и выведем новый список\n",
    "new_df.loc[:,'new_names'] = [' '.join(w for w in a.split() if w.lower() != w)  for a in list_of_names]\n",
    "new_df['new_names'].value_counts().head(10)"
   ]
  },
  {
   "cell_type": "markdown",
   "metadata": {},
   "source": [
    "Видно, в Кудрово оказалось больше объявлений, чем в Шушарах."
   ]
  },
  {
   "cell_type": "code",
   "execution_count": 59,
   "metadata": {},
   "outputs": [
    {
     "data": {
      "text/html": [
       "<div>\n",
       "<style scoped>\n",
       "    .dataframe tbody tr th:only-of-type {\n",
       "        vertical-align: middle;\n",
       "    }\n",
       "\n",
       "    .dataframe tbody tr th {\n",
       "        vertical-align: top;\n",
       "    }\n",
       "\n",
       "    .dataframe thead th {\n",
       "        text-align: right;\n",
       "    }\n",
       "</style>\n",
       "<table border=\"1\" class=\"dataframe\">\n",
       "  <thead>\n",
       "    <tr style=\"text-align: right;\">\n",
       "      <th></th>\n",
       "      <th>count</th>\n",
       "      <th>price_per_square_metre</th>\n",
       "    </tr>\n",
       "    <tr>\n",
       "      <th>new_names</th>\n",
       "      <th></th>\n",
       "      <th></th>\n",
       "    </tr>\n",
       "  </thead>\n",
       "  <tbody>\n",
       "    <tr>\n",
       "      <th>Saint Petersburg</th>\n",
       "      <td>10767</td>\n",
       "      <td>101333.333333</td>\n",
       "    </tr>\n",
       "    <tr>\n",
       "      <th>Мурино</th>\n",
       "      <td>477</td>\n",
       "      <td>84239.130435</td>\n",
       "    </tr>\n",
       "    <tr>\n",
       "      <th>Shushary</th>\n",
       "      <td>360</td>\n",
       "      <td>75933.553427</td>\n",
       "    </tr>\n",
       "    <tr>\n",
       "      <th>Всеволожск</th>\n",
       "      <td>292</td>\n",
       "      <td>65054.507353</td>\n",
       "    </tr>\n",
       "    <tr>\n",
       "      <th>Колпино</th>\n",
       "      <td>266</td>\n",
       "      <td>74256.465517</td>\n",
       "    </tr>\n",
       "    <tr>\n",
       "      <th>Пушкин</th>\n",
       "      <td>260</td>\n",
       "      <td>97478.813559</td>\n",
       "    </tr>\n",
       "    <tr>\n",
       "      <th>Парголово</th>\n",
       "      <td>257</td>\n",
       "      <td>92051.282051</td>\n",
       "    </tr>\n",
       "    <tr>\n",
       "      <th>Kudrovo</th>\n",
       "      <td>245</td>\n",
       "      <td>91410.330818</td>\n",
       "    </tr>\n",
       "    <tr>\n",
       "      <th>Гатчина</th>\n",
       "      <td>230</td>\n",
       "      <td>66869.918699</td>\n",
       "    </tr>\n",
       "    <tr>\n",
       "      <th>Выборг</th>\n",
       "      <td>163</td>\n",
       "      <td>56818.181818</td>\n",
       "    </tr>\n",
       "  </tbody>\n",
       "</table>\n",
       "</div>"
      ],
      "text/plain": [
       "                  count  price_per_square_metre\n",
       "new_names                                      \n",
       "Saint Petersburg  10767           101333.333333\n",
       "Мурино              477            84239.130435\n",
       "Shushary            360            75933.553427\n",
       "Всеволожск          292            65054.507353\n",
       "Колпино             266            74256.465517\n",
       "Пушкин              260            97478.813559\n",
       "Парголово           257            92051.282051\n",
       "Kudrovo             245            91410.330818\n",
       "Гатчина             230            66869.918699\n",
       "Выборг              163            56818.181818"
      ]
     },
     "execution_count": 59,
     "metadata": {},
     "output_type": "execute_result"
    }
   ],
   "source": [
    "# Посчитаем среднюю цену квадратного метра в этих населенных пунктах\n",
    "new_pivot = new_df.pivot_table(index = 'new_names', values = 'price_per_square_metre', aggfunc = ['count','median'])\n",
    "new_pivot.columns = ['count', 'price_per_square_metre']\n",
    "new_pivot.sort_values(by = 'count', ascending = False).head(10)"
   ]
  },
  {
   "cell_type": "markdown",
   "metadata": {},
   "source": [
    "<div class=\"alert alert-success\">\n",
    "<h2> Комментарий от ревьюера<a class=\"tocSkip\"></a></h2>\n",
    "Да, Выборг замыкает эту 10-ку)\n",
    "</div>"
   ]
  },
  {
   "cell_type": "code",
   "execution_count": 60,
   "metadata": {},
   "outputs": [
    {
     "data": {
      "text/plain": [
       "total_images                               10\n",
       "last_price                           15000000\n",
       "total_area                               95.0\n",
       "first_day_exposition      2017-06-27 00:00:00\n",
       "rooms                                       3\n",
       "ceiling_height                           2.75\n",
       "floors_total                               20\n",
       "living_area                              53.0\n",
       "floor                                       1\n",
       "is_apartment                                 \n",
       "studio                                  False\n",
       "open_plan                               False\n",
       "kitchen_area                             16.0\n",
       "balcony                                     0\n",
       "locality_name                Saint Petersburg\n",
       "airports_nearest                      40417.0\n",
       "cityCenters_nearest                   12120.0\n",
       "parks_around3000                          2.0\n",
       "parks_nearest                           159.0\n",
       "ponds_around3000                          0.0\n",
       "ponds_nearest                           503.0\n",
       "days_exposition                            49\n",
       "price_per_square_metre          157894.736842\n",
       "day_of_exposition                           1\n",
       "month_of_exposition                         6\n",
       "year_of_exposition                       2017\n",
       "flat_floor                             первый\n",
       "living_to_total_area                 0.557895\n",
       "kitchen_to_total_area                0.168421\n",
       "new_names                    Saint Petersburg\n",
       "Name: 4327, dtype: object"
      ]
     },
     "execution_count": 60,
     "metadata": {},
     "output_type": "execute_result"
    }
   ],
   "source": [
    "# Находим населенный пункт с самой высокой стоимостью жилья\n",
    "new_df.loc[new_df['last_price'].idxmax()]"
   ]
  },
  {
   "cell_type": "code",
   "execution_count": 61,
   "metadata": {},
   "outputs": [
    {
     "data": {
      "text/plain": [
       "total_images                                2\n",
       "last_price                             900000\n",
       "total_area                               42.8\n",
       "first_day_exposition      2017-06-14 00:00:00\n",
       "rooms                                       2\n",
       "ceiling_height                           2.55\n",
       "floors_total                                5\n",
       "living_area                              32.0\n",
       "floor                                       5\n",
       "is_apartment                                 \n",
       "studio                                  False\n",
       "open_plan                               False\n",
       "kitchen_area                              5.0\n",
       "balcony                                     0\n",
       "locality_name                       Сясьстрой\n",
       "airports_nearest                          NaN\n",
       "cityCenters_nearest                       NaN\n",
       "parks_around3000                          NaN\n",
       "parks_nearest                             NaN\n",
       "ponds_around3000                          NaN\n",
       "ponds_nearest                             NaN\n",
       "days_exposition                           247\n",
       "price_per_square_metre           21028.037383\n",
       "day_of_exposition                           2\n",
       "month_of_exposition                         6\n",
       "year_of_exposition                       2017\n",
       "flat_floor                          последний\n",
       "living_to_total_area                 0.747664\n",
       "kitchen_to_total_area                0.116822\n",
       "new_names                           Сясьстрой\n",
       "Name: 293, dtype: object"
      ]
     },
     "execution_count": 61,
     "metadata": {},
     "output_type": "execute_result"
    }
   ],
   "source": [
    "# Находим населенный пункт с самой низкой стоимостью жилья\n",
    "new_df.loc[new_df['last_price'].idxmin()]"
   ]
  },
  {
   "cell_type": "markdown",
   "metadata": {},
   "source": [
    "**Вывод**\n",
    "\n",
    "В десятке самых популярных объявлений первое место занимает Санкт-Петербург как центр Ленинградской области, десятку замыкает Выборг. \n",
    "Так же в Санкт-Петербурге находится самое дорогое жилье, а выгоднее всего брать недвижимость в Сясьстрое - всего лишь 144 км от Питера."
   ]
  },
  {
   "cell_type": "markdown",
   "metadata": {},
   "source": [
    "### Нахождение область, входящей в центр"
   ]
  },
  {
   "cell_type": "code",
   "execution_count": 62,
   "metadata": {},
   "outputs": [
    {
     "data": {
      "text/plain": [
       "<AxesSubplot:xlabel='cityCenters_km'>"
      ]
     },
     "execution_count": 62,
     "metadata": {},
     "output_type": "execute_result"
    },
    {
     "data": {
      "image/png": "[encoded data removed]",
      "text/plain": [
       "<Figure size 360x360 with 1 Axes>"
      ]
     },
     "metadata": {
      "needs_background": "light"
     },
     "output_type": "display_data"
    }
   ],
   "source": [
    "# Округлим расстояние до центра в километры и запишем в новый столбец 'cityCenters_km'\n",
    "new_df['cityCenters_km'] = round(new_df['cityCenters_nearest'] / 1000)\n",
    "# Сгруппируем по расстоянию до центра\n",
    "pivot_km = new_df.pivot_table(index='cityCenters_km', values= 'last_price', aggfunc='median')\n",
    "pivot_km.plot(figsize=(5,5))"
   ]
  },
  {
   "cell_type": "markdown",
   "metadata": {},
   "source": [
    "**Вывод**\n",
    "\n",
    "График растет примерно до 3 км, а потом начинает резко падать. Выберем этот диапазон как границы центра Санкт-Петербурга."
   ]
  },
  {
   "cell_type": "markdown",
   "metadata": {},
   "source": [
    "<div class=\"alert alert-success\">\n",
    "<h2> Комментарий от ревьюера<a class=\"tocSkip\"></a></h2>\n",
    "Как думаешь, с чем связаны выбросы после 40 км?\n",
    "</div>"
   ]
  },
  {
   "cell_type": "markdown",
   "metadata": {},
   "source": [
    "### Анализ сегмента квартир в центре"
   ]
  },
  {
   "cell_type": "markdown",
   "metadata": {},
   "source": [
    "Для начала, изучим такие параметры как: площадь, цена, число комнат, высота потолков."
   ]
  },
  {
   "cell_type": "code",
   "execution_count": 63,
   "metadata": {},
   "outputs": [
    {
     "data": {
      "text/html": [
       "<div>\n",
       "<style scoped>\n",
       "    .dataframe tbody tr th:only-of-type {\n",
       "        vertical-align: middle;\n",
       "    }\n",
       "\n",
       "    .dataframe tbody tr th {\n",
       "        vertical-align: top;\n",
       "    }\n",
       "\n",
       "    .dataframe thead th {\n",
       "        text-align: right;\n",
       "    }\n",
       "</style>\n",
       "<table border=\"1\" class=\"dataframe\">\n",
       "  <thead>\n",
       "    <tr style=\"text-align: right;\">\n",
       "      <th></th>\n",
       "      <th>total_images</th>\n",
       "      <th>last_price</th>\n",
       "      <th>total_area</th>\n",
       "      <th>first_day_exposition</th>\n",
       "      <th>rooms</th>\n",
       "      <th>ceiling_height</th>\n",
       "      <th>floors_total</th>\n",
       "      <th>living_area</th>\n",
       "      <th>floor</th>\n",
       "      <th>is_apartment</th>\n",
       "      <th>...</th>\n",
       "      <th>days_exposition</th>\n",
       "      <th>price_per_square_metre</th>\n",
       "      <th>day_of_exposition</th>\n",
       "      <th>month_of_exposition</th>\n",
       "      <th>year_of_exposition</th>\n",
       "      <th>flat_floor</th>\n",
       "      <th>living_to_total_area</th>\n",
       "      <th>kitchen_to_total_area</th>\n",
       "      <th>new_names</th>\n",
       "      <th>cityCenters_km</th>\n",
       "    </tr>\n",
       "  </thead>\n",
       "  <tbody>\n",
       "    <tr>\n",
       "      <th>24</th>\n",
       "      <td>8</td>\n",
       "      <td>6500000</td>\n",
       "      <td>97.2</td>\n",
       "      <td>2015-10-31</td>\n",
       "      <td>2</td>\n",
       "      <td>2.80</td>\n",
       "      <td>3</td>\n",
       "      <td>46.500000</td>\n",
       "      <td>1</td>\n",
       "      <td></td>\n",
       "      <td>...</td>\n",
       "      <td>265</td>\n",
       "      <td>66872.427984</td>\n",
       "      <td>5</td>\n",
       "      <td>10</td>\n",
       "      <td>2015</td>\n",
       "      <td>первый</td>\n",
       "      <td>0.478395</td>\n",
       "      <td>0.201646</td>\n",
       "      <td>Saint Petersburg</td>\n",
       "      <td>2.0</td>\n",
       "    </tr>\n",
       "    <tr>\n",
       "      <th>433</th>\n",
       "      <td>15</td>\n",
       "      <td>6800000</td>\n",
       "      <td>57.8</td>\n",
       "      <td>2017-04-28</td>\n",
       "      <td>3</td>\n",
       "      <td>2.80</td>\n",
       "      <td>5</td>\n",
       "      <td>33.700000</td>\n",
       "      <td>4</td>\n",
       "      <td></td>\n",
       "      <td>...</td>\n",
       "      <td>402</td>\n",
       "      <td>117647.058824</td>\n",
       "      <td>4</td>\n",
       "      <td>4</td>\n",
       "      <td>2017</td>\n",
       "      <td>другой</td>\n",
       "      <td>0.583045</td>\n",
       "      <td>0.167820</td>\n",
       "      <td>Saint Petersburg</td>\n",
       "      <td>1.0</td>\n",
       "    </tr>\n",
       "    <tr>\n",
       "      <th>502</th>\n",
       "      <td>0</td>\n",
       "      <td>11250000</td>\n",
       "      <td>71.0</td>\n",
       "      <td>2017-01-26</td>\n",
       "      <td>2</td>\n",
       "      <td>2.80</td>\n",
       "      <td>3</td>\n",
       "      <td>43.000000</td>\n",
       "      <td>3</td>\n",
       "      <td></td>\n",
       "      <td>...</td>\n",
       "      <td>35</td>\n",
       "      <td>158450.704225</td>\n",
       "      <td>3</td>\n",
       "      <td>1</td>\n",
       "      <td>2017</td>\n",
       "      <td>последний</td>\n",
       "      <td>0.605634</td>\n",
       "      <td>0.112676</td>\n",
       "      <td>Saint Petersburg</td>\n",
       "      <td>1.0</td>\n",
       "    </tr>\n",
       "    <tr>\n",
       "      <th>555</th>\n",
       "      <td>13</td>\n",
       "      <td>7680000</td>\n",
       "      <td>83.1</td>\n",
       "      <td>2017-05-13</td>\n",
       "      <td>3</td>\n",
       "      <td>2.80</td>\n",
       "      <td>3</td>\n",
       "      <td>50.900000</td>\n",
       "      <td>3</td>\n",
       "      <td></td>\n",
       "      <td>...</td>\n",
       "      <td>228</td>\n",
       "      <td>92418.772563</td>\n",
       "      <td>5</td>\n",
       "      <td>5</td>\n",
       "      <td>2017</td>\n",
       "      <td>последний</td>\n",
       "      <td>0.612515</td>\n",
       "      <td>0.123947</td>\n",
       "      <td>Saint Petersburg</td>\n",
       "      <td>2.0</td>\n",
       "    </tr>\n",
       "    <tr>\n",
       "      <th>872</th>\n",
       "      <td>10</td>\n",
       "      <td>8200000</td>\n",
       "      <td>64.0</td>\n",
       "      <td>2017-06-02</td>\n",
       "      <td>2</td>\n",
       "      <td>2.70</td>\n",
       "      <td>2</td>\n",
       "      <td>39.000000</td>\n",
       "      <td>2</td>\n",
       "      <td></td>\n",
       "      <td>...</td>\n",
       "      <td>160</td>\n",
       "      <td>128125.000000</td>\n",
       "      <td>4</td>\n",
       "      <td>6</td>\n",
       "      <td>2017</td>\n",
       "      <td>последний</td>\n",
       "      <td>0.609375</td>\n",
       "      <td>0.156250</td>\n",
       "      <td>Saint Petersburg</td>\n",
       "      <td>2.0</td>\n",
       "    </tr>\n",
       "    <tr>\n",
       "      <th>...</th>\n",
       "      <td>...</td>\n",
       "      <td>...</td>\n",
       "      <td>...</td>\n",
       "      <td>...</td>\n",
       "      <td>...</td>\n",
       "      <td>...</td>\n",
       "      <td>...</td>\n",
       "      <td>...</td>\n",
       "      <td>...</td>\n",
       "      <td>...</td>\n",
       "      <td>...</td>\n",
       "      <td>...</td>\n",
       "      <td>...</td>\n",
       "      <td>...</td>\n",
       "      <td>...</td>\n",
       "      <td>...</td>\n",
       "      <td>...</td>\n",
       "      <td>...</td>\n",
       "      <td>...</td>\n",
       "      <td>...</td>\n",
       "      <td>...</td>\n",
       "    </tr>\n",
       "    <tr>\n",
       "      <th>22414</th>\n",
       "      <td>4</td>\n",
       "      <td>8280000</td>\n",
       "      <td>97.0</td>\n",
       "      <td>2016-12-04</td>\n",
       "      <td>3</td>\n",
       "      <td>2.80</td>\n",
       "      <td>3</td>\n",
       "      <td>65.000000</td>\n",
       "      <td>2</td>\n",
       "      <td></td>\n",
       "      <td>...</td>\n",
       "      <td>208</td>\n",
       "      <td>85360.824742</td>\n",
       "      <td>6</td>\n",
       "      <td>12</td>\n",
       "      <td>2016</td>\n",
       "      <td>другой</td>\n",
       "      <td>0.670103</td>\n",
       "      <td>0.092784</td>\n",
       "      <td>Saint Petersburg</td>\n",
       "      <td>2.0</td>\n",
       "    </tr>\n",
       "    <tr>\n",
       "      <th>22533</th>\n",
       "      <td>11</td>\n",
       "      <td>9000000</td>\n",
       "      <td>69.5</td>\n",
       "      <td>2017-06-27</td>\n",
       "      <td>4</td>\n",
       "      <td>2.70</td>\n",
       "      <td>4</td>\n",
       "      <td>50.300000</td>\n",
       "      <td>4</td>\n",
       "      <td></td>\n",
       "      <td>...</td>\n",
       "      <td>21</td>\n",
       "      <td>129496.402878</td>\n",
       "      <td>1</td>\n",
       "      <td>6</td>\n",
       "      <td>2017</td>\n",
       "      <td>последний</td>\n",
       "      <td>0.723741</td>\n",
       "      <td>0.086331</td>\n",
       "      <td>Saint Petersburg</td>\n",
       "      <td>1.0</td>\n",
       "    </tr>\n",
       "    <tr>\n",
       "      <th>22968</th>\n",
       "      <td>7</td>\n",
       "      <td>6700000</td>\n",
       "      <td>54.0</td>\n",
       "      <td>2017-11-08</td>\n",
       "      <td>3</td>\n",
       "      <td>2.80</td>\n",
       "      <td>3</td>\n",
       "      <td>36.000000</td>\n",
       "      <td>2</td>\n",
       "      <td></td>\n",
       "      <td>...</td>\n",
       "      <td>210</td>\n",
       "      <td>124074.074074</td>\n",
       "      <td>2</td>\n",
       "      <td>11</td>\n",
       "      <td>2017</td>\n",
       "      <td>другой</td>\n",
       "      <td>0.666667</td>\n",
       "      <td>0.185185</td>\n",
       "      <td>Saint Petersburg</td>\n",
       "      <td>2.0</td>\n",
       "    </tr>\n",
       "    <tr>\n",
       "      <th>23077</th>\n",
       "      <td>10</td>\n",
       "      <td>12500000</td>\n",
       "      <td>107.0</td>\n",
       "      <td>2017-09-25</td>\n",
       "      <td>4</td>\n",
       "      <td>2.55</td>\n",
       "      <td>5</td>\n",
       "      <td>68.531722</td>\n",
       "      <td>4</td>\n",
       "      <td></td>\n",
       "      <td>...</td>\n",
       "      <td>229</td>\n",
       "      <td>116822.429907</td>\n",
       "      <td>0</td>\n",
       "      <td>9</td>\n",
       "      <td>2017</td>\n",
       "      <td>другой</td>\n",
       "      <td>0.640483</td>\n",
       "      <td>0.111782</td>\n",
       "      <td>Saint Petersburg</td>\n",
       "      <td>2.0</td>\n",
       "    </tr>\n",
       "    <tr>\n",
       "      <th>23602</th>\n",
       "      <td>0</td>\n",
       "      <td>8700000</td>\n",
       "      <td>73.0</td>\n",
       "      <td>2019-01-23</td>\n",
       "      <td>3</td>\n",
       "      <td>2.65</td>\n",
       "      <td>4</td>\n",
       "      <td>45.000000</td>\n",
       "      <td>4</td>\n",
       "      <td></td>\n",
       "      <td>...</td>\n",
       "      <td>34</td>\n",
       "      <td>119178.082192</td>\n",
       "      <td>2</td>\n",
       "      <td>1</td>\n",
       "      <td>2019</td>\n",
       "      <td>последний</td>\n",
       "      <td>0.616438</td>\n",
       "      <td>0.130137</td>\n",
       "      <td>Saint Petersburg</td>\n",
       "      <td>2.0</td>\n",
       "    </tr>\n",
       "  </tbody>\n",
       "</table>\n",
       "<p>166 rows × 31 columns</p>\n",
       "</div>"
      ],
      "text/plain": [
       "       total_images  last_price  total_area first_day_exposition  rooms  \\\n",
       "24                8     6500000        97.2           2015-10-31      2   \n",
       "433              15     6800000        57.8           2017-04-28      3   \n",
       "502               0    11250000        71.0           2017-01-26      2   \n",
       "555              13     7680000        83.1           2017-05-13      3   \n",
       "872              10     8200000        64.0           2017-06-02      2   \n",
       "...             ...         ...         ...                  ...    ...   \n",
       "22414             4     8280000        97.0           2016-12-04      3   \n",
       "22533            11     9000000        69.5           2017-06-27      4   \n",
       "22968             7     6700000        54.0           2017-11-08      3   \n",
       "23077            10    12500000       107.0           2017-09-25      4   \n",
       "23602             0     8700000        73.0           2019-01-23      3   \n",
       "\n",
       "       ceiling_height  floors_total  living_area  floor is_apartment  ...  \\\n",
       "24               2.80             3    46.500000      1               ...   \n",
       "433              2.80             5    33.700000      4               ...   \n",
       "502              2.80             3    43.000000      3               ...   \n",
       "555              2.80             3    50.900000      3               ...   \n",
       "872              2.70             2    39.000000      2               ...   \n",
       "...               ...           ...          ...    ...          ...  ...   \n",
       "22414            2.80             3    65.000000      2               ...   \n",
       "22533            2.70             4    50.300000      4               ...   \n",
       "22968            2.80             3    36.000000      2               ...   \n",
       "23077            2.55             5    68.531722      4               ...   \n",
       "23602            2.65             4    45.000000      4               ...   \n",
       "\n",
       "       days_exposition  price_per_square_metre  day_of_exposition  \\\n",
       "24                 265            66872.427984                  5   \n",
       "433                402           117647.058824                  4   \n",
       "502                 35           158450.704225                  3   \n",
       "555                228            92418.772563                  5   \n",
       "872                160           128125.000000                  4   \n",
       "...                ...                     ...                ...   \n",
       "22414              208            85360.824742                  6   \n",
       "22533               21           129496.402878                  1   \n",
       "22968              210           124074.074074                  2   \n",
       "23077              229           116822.429907                  0   \n",
       "23602               34           119178.082192                  2   \n",
       "\n",
       "       month_of_exposition year_of_exposition  flat_floor  \\\n",
       "24                      10               2015      первый   \n",
       "433                      4               2017      другой   \n",
       "502                      1               2017   последний   \n",
       "555                      5               2017   последний   \n",
       "872                      6               2017   последний   \n",
       "...                    ...                ...         ...   \n",
       "22414                   12               2016      другой   \n",
       "22533                    6               2017   последний   \n",
       "22968                   11               2017      другой   \n",
       "23077                    9               2017      другой   \n",
       "23602                    1               2019   последний   \n",
       "\n",
       "       living_to_total_area  kitchen_to_total_area         new_names  \\\n",
       "24                 0.478395               0.201646  Saint Petersburg   \n",
       "433                0.583045               0.167820  Saint Petersburg   \n",
       "502                0.605634               0.112676  Saint Petersburg   \n",
       "555                0.612515               0.123947  Saint Petersburg   \n",
       "872                0.609375               0.156250  Saint Petersburg   \n",
       "...                     ...                    ...               ...   \n",
       "22414              0.670103               0.092784  Saint Petersburg   \n",
       "22533              0.723741               0.086331  Saint Petersburg   \n",
       "22968              0.666667               0.185185  Saint Petersburg   \n",
       "23077              0.640483               0.111782  Saint Petersburg   \n",
       "23602              0.616438               0.130137  Saint Petersburg   \n",
       "\n",
       "       cityCenters_km  \n",
       "24                2.0  \n",
       "433               1.0  \n",
       "502               1.0  \n",
       "555               2.0  \n",
       "872               2.0  \n",
       "...               ...  \n",
       "22414             2.0  \n",
       "22533             1.0  \n",
       "22968             2.0  \n",
       "23077             2.0  \n",
       "23602             2.0  \n",
       "\n",
       "[166 rows x 31 columns]"
      ]
     },
     "execution_count": 63,
     "metadata": {},
     "output_type": "execute_result"
    }
   ],
   "source": [
    "# Выделим только те квартиры, которые находятся менее чем в трех километрах от центра.\n",
    "rich_df = new_df[(new_df['cityCenters_km'] < 3)]\n",
    "rich_df"
   ]
  },
  {
   "cell_type": "code",
   "execution_count": 64,
   "metadata": {},
   "outputs": [
    {
     "name": "stdout",
     "output_type": "stream",
     "text": [
      "count    166.000000\n",
      "mean      73.940301\n",
      "std       25.786718\n",
      "min       12.000000\n",
      "25%       54.250000\n",
      "50%       71.500000\n",
      "75%       92.000000\n",
      "max      165.000000\n",
      "Name: total_area, dtype: float64\n"
     ]
    },
    {
     "data": {
      "image/png": "[encoded data removed]",
      "text/plain": [
       "<Figure size 432x288 with 1 Axes>"
      ]
     },
     "metadata": {
      "needs_background": "light"
     },
     "output_type": "display_data"
    },
    {
     "name": "stdout",
     "output_type": "stream",
     "text": [
      "count    1.660000e+02\n",
      "mean     8.324904e+06\n",
      "std      2.734138e+06\n",
      "min      2.400000e+06\n",
      "25%      6.462500e+06\n",
      "50%      8.265000e+06\n",
      "75%      9.750000e+06\n",
      "max      1.500000e+07\n",
      "Name: last_price, dtype: float64\n"
     ]
    },
    {
     "data": {
      "image/png": "[encoded data removed]",
      "text/plain": [
       "<Figure size 432x288 with 1 Axes>"
      ]
     },
     "metadata": {
      "needs_background": "light"
     },
     "output_type": "display_data"
    },
    {
     "name": "stdout",
     "output_type": "stream",
     "text": [
      "count    166.000000\n",
      "mean       2.656627\n",
      "std        1.019292\n",
      "min        1.000000\n",
      "25%        2.000000\n",
      "50%        3.000000\n",
      "75%        3.000000\n",
      "max        6.000000\n",
      "Name: rooms, dtype: float64\n"
     ]
    },
    {
     "data": {
      "image/png": "[encoded data removed]",
      "text/plain": [
       "<Figure size 432x288 with 1 Axes>"
      ]
     },
     "metadata": {
      "needs_background": "light"
     },
     "output_type": "display_data"
    },
    {
     "name": "stdout",
     "output_type": "stream",
     "text": [
      "count    166.000000\n",
      "mean       2.809096\n",
      "std        0.187254\n",
      "min        2.500000\n",
      "25%        2.562500\n",
      "50%        2.800000\n",
      "75%        3.000000\n",
      "max        3.000000\n",
      "Name: ceiling_height, dtype: float64\n"
     ]
    },
    {
     "data": {
      "image/png": "[encoded data removed]",
      "text/plain": [
       "<Figure size 432x288 with 1 Axes>"
      ]
     },
     "metadata": {
      "needs_background": "light"
     },
     "output_type": "display_data"
    }
   ],
   "source": [
    "# Создадим список изучаемых колонок\n",
    "list_of_columns = ['total_area', 'last_price', 'rooms','ceiling_height']\n",
    "# Для каждого столбца построим гистограмму и посмотрим размах\n",
    "for value in list_of_columns:\n",
    "    rich_df[value].hist(bins = 100)\n",
    "    print(rich_df[value].describe())\n",
    "    plt.show()"
   ]
  },
  {
   "cell_type": "markdown",
   "metadata": {},
   "source": [
    "Гистограммы выглядят более \"мохнатыми\", чем те, что были построены по всем данным таблицы, но общая тенденция прослеживается.\n",
    "\n",
    "Теперь выделим факторы, которые влияют на стоимость квартиры (число комнат, этаж, удалённость от центра, дата размещения объявления)."
   ]
  },
  {
   "cell_type": "markdown",
   "metadata": {},
   "source": [
    "<div class=\"alert alert-success\">\n",
    "<h2> Комментарий от ревьюера<a class=\"tocSkip\"></a></h2>\n",
    "Тенденции прослеживаеются. Центральные квартиры отличаются площадью, ценой и большим количеством комнат.\n",
    "</div>"
   ]
  },
  {
   "cell_type": "code",
   "execution_count": 65,
   "metadata": {},
   "outputs": [
    {
     "data": {
      "text/plain": [
       "array([[<AxesSubplot:xlabel='last_price', ylabel='last_price'>,\n",
       "        <AxesSubplot:xlabel='rooms', ylabel='last_price'>,\n",
       "        <AxesSubplot:xlabel='cityCenters_nearest', ylabel='last_price'>],\n",
       "       [<AxesSubplot:xlabel='last_price', ylabel='rooms'>,\n",
       "        <AxesSubplot:xlabel='rooms', ylabel='rooms'>,\n",
       "        <AxesSubplot:xlabel='cityCenters_nearest', ylabel='rooms'>],\n",
       "       [<AxesSubplot:xlabel='last_price', ylabel='cityCenters_nearest'>,\n",
       "        <AxesSubplot:xlabel='rooms', ylabel='cityCenters_nearest'>,\n",
       "        <AxesSubplot:xlabel='cityCenters_nearest', ylabel='cityCenters_nearest'>]],\n",
       "      dtype=object)"
      ]
     },
     "execution_count": 65,
     "metadata": {},
     "output_type": "execute_result"
    },
    {
     "data": {
      "image/png": "[encoded data removed]",
      "text/plain": [
       "<Figure size 648x648 with 9 Axes>"
      ]
     },
     "metadata": {
      "needs_background": "light"
     },
     "output_type": "display_data"
    }
   ],
   "source": [
    "pd.plotting.scatter_matrix(rich_df[['last_price','rooms','cityCenters_nearest']], figsize=(9, 9))"
   ]
  },
  {
   "cell_type": "markdown",
   "metadata": {},
   "source": [
    "Чем больше комнат, тем жилье дороже. По удаленности от центра нет какого-то конкретного направления распределения данных."
   ]
  },
  {
   "cell_type": "code",
   "execution_count": 66,
   "metadata": {},
   "outputs": [],
   "source": [
    "# Создадим функцию, которая группирует каждое значение из списка столбцов и возвращает график средней цены\n",
    "def rich(value):\n",
    "    pivot_df = rich_df.pivot_table(index = value, values = 'last_price',aggfunc = 'median')\n",
    "    return pivot_df.plot()"
   ]
  },
  {
   "cell_type": "code",
   "execution_count": 67,
   "metadata": {},
   "outputs": [
    {
     "data": {
      "image/png": "[encoded data removed]",
      "text/plain": [
       "<Figure size 432x288 with 1 Axes>"
      ]
     },
     "metadata": {
      "needs_background": "light"
     },
     "output_type": "display_data"
    },
    {
     "data": {
      "image/png": "[encoded data removed]",
      "text/plain": [
       "<Figure size 432x288 with 1 Axes>"
      ]
     },
     "metadata": {
      "needs_background": "light"
     },
     "output_type": "display_data"
    },
    {
     "data": {
      "image/png": "[encoded data removed]",
      "text/plain": [
       "<Figure size 432x288 with 1 Axes>"
      ]
     },
     "metadata": {
      "needs_background": "light"
     },
     "output_type": "display_data"
    },
    {
     "data": {
      "image/png": "[encoded data removed]",
      "text/plain": [
       "<Figure size 432x288 with 1 Axes>"
      ]
     },
     "metadata": {
      "needs_background": "light"
     },
     "output_type": "display_data"
    }
   ],
   "source": [
    "# Сотроим гистограмму для каждого столбца из списка колонок\n",
    "list_of_columns = ['flat_floor', 'day_of_exposition', 'month_of_exposition', 'year_of_exposition']\n",
    "for value in list_of_columns:\n",
    "    rich(value)\n",
    "    plt.show()"
   ]
  },
  {
   "cell_type": "markdown",
   "metadata": {},
   "source": [
    "Первый этаж самый дешевый, самый дорогие квартиры продаются по средам, в начале года и летом; а пик цен был в 2016 году."
   ]
  },
  {
   "cell_type": "markdown",
   "metadata": {},
   "source": [
    "**Вывод**\n",
    "\n",
    "* Площадь квартир по всем данным равна 50 кв.м., а в центре Санкт-Петербурга равна 70 кв.м., соответственно, и комнат в центре в среднем больше (3 комнаты), чем во всех данных (2 комнаты). Цены отличаются примерно на 4млн, а высота потолков стремится к 3 метрам, что и не удивительно, ведь в центре города в основном старый фонд, где потолки строили макисмально высокие.\n",
    "* Люди, живущие в центре, также с неохотой берут квартиры на первом этаже. Также в центре нет уже такой зависимости расстояния от площади, как во всем сегменте объектов, где чем ближе к центру, тем дороже квартира.\n",
    "* Квартиры в центре продаются чаще всего по средам, в начале года и летом в отличие от всех данных, где лето является временем с самыми низкими уровнями цен. В отличие от пика цен 2014 года для всех квартир, объекты в центре подорожали лишь к 2016 году."
   ]
  },
  {
   "cell_type": "markdown",
   "metadata": {},
   "source": [
    "## Общий вывод"
   ]
  },
  {
   "cell_type": "markdown",
   "metadata": {},
   "source": [
    "Обработав базу данных, состоящих из различных параметров о квартирах в Санкт-Петербурге и области, удалось установить:\n",
    "\n",
    "1. были найдены и заполнены пропуски, а также были найдены и обработаны редкие и выбивающиеся значения (нулевое количество комнат в квартире, метровые и стометровые потолки, а также квартиры за 12300 у.е.);\n",
    "2. срок нормальной продажи лежит в пределах от 45 до 232 дней;\n",
    "3. в период с 2016 по 2019 годы наблюдается тенденция к сокращению дней продажи, что может быть результатом возрастающей популярности интернет-ресурсов и ведущей к более быстрой сделке;\n",
    "4. удалось установить, что чем больше площадь, тем больше цена объекта, однако, цена квадратного метра с увеличением количества комнат падает;\n",
    "5. с увеличением расстояния от центра, квартира дешевеет, а больше всего квартир представлено в диапазоне от 10 до 20 км от центра.\n",
    "6. границами центра Санкт-Петербурга можно обозначить область радиусом 3 км;\n",
    "7. удалось выяснить, что самые дешевые квартиры располагаются на первых этажах. Также люди не особо охотно покупают квартиры на последних этажах, предпочитая другой;\n",
    "8. в сравнении с общей тенденцией продажи дорогих квартир в зимний период (в конце и начале года), квартиры в центре также имеют высокую цену летом;\n",
    "9. в то время как в среднем пик цен на недвижимость наблюдался в 2014 году, квартиры в центре обрели популярность лишь к 2016, впоследствие сменив рост на падение; \n",
    "10. день недели и высота потолков незначительно влияют на стоимость объекта, в то время как удалённость от центра, этаж и площадь имеют большее влияние на цену. \n"
   ]
  },
  {
   "cell_type": "markdown",
   "metadata": {},
   "source": [
    "<div class=\"alert alert-success\">\n",
    "<h2> Комментарий от ревьюера<a class=\"tocSkip\"></a></h2>\n",
    "\n",
    "Поздравляю с успешным проектом!\n",
    "\n",
    "- Ты хорошо делаешь выводы и анализируешь результаты.\n",
    "    \n",
    "- Код написан аккуратно и качественно, видно, что есть какой-то определенный бэкграунд.\n",
    "\n",
    "- Соблюдена структура проекта, было приятно проверять:)\n",
    "    \n",
    "- Все написано четко и по делу\n",
    "\n",
    " \n",
    "\n",
    "\n",
    "Желаю дальнейших успехов!\n",
    "\n",
    "\n",
    "</div>"
   ]
  },
  {
   "cell_type": "markdown",
   "metadata": {},
   "source": [
    "## Чек-лист готовности проекта\n",
    "\n",
    "Поставьте 'x' в выполненных пунктах. Далее нажмите Shift+Enter."
   ]
  },
  {
   "cell_type": "markdown",
   "metadata": {},
   "source": [
    "- [x]  открыт файл\n",
    "- [x]  файлы изучены (выведены первые строки, метод info())\n",
    "- [x]  определены пропущенные значения\n",
    "- [x]  заполнены пропущенные значения\n",
    "- [x]  есть пояснение, какие пропущенные значения обнаружены\n",
    "- [x]  изменены типы данных\n",
    "- [x]  есть пояснение, в каких столбцах изменены типы и почему\n",
    "- [x]  посчитано и добавлено в таблицу: цена квадратного метра\n",
    "- [x]  посчитано и добавлено в таблицу: день недели, месяц и год публикации объявления\n",
    "- [x]  посчитано и добавлено в таблицу: этаж квартиры; варианты — первый, последний, другой\n",
    "- [x]  посчитано и добавлено в таблицу: соотношение жилой и общей площади, а также отношение площади кухни к общей\n",
    "- [x]  изучены следующие параметры: площадь, цена, число комнат, высота потолков\n",
    "- [x]  построены гистограммы для каждого параметра\n",
    "- [x]  выполнено задание: \"Изучите время продажи квартиры. Постройте гистограмму. Посчитайте среднее и медиану. Опишите, сколько обычно занимает продажа. Когда можно считать, что продажи прошли очень быстро, а когда необычно долго?\"\n",
    "- [x]  выполнено задание: \"Уберите редкие и выбивающиеся значения. Опишите, какие особенности обнаружили.\"\n",
    "- [x]  выполнено задание: \"Какие факторы больше всего влияют на стоимость квартиры? Изучите, зависит ли цена от квадратного метра, числа комнат, этажа (первого или последнего), удалённости от центра. Также изучите зависимость от даты размещения: дня недели, месяца и года. \"Выберите 10 населённых пунктов с наибольшим числом объявлений. Посчитайте среднюю цену квадратного метра в этих населённых пунктах. Выделите населённые пункты с самой высокой и низкой стоимостью жилья. Эти данные можно найти по имени в столбце '*locality_name'*. \"\n",
    "- [x]  выполнено задание: \"Изучите предложения квартир: для каждой квартиры есть информация о расстоянии до центра. Выделите квартиры в Санкт-Петербурге (*'locality_name'*). Ваша задача — выяснить, какая область входит в центр. Создайте столбец с расстоянием до центра в километрах: округлите до целых значений. После этого посчитайте среднюю цену для каждого километра. Постройте график: он должен показывать, как цена зависит от удалённости от центра. Определите границу, где график сильно меняется — это и будет центральная зона. \"\n",
    "- [x]  выполнено задание: \"Выделите сегмент квартир в центре. Проанализируйте эту территорию и изучите следующие параметры: площадь, цена, число комнат, высота потолков. Также выделите факторы, которые влияют на стоимость квартиры (число комнат, этаж, удалённость от центра, дата размещения объявления). Сделайте выводы. Отличаются ли они от общих выводов по всему городу?\"\n",
    "- [x]  в каждом этапе есть выводы\n",
    "- [x]  есть общий вывод"
   ]
  }
 ],
 "metadata": {
  "ExecuteTimeLog": [
   {
    "duration": 775,
    "start_time": "2022-01-17T09:23:43.454Z"
   },
   {
    "duration": 88,
    "start_time": "2022-01-17T09:23:53.753Z"
   },
   {
    "duration": 61,
    "start_time": "2022-01-17T09:24:15.720Z"
   },
   {
    "duration": 7,
    "start_time": "2022-01-17T09:24:26.405Z"
   },
   {
    "duration": 177,
    "start_time": "2022-01-17T09:24:41.560Z"
   },
   {
    "duration": 16,
    "start_time": "2022-01-17T09:24:56.559Z"
   },
   {
    "duration": 34,
    "start_time": "2022-01-17T09:25:10.449Z"
   },
   {
    "duration": 222,
    "start_time": "2022-01-17T09:25:25.810Z"
   },
   {
    "duration": 18,
    "start_time": "2022-01-17T09:25:31.181Z"
   },
   {
    "duration": 15,
    "start_time": "2022-01-17T09:26:20.663Z"
   },
   {
    "duration": 14,
    "start_time": "2022-01-17T09:26:34.635Z"
   },
   {
    "duration": 8,
    "start_time": "2022-01-17T09:26:51.792Z"
   },
   {
    "duration": 7,
    "start_time": "2022-01-17T09:27:01.117Z"
   },
   {
    "duration": 2,
    "start_time": "2022-01-17T09:27:18.760Z"
   },
   {
    "duration": 2,
    "start_time": "2022-01-17T09:27:23.219Z"
   },
   {
    "duration": 10,
    "start_time": "2022-01-17T09:27:27.454Z"
   },
   {
    "duration": 5,
    "start_time": "2022-01-17T09:27:41.521Z"
   },
   {
    "duration": 24,
    "start_time": "2022-01-17T09:27:53.289Z"
   },
   {
    "duration": 72,
    "start_time": "2022-01-17T09:28:06.041Z"
   },
   {
    "duration": 9,
    "start_time": "2022-01-17T09:28:21.622Z"
   },
   {
    "duration": 102,
    "start_time": "2022-01-17T09:28:28.454Z"
   },
   {
    "duration": 10,
    "start_time": "2022-01-17T09:28:57.237Z"
   },
   {
    "duration": 29,
    "start_time": "2022-01-17T09:29:13.545Z"
   },
   {
    "duration": 15,
    "start_time": "2022-01-17T09:29:27.413Z"
   },
   {
    "duration": 3,
    "start_time": "2022-01-17T09:29:59.219Z"
   },
   {
    "duration": 14,
    "start_time": "2022-01-17T09:30:04.662Z"
   },
   {
    "duration": 11,
    "start_time": "2022-01-17T09:30:21.214Z"
   },
   {
    "duration": 23,
    "start_time": "2022-01-17T09:30:27.267Z"
   },
   {
    "duration": 8,
    "start_time": "2022-01-17T09:30:37.805Z"
   },
   {
    "duration": 5,
    "start_time": "2022-01-17T09:30:51.594Z"
   },
   {
    "duration": 4,
    "start_time": "2022-01-17T09:31:17.474Z"
   },
   {
    "duration": 11,
    "start_time": "2022-01-17T09:31:29.188Z"
   },
   {
    "duration": 3,
    "start_time": "2022-01-17T09:31:42.877Z"
   },
   {
    "duration": 417,
    "start_time": "2022-01-17T09:31:48.261Z"
   },
   {
    "duration": 4,
    "start_time": "2022-01-17T09:32:06.185Z"
   },
   {
    "duration": 19,
    "start_time": "2022-01-17T09:32:12.258Z"
   },
   {
    "duration": 93,
    "start_time": "2022-01-17T09:32:52.034Z"
   },
   {
    "duration": 319,
    "start_time": "2022-01-17T09:32:55.044Z"
   },
   {
    "duration": 306,
    "start_time": "2022-01-17T09:33:17.366Z"
   },
   {
    "duration": 176,
    "start_time": "2022-01-17T09:33:32.052Z"
   },
   {
    "duration": 164,
    "start_time": "2022-01-17T09:33:46.010Z"
   },
   {
    "duration": 300,
    "start_time": "2022-01-17T09:34:21.639Z"
   },
   {
    "duration": 341,
    "start_time": "2022-01-17T09:34:27.692Z"
   },
   {
    "duration": 141,
    "start_time": "2022-01-17T09:34:34.055Z"
   },
   {
    "duration": 332,
    "start_time": "2022-01-17T09:34:42.935Z"
   },
   {
    "duration": 8,
    "start_time": "2022-01-17T09:35:06.741Z"
   },
   {
    "duration": 455,
    "start_time": "2022-01-17T09:35:39.430Z"
   },
   {
    "duration": 7,
    "start_time": "2022-01-17T09:35:46.996Z"
   },
   {
    "duration": 28,
    "start_time": "2022-01-17T09:36:16.927Z"
   },
   {
    "duration": 25,
    "start_time": "2022-01-17T09:36:19.964Z"
   },
   {
    "duration": 3868,
    "start_time": "2022-01-17T09:36:52.383Z"
   },
   {
    "duration": 3678,
    "start_time": "2022-01-17T09:37:12.183Z"
   },
   {
    "duration": 150,
    "start_time": "2022-01-17T09:37:25.075Z"
   },
   {
    "duration": 7,
    "start_time": "2022-01-17T09:37:37.239Z"
   },
   {
    "duration": 149,
    "start_time": "2022-01-17T09:38:18.640Z"
   },
   {
    "duration": 161,
    "start_time": "2022-01-17T09:38:41.951Z"
   },
   {
    "duration": 238,
    "start_time": "2022-01-17T09:38:57.326Z"
   },
   {
    "duration": 171,
    "start_time": "2022-01-17T09:39:12.863Z"
   },
   {
    "duration": 7,
    "start_time": "2022-01-17T09:39:44.736Z"
   },
   {
    "duration": 12,
    "start_time": "2022-01-17T09:39:50.619Z"
   },
   {
    "duration": 11,
    "start_time": "2022-01-17T09:40:09.765Z"
   },
   {
    "duration": 30,
    "start_time": "2022-01-17T09:40:28.516Z"
   },
   {
    "duration": 25,
    "start_time": "2022-01-17T09:40:45.468Z"
   },
   {
    "duration": 7,
    "start_time": "2022-01-17T09:40:52.068Z"
   },
   {
    "duration": 5,
    "start_time": "2022-01-17T09:41:02.455Z"
   },
   {
    "duration": 176,
    "start_time": "2022-01-17T09:41:24.997Z"
   },
   {
    "duration": 34,
    "start_time": "2022-01-17T09:42:13.180Z"
   },
   {
    "duration": 1262,
    "start_time": "2022-01-17T09:42:19.607Z"
   },
   {
    "duration": 960,
    "start_time": "2022-01-17T09:42:44.160Z"
   },
   {
    "duration": 3,
    "start_time": "2022-01-17T09:43:03.895Z"
   },
   {
    "duration": 666,
    "start_time": "2022-01-17T09:43:09.565Z"
   },
   {
    "duration": 1329,
    "start_time": "2022-01-17T09:44:03.421Z"
   },
   {
    "duration": 3,
    "start_time": "2022-01-17T09:44:38.484Z"
   },
   {
    "duration": 652,
    "start_time": "2022-01-17T09:45:04.314Z"
   },
   {
    "duration": 794,
    "start_time": "2022-01-20T08:48:47.120Z"
   },
   {
    "duration": 8,
    "start_time": "2022-01-20T08:48:47.917Z"
   },
   {
    "duration": 290,
    "start_time": "2022-01-20T08:48:47.928Z"
   },
   {
    "duration": 28,
    "start_time": "2022-01-20T08:48:48.221Z"
   },
   {
    "duration": 73,
    "start_time": "2022-01-20T08:48:48.251Z"
   },
   {
    "duration": 386,
    "start_time": "2022-01-20T08:48:48.327Z"
   },
   {
    "duration": 20,
    "start_time": "2022-01-20T08:48:48.715Z"
   },
   {
    "duration": 30,
    "start_time": "2022-01-20T08:48:48.737Z"
   },
   {
    "duration": 30,
    "start_time": "2022-01-20T08:48:48.769Z"
   },
   {
    "duration": 23,
    "start_time": "2022-01-20T08:48:48.801Z"
   },
   {
    "duration": 39,
    "start_time": "2022-01-20T08:48:48.826Z"
   },
   {
    "duration": 8,
    "start_time": "2022-01-20T08:48:48.867Z"
   },
   {
    "duration": 27,
    "start_time": "2022-01-20T08:48:48.877Z"
   },
   {
    "duration": 48,
    "start_time": "2022-01-20T08:48:48.906Z"
   },
   {
    "duration": 25,
    "start_time": "2022-01-20T08:48:48.956Z"
   },
   {
    "duration": 14,
    "start_time": "2022-01-20T08:48:48.982Z"
   },
   {
    "duration": 25,
    "start_time": "2022-01-20T08:48:48.997Z"
   },
   {
    "duration": 45,
    "start_time": "2022-01-20T08:48:49.023Z"
   },
   {
    "duration": 16,
    "start_time": "2022-01-20T08:48:49.070Z"
   },
   {
    "duration": 3,
    "start_time": "2022-01-20T08:48:49.087Z"
   },
   {
    "duration": 31,
    "start_time": "2022-01-20T08:48:49.091Z"
   },
   {
    "duration": 45,
    "start_time": "2022-01-20T08:48:49.124Z"
   },
   {
    "duration": 60,
    "start_time": "2022-01-20T08:48:49.174Z"
   },
   {
    "duration": 26,
    "start_time": "2022-01-20T08:48:49.236Z"
   },
   {
    "duration": 31,
    "start_time": "2022-01-20T08:48:49.264Z"
   },
   {
    "duration": 12,
    "start_time": "2022-01-20T08:48:49.297Z"
   },
   {
    "duration": 45,
    "start_time": "2022-01-20T08:48:49.311Z"
   },
   {
    "duration": 3,
    "start_time": "2022-01-20T08:48:49.358Z"
   },
   {
    "duration": 516,
    "start_time": "2022-01-20T08:48:49.363Z"
   },
   {
    "duration": 5,
    "start_time": "2022-01-20T08:48:49.881Z"
   },
   {
    "duration": 27,
    "start_time": "2022-01-20T08:48:49.888Z"
   },
   {
    "duration": 138,
    "start_time": "2022-01-20T08:48:49.917Z"
   },
   {
    "duration": 354,
    "start_time": "2022-01-20T08:48:50.057Z"
   },
   {
    "duration": 341,
    "start_time": "2022-01-20T08:48:50.412Z"
   },
   {
    "duration": 213,
    "start_time": "2022-01-20T08:48:50.755Z"
   },
   {
    "duration": 199,
    "start_time": "2022-01-20T08:48:50.970Z"
   },
   {
    "duration": 347,
    "start_time": "2022-01-20T08:48:51.171Z"
   },
   {
    "duration": 443,
    "start_time": "2022-01-20T08:48:51.520Z"
   },
   {
    "duration": 177,
    "start_time": "2022-01-20T08:48:51.965Z"
   },
   {
    "duration": 588,
    "start_time": "2022-01-20T08:48:52.144Z"
   },
   {
    "duration": 10,
    "start_time": "2022-01-20T08:48:52.734Z"
   },
   {
    "duration": 520,
    "start_time": "2022-01-20T08:48:52.761Z"
   },
   {
    "duration": 33,
    "start_time": "2022-01-20T08:48:53.283Z"
   },
   {
    "duration": 45,
    "start_time": "2022-01-20T08:48:53.318Z"
   },
   {
    "duration": 4240,
    "start_time": "2022-01-20T08:48:53.365Z"
   },
   {
    "duration": 184,
    "start_time": "2022-01-20T08:48:57.606Z"
   },
   {
    "duration": 7,
    "start_time": "2022-01-20T08:48:57.791Z"
   },
   {
    "duration": 183,
    "start_time": "2022-01-20T08:48:57.799Z"
   },
   {
    "duration": 192,
    "start_time": "2022-01-20T08:48:57.984Z"
   },
   {
    "duration": 184,
    "start_time": "2022-01-20T08:48:58.178Z"
   },
   {
    "duration": 192,
    "start_time": "2022-01-20T08:48:58.364Z"
   },
   {
    "duration": 8,
    "start_time": "2022-01-20T08:48:58.558Z"
   },
   {
    "duration": 15,
    "start_time": "2022-01-20T08:48:58.568Z"
   },
   {
    "duration": 29,
    "start_time": "2022-01-20T08:48:58.585Z"
   },
   {
    "duration": 50,
    "start_time": "2022-01-20T08:48:58.616Z"
   },
   {
    "duration": 5,
    "start_time": "2022-01-20T08:48:58.668Z"
   },
   {
    "duration": 53,
    "start_time": "2022-01-20T08:48:58.676Z"
   },
   {
    "duration": 204,
    "start_time": "2022-01-20T08:48:58.730Z"
   },
   {
    "duration": 47,
    "start_time": "2022-01-20T08:48:58.936Z"
   },
   {
    "duration": 1428,
    "start_time": "2022-01-20T08:48:58.984Z"
   },
   {
    "duration": 889,
    "start_time": "2022-01-20T08:49:00.414Z"
   },
   {
    "duration": 4,
    "start_time": "2022-01-20T08:49:01.305Z"
   },
   {
    "duration": 1012,
    "start_time": "2022-01-20T08:49:01.312Z"
   },
   {
    "duration": 84,
    "start_time": "2022-01-20T09:04:58.536Z"
   },
   {
    "duration": 1148,
    "start_time": "2022-01-22T12:43:27.966Z"
   },
   {
    "duration": 686,
    "start_time": "2022-02-12T14:07:27.610Z"
   },
   {
    "duration": 7,
    "start_time": "2022-02-12T14:07:28.298Z"
   },
   {
    "duration": 246,
    "start_time": "2022-02-12T14:07:28.307Z"
   },
   {
    "duration": 20,
    "start_time": "2022-02-12T14:07:28.555Z"
   },
   {
    "duration": 58,
    "start_time": "2022-02-12T14:07:28.577Z"
   },
   {
    "duration": 330,
    "start_time": "2022-02-12T14:07:28.637Z"
   },
   {
    "duration": 20,
    "start_time": "2022-02-12T14:07:28.969Z"
   },
   {
    "duration": 32,
    "start_time": "2022-02-12T14:07:28.992Z"
   },
   {
    "duration": 17,
    "start_time": "2022-02-12T14:07:29.026Z"
   },
   {
    "duration": 10,
    "start_time": "2022-02-12T14:07:29.044Z"
   },
   {
    "duration": 26,
    "start_time": "2022-02-12T14:07:29.055Z"
   },
   {
    "duration": 2,
    "start_time": "2022-02-12T14:07:29.083Z"
   },
   {
    "duration": 6,
    "start_time": "2022-02-12T14:07:29.087Z"
   },
   {
    "duration": 25,
    "start_time": "2022-02-12T14:07:29.095Z"
   },
   {
    "duration": 28,
    "start_time": "2022-02-12T14:07:29.121Z"
   },
   {
    "duration": 8,
    "start_time": "2022-02-12T14:07:29.151Z"
   },
   {
    "duration": 13,
    "start_time": "2022-02-12T14:07:29.161Z"
   },
   {
    "duration": 58,
    "start_time": "2022-02-12T14:07:29.175Z"
   },
   {
    "duration": 17,
    "start_time": "2022-02-12T14:07:29.235Z"
   },
   {
    "duration": 5,
    "start_time": "2022-02-12T14:07:29.254Z"
   },
   {
    "duration": 23,
    "start_time": "2022-02-12T14:07:29.261Z"
   },
   {
    "duration": 39,
    "start_time": "2022-02-12T14:07:29.287Z"
   },
   {
    "duration": 26,
    "start_time": "2022-02-12T14:07:29.332Z"
   },
   {
    "duration": 8,
    "start_time": "2022-02-12T14:07:29.361Z"
   },
   {
    "duration": 8,
    "start_time": "2022-02-12T14:07:29.371Z"
   },
   {
    "duration": 5,
    "start_time": "2022-02-12T14:07:29.381Z"
   },
   {
    "duration": 39,
    "start_time": "2022-02-12T14:07:29.388Z"
   },
   {
    "duration": 3,
    "start_time": "2022-02-12T14:07:29.429Z"
   },
   {
    "duration": 493,
    "start_time": "2022-02-12T14:07:29.434Z"
   },
   {
    "duration": 5,
    "start_time": "2022-02-12T14:07:29.929Z"
   },
   {
    "duration": 30,
    "start_time": "2022-02-12T14:07:29.936Z"
   },
   {
    "duration": 133,
    "start_time": "2022-02-12T14:07:29.968Z"
   },
   {
    "duration": 365,
    "start_time": "2022-02-12T14:07:30.103Z"
   },
   {
    "duration": 353,
    "start_time": "2022-02-12T14:07:30.470Z"
   },
   {
    "duration": 204,
    "start_time": "2022-02-12T14:07:30.825Z"
   },
   {
    "duration": 195,
    "start_time": "2022-02-12T14:07:31.031Z"
   },
   {
    "duration": 358,
    "start_time": "2022-02-12T14:07:31.228Z"
   },
   {
    "duration": 395,
    "start_time": "2022-02-12T14:07:31.588Z"
   },
   {
    "duration": 187,
    "start_time": "2022-02-12T14:07:31.984Z"
   },
   {
    "duration": 462,
    "start_time": "2022-02-12T14:07:32.173Z"
   },
   {
    "duration": 9,
    "start_time": "2022-02-12T14:07:32.637Z"
   },
   {
    "duration": 719,
    "start_time": "2022-02-12T14:07:32.647Z"
   },
   {
    "duration": 33,
    "start_time": "2022-02-12T14:07:33.368Z"
   },
   {
    "duration": 40,
    "start_time": "2022-02-12T14:07:33.403Z"
   },
   {
    "duration": 4893,
    "start_time": "2022-02-12T14:07:33.446Z"
   },
   {
    "duration": 194,
    "start_time": "2022-02-12T14:07:38.341Z"
   },
   {
    "duration": 7,
    "start_time": "2022-02-12T14:07:38.537Z"
   },
   {
    "duration": 186,
    "start_time": "2022-02-12T14:07:38.546Z"
   },
   {
    "duration": 199,
    "start_time": "2022-02-12T14:07:38.734Z"
   },
   {
    "duration": 185,
    "start_time": "2022-02-12T14:07:38.935Z"
   },
   {
    "duration": 306,
    "start_time": "2022-02-12T14:07:39.122Z"
   },
   {
    "duration": 9,
    "start_time": "2022-02-12T14:07:39.430Z"
   },
   {
    "duration": 32,
    "start_time": "2022-02-12T14:07:39.441Z"
   },
   {
    "duration": 35,
    "start_time": "2022-02-12T14:07:39.475Z"
   },
   {
    "duration": 29,
    "start_time": "2022-02-12T14:07:39.512Z"
   },
   {
    "duration": 5,
    "start_time": "2022-02-12T14:07:39.543Z"
   },
   {
    "duration": 30,
    "start_time": "2022-02-12T14:07:39.550Z"
   },
   {
    "duration": 208,
    "start_time": "2022-02-12T14:07:39.582Z"
   },
   {
    "duration": 41,
    "start_time": "2022-02-12T14:07:39.792Z"
   },
   {
    "duration": 1451,
    "start_time": "2022-02-12T14:07:39.836Z"
   },
   {
    "duration": 1002,
    "start_time": "2022-02-12T14:07:41.289Z"
   },
   {
    "duration": 3,
    "start_time": "2022-02-12T14:07:42.292Z"
   },
   {
    "duration": 832,
    "start_time": "2022-02-12T14:07:42.297Z"
   },
   {
    "duration": 375,
    "start_time": "2022-06-24T12:05:09.013Z"
   },
   {
    "duration": 682,
    "start_time": "2023-10-23T23:41:56.811Z"
   },
   {
    "duration": 9,
    "start_time": "2023-10-23T23:42:06.411Z"
   },
   {
    "duration": 166,
    "start_time": "2023-10-23T23:42:11.880Z"
   },
   {
    "duration": 15,
    "start_time": "2023-10-23T23:42:14.306Z"
   },
   {
    "duration": 34,
    "start_time": "2023-10-23T23:42:21.145Z"
   },
   {
    "duration": 1308,
    "start_time": "2023-10-23T23:42:36.586Z"
   },
   {
    "duration": 5,
    "start_time": "2023-10-23T23:42:55.859Z"
   },
   {
    "duration": 8,
    "start_time": "2023-10-23T23:43:00.180Z"
   },
   {
    "duration": 6,
    "start_time": "2023-10-23T23:43:12.713Z"
   },
   {
    "duration": 6,
    "start_time": "2023-10-23T23:45:36.014Z"
   },
   {
    "duration": 8,
    "start_time": "2023-10-23T23:48:41.152Z"
   },
   {
    "duration": 7,
    "start_time": "2023-10-23T23:48:48.751Z"
   },
   {
    "duration": 320,
    "start_time": "2023-11-11T22:05:55.643Z"
   },
   {
    "duration": 0,
    "start_time": "2023-11-11T22:05:55.966Z"
   },
   {
    "duration": 0,
    "start_time": "2023-11-11T22:05:55.968Z"
   },
   {
    "duration": 0,
    "start_time": "2023-11-11T22:05:55.969Z"
   },
   {
    "duration": 0,
    "start_time": "2023-11-11T22:05:55.971Z"
   },
   {
    "duration": 0,
    "start_time": "2023-11-11T22:05:55.972Z"
   },
   {
    "duration": 0,
    "start_time": "2023-11-11T22:05:55.974Z"
   },
   {
    "duration": 0,
    "start_time": "2023-11-11T22:05:55.976Z"
   },
   {
    "duration": 0,
    "start_time": "2023-11-11T22:05:55.977Z"
   },
   {
    "duration": 0,
    "start_time": "2023-11-11T22:05:55.979Z"
   },
   {
    "duration": 0,
    "start_time": "2023-11-11T22:05:55.980Z"
   },
   {
    "duration": 0,
    "start_time": "2023-11-11T22:05:55.982Z"
   },
   {
    "duration": 0,
    "start_time": "2023-11-11T22:05:55.984Z"
   },
   {
    "duration": 0,
    "start_time": "2023-11-11T22:05:55.985Z"
   },
   {
    "duration": 0,
    "start_time": "2023-11-11T22:05:55.987Z"
   },
   {
    "duration": 0,
    "start_time": "2023-11-11T22:05:56.031Z"
   },
   {
    "duration": 0,
    "start_time": "2023-11-11T22:05:56.032Z"
   },
   {
    "duration": 0,
    "start_time": "2023-11-11T22:05:56.034Z"
   },
   {
    "duration": 0,
    "start_time": "2023-11-11T22:05:56.036Z"
   },
   {
    "duration": 1,
    "start_time": "2023-11-11T22:05:56.037Z"
   },
   {
    "duration": 0,
    "start_time": "2023-11-11T22:05:56.039Z"
   },
   {
    "duration": 0,
    "start_time": "2023-11-11T22:05:56.041Z"
   },
   {
    "duration": 0,
    "start_time": "2023-11-11T22:05:56.042Z"
   },
   {
    "duration": 0,
    "start_time": "2023-11-11T22:05:56.046Z"
   },
   {
    "duration": 0,
    "start_time": "2023-11-11T22:05:56.047Z"
   },
   {
    "duration": 0,
    "start_time": "2023-11-11T22:05:56.049Z"
   },
   {
    "duration": 0,
    "start_time": "2023-11-11T22:05:56.050Z"
   },
   {
    "duration": 0,
    "start_time": "2023-11-11T22:05:56.052Z"
   },
   {
    "duration": 0,
    "start_time": "2023-11-11T22:05:56.053Z"
   },
   {
    "duration": 0,
    "start_time": "2023-11-11T22:05:56.055Z"
   },
   {
    "duration": 0,
    "start_time": "2023-11-11T22:05:56.056Z"
   },
   {
    "duration": 0,
    "start_time": "2023-11-11T22:05:56.057Z"
   },
   {
    "duration": 0,
    "start_time": "2023-11-11T22:05:56.058Z"
   },
   {
    "duration": 0,
    "start_time": "2023-11-11T22:05:56.059Z"
   },
   {
    "duration": 0,
    "start_time": "2023-11-11T22:05:56.060Z"
   },
   {
    "duration": 1,
    "start_time": "2023-11-11T22:05:56.060Z"
   },
   {
    "duration": 0,
    "start_time": "2023-11-11T22:05:56.061Z"
   },
   {
    "duration": 0,
    "start_time": "2023-11-11T22:05:56.062Z"
   },
   {
    "duration": 0,
    "start_time": "2023-11-11T22:05:56.063Z"
   },
   {
    "duration": 0,
    "start_time": "2023-11-11T22:05:56.064Z"
   },
   {
    "duration": 0,
    "start_time": "2023-11-11T22:05:56.065Z"
   },
   {
    "duration": 0,
    "start_time": "2023-11-11T22:05:56.066Z"
   },
   {
    "duration": 0,
    "start_time": "2023-11-11T22:05:56.067Z"
   },
   {
    "duration": 0,
    "start_time": "2023-11-11T22:05:56.068Z"
   },
   {
    "duration": 0,
    "start_time": "2023-11-11T22:05:56.069Z"
   },
   {
    "duration": 0,
    "start_time": "2023-11-11T22:05:56.131Z"
   },
   {
    "duration": 10,
    "start_time": "2023-11-11T22:05:56.136Z"
   },
   {
    "duration": 0,
    "start_time": "2023-11-11T22:05:56.147Z"
   },
   {
    "duration": 0,
    "start_time": "2023-11-11T22:05:56.149Z"
   },
   {
    "duration": 0,
    "start_time": "2023-11-11T22:05:56.150Z"
   },
   {
    "duration": 0,
    "start_time": "2023-11-11T22:05:56.151Z"
   },
   {
    "duration": 0,
    "start_time": "2023-11-11T22:05:56.152Z"
   },
   {
    "duration": 0,
    "start_time": "2023-11-11T22:05:56.153Z"
   },
   {
    "duration": 0,
    "start_time": "2023-11-11T22:05:56.154Z"
   },
   {
    "duration": 0,
    "start_time": "2023-11-11T22:05:56.155Z"
   },
   {
    "duration": 0,
    "start_time": "2023-11-11T22:05:56.156Z"
   },
   {
    "duration": 0,
    "start_time": "2023-11-11T22:05:56.157Z"
   },
   {
    "duration": 0,
    "start_time": "2023-11-11T22:05:56.158Z"
   },
   {
    "duration": 0,
    "start_time": "2023-11-11T22:05:56.160Z"
   },
   {
    "duration": 0,
    "start_time": "2023-11-11T22:05:56.161Z"
   },
   {
    "duration": 0,
    "start_time": "2023-11-11T22:05:56.162Z"
   },
   {
    "duration": 0,
    "start_time": "2023-11-11T22:05:56.163Z"
   },
   {
    "duration": 0,
    "start_time": "2023-11-11T22:05:56.164Z"
   },
   {
    "duration": 0,
    "start_time": "2023-11-11T22:05:56.165Z"
   },
   {
    "duration": 0,
    "start_time": "2023-11-11T22:05:56.166Z"
   },
   {
    "duration": 4,
    "start_time": "2023-11-11T22:05:56.230Z"
   },
   {
    "duration": 10,
    "start_time": "2023-11-11T22:05:56.236Z"
   },
   {
    "duration": 3,
    "start_time": "2023-11-11T22:06:15.710Z"
   },
   {
    "duration": 597,
    "start_time": "2023-11-11T22:06:15.714Z"
   },
   {
    "duration": 12,
    "start_time": "2023-11-11T22:06:16.312Z"
   },
   {
    "duration": 250,
    "start_time": "2023-11-11T22:06:16.326Z"
   },
   {
    "duration": 19,
    "start_time": "2023-11-11T22:06:16.578Z"
   },
   {
    "duration": 64,
    "start_time": "2023-11-11T22:06:16.598Z"
   },
   {
    "duration": 8,
    "start_time": "2023-11-11T22:06:16.664Z"
   },
   {
    "duration": 108,
    "start_time": "2023-11-11T22:06:16.673Z"
   },
   {
    "duration": 0,
    "start_time": "2023-11-11T22:06:16.784Z"
   },
   {
    "duration": 0,
    "start_time": "2023-11-11T22:06:16.786Z"
   },
   {
    "duration": 0,
    "start_time": "2023-11-11T22:06:16.787Z"
   },
   {
    "duration": 0,
    "start_time": "2023-11-11T22:06:16.788Z"
   },
   {
    "duration": 0,
    "start_time": "2023-11-11T22:06:16.789Z"
   },
   {
    "duration": 0,
    "start_time": "2023-11-11T22:06:16.790Z"
   },
   {
    "duration": 0,
    "start_time": "2023-11-11T22:06:16.791Z"
   },
   {
    "duration": 0,
    "start_time": "2023-11-11T22:06:16.792Z"
   },
   {
    "duration": 0,
    "start_time": "2023-11-11T22:06:16.793Z"
   },
   {
    "duration": 0,
    "start_time": "2023-11-11T22:06:16.794Z"
   },
   {
    "duration": 0,
    "start_time": "2023-11-11T22:06:16.795Z"
   },
   {
    "duration": 0,
    "start_time": "2023-11-11T22:06:16.796Z"
   },
   {
    "duration": 0,
    "start_time": "2023-11-11T22:06:16.797Z"
   },
   {
    "duration": 0,
    "start_time": "2023-11-11T22:06:16.798Z"
   },
   {
    "duration": 0,
    "start_time": "2023-11-11T22:06:16.799Z"
   },
   {
    "duration": 0,
    "start_time": "2023-11-11T22:06:16.800Z"
   },
   {
    "duration": 0,
    "start_time": "2023-11-11T22:06:16.801Z"
   },
   {
    "duration": 0,
    "start_time": "2023-11-11T22:06:16.803Z"
   },
   {
    "duration": 0,
    "start_time": "2023-11-11T22:06:16.804Z"
   },
   {
    "duration": 0,
    "start_time": "2023-11-11T22:06:16.805Z"
   },
   {
    "duration": 0,
    "start_time": "2023-11-11T22:06:16.806Z"
   },
   {
    "duration": 0,
    "start_time": "2023-11-11T22:06:16.807Z"
   },
   {
    "duration": 0,
    "start_time": "2023-11-11T22:06:16.808Z"
   },
   {
    "duration": 0,
    "start_time": "2023-11-11T22:06:16.809Z"
   },
   {
    "duration": 0,
    "start_time": "2023-11-11T22:06:16.810Z"
   },
   {
    "duration": 0,
    "start_time": "2023-11-11T22:06:16.811Z"
   },
   {
    "duration": 0,
    "start_time": "2023-11-11T22:06:16.812Z"
   },
   {
    "duration": 0,
    "start_time": "2023-11-11T22:06:16.813Z"
   },
   {
    "duration": 0,
    "start_time": "2023-11-11T22:06:16.814Z"
   },
   {
    "duration": 0,
    "start_time": "2023-11-11T22:06:16.814Z"
   },
   {
    "duration": 0,
    "start_time": "2023-11-11T22:06:16.816Z"
   },
   {
    "duration": 0,
    "start_time": "2023-11-11T22:06:16.816Z"
   },
   {
    "duration": 0,
    "start_time": "2023-11-11T22:06:16.817Z"
   },
   {
    "duration": 0,
    "start_time": "2023-11-11T22:06:16.818Z"
   },
   {
    "duration": 0,
    "start_time": "2023-11-11T22:06:16.819Z"
   },
   {
    "duration": 0,
    "start_time": "2023-11-11T22:06:16.820Z"
   },
   {
    "duration": 0,
    "start_time": "2023-11-11T22:06:16.821Z"
   },
   {
    "duration": 0,
    "start_time": "2023-11-11T22:06:16.830Z"
   },
   {
    "duration": 0,
    "start_time": "2023-11-11T22:06:16.832Z"
   },
   {
    "duration": 0,
    "start_time": "2023-11-11T22:06:16.833Z"
   },
   {
    "duration": 0,
    "start_time": "2023-11-11T22:06:16.834Z"
   },
   {
    "duration": 0,
    "start_time": "2023-11-11T22:06:16.835Z"
   },
   {
    "duration": 0,
    "start_time": "2023-11-11T22:06:16.836Z"
   },
   {
    "duration": 0,
    "start_time": "2023-11-11T22:06:16.838Z"
   },
   {
    "duration": 1,
    "start_time": "2023-11-11T22:06:16.839Z"
   },
   {
    "duration": 0,
    "start_time": "2023-11-11T22:06:16.840Z"
   },
   {
    "duration": 0,
    "start_time": "2023-11-11T22:06:16.841Z"
   },
   {
    "duration": 0,
    "start_time": "2023-11-11T22:06:16.843Z"
   },
   {
    "duration": 0,
    "start_time": "2023-11-11T22:06:16.844Z"
   },
   {
    "duration": 0,
    "start_time": "2023-11-11T22:06:16.845Z"
   },
   {
    "duration": 0,
    "start_time": "2023-11-11T22:06:16.846Z"
   },
   {
    "duration": 0,
    "start_time": "2023-11-11T22:06:16.847Z"
   },
   {
    "duration": 0,
    "start_time": "2023-11-11T22:06:16.848Z"
   },
   {
    "duration": 0,
    "start_time": "2023-11-11T22:06:16.849Z"
   },
   {
    "duration": 0,
    "start_time": "2023-11-11T22:06:16.850Z"
   },
   {
    "duration": 0,
    "start_time": "2023-11-11T22:06:16.851Z"
   },
   {
    "duration": 0,
    "start_time": "2023-11-11T22:06:16.851Z"
   },
   {
    "duration": 0,
    "start_time": "2023-11-11T22:06:16.852Z"
   },
   {
    "duration": 0,
    "start_time": "2023-11-11T22:06:16.853Z"
   },
   {
    "duration": 10,
    "start_time": "2023-11-11T22:06:32.244Z"
   },
   {
    "duration": 7,
    "start_time": "2023-11-11T22:06:34.436Z"
   },
   {
    "duration": 285,
    "start_time": "2023-11-11T22:06:39.969Z"
   },
   {
    "duration": 3,
    "start_time": "2023-11-11T22:06:44.591Z"
   },
   {
    "duration": 548,
    "start_time": "2023-11-11T22:06:44.597Z"
   },
   {
    "duration": 10,
    "start_time": "2023-11-11T22:06:45.146Z"
   },
   {
    "duration": 259,
    "start_time": "2023-11-11T22:06:45.158Z"
   },
   {
    "duration": 21,
    "start_time": "2023-11-11T22:06:45.418Z"
   },
   {
    "duration": 53,
    "start_time": "2023-11-11T22:06:45.441Z"
   },
   {
    "duration": 8,
    "start_time": "2023-11-11T22:06:45.496Z"
   },
   {
    "duration": 26,
    "start_time": "2023-11-11T22:06:45.505Z"
   },
   {
    "duration": 7,
    "start_time": "2023-11-11T22:06:45.533Z"
   },
   {
    "duration": 295,
    "start_time": "2023-11-11T22:06:45.542Z"
   },
   {
    "duration": 21,
    "start_time": "2023-11-11T22:06:45.839Z"
   },
   {
    "duration": 16,
    "start_time": "2023-11-11T22:06:45.861Z"
   },
   {
    "duration": 17,
    "start_time": "2023-11-11T22:06:45.878Z"
   },
   {
    "duration": 35,
    "start_time": "2023-11-11T22:06:45.896Z"
   },
   {
    "duration": 9,
    "start_time": "2023-11-11T22:06:45.933Z"
   },
   {
    "duration": 5,
    "start_time": "2023-11-11T22:06:45.943Z"
   },
   {
    "duration": 5,
    "start_time": "2023-11-11T22:06:45.949Z"
   },
   {
    "duration": 14,
    "start_time": "2023-11-11T22:06:45.955Z"
   },
   {
    "duration": 26,
    "start_time": "2023-11-11T22:06:45.970Z"
   },
   {
    "duration": 35,
    "start_time": "2023-11-11T22:06:45.997Z"
   },
   {
    "duration": 10,
    "start_time": "2023-11-11T22:06:46.034Z"
   },
   {
    "duration": 29,
    "start_time": "2023-11-11T22:06:46.045Z"
   },
   {
    "duration": 14,
    "start_time": "2023-11-11T22:06:46.076Z"
   },
   {
    "duration": 2,
    "start_time": "2023-11-11T22:06:46.094Z"
   },
   {
    "duration": 39,
    "start_time": "2023-11-11T22:06:46.098Z"
   },
   {
    "duration": 10,
    "start_time": "2023-11-11T22:06:46.139Z"
   },
   {
    "duration": 22,
    "start_time": "2023-11-11T22:06:46.151Z"
   },
   {
    "duration": 7,
    "start_time": "2023-11-11T22:06:46.175Z"
   },
   {
    "duration": 6,
    "start_time": "2023-11-11T22:06:46.184Z"
   },
   {
    "duration": 4,
    "start_time": "2023-11-11T22:06:46.191Z"
   },
   {
    "duration": 40,
    "start_time": "2023-11-11T22:06:46.197Z"
   },
   {
    "duration": 4,
    "start_time": "2023-11-11T22:06:46.239Z"
   },
   {
    "duration": 270,
    "start_time": "2023-11-11T22:06:46.245Z"
   },
   {
    "duration": 5,
    "start_time": "2023-11-11T22:06:46.517Z"
   },
   {
    "duration": 23,
    "start_time": "2023-11-11T22:06:46.531Z"
   },
   {
    "duration": 392,
    "start_time": "2023-11-11T22:06:46.556Z"
   },
   {
    "duration": 254,
    "start_time": "2023-11-11T22:06:46.950Z"
   },
   {
    "duration": 251,
    "start_time": "2023-11-11T22:06:47.206Z"
   },
   {
    "duration": 143,
    "start_time": "2023-11-11T22:06:47.458Z"
   },
   {
    "duration": 144,
    "start_time": "2023-11-11T22:06:47.603Z"
   },
   {
    "duration": 255,
    "start_time": "2023-11-11T22:06:47.749Z"
   },
   {
    "duration": 287,
    "start_time": "2023-11-11T22:06:48.006Z"
   },
   {
    "duration": 123,
    "start_time": "2023-11-11T22:06:48.295Z"
   },
   {
    "duration": 396,
    "start_time": "2023-11-11T22:06:48.420Z"
   },
   {
    "duration": 12,
    "start_time": "2023-11-11T22:06:48.818Z"
   },
   {
    "duration": 414,
    "start_time": "2023-11-11T22:06:48.831Z"
   },
   {
    "duration": 28,
    "start_time": "2023-11-11T22:06:49.247Z"
   },
   {
    "duration": 26,
    "start_time": "2023-11-11T22:06:49.277Z"
   },
   {
    "duration": 1467,
    "start_time": "2023-11-11T22:06:49.304Z"
   },
   {
    "duration": 137,
    "start_time": "2023-11-11T22:06:50.772Z"
   },
   {
    "duration": 7,
    "start_time": "2023-11-11T22:06:50.910Z"
   },
   {
    "duration": 191,
    "start_time": "2023-11-11T22:06:50.918Z"
   },
   {
    "duration": 138,
    "start_time": "2023-11-11T22:06:51.111Z"
   },
   {
    "duration": 129,
    "start_time": "2023-11-11T22:06:51.251Z"
   },
   {
    "duration": 142,
    "start_time": "2023-11-11T22:06:51.382Z"
   },
   {
    "duration": 9,
    "start_time": "2023-11-11T22:06:51.530Z"
   },
   {
    "duration": 13,
    "start_time": "2023-11-11T22:06:51.541Z"
   },
   {
    "duration": 29,
    "start_time": "2023-11-11T22:06:51.556Z"
   },
   {
    "duration": 49,
    "start_time": "2023-11-11T22:06:51.587Z"
   },
   {
    "duration": 6,
    "start_time": "2023-11-11T22:06:51.637Z"
   },
   {
    "duration": 6,
    "start_time": "2023-11-11T22:06:51.645Z"
   },
   {
    "duration": 159,
    "start_time": "2023-11-11T22:06:51.652Z"
   },
   {
    "duration": 51,
    "start_time": "2023-11-11T22:06:51.813Z"
   },
   {
    "duration": 1070,
    "start_time": "2023-11-11T22:06:51.866Z"
   },
   {
    "duration": 629,
    "start_time": "2023-11-11T22:06:52.938Z"
   },
   {
    "duration": 3,
    "start_time": "2023-11-11T22:06:53.569Z"
   },
   {
    "duration": 732,
    "start_time": "2023-11-11T22:06:53.574Z"
   }
  ],
  "kernelspec": {
   "display_name": "Python 3 (ipykernel)",
   "language": "python",
   "name": "python3"
  },
  "language_info": {
   "codemirror_mode": {
    "name": "ipython",
    "version": 3
   },
   "file_extension": ".py",
   "mimetype": "text/x-python",
   "name": "python",
   "nbconvert_exporter": "python",
   "pygments_lexer": "ipython3",
   "version": "3.9.5"
  },
  "toc": {
   "base_numbering": 1,
   "nav_menu": {},
   "number_sections": true,
   "sideBar": true,
   "skip_h1_title": true,
   "title_cell": "Содержание",
   "title_sidebar": "Contents",
   "toc_cell": true,
   "toc_position": {
    "height": "calc(100% - 180px)",
    "left": "10px",
    "top": "150px",
    "width": "165px"
   },
   "toc_section_display": true,
   "toc_window_display": true
  }
 },
 "nbformat": 4,
 "nbformat_minor": 2
}
