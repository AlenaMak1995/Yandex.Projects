{
 "cells": [
  {
   "cell_type": "markdown",
   "metadata": {
    "toc": true
   },
   "source": [
    "<h1>List of content<span class=\"tocSkip\"></span></h1>\n",
    "<div class=\"toc\"><ul class=\"toc-item\"><li><span><a href=\"#Studying-Data-from-the-File\" data-toc-modified-id=\"Studying-Data-from-the-File-1\"><span class=\"toc-item-num\">1&nbsp;&nbsp;</span>Studying Data from the File</a></span><ul class=\"toc-item\"><li><span><a href=\"#Conclusion\" data-toc-modified-id=\"Conclusion-1.1\"><span class=\"toc-item-num\">1.1&nbsp;&nbsp;</span>Conclusion</a></span></li></ul></li><li><span><a href=\"#Data-Preprocessing\" data-toc-modified-id=\"Data-Preprocessing-2\"><span class=\"toc-item-num\">2&nbsp;&nbsp;</span>Data Preprocessing</a></span><ul class=\"toc-item\"><li><span><a href=\"#Замена-типа-данных\" data-toc-modified-id=\"Замена-типа-данных-2.1\"><span class=\"toc-item-num\">2.1&nbsp;&nbsp;</span>Замена типа данных</a></span></li><li><span><a href=\"#Вывод\" data-toc-modified-id=\"Вывод-2.2\"><span class=\"toc-item-num\">2.2&nbsp;&nbsp;</span>Вывод</a></span></li></ul></li><li><span><a href=\"#Расчёты-и-добавление-результатов-в-таблицу\" data-toc-modified-id=\"Расчёты-и-добавление-результатов-в-таблицу-3\"><span class=\"toc-item-num\">3&nbsp;&nbsp;</span>Расчёты и добавление результатов в таблицу</a></span><ul class=\"toc-item\"><li><span><a href=\"#Вывод\" data-toc-modified-id=\"Вывод-3.1\"><span class=\"toc-item-num\">3.1&nbsp;&nbsp;</span>Вывод</a></span></li></ul></li><li><span><a href=\"#Исследовательский-анализ-данных\" data-toc-modified-id=\"Исследовательский-анализ-данных-4\"><span class=\"toc-item-num\">4&nbsp;&nbsp;</span>Исследовательский анализ данных</a></span><ul class=\"toc-item\"><li><span><a href=\"#Изучение-площади,-цены,-числа-комнат-и-высоты-потолков\" data-toc-modified-id=\"Изучение-площади,-цены,-числа-комнат-и-высоты-потолков-4.1\"><span class=\"toc-item-num\">4.1&nbsp;&nbsp;</span>Изучение площади, цены, числа комнат и высоты потолков</a></span></li><li><span><a href=\"#Изучение-времени-продажи-квартиры\" data-toc-modified-id=\"Изучение-времени-продажи-квартиры-4.2\"><span class=\"toc-item-num\">4.2&nbsp;&nbsp;</span>Изучение времени продажи квартиры</a></span></li><li><span><a href=\"#Удаление-редких-и-выбивающихся-значений\" data-toc-modified-id=\"Удаление-редких-и-выбивающихся-значений-4.3\"><span class=\"toc-item-num\">4.3&nbsp;&nbsp;</span>Удаление редких и выбивающихся значений</a></span></li><li><span><a href=\"#Изучение-зависимости-цены-от-параметров\" data-toc-modified-id=\"Изучение-зависимости-цены-от-параметров-4.4\"><span class=\"toc-item-num\">4.4&nbsp;&nbsp;</span>Изучение зависимости цены от параметров</a></span></li><li><span><a href=\"#Подсчет-средней-цены-квадратного-метра-в-10-ти-населённых-пунктах-с-наибольшим-числом-объявлений.\" data-toc-modified-id=\"Подсчет-средней-цены-квадратного-метра-в-10-ти-населённых-пунктах-с-наибольшим-числом-объявлений.-4.5\"><span class=\"toc-item-num\">4.5&nbsp;&nbsp;</span>Подсчет средней цены квадратного метра в 10-ти населённых пунктах с наибольшим числом объявлений.</a></span></li><li><span><a href=\"#Нахождение-область,-входящей-в-центр\" data-toc-modified-id=\"Нахождение-область,-входящей-в-центр-4.6\"><span class=\"toc-item-num\">4.6&nbsp;&nbsp;</span>Нахождение область, входящей в центр</a></span></li><li><span><a href=\"#Анализ-сегмента-квартир-в-центре\" data-toc-modified-id=\"Анализ-сегмента-квартир-в-центре-4.7\"><span class=\"toc-item-num\">4.7&nbsp;&nbsp;</span>Анализ сегмента квартир в центре</a></span></li></ul></li><li><span><a href=\"#Общий-вывод\" data-toc-modified-id=\"Общий-вывод-5\"><span class=\"toc-item-num\">5&nbsp;&nbsp;</span>Общий вывод</a></span></li><li><span><a href=\"#Чек-лист-готовности-проекта\" data-toc-modified-id=\"Чек-лист-готовности-проекта-6\"><span class=\"toc-item-num\">6&nbsp;&nbsp;</span>Чек-лист готовности проекта</a></span></li></ul></div>"
   ]
  },
  {
   "cell_type": "markdown",
   "metadata": {},
   "source": [
    "# Study of Apartment Sale Listings\n",
    "\n",
    "In this project, data from the Yandex.Real Estate service will be used — an archive of apartment sale listings in St. Petersburg and neighboring settlements over several years. The goal is to learn how to determine the market value of real estate properties. The task is to identify parameters that will allow the creation of an automated system: it will detect anomalies and fraudulent activity.\n",
    "\n",
    "For each apartment listed for sale, there are two types of data available. The first type is provided by the user, while the second is automatically derived from cartographic data. For example, the distance to the city center, airport, nearest park, and body of water. "
   ]
  },
  {
   "cell_type": "markdown",
   "metadata": {},
   "source": [
    "## Studying Data from the File"
   ]
  },
  {
   "cell_type": "markdown",
   "metadata": {},
   "source": [
    "First, let's open the file and inspect the general information"
   ]
  },
  {
   "cell_type": "code",
   "execution_count": 7,
   "metadata": {},
   "outputs": [],
   "source": [
    "# Importing pandas library\n",
    "import pandas as pd\n",
    "import numpy as np\n",
    "# Importing libraries for plotting histograms\n",
    "import matplotlib.pyplot as plt"
   ]
  },
  {
   "cell_type": "code",
   "execution_count": 8,
   "metadata": {
    "scrolled": true
   },
   "outputs": [
    {
     "name": "stdout",
     "output_type": "stream",
     "text": [
      "<class 'pandas.core.frame.DataFrame'>\n",
      "RangeIndex: 23699 entries, 0 to 23698\n",
      "Data columns (total 22 columns):\n",
      " #   Column                Non-Null Count  Dtype  \n",
      "---  ------                --------------  -----  \n",
      " 0   total_images          23699 non-null  int64  \n",
      " 1   last_price            23699 non-null  float64\n",
      " 2   total_area            23699 non-null  float64\n",
      " 3   first_day_exposition  23699 non-null  object \n",
      " 4   rooms                 23699 non-null  int64  \n",
      " 5   ceiling_height        14504 non-null  float64\n",
      " 6   floors_total          23613 non-null  float64\n",
      " 7   living_area           21796 non-null  float64\n",
      " 8   floor                 23699 non-null  int64  \n",
      " 9   is_apartment          2775 non-null   object \n",
      " 10  studio                23699 non-null  bool   \n",
      " 11  open_plan             23699 non-null  bool   \n",
      " 12  kitchen_area          21421 non-null  float64\n",
      " 13  balcony               12180 non-null  float64\n",
      " 14  locality_name         23650 non-null  object \n",
      " 15  airports_nearest      18157 non-null  float64\n",
      " 16  cityCenters_nearest   18180 non-null  float64\n",
      " 17  parks_around3000      18181 non-null  float64\n",
      " 18  parks_nearest         8079 non-null   float64\n",
      " 19  ponds_around3000      18181 non-null  float64\n",
      " 20  ponds_nearest         9110 non-null   float64\n",
      " 21  days_exposition       20518 non-null  float64\n",
      "dtypes: bool(2), float64(14), int64(3), object(3)\n",
      "memory usage: 3.7+ MB\n"
     ]
    },
    {
     "data": {
      "text/plain": [
       "None"
      ]
     },
     "metadata": {},
     "output_type": "display_data"
    }
   ],
   "source": [
    "# Opening the file using the try-except method\n",
    "try:\n",
    "    df = pd.read_csv('real_estate_data_translated.csv')\n",
    "except:\n",
    "    print('The required file does not exist!')    \n",
    "# Displaying the first 5 rows of the table\n",
    "display(df.info())"
   ]
  },
  {
   "cell_type": "markdown",
   "metadata": {},
   "source": [
    "In the provided table, there are 22 columns. Various data types are represented here: 3 data types of int64, 14 types of float64, 3 types of object, and 2 types of bool.\n",
    "\n",
    "According to the data documentation:\n",
    "\n",
    "* `airports_nearest` — distance to the nearest airport in meters (m)\n",
    "* `balcony` — number of balconies\n",
    "* `ceiling_height` — ceiling height (m)\n",
    "* `cityCenters_nearest` — distance to the city center (m)\n",
    "* `days_exposition` — number of days the ad was posted (from publication to removal)\n",
    "* `first_day_exposition` — publication date\n",
    "* `floor` — floor number\n",
    "* `floors_total` — total number of floors in the building\n",
    "* `is_apartment` — whether the property is an apartment (boolean type)\n",
    "* `kitchen_area` — kitchen area in square meters (m²)\n",
    "* `last_price` — price at the time of removal from publication\n",
    "* `living_area` — living area in square meters (m²)\n",
    "* `locality_name` — name of the locality\n",
    "* `open_plan` — open floor plan (boolean type)\n",
    "* `parks_around3000` — number of parks within a 3 km radius\n",
    "* `parks_nearest` — distance to the nearest park (m)\n",
    "* `ponds_around3000` — number of ponds within a 3 km radius\n",
    "* `ponds_nearest` — distance to the nearest pond (m)\n",
    "* `rooms` — number of rooms\n",
    "* `studio` — studio apartment (boolean type)\n",
    "* `total_area` — total apartment area in square meters (m²)\n",
    "* `total_images` — number of apartment photos in the ad\n",
    "\n",
    "Even at first glance, it's evident that there are missing values in the data. We'll try to address this during data preprocessing."
   ]
  },
  {
   "cell_type": "markdown",
   "metadata": {},
   "source": [
    "### Conclusion\n",
    "\n",
    "Each row in the table contains the primary parameters that can assist in determining the market value of real estate properties in St. Petersburg and the surrounding region: area, price, number of rooms, and ceiling height. Also, parameters such as the floor number, distance from the city center, and the ad's publication date can significantly influence the property's price and how quickly it was sold.\n",
    "\n",
    "In the following sections, we will attempt to fill in all the missing values where appropriate and investigate the possible reasons that could have led to these gaps in the data."
   ]
  },
  {
   "cell_type": "markdown",
   "metadata": {},
   "source": [
    "## Data Preprocessing"
   ]
  },
  {
   "cell_type": "markdown",
   "metadata": {},
   "source": [
    "Initially, it's essential to calculate how many missing values are present in the table. For this purpose, the `isna()` method can be used."
   ]
  },
  {
   "cell_type": "code",
   "execution_count": 9,
   "metadata": {},
   "outputs": [
    {
     "data": {
      "text/plain": [
       "total_images                0\n",
       "last_price                  0\n",
       "total_area                  0\n",
       "first_day_exposition        0\n",
       "rooms                       0\n",
       "ceiling_height           9195\n",
       "floors_total               86\n",
       "living_area              1903\n",
       "floor                       0\n",
       "is_apartment            20924\n",
       "studio                      0\n",
       "open_plan                   0\n",
       "kitchen_area             2278\n",
       "balcony                 11519\n",
       "locality_name              49\n",
       "airports_nearest         5542\n",
       "cityCenters_nearest      5519\n",
       "parks_around3000         5518\n",
       "parks_nearest           15620\n",
       "ponds_around3000         5518\n",
       "ponds_nearest           14589\n",
       "days_exposition          3181\n",
       "dtype: int64"
      ]
     },
     "execution_count": 9,
     "metadata": {},
     "output_type": "execute_result"
    }
   ],
   "source": [
    "# Counting the number of missing values\n",
    "df.isna().sum()"
   ]
  },
  {
   "cell_type": "markdown",
   "metadata": {},
   "source": [
    "In the columns `airports_nearest`, `parks_around3000`, `parks_nearest`, `ponds_around3000`, and `ponds_nearest`, a significant number of missing values can be observed. Fortunately, not all missing values impact the study, so in these columns, some of the missing values can be replaced with a clear indication, while the rest can be left as is.\n",
    "\n",
    "However, the same approach cannot be applied to the columns `ceiling_height`, `floors_total`, `living_area`, `kitchen_area`, `balcony`, `cityCenters_nearest`, and `days_exposition`, the data from which are essential for answering our questions. In a real-world scenario, it would be beneficial to ascertain the cause of the missing values and recover the data. \n",
    "But since we lack that capability, it's necessary to fill these gaps with explicit indications and also assess how much they might affect the calculations.\n",
    "\n",
    "With the `is_apartment` column, things are not so straightforward. There are many missing values, and it's impossible to accurately infer what the data might be without potentially skewing the results of the analysis. Therefore, we'll leave the missing values unfilled.\n",
    "\n",
    "Since there aren't many missing values in the `locality_name` column, we'll replace them with the value `unknown`."
   ]
  },
  {
   "cell_type": "code",
   "execution_count": 10,
   "metadata": {},
   "outputs": [
    {
     "data": {
      "text/plain": [
       "total_images                0\n",
       "last_price                  0\n",
       "total_area                  0\n",
       "first_day_exposition        0\n",
       "rooms                       0\n",
       "ceiling_height           9195\n",
       "floors_total               86\n",
       "living_area              1903\n",
       "floor                       0\n",
       "is_apartment            20924\n",
       "studio                      0\n",
       "open_plan                   0\n",
       "kitchen_area             2278\n",
       "balcony                     0\n",
       "locality_name              49\n",
       "airports_nearest         5542\n",
       "cityCenters_nearest      5519\n",
       "parks_around3000         5518\n",
       "parks_nearest           15620\n",
       "ponds_around3000         5518\n",
       "ponds_nearest           14589\n",
       "days_exposition          3181\n",
       "dtype: int64"
      ]
     },
     "execution_count": 10,
     "metadata": {},
     "output_type": "execute_result"
    }
   ],
   "source": [
    "# Fill the gaps in column 'balcony' to 0\n",
    "df['balcony'] = df['balcony'].fillna(0)\n",
    "df.isna().sum()"
   ]
  },
  {
   "cell_type": "markdown",
   "metadata": {},
   "source": [
    "If the number of balconies in an apartment is not specified, it's likely that there are none. We can replace the missing values with 0. The same situation could be applied to apartments.\n",
    "\n",
    "Now, let's address the kitchen area. If the property is a studio, we can conclusively fill the missing values with 0, as in studios the room and the kitchen are combined into one."
   ]
  },
  {
   "cell_type": "code",
   "execution_count": 11,
   "metadata": {},
   "outputs": [
    {
     "data": {
      "text/plain": [
       "149"
      ]
     },
     "execution_count": 11,
     "metadata": {},
     "output_type": "execute_result"
    }
   ],
   "source": [
    "# Let's count how many such apartments there are\n",
    "len(df[(np.isnan(df.kitchen_area)) & (df['studio']== True)])"
   ]
  },
  {
   "cell_type": "code",
   "execution_count": 12,
   "metadata": {},
   "outputs": [],
   "source": [
    "# Replace the missing values with 0 for properties that are studios\n",
    "df['kitchen_area'] = df['kitchen_area'].mask(df['studio'] == True, 0)"
   ]
  },
  {
   "cell_type": "markdown",
   "metadata": {},
   "source": [
    "Also, if the number of rooms specified is 0, then the apartment is also considered a studio.\n",
    "\n",
    "In other cases, we'll try using median values to minimize errors in further calculations.\n",
    "\n",
    "Since the kitchen area depends on the number of rooms and the total area, we can divide the average kitchen area by the average total area (depending on the number of rooms) and then multiply the entire area by the resulting coefficient."
   ]
  },
  {
   "cell_type": "code",
   "execution_count": 13,
   "metadata": {},
   "outputs": [],
   "source": [
    "# Function to group data by the first column and find the average value of the second\n",
    "def trandform_func(col1, col2):\n",
    "    return df.groupby(col1)[col2].transform('median')"
   ]
  },
  {
   "cell_type": "code",
   "execution_count": 14,
   "metadata": {},
   "outputs": [],
   "source": [
    "# Function to fill missing values in column col with value\n",
    "def fillna_func(col, value):\n",
    "    df[col] = df[col].fillna(value)\n",
    "    return df[col] "
   ]
  },
  {
   "cell_type": "code",
   "execution_count": 15,
   "metadata": {},
   "outputs": [
    {
     "data": {
      "text/plain": [
       "0        25.000000\n",
       "1        11.000000\n",
       "2         8.300000\n",
       "3        20.691781\n",
       "4        41.000000\n",
       "           ...    \n",
       "23694    13.830000\n",
       "23695     8.500000\n",
       "23696     9.414340\n",
       "23697    23.300000\n",
       "23698     9.000000\n",
       "Name: kitchen_area, Length: 23699, dtype: float64"
      ]
     },
     "metadata": {},
     "output_type": "display_data"
    }
   ],
   "source": [
    "# Let's group the area of the kitchen by the number of rooms\n",
    "kitchen_rooms = trandform_func('rooms', 'kitchen_area')\n",
    "# Let's group the total  area of the kitchen by the number of rooms\n",
    "total_area_rooms = trandform_func('rooms', 'total_area')\n",
    "# Filling the gaps in the column 'kitchen_area'\n",
    "fillna_func('kitchen_area', df['total_area'] * kitchen_rooms / total_area_rooms)\n",
    "display(df['kitchen_area'])"
   ]
  },
  {
   "cell_type": "markdown",
   "metadata": {},
   "source": [
    "Let's do the same with a column `living_area` which is also depending on the number of rooms and the total area of the apartment."
   ]
  },
  {
   "cell_type": "code",
   "execution_count": null,
   "metadata": {},
   "outputs": [],
   "source": [
    "# Группируем площадь жилого помещения по количеству комнат\n",
    "group_living = trandform_func('rooms', 'living_area')\n",
    "# Заполняем пропуски в столбце 'living_area'\n",
    "fillna_func('living_area', new_df['total_area'] * group_living  / total_area_rooms)\n",
    "display(new_df.head())"
   ]
  },
  {
   "cell_type": "markdown",
   "metadata": {},
   "source": [
    "We can't simply fill the `floors_total` column with the median value, because this value might be lower than the value in the `floor` column.\n",
    "\n",
    "Therefore, let's group the total number of floors based on the floor where the real estate object is located."
   ]
  },
  {
   "cell_type": "code",
   "execution_count": 17,
   "metadata": {
    "scrolled": true
   },
   "outputs": [
    {
     "data": {
      "text/plain": [
       "0        16.0\n",
       "1        11.0\n",
       "2         5.0\n",
       "3        14.0\n",
       "4        14.0\n",
       "         ... \n",
       "23694     5.0\n",
       "23695     5.0\n",
       "23696     3.0\n",
       "23697    17.0\n",
       "23698     5.0\n",
       "Name: floors_total, Length: 23699, dtype: float64"
      ]
     },
     "execution_count": 17,
     "metadata": {},
     "output_type": "execute_result"
    }
   ],
   "source": [
    "# Group the number of floors in a building by the floor where the apartment is located\n",
    "group_floor = trandform_func('floor', 'floors_total')\n",
    "# Fill in the missing values in the 'floors_total' column\n",
    "fillna_func('floors_total', group_floor)"
   ]
  },
  {
   "cell_type": "markdown",
   "metadata": {},
   "source": [
    "The `ceiling_height` column might depend on the number of floors, so we'll fill in the missing values with the median ceiling height based on the building's number of floors."
   ]
  },
  {
   "cell_type": "code",
   "execution_count": 18,
   "metadata": {},
   "outputs": [
    {
     "data": {
      "text/plain": [
       "0        2.70\n",
       "1        2.75\n",
       "2        2.55\n",
       "3        2.60\n",
       "4        3.03\n",
       "         ... \n",
       "23694    3.70\n",
       "23695    2.55\n",
       "23696    2.80\n",
       "23697    3.00\n",
       "23698    2.50\n",
       "Name: ceiling_height, Length: 23699, dtype: float64"
      ]
     },
     "execution_count": 18,
     "metadata": {},
     "output_type": "execute_result"
    }
   ],
   "source": [
    "# Group ceiling height by the number of floors in a building\n",
    "ceiling = trandform_func('floors_total', 'ceiling_height')\n",
    "# Fill in the missing values in the 'ceiling_height' column\n",
    "fillna_func('ceiling_height', ceiling)\n",
    "#In case some floors appear in our table only once, \n",
    "#we will fill them with the median value for the entire table\n",
    "fillna_func('ceiling_height', df['ceiling_height'].median())"
   ]
  },
  {
   "cell_type": "markdown",
   "metadata": {},
   "source": [
    "Now, let's deal with those columns that directly depend on the location of the object under consideration."
   ]
  },
  {
   "cell_type": "code",
   "execution_count": 19,
   "metadata": {
    "scrolled": true
   },
   "outputs": [
    {
     "data": {
      "text/html": [
       "<div>\n",
       "<style scoped>\n",
       "    .dataframe tbody tr th:only-of-type {\n",
       "        vertical-align: middle;\n",
       "    }\n",
       "\n",
       "    .dataframe tbody tr th {\n",
       "        vertical-align: top;\n",
       "    }\n",
       "\n",
       "    .dataframe thead th {\n",
       "        text-align: right;\n",
       "    }\n",
       "</style>\n",
       "<table border=\"1\" class=\"dataframe\">\n",
       "  <thead>\n",
       "    <tr style=\"text-align: right;\">\n",
       "      <th></th>\n",
       "      <th>airports_nearest</th>\n",
       "      <th>cityCenters_nearest</th>\n",
       "      <th>parks_around3000</th>\n",
       "      <th>parks_nearest</th>\n",
       "      <th>ponds_around3000</th>\n",
       "      <th>ponds_nearest</th>\n",
       "    </tr>\n",
       "  </thead>\n",
       "  <tbody>\n",
       "    <tr>\n",
       "      <th>0</th>\n",
       "      <td>18863.0</td>\n",
       "      <td>16028.0</td>\n",
       "      <td>1.0</td>\n",
       "      <td>482.0</td>\n",
       "      <td>2.0</td>\n",
       "      <td>755.0</td>\n",
       "    </tr>\n",
       "    <tr>\n",
       "      <th>1</th>\n",
       "      <td>12817.0</td>\n",
       "      <td>18603.0</td>\n",
       "      <td>0.0</td>\n",
       "      <td>NaN</td>\n",
       "      <td>0.0</td>\n",
       "      <td>584.5</td>\n",
       "    </tr>\n",
       "    <tr>\n",
       "      <th>2</th>\n",
       "      <td>21741.0</td>\n",
       "      <td>13933.0</td>\n",
       "      <td>1.0</td>\n",
       "      <td>90.0</td>\n",
       "      <td>2.0</td>\n",
       "      <td>574.0</td>\n",
       "    </tr>\n",
       "    <tr>\n",
       "      <th>3</th>\n",
       "      <td>28098.0</td>\n",
       "      <td>6800.0</td>\n",
       "      <td>2.0</td>\n",
       "      <td>84.0</td>\n",
       "      <td>3.0</td>\n",
       "      <td>234.0</td>\n",
       "    </tr>\n",
       "    <tr>\n",
       "      <th>4</th>\n",
       "      <td>31856.0</td>\n",
       "      <td>8098.0</td>\n",
       "      <td>2.0</td>\n",
       "      <td>112.0</td>\n",
       "      <td>1.0</td>\n",
       "      <td>48.0</td>\n",
       "    </tr>\n",
       "    <tr>\n",
       "      <th>...</th>\n",
       "      <td>...</td>\n",
       "      <td>...</td>\n",
       "      <td>...</td>\n",
       "      <td>...</td>\n",
       "      <td>...</td>\n",
       "      <td>...</td>\n",
       "    </tr>\n",
       "    <tr>\n",
       "      <th>23694</th>\n",
       "      <td>24665.0</td>\n",
       "      <td>4232.0</td>\n",
       "      <td>1.0</td>\n",
       "      <td>796.0</td>\n",
       "      <td>3.0</td>\n",
       "      <td>381.0</td>\n",
       "    </tr>\n",
       "    <tr>\n",
       "      <th>23695</th>\n",
       "      <td>NaN</td>\n",
       "      <td>NaN</td>\n",
       "      <td>NaN</td>\n",
       "      <td>NaN</td>\n",
       "      <td>NaN</td>\n",
       "      <td>NaN</td>\n",
       "    </tr>\n",
       "    <tr>\n",
       "      <th>23696</th>\n",
       "      <td>NaN</td>\n",
       "      <td>NaN</td>\n",
       "      <td>NaN</td>\n",
       "      <td>NaN</td>\n",
       "      <td>NaN</td>\n",
       "      <td>NaN</td>\n",
       "    </tr>\n",
       "    <tr>\n",
       "      <th>23697</th>\n",
       "      <td>39140.0</td>\n",
       "      <td>10364.0</td>\n",
       "      <td>2.0</td>\n",
       "      <td>173.0</td>\n",
       "      <td>3.0</td>\n",
       "      <td>196.0</td>\n",
       "    </tr>\n",
       "    <tr>\n",
       "      <th>23698</th>\n",
       "      <td>NaN</td>\n",
       "      <td>NaN</td>\n",
       "      <td>NaN</td>\n",
       "      <td>NaN</td>\n",
       "      <td>NaN</td>\n",
       "      <td>NaN</td>\n",
       "    </tr>\n",
       "  </tbody>\n",
       "</table>\n",
       "<p>23699 rows × 6 columns</p>\n",
       "</div>"
      ],
      "text/plain": [
       "       airports_nearest  cityCenters_nearest  parks_around3000  parks_nearest  \\\n",
       "0               18863.0              16028.0               1.0          482.0   \n",
       "1               12817.0              18603.0               0.0            NaN   \n",
       "2               21741.0              13933.0               1.0           90.0   \n",
       "3               28098.0               6800.0               2.0           84.0   \n",
       "4               31856.0               8098.0               2.0          112.0   \n",
       "...                 ...                  ...               ...            ...   \n",
       "23694           24665.0               4232.0               1.0          796.0   \n",
       "23695               NaN                  NaN               NaN            NaN   \n",
       "23696               NaN                  NaN               NaN            NaN   \n",
       "23697           39140.0              10364.0               2.0          173.0   \n",
       "23698               NaN                  NaN               NaN            NaN   \n",
       "\n",
       "       ponds_around3000  ponds_nearest  \n",
       "0                   2.0          755.0  \n",
       "1                   0.0          584.5  \n",
       "2                   2.0          574.0  \n",
       "3                   3.0          234.0  \n",
       "4                   1.0           48.0  \n",
       "...                 ...            ...  \n",
       "23694               3.0          381.0  \n",
       "23695               NaN            NaN  \n",
       "23696               NaN            NaN  \n",
       "23697               3.0          196.0  \n",
       "23698               NaN            NaN  \n",
       "\n",
       "[23699 rows x 6 columns]"
      ]
     },
     "execution_count": 19,
     "metadata": {},
     "output_type": "execute_result"
    }
   ],
   "source": [
    "#Create a list of columns where we'll group values\n",
    "#by the 'locality_name' column and replace missing \n",
    "#values with the median value\n",
    "list_of_columns =['airports_nearest', 'cityCenters_nearest', 'parks_around3000', 'parks_nearest',\n",
    "                 'ponds_around3000', 'ponds_nearest']\n",
    "fillna_func(list_of_columns, trandform_func('locality_name', list_of_columns))"
   ]
  },
  {
   "cell_type": "markdown",
   "metadata": {},
   "source": [
    "<div class=\"alert alert-success\">\n",
    "Columns with parks, ponds, and distance to the airport are filled automatically based on geolocation. Missing values can be left as they are since there isn't enough data (e.g., precise geolocation) for a proper replacement. Such an issue should be reported to the database developers to avoid further complications.\n",
    "    <div>"
   ]
  },
  {
   "cell_type": "markdown",
   "metadata": {},
   "source": [
    "Посмотрим, остались ли пропуски в нашей таблице"
   ]
  },
  {
   "cell_type": "code",
   "execution_count": 20,
   "metadata": {},
   "outputs": [
    {
     "data": {
      "text/plain": [
       "total_images                0\n",
       "last_price                  0\n",
       "total_area                  0\n",
       "first_day_exposition        0\n",
       "rooms                       0\n",
       "ceiling_height           9195\n",
       "floors_total               86\n",
       "living_area              1903\n",
       "floor                       0\n",
       "is_apartment            20924\n",
       "studio                      0\n",
       "open_plan                   0\n",
       "kitchen_area             2278\n",
       "balcony                 11519\n",
       "locality_name              49\n",
       "airports_nearest         5542\n",
       "cityCenters_nearest      5519\n",
       "parks_around3000         5518\n",
       "parks_nearest           15620\n",
       "ponds_around3000         5518\n",
       "ponds_nearest           14589\n",
       "days_exposition          3181\n",
       "dtype: int64"
      ]
     },
     "execution_count": 20,
     "metadata": {},
     "output_type": "execute_result"
    }
   ],
   "source": [
    "new_df.isna().sum()"
   ]
  },
  {
   "cell_type": "markdown",
   "metadata": {},
   "source": [
    "The number of missing values in the `parks_nearest` and p`onds_nearest` columns has decreased by three times, but still, it accounts for almost 20% of all data. Missing values in columns `airports_nearest`, `parks_around3000`, `parks_nearest`, `ponds_around3000`, and `ponds_nearest` can be filled using Yandex.Maps, but these data aren't that crucial to us, so they can be left untouched.\n",
    "\n",
    "However, the columns `cityCenters_nearest` and `days_exposition` are essential for further analysis, but we can't simply fill them with median values because we can't conclusively deduce the relationship between an object's proximity to the center and the number of days the listing was posted. Hence, we'll try to assess the impact of these missing values."
   ]
  },
  {
   "cell_type": "markdown",
   "metadata": {},
   "source": [
    "### Замена типа данных"
   ]
  },
  {
   "cell_type": "markdown",
   "metadata": {},
   "source": [
    "По условию задания, колонки `is_apartment`, `open_plan` и `studio` имеют булев тип, а в столбцах `last_price`, `balcony`, `floor` и `floors_total` было бы неплохо поменять тип данных на `int`."
   ]
  },
  {
   "cell_type": "code",
   "execution_count": null,
   "metadata": {},
   "outputs": [],
   "source": [
    "# Функция для замены вещественного типа данных на числовой\n",
    "def change_type(col, type_of_col):\n",
    "    new_df[col] = new_df[col].astype(type_of_col)\n",
    "    return new_df[col]"
   ]
  },
  {
   "cell_type": "code",
   "execution_count": null,
   "metadata": {},
   "outputs": [],
   "source": [
    "# Замена типов значений в колонках 'last_price', 'balcony', 'floor', 'floors_total' на int\n",
    "list_of_columns = ['last_price', 'balcony', 'floor', 'floors_total']\n",
    "change_type(list_of_columns, 'int')"
   ]
  },
  {
   "cell_type": "markdown",
   "metadata": {},
   "source": [
    "В колонке `first_day_exposition` находится дата публикации, поэтому необходимо перевести значения в тип `datetime`"
   ]
  },
  {
   "cell_type": "code",
   "execution_count": null,
   "metadata": {},
   "outputs": [],
   "source": [
    "# Перевод типа значений колонки 'first_day_exposition' на datetime\n",
    "new_df['first_day_exposition'] = pd.to_datetime(new_df['first_day_exposition'], format='%Y.%m.%dT%H:%M:%S')"
   ]
  },
  {
   "cell_type": "code",
   "execution_count": null,
   "metadata": {},
   "outputs": [],
   "source": [
    "# Перевод типа значений колонок 'open_plan', 'studio' в bool\n",
    "list_of_columns = ['open_plan', 'studio']\n",
    "new_df[list_of_columns] = new_df[list_of_columns].replace('False', '')\n",
    "change_type(list_of_columns, 'bool')"
   ]
  },
  {
   "cell_type": "code",
   "execution_count": null,
   "metadata": {},
   "outputs": [],
   "source": [
    "# Проверяем уникальные значения в колонке 'is_apartment'\n",
    "new_df['is_apartment'].value_counts()"
   ]
  },
  {
   "cell_type": "markdown",
   "metadata": {},
   "source": [
    "С колонкой `is_apartment` не все так просто, так как там очень много пропущенных значений, и нельзя однозначно без последуюющего искажения результатов анализа предположить, какие данные там могут быть. Поэтому оставим пропуски незаполенными."
   ]
  },
  {
   "cell_type": "code",
   "execution_count": null,
   "metadata": {},
   "outputs": [],
   "source": [
    "# Так как в колонке 'days_exposition' есть пропуски, округляем до целого и переводим в тип Int64\n",
    "new_df['days_exposition'] = round(new_df['days_exposition'])\n",
    "new_df['days_exposition'] = new_df['days_exposition'].astype('Int64')"
   ]
  },
  {
   "cell_type": "markdown",
   "metadata": {},
   "source": [
    "### Вывод\n",
    " \n",
    "* По условию задачи, для некоторых пропущенных значений можно предположить логичную замену. Например, если человек не указал число балконов — скорее всего, их нет. Поэтому пропуски в колонке `balcony` были заменены на 0;\n",
    "* Пропуски в столбцах `ceiling_height` были сгруппированы по количеству этажей, а `floors_total` по этажу, где находится объект недвижимости, и далее заменены на медианные значения;\n",
    "* Пропуски в столбцах `living_area`, `kitchen_area` были сгруппированы по колчеству комнат и по общей площади и заменены на значения, равные произведению общей площади на коэффициент отношения площади кухни и жилой площади к общей пощади соответсвенно.\n",
    "* Пропуски в столбцах `days_exposition`, `airports_nearest`, `cityCenters_nearest`, `parks_around3000`, `parks_nearest, ponds_around3000`, `ponds_nearest`, `airports_nearest` были оставлены, так как нельзя их однозначно сгруппировать в другими параметрами и заполнить медианными значениями.\n",
    "\n",
    "Помимо заполнения пропусков, были заменены типы данных:\n",
    "\n",
    "* В столбцах `last_price`, `floors_total` и `balcony` на целочисленный, так как цена в таблице не имеет ненулевой дробной части, а количество этажей и балконов в принципе не может быть нецелым числом;\n",
    "* В столбцах `studio` и `open_plan` на тип `bool` по условиям задачи.\n",
    "\n",
    "В остальных колонках тип значений не менялся, так как для более точных расчетов лучше использовать вещественный тип данных и округлять уже конечный результат."
   ]
  },
  {
   "cell_type": "markdown",
   "metadata": {},
   "source": [
    "<div class=\"alert alert-success\">\n",
    "<h2> Комментарий от ревьюера<a class=\"tocSkip\"></a></h2>\n",
    "Отлично, теперь все столбцы имеют корректный формат данных\n",
    " \n",
    "</div>"
   ]
  },
  {
   "cell_type": "markdown",
   "metadata": {},
   "source": [
    "## Расчёты и добавление результатов в таблицу"
   ]
  },
  {
   "cell_type": "markdown",
   "metadata": {},
   "source": [
    "Посчитаем цену квадратного метра"
   ]
  },
  {
   "cell_type": "code",
   "execution_count": null,
   "metadata": {},
   "outputs": [],
   "source": [
    "# Считаем цену квадратного метра, поделив цену на общую площадь\n",
    "new_df['price_per_square_metre'] = (new_df['last_price'] / new_df['total_area'])"
   ]
  },
  {
   "cell_type": "markdown",
   "metadata": {},
   "source": [
    "Добавим в таблицу день недели, месяц и год публикации объявления"
   ]
  },
  {
   "cell_type": "code",
   "execution_count": null,
   "metadata": {},
   "outputs": [],
   "source": [
    "# Добавляем в таблицу год\n",
    "new_df['day_of_exposition'] = new_df['first_day_exposition'].dt.dayofweek\n",
    "# месяц\n",
    "new_df['month_of_exposition'] = new_df['first_day_exposition'].dt.month\n",
    "# и день публикации объявления\n",
    "new_df['year_of_exposition'] = new_df['first_day_exposition'].dt.year"
   ]
  },
  {
   "cell_type": "markdown",
   "metadata": {},
   "source": [
    "<div class=\"alert alert-success\">\n",
    "<h2> Комментарий от ревьюера<a class=\"tocSkip\"></a></h2>\n",
    "Здорово, что ты используешь дополнительные библиотеки. Решения получаются максимально понятными и лаконичными\n",
    " \n",
    "</div>"
   ]
  },
  {
   "cell_type": "markdown",
   "metadata": {},
   "source": [
    "Также необходимо по условию задания добавить этаж квартиры; варианты — первый, последний, другой"
   ]
  },
  {
   "cell_type": "code",
   "execution_count": null,
   "metadata": {},
   "outputs": [],
   "source": [
    "# Создаем функцию, которая принимает на вход строку таблицы\n",
    "def building_floor(row):\n",
    "    # присваиваем переменой floor этаж\n",
    "    floor = row['floor']\n",
    "    # а переменной floors_total - количество этажей в здании\n",
    "    floors_total = row['floors_total']\n",
    "    # если этаж = 1\n",
    "    if floor == 1:\n",
    "        return 'первый'\n",
    "    # если этаж совпадает с количеством этажей в здании\n",
    "    elif floor == floors_total:\n",
    "        return 'последний'\n",
    "    # иначе\n",
    "    else:\n",
    "        return 'другой'"
   ]
  },
  {
   "cell_type": "code",
   "execution_count": null,
   "metadata": {},
   "outputs": [],
   "source": [
    "# Применим функцию к таблице\n",
    "new_df['flat_floor'] = new_df.apply(building_floor, axis = 1)"
   ]
  },
  {
   "cell_type": "markdown",
   "metadata": {},
   "source": [
    "Осталось добавить соотношение жилой и общей площади, а также отношение площади кухни к общей"
   ]
  },
  {
   "cell_type": "code",
   "execution_count": null,
   "metadata": {},
   "outputs": [],
   "source": [
    "# Находим сотношение жилой и общей площади\n",
    "new_df['living_to_total_area'] = new_df['living_area'] / new_df['total_area']\n",
    "# и отношение площади кухни к общей \n",
    "new_df['kitchen_to_total_area'] = new_df['kitchen_area'] / new_df['total_area']"
   ]
  },
  {
   "cell_type": "code",
   "execution_count": null,
   "metadata": {},
   "outputs": [],
   "source": [
    "# Выведем таблицу с новыми данными\n",
    "new_df.head()"
   ]
  },
  {
   "cell_type": "markdown",
   "metadata": {},
   "source": [
    "### Вывод\n",
    "\n",
    "В результате были добавлены в таблицу:\n",
    "\n",
    "* цена квадратного метра;\n",
    "* день недели, месяц и год публикации объявления;\n",
    "* этаж квартиры; варианты — первый, последний, другой;\n",
    "* соотношение жилой и общей площади, а также отношение площади кухни к общей.\n",
    "\n",
    "Полученные данные помогут более точно провести исследовательский анализ данных и минимизировать погрешности из-за пропуска данных."
   ]
  },
  {
   "cell_type": "markdown",
   "metadata": {},
   "source": [
    "## Исследовательский анализ данных"
   ]
  },
  {
   "cell_type": "markdown",
   "metadata": {},
   "source": [
    "### Изучение площади, цены, числа комнат и высоты потолков"
   ]
  },
  {
   "cell_type": "code",
   "execution_count": null,
   "metadata": {},
   "outputs": [],
   "source": [
    "# Импорт библиотек для построения гистограмм\n",
    "import matplotlib.pyplot as plt\n",
    "# Функция для параметра, которая строит гистограмму по значениям столбца value\n",
    "# в рамках first_boarder и last_boarder с количеством разбиений number_of_bins\n",
    "def plot_hist(value, number_of_bins, first_boarder, last_boarder ):\n",
    "    graph = new_df[value].hist(range = (first_boarder, last_boarder),bins = number_of_bins)\n",
    "    plt.show()\n",
    "    return new_df[value].describe(), graph"
   ]
  },
  {
   "cell_type": "markdown",
   "metadata": {},
   "source": [
    "<div class=\"alert alert-warning\">\n",
    "<h2> Комментарий от ревьюера<a class=\"tocSkip\"></a></h2>\n",
    "Как я уде писала выше, ты молодец, что стараешься максимально автоматизировать код. В функцию я бы еще добавила параметр с названием графика и подписью осей. Так твои графики станут более понятныыми и наглядными\n",
    "</div>"
   ]
  },
  {
   "cell_type": "code",
   "execution_count": null,
   "metadata": {},
   "outputs": [],
   "source": [
    "# Строим график площади\n",
    "plot_hist('total_area', 100, 10, 200) "
   ]
  },
  {
   "cell_type": "markdown",
   "metadata": {},
   "source": [
    "Хотя средняя площадь объекта недвижимости равна примерно 52 кв.м., имеются пики на 26 и на 45 кв.м. Есть подозриетльные провалы ближе к 50 и 65 кв.м. Возможно, эти площади непопулярны, а может есть проблема в самих данных."
   ]
  },
  {
   "cell_type": "code",
   "execution_count": null,
   "metadata": {},
   "outputs": [],
   "source": [
    "# Строим график цены\n",
    "plot_hist('last_price', 100, 0, 20000000)  "
   ]
  },
  {
   "cell_type": "markdown",
   "metadata": {},
   "source": [
    "График цены представляет вид нормального распределения, не наблюдается подозрительных пиков."
   ]
  },
  {
   "cell_type": "code",
   "execution_count": null,
   "metadata": {},
   "outputs": [],
   "source": [
    "# Строим график количества комнат\n",
    "plot_hist('rooms',10, 0, 19)  "
   ]
  },
  {
   "cell_type": "markdown",
   "metadata": {},
   "source": [
    "Для количества комнат график адекватный - большая часть объектов недвижимости лежит от 1 до 3 комнат, однако есть странные значения с количеством комнат, равным 0. Кухня может отсутствовать, но только не комната. Такие значения надо убрать."
   ]
  },
  {
   "cell_type": "code",
   "execution_count": null,
   "metadata": {},
   "outputs": [],
   "source": [
    "# Строим график высоты потолка\n",
    "plot_hist('ceiling_height',10, 2, 5)  "
   ]
  },
  {
   "cell_type": "markdown",
   "metadata": {},
   "source": [
    "Высота потолков лежит в пределах от 2.2 до 3 метров. Это нормальная высота для потолков в жилых и офисных зданиях. Максимальная цена потолка в 100 метров имеет место быть, однако для нашего анализа ее лучше убрать, чтобы она не влияла на средние показатели."
   ]
  },
  {
   "cell_type": "markdown",
   "metadata": {},
   "source": [
    "**Вывод**\n",
    "\n",
    "* Видно, что на гистограмме площади 75% всех значений меньше 70 кв.м., а это значит, что значения больше ~200 являются редкими, а значения в 900 кв.м. выбивающимися.\n",
    "* Гистограмма цены выглядит вполне приемлемо, разве что цена большинства объектов недвижимости (~75%)  меньше 6.800.000 у.е. \n",
    "* На гистограмме количества комнат присутствуют квартиры с нулевым значением. Такого быть не может, поэтому такие значения необходимо удлалить.\n",
    "* Высота потолков тоже не вызывает особых сомнений, за исключением высоты в 100 метров. Такие значения являются редкими, и их можно спокойно убрать, чтобы они не влияли на дальнейшие исследования.\n"
   ]
  },
  {
   "cell_type": "markdown",
   "metadata": {},
   "source": [
    "<div class=\"alert alert-success\">\n",
    "<h2> Комментарий от ревьюера<a class=\"tocSkip\"></a></h2>\n",
    "Да, слишком дорогие квартиры не стоит учитывать. Такая недвижимость относится к элитному классу и заслуживает отдельного исследования.\n",
    " \n",
    "</div>"
   ]
  },
  {
   "cell_type": "markdown",
   "metadata": {},
   "source": [
    "### Изучение времени продажи квартиры"
   ]
  },
  {
   "cell_type": "code",
   "execution_count": null,
   "metadata": {},
   "outputs": [],
   "source": [
    "# Строим график времени продажи квартиры\n",
    "plot_hist('days_exposition', 100, 0, 1580)"
   ]
  },
  {
   "cell_type": "code",
   "execution_count": null,
   "metadata": {},
   "outputs": [],
   "source": [
    "# Поменяем границы\n",
    "plot_hist('days_exposition', 100, 40, 100)"
   ]
  },
  {
   "cell_type": "code",
   "execution_count": null,
   "metadata": {},
   "outputs": [],
   "source": [
    "# Оценим выбросы в колонке 'days_exposition'\n",
    "new_df.boxplot(column = 'days_exposition')"
   ]
  },
  {
   "cell_type": "code",
   "execution_count": null,
   "metadata": {},
   "outputs": [],
   "source": [
    "# Посмотрим, как зависит день выставления объявления от количества дней, когда объявление было опубликовано\n",
    "new_df.plot(x = 'first_day_exposition', y = 'days_exposition', style = 'o', ylim = (0, 1000), grid = True, figsize = (12, 6))"
   ]
  },
  {
   "cell_type": "markdown",
   "metadata": {},
   "source": [
    "Четко прослеживается, что с начала 2015 по середину 2019 годов количество дней значительно уменьшалось. Однако также наблюдается странный провал в данных - с июля 2016 по января 2017."
   ]
  },
  {
   "cell_type": "code",
   "execution_count": null,
   "metadata": {},
   "outputs": [],
   "source": [
    "# Оценим провал данных по отношению ко всему количеству данных\n",
    "len(new_df.query('first_day_exposition >= \"2016-07-01\" & first_day_exposition <= \"2017-01-01\"')) / new_df.shape[0]"
   ]
  },
  {
   "cell_type": "markdown",
   "metadata": {},
   "source": [
    "**Вывод**\n",
    "\n",
    "* Нормальной продажей объекта является период от 45 до 232 дней, согласно диаграмме размаха. Соответсвенно, аномально быстрые продажи будут меньше 45 дней, а медленные - дольше 232 дней. \n",
    "* Среднее значение отличается от медианного в два раза (`среднее` = 180.888634, `медиана` = 95.000000), что означает, что выбивающиеся значения вляют на данные, поэтому необходимо их как-то ограничить.Так как \"усы\" графика начинаются примерно с 500 дней, эти данные можно удалить.\n",
    "* Имеются подозрительные пики на 45, 60 и 90 днях публикации. Их, по условию задачи, будет необходимо удалить.\n",
    "* Также видно, что с начала 2015 по середину 2019 годов количество дней публикации значительно уменьшалось - возможно, интернет есурсы стали со временем пользоваться бОльшей популярностью, поэтому количество дней начало сокращаться. Однако также наблюдается странный провал в данных - с июля 2016 по января 2017. Возможно, были какие-то проблемы на рынке недвижимости либо проблема в самих данных."
   ]
  },
  {
   "cell_type": "markdown",
   "metadata": {},
   "source": [
    "<div class=\"alert alert-success\">\n",
    "<h2> Комментарий от ревьюера<a class=\"tocSkip\"></a></h2>\n",
    "В среднем продажа квартир занимает 2-3 месяца. Если же сделка длилась больше года, то такую продажу можно считать долгой.   \n",
    " \n",
    "</div>"
   ]
  },
  {
   "cell_type": "markdown",
   "metadata": {},
   "source": [
    "### Удаление редких и выбивающихся значений"
   ]
  },
  {
   "cell_type": "code",
   "execution_count": null,
   "metadata": {},
   "outputs": [],
   "source": [
    "# Список исследуемых значений\n",
    "list_of_columns = ['total_area','last_price', 'rooms', 'ceiling_height' ]\n",
    "# Строим диаграммы размаха, чтобы посмотреть\n",
    "for value in list_of_columns:\n",
    "    new_df.boxplot(column = value)\n",
    "    plt.show()"
   ]
  },
  {
   "cell_type": "code",
   "execution_count": null,
   "metadata": {},
   "outputs": [],
   "source": [
    "# Ограничим площадь 180 кв.м., так как недвижимость бОльшей площади встречается довольно редко\n",
    "new_df = new_df[(new_df['total_area'] <= 180)]\n",
    "# Ограничим цену, так как квартиры стоимостью больше 15000000 составляют менее 1% от всех данных\n",
    "new_df = new_df[(new_df['last_price'] <= 15000000) & (new_df['last_price'] >= 900000)] \n",
    "# Отбросим нулевое количество комнат и количество, больше 6\n",
    "new_df = new_df[(new_df['rooms'] <= 6 ) &(new_df['rooms'] != 0 )]\n",
    "# Удалим потолки меньше 2.3 метра и выше 3\n",
    "new_df = new_df[(new_df['ceiling_height'] >= 2.3 ) & (new_df['ceiling_height'] <= 3 )]\n",
    "# Уберем выбивающиеся значения 45, 60 и 90 дней в днях публикации оъявления\n",
    "new_df = new_df[(~new_df['days_exposition'].isin([45, 60, 90])) ]\n",
    "new_df = new_df[(new_df['days_exposition'] < 800 )]"
   ]
  },
  {
   "cell_type": "markdown",
   "metadata": {},
   "source": [
    "<div class=\"alert alert-success\">\n",
    "<h2> Комментарий от ревьюера<a class=\"tocSkip\"></a></h2>\n",
    "Да, сейчас ты сделала оценку по графикам. Можно пойти другим способом и написать формулу отсечения выбросов. Например, вот <a href='https://ru.wikipedia.org/wiki/%D0%AF%D1%89%D0%B8%D0%BA_%D1%81_%D1%83%D1%81%D0%B0%D0%BC%D0%B8'>здесь</a> есть пример, как можно убрать значения, расположенные выше и ниже усов на графике  \n",
    " \n",
    "</div>"
   ]
  },
  {
   "cell_type": "code",
   "execution_count": null,
   "metadata": {},
   "outputs": [],
   "source": [
    "list_of_columns = ['total_area','last_price', 'rooms', 'ceiling_height', 'days_exposition']\n",
    "for value in list_of_columns:\n",
    "    print(value, new_df[value].describe())\n",
    "    print()"
   ]
  },
  {
   "cell_type": "markdown",
   "metadata": {},
   "source": [
    "**Вывод**\n",
    "\n",
    "* Для общей площади площади поставим верхнюю границу в 180 кв.м., так как бОльшей площадью обладает малое количество квартир, и \"усы\" диаграммы размаха с выбивающимися значениями проходят по этой границе.\n",
    "* Цену также нужно ограничить до 15млн, так как больше этой цены выставлено менее 1% объявлений; также ограничим снизу до 900000, так как есть подозрительная недвижимость стоимостью 12000.\n",
    "* Количество комнат было ограничено 6-ю, а также были удалены квартиры с нулевым количеством комнат.\n",
    "* Высота потолка была ограничена медлу 2.3 и 3 метрами, так как это наиболее распространенные высоты, а потолки высотой 1 и 100 метров являются достаточно редкими.\n",
    "* Количество дней, когда объявление было опубликовано, так же было ограничено 800 днями, а также были удалены странные всплески в районе 45, 60 и 90 дней. Теперь среднее немного приблизилось к значению медианы (`среднее` = 159.726761, `медиана` = 100.000000), данные стали точнее. Однако, все равно разница существенная - это говорит о том, что мы не избавились от всех выбивающихся значений.\n"
   ]
  },
  {
   "cell_type": "markdown",
   "metadata": {},
   "source": [
    "### Изучение зависимости цены от параметров"
   ]
  },
  {
   "cell_type": "markdown",
   "metadata": {},
   "source": [
    "Проверим, зависит ли цена от площади, числа комнат, удалённости от центра. "
   ]
  },
  {
   "cell_type": "code",
   "execution_count": null,
   "metadata": {},
   "outputs": [],
   "source": [
    "# Построим матрицу диаграммы рассеяния, чтобы посмотреть сразу же все параметры\n",
    "list_of_columns = ['last_price','total_area','rooms','cityCenters_nearest']\n",
    "pd.plotting.scatter_matrix(new_df[list_of_columns], figsize=(12, 12), alpha = 0.03)"
   ]
  },
  {
   "cell_type": "code",
   "execution_count": null,
   "metadata": {},
   "outputs": [],
   "source": [
    "# Сгруппируем данные количества комнат по цене квадратного метра\n",
    "pivot_table_df = new_df.pivot_table(index = 'rooms', values = 'price_per_square_metre',aggfunc = 'median')\n",
    "pivot_table_df.plot()"
   ]
  },
  {
   "cell_type": "code",
   "execution_count": null,
   "metadata": {},
   "outputs": [],
   "source": [
    "# Посчитаем корреляцию для этих параметров\n",
    "for value in list_of_columns:\n",
    "    print(value, new_df['last_price'].corr(new_df[value]))"
   ]
  },
  {
   "cell_type": "markdown",
   "metadata": {},
   "source": [
    "**Вывод**\n",
    "\n",
    "Из графика и коэффициента корреляции видно, что:\n",
    "- чем больше площадь, тем больше цена объекта;\n",
    "- самые распространенные однушки, двушки и трешки. Чем больше комнат (до 3-ех), тем выше цена. Однако, цена квадратного метра с увеличением количества комнат падает;\n",
    "- чем дальше от центра, тем квартира дешевле,  и больше всего квартир представлено в диапазоне от 10 до 20 км от центра."
   ]
  },
  {
   "cell_type": "markdown",
   "metadata": {},
   "source": [
    "<div class=\"alert alert-success\">\n",
    "<h2> Комментарий от ревьюера<a class=\"tocSkip\"></a></h2>\n",
    "Вполне логичный вовод. Цена квартиры зависит от ее площади. А вот количество комнат играет явно не решающую роль в образовании цены\n",
    "</div>"
   ]
  },
  {
   "cell_type": "markdown",
   "metadata": {},
   "source": [
    "Изучим зависимость цены от того, на каком этаже расположена квартира: первом, последнем или другом. "
   ]
  },
  {
   "cell_type": "code",
   "execution_count": null,
   "metadata": {},
   "outputs": [],
   "source": [
    "# Сгруппируем данные по этажам\n",
    "pivot_table_df = new_df.pivot_table(index = 'flat_floor', values = 'last_price',aggfunc = 'median')\n",
    "pivot_table_df.plot()"
   ]
  },
  {
   "cell_type": "markdown",
   "metadata": {},
   "source": [
    "На первом этаже самые дешевые квартиры, самые дорогие - на другом."
   ]
  },
  {
   "cell_type": "markdown",
   "metadata": {},
   "source": [
    "<div class=\"alert alert-success\">\n",
    "<h2> Комментарий от ревьюера<a class=\"tocSkip\"></a></h2>\n",
    "Кваритры на первом этаже стоят дешевле всего, причем вне зависимости от месторасположения7\n",
    "</div>"
   ]
  },
  {
   "cell_type": "markdown",
   "metadata": {},
   "source": [
    "Изучим зависимость от даты размещения: дня недели, месяца и года."
   ]
  },
  {
   "cell_type": "code",
   "execution_count": null,
   "metadata": {},
   "outputs": [],
   "source": [
    "# Сгруппируем данные по дням недели\n",
    "pivot_table_df = new_df.pivot_table(index = 'day_of_exposition', values = 'last_price',aggfunc = 'median')\n",
    "pivot_table_df.plot()"
   ]
  },
  {
   "cell_type": "markdown",
   "metadata": {},
   "source": [
    "Похоже, самые дешевые квартиры продаются по пятницам, а самые дорогие по вторникам, средам, четвергам и субботам."
   ]
  },
  {
   "cell_type": "code",
   "execution_count": null,
   "metadata": {},
   "outputs": [],
   "source": [
    "# Сгруппируем данные по месяцам\n",
    "pivot_table_df = new_df.pivot_table(index = 'month_of_exposition', values = 'last_price',aggfunc = 'median')\n",
    "pivot_table_df.plot()"
   ]
  },
  {
   "cell_type": "markdown",
   "metadata": {},
   "source": [
    "По графику видно, что самые дорогие квартиры продаются в начале года и ближе к концу осени, а самые дешевые в середине года."
   ]
  },
  {
   "cell_type": "code",
   "execution_count": null,
   "metadata": {},
   "outputs": [],
   "source": [
    "# Сгруппируем данные по годам\n",
    "pivot_table_df = new_df.pivot_table(index = 'year_of_exposition', values = 'last_price',aggfunc = 'median')\n",
    "pivot_table_df.plot()"
   ]
  },
  {
   "cell_type": "markdown",
   "metadata": {},
   "source": [
    "С 2014 по 2016 рынок значительно упал в цене, однако после этого начал понемногу расти."
   ]
  },
  {
   "cell_type": "markdown",
   "metadata": {},
   "source": [
    "<div class=\"alert alert-success\">\n",
    "<h2> Комментарий от ревьюера<a class=\"tocSkip\"></a></h2>\n",
    "Ни день недели, ни месяц не влияют на стоимость жилья. Цена изменяется в пределах погрешности.\n",
    "</div>"
   ]
  },
  {
   "cell_type": "markdown",
   "metadata": {},
   "source": [
    "**Вывод**\n",
    "\n",
    "* На первом этаже самые дешевые квартиры - это и понятно: на первых этажах обычно распологаются различные магазины и салоны, в таком окружении жить мало приятного, поэтому многие предпочитают жить повыше. Однако, не на последнем, так как \"другой\" этаж стоит дороже всего. Это также может быть связано с тем, что на более высоких этажах напор воды в трубах может быть меньше, если сломается лифт, придется топать очень высоко, однако вид наверняка открывается прекрасный. \n",
    "* Самые дорогие квартиры продают в начале и конце года - возможно, в это время самый пик продаж - лди стремятся начать жизн с нового листа, либо получают годовую премию и начинают покупать квартиры. Спрос рождает предложение, и цена может меняться в большую сторону. В середине года затишье, всев отпусках, тут не до квартир.\n",
    "* Пережив пик цен в 2014, рынок недвижимости сбавил обороты к 2016 - возможно, сказался мировой кризис 2014 года. Однако после этого цена начала потихоньку увеличиваться и, без сомнений, на настоящий момент вполне могла побить рекорд 2014 года."
   ]
  },
  {
   "cell_type": "markdown",
   "metadata": {},
   "source": [
    "### Подсчет средней цены квадратного метра в 10-ти населённых пунктах с наибольшим числом объявлений. "
   ]
  },
  {
   "cell_type": "code",
   "execution_count": null,
   "metadata": {},
   "outputs": [],
   "source": [
    "# Выберем 10 населенных пунктов с самым большим количеством объявлений\n",
    "new_df['locality_name'].value_counts().head(10)"
   ]
  },
  {
   "cell_type": "code",
   "execution_count": null,
   "metadata": {},
   "outputs": [],
   "source": [
    "new_df[new_df['locality_name'].str.contains('Мурино')].shape[0]"
   ]
  },
  {
   "cell_type": "markdown",
   "metadata": {},
   "source": [
    "Видно, что десятку наиболее популярных населенных пунктов возглавляет Санкт-Петербург. Однако, есть вероятность, что в списке подсчитаны не все населенные пункты, так как один и тот же пункт мог быть записан как поселок городского типа, либо просто как поселок. Поэтому посчитаем сами названия."
   ]
  },
  {
   "cell_type": "code",
   "execution_count": null,
   "metadata": {},
   "outputs": [],
   "source": [
    "# Создаем отдельный список, куда впишем названия всех населенных пунктов\n",
    "list_of_names = []\n",
    "# Добавляем в список пункты из столбца 'locality_name'\n",
    "list_of_names = new_df['locality_name'].tolist()\n",
    "# Отделим от названий все лишние слова, начинающиеся с маленькой буквы и выведем новый список\n",
    "new_df.loc[:,'new_names'] = [' '.join(w for w in a.split() if w.lower() != w)  for a in list_of_names]\n",
    "new_df['new_names'].value_counts().head(10)"
   ]
  },
  {
   "cell_type": "markdown",
   "metadata": {},
   "source": [
    "Видно, в Кудрово оказалось больше объявлений, чем в Шушарах."
   ]
  },
  {
   "cell_type": "code",
   "execution_count": null,
   "metadata": {},
   "outputs": [],
   "source": [
    "# Посчитаем среднюю цену квадратного метра в этих населенных пунктах\n",
    "new_pivot = new_df.pivot_table(index = 'new_names', values = 'price_per_square_metre', aggfunc = ['count','median'])\n",
    "new_pivot.columns = ['count', 'price_per_square_metre']\n",
    "new_pivot.sort_values(by = 'count', ascending = False).head(10)"
   ]
  },
  {
   "cell_type": "markdown",
   "metadata": {},
   "source": [
    "<div class=\"alert alert-success\">\n",
    "<h2> Комментарий от ревьюера<a class=\"tocSkip\"></a></h2>\n",
    "Да, Выборг замыкает эту 10-ку)\n",
    "</div>"
   ]
  },
  {
   "cell_type": "code",
   "execution_count": null,
   "metadata": {},
   "outputs": [],
   "source": [
    "# Находим населенный пункт с самой высокой стоимостью жилья\n",
    "new_df.loc[new_df['last_price'].idxmax()]"
   ]
  },
  {
   "cell_type": "code",
   "execution_count": null,
   "metadata": {},
   "outputs": [],
   "source": [
    "# Находим населенный пункт с самой низкой стоимостью жилья\n",
    "new_df.loc[new_df['last_price'].idxmin()]"
   ]
  },
  {
   "cell_type": "markdown",
   "metadata": {},
   "source": [
    "**Вывод**\n",
    "\n",
    "В десятке самых популярных объявлений первое место занимает Санкт-Петербург как центр Ленинградской области, десятку замыкает Выборг. \n",
    "Так же в Санкт-Петербурге находится самое дорогое жилье, а выгоднее всего брать недвижимость в Сясьстрое - всего лишь 144 км от Питера."
   ]
  },
  {
   "cell_type": "markdown",
   "metadata": {},
   "source": [
    "### Нахождение область, входящей в центр"
   ]
  },
  {
   "cell_type": "code",
   "execution_count": null,
   "metadata": {},
   "outputs": [],
   "source": [
    "# Округлим расстояние до центра в километры и запишем в новый столбец 'cityCenters_km'\n",
    "new_df['cityCenters_km'] = round(new_df['cityCenters_nearest'] / 1000)\n",
    "# Сгруппируем по расстоянию до центра\n",
    "pivot_km = new_df.pivot_table(index='cityCenters_km', values= 'last_price', aggfunc='median')\n",
    "pivot_km.plot(figsize=(5,5))"
   ]
  },
  {
   "cell_type": "markdown",
   "metadata": {},
   "source": [
    "**Вывод**\n",
    "\n",
    "График растет примерно до 3 км, а потом начинает резко падать. Выберем этот диапазон как границы центра Санкт-Петербурга."
   ]
  },
  {
   "cell_type": "markdown",
   "metadata": {},
   "source": [
    "<div class=\"alert alert-success\">\n",
    "<h2> Комментарий от ревьюера<a class=\"tocSkip\"></a></h2>\n",
    "Как думаешь, с чем связаны выбросы после 40 км?\n",
    "</div>"
   ]
  },
  {
   "cell_type": "markdown",
   "metadata": {},
   "source": [
    "### Анализ сегмента квартир в центре"
   ]
  },
  {
   "cell_type": "markdown",
   "metadata": {},
   "source": [
    "Для начала, изучим такие параметры как: площадь, цена, число комнат, высота потолков."
   ]
  },
  {
   "cell_type": "code",
   "execution_count": null,
   "metadata": {},
   "outputs": [],
   "source": [
    "# Выделим только те квартиры, которые находятся менее чем в трех километрах от центра.\n",
    "rich_df = new_df[(new_df['cityCenters_km'] < 3)]\n",
    "rich_df"
   ]
  },
  {
   "cell_type": "code",
   "execution_count": null,
   "metadata": {},
   "outputs": [],
   "source": [
    "# Создадим список изучаемых колонок\n",
    "list_of_columns = ['total_area', 'last_price', 'rooms','ceiling_height']\n",
    "# Для каждого столбца построим гистограмму и посмотрим размах\n",
    "for value in list_of_columns:\n",
    "    rich_df[value].hist(bins = 100)\n",
    "    print(rich_df[value].describe())\n",
    "    plt.show()"
   ]
  },
  {
   "cell_type": "markdown",
   "metadata": {},
   "source": [
    "Гистограммы выглядят более \"мохнатыми\", чем те, что были построены по всем данным таблицы, но общая тенденция прослеживается.\n",
    "\n",
    "Теперь выделим факторы, которые влияют на стоимость квартиры (число комнат, этаж, удалённость от центра, дата размещения объявления)."
   ]
  },
  {
   "cell_type": "markdown",
   "metadata": {},
   "source": [
    "<div class=\"alert alert-success\">\n",
    "<h2> Комментарий от ревьюера<a class=\"tocSkip\"></a></h2>\n",
    "Тенденции прослеживаеются. Центральные квартиры отличаются площадью, ценой и большим количеством комнат.\n",
    "</div>"
   ]
  },
  {
   "cell_type": "code",
   "execution_count": null,
   "metadata": {},
   "outputs": [],
   "source": [
    "pd.plotting.scatter_matrix(rich_df[['last_price','rooms','cityCenters_nearest']], figsize=(9, 9))"
   ]
  },
  {
   "cell_type": "markdown",
   "metadata": {},
   "source": [
    "Чем больше комнат, тем жилье дороже. По удаленности от центра нет какого-то конкретного направления распределения данных."
   ]
  },
  {
   "cell_type": "code",
   "execution_count": null,
   "metadata": {},
   "outputs": [],
   "source": [
    "# Создадим функцию, которая группирует каждое значение из списка столбцов и возвращает график средней цены\n",
    "def rich(value):\n",
    "    pivot_df = rich_df.pivot_table(index = value, values = 'last_price',aggfunc = 'median')\n",
    "    return pivot_df.plot()"
   ]
  },
  {
   "cell_type": "code",
   "execution_count": null,
   "metadata": {},
   "outputs": [],
   "source": [
    "# Сотроим гистограмму для каждого столбца из списка колонок\n",
    "list_of_columns = ['flat_floor', 'day_of_exposition', 'month_of_exposition', 'year_of_exposition']\n",
    "for value in list_of_columns:\n",
    "    rich(value)\n",
    "    plt.show()"
   ]
  },
  {
   "cell_type": "markdown",
   "metadata": {},
   "source": [
    "Первый этаж самый дешевый, самый дорогие квартиры продаются по средам, в начале года и летом; а пик цен был в 2016 году."
   ]
  },
  {
   "cell_type": "markdown",
   "metadata": {},
   "source": [
    "**Вывод**\n",
    "\n",
    "* Площадь квартир по всем данным равна 50 кв.м., а в центре Санкт-Петербурга равна 70 кв.м., соответственно, и комнат в центре в среднем больше (3 комнаты), чем во всех данных (2 комнаты). Цены отличаются примерно на 4млн, а высота потолков стремится к 3 метрам, что и не удивительно, ведь в центре города в основном старый фонд, где потолки строили макисмально высокие.\n",
    "* Люди, живущие в центре, также с неохотой берут квартиры на первом этаже. Также в центре нет уже такой зависимости расстояния от площади, как во всем сегменте объектов, где чем ближе к центру, тем дороже квартира.\n",
    "* Квартиры в центре продаются чаще всего по средам, в начале года и летом в отличие от всех данных, где лето является временем с самыми низкими уровнями цен. В отличие от пика цен 2014 года для всех квартир, объекты в центре подорожали лишь к 2016 году."
   ]
  },
  {
   "cell_type": "markdown",
   "metadata": {},
   "source": [
    "## Общий вывод"
   ]
  },
  {
   "cell_type": "markdown",
   "metadata": {},
   "source": [
    "Обработав базу данных, состоящих из различных параметров о квартирах в Санкт-Петербурге и области, удалось установить:\n",
    "\n",
    "1. были найдены и заполнены пропуски, а также были найдены и обработаны редкие и выбивающиеся значения (нулевое количество комнат в квартире, метровые и стометровые потолки, а также квартиры за 12300 у.е.);\n",
    "2. срок нормальной продажи лежит в пределах от 45 до 232 дней;\n",
    "3. в период с 2016 по 2019 годы наблюдается тенденция к сокращению дней продажи, что может быть результатом возрастающей популярности интернет-ресурсов и ведущей к более быстрой сделке;\n",
    "4. удалось установить, что чем больше площадь, тем больше цена объекта, однако, цена квадратного метра с увеличением количества комнат падает;\n",
    "5. с увеличением расстояния от центра, квартира дешевеет, а больше всего квартир представлено в диапазоне от 10 до 20 км от центра.\n",
    "6. границами центра Санкт-Петербурга можно обозначить область радиусом 3 км;\n",
    "7. удалось выяснить, что самые дешевые квартиры располагаются на первых этажах. Также люди не особо охотно покупают квартиры на последних этажах, предпочитая другой;\n",
    "8. в сравнении с общей тенденцией продажи дорогих квартир в зимний период (в конце и начале года), квартиры в центре также имеют высокую цену летом;\n",
    "9. в то время как в среднем пик цен на недвижимость наблюдался в 2014 году, квартиры в центре обрели популярность лишь к 2016, впоследствие сменив рост на падение; \n",
    "10. день недели и высота потолков незначительно влияют на стоимость объекта, в то время как удалённость от центра, этаж и площадь имеют большее влияние на цену. \n"
   ]
  },
  {
   "cell_type": "markdown",
   "metadata": {},
   "source": [
    "<div class=\"alert alert-success\">\n",
    "<h2> Комментарий от ревьюера<a class=\"tocSkip\"></a></h2>\n",
    "\n",
    "Поздравляю с успешным проектом!\n",
    "\n",
    "- Ты хорошо делаешь выводы и анализируешь результаты.\n",
    "    \n",
    "- Код написан аккуратно и качественно, видно, что есть какой-то определенный бэкграунд.\n",
    "\n",
    "- Соблюдена структура проекта, было приятно проверять:)\n",
    "    \n",
    "- Все написано четко и по делу\n",
    "\n",
    " \n",
    "\n",
    "\n",
    "Желаю дальнейших успехов!\n",
    "\n",
    "\n",
    "</div>"
   ]
  },
  {
   "cell_type": "markdown",
   "metadata": {},
   "source": [
    "## Чек-лист готовности проекта\n",
    "\n",
    "Поставьте 'x' в выполненных пунктах. Далее нажмите Shift+Enter."
   ]
  },
  {
   "cell_type": "markdown",
   "metadata": {},
   "source": [
    "- [x]  открыт файл\n",
    "- [x]  файлы изучены (выведены первые строки, метод info())\n",
    "- [x]  определены пропущенные значения\n",
    "- [x]  заполнены пропущенные значения\n",
    "- [x]  есть пояснение, какие пропущенные значения обнаружены\n",
    "- [x]  изменены типы данных\n",
    "- [x]  есть пояснение, в каких столбцах изменены типы и почему\n",
    "- [x]  посчитано и добавлено в таблицу: цена квадратного метра\n",
    "- [x]  посчитано и добавлено в таблицу: день недели, месяц и год публикации объявления\n",
    "- [x]  посчитано и добавлено в таблицу: этаж квартиры; варианты — первый, последний, другой\n",
    "- [x]  посчитано и добавлено в таблицу: соотношение жилой и общей площади, а также отношение площади кухни к общей\n",
    "- [x]  изучены следующие параметры: площадь, цена, число комнат, высота потолков\n",
    "- [x]  построены гистограммы для каждого параметра\n",
    "- [x]  выполнено задание: \"Изучите время продажи квартиры. Постройте гистограмму. Посчитайте среднее и медиану. Опишите, сколько обычно занимает продажа. Когда можно считать, что продажи прошли очень быстро, а когда необычно долго?\"\n",
    "- [x]  выполнено задание: \"Уберите редкие и выбивающиеся значения. Опишите, какие особенности обнаружили.\"\n",
    "- [x]  выполнено задание: \"Какие факторы больше всего влияют на стоимость квартиры? Изучите, зависит ли цена от квадратного метра, числа комнат, этажа (первого или последнего), удалённости от центра. Также изучите зависимость от даты размещения: дня недели, месяца и года. \"Выберите 10 населённых пунктов с наибольшим числом объявлений. Посчитайте среднюю цену квадратного метра в этих населённых пунктах. Выделите населённые пункты с самой высокой и низкой стоимостью жилья. Эти данные можно найти по имени в столбце '*locality_name'*. \"\n",
    "- [x]  выполнено задание: \"Изучите предложения квартир: для каждой квартиры есть информация о расстоянии до центра. Выделите квартиры в Санкт-Петербурге (*'locality_name'*). Ваша задача — выяснить, какая область входит в центр. Создайте столбец с расстоянием до центра в километрах: округлите до целых значений. После этого посчитайте среднюю цену для каждого километра. Постройте график: он должен показывать, как цена зависит от удалённости от центра. Определите границу, где график сильно меняется — это и будет центральная зона. \"\n",
    "- [x]  выполнено задание: \"Выделите сегмент квартир в центре. Проанализируйте эту территорию и изучите следующие параметры: площадь, цена, число комнат, высота потолков. Также выделите факторы, которые влияют на стоимость квартиры (число комнат, этаж, удалённость от центра, дата размещения объявления). Сделайте выводы. Отличаются ли они от общих выводов по всему городу?\"\n",
    "- [x]  в каждом этапе есть выводы\n",
    "- [x]  есть общий вывод"
   ]
  }
 ],
 "metadata": {
  "ExecuteTimeLog": [
   {
    "duration": 775,
    "start_time": "2022-01-17T09:23:43.454Z"
   },
   {
    "duration": 88,
    "start_time": "2022-01-17T09:23:53.753Z"
   },
   {
    "duration": 61,
    "start_time": "2022-01-17T09:24:15.720Z"
   },
   {
    "duration": 7,
    "start_time": "2022-01-17T09:24:26.405Z"
   },
   {
    "duration": 177,
    "start_time": "2022-01-17T09:24:41.560Z"
   },
   {
    "duration": 16,
    "start_time": "2022-01-17T09:24:56.559Z"
   },
   {
    "duration": 34,
    "start_time": "2022-01-17T09:25:10.449Z"
   },
   {
    "duration": 222,
    "start_time": "2022-01-17T09:25:25.810Z"
   },
   {
    "duration": 18,
    "start_time": "2022-01-17T09:25:31.181Z"
   },
   {
    "duration": 15,
    "start_time": "2022-01-17T09:26:20.663Z"
   },
   {
    "duration": 14,
    "start_time": "2022-01-17T09:26:34.635Z"
   },
   {
    "duration": 8,
    "start_time": "2022-01-17T09:26:51.792Z"
   },
   {
    "duration": 7,
    "start_time": "2022-01-17T09:27:01.117Z"
   },
   {
    "duration": 2,
    "start_time": "2022-01-17T09:27:18.760Z"
   },
   {
    "duration": 2,
    "start_time": "2022-01-17T09:27:23.219Z"
   },
   {
    "duration": 10,
    "start_time": "2022-01-17T09:27:27.454Z"
   },
   {
    "duration": 5,
    "start_time": "2022-01-17T09:27:41.521Z"
   },
   {
    "duration": 24,
    "start_time": "2022-01-17T09:27:53.289Z"
   },
   {
    "duration": 72,
    "start_time": "2022-01-17T09:28:06.041Z"
   },
   {
    "duration": 9,
    "start_time": "2022-01-17T09:28:21.622Z"
   },
   {
    "duration": 102,
    "start_time": "2022-01-17T09:28:28.454Z"
   },
   {
    "duration": 10,
    "start_time": "2022-01-17T09:28:57.237Z"
   },
   {
    "duration": 29,
    "start_time": "2022-01-17T09:29:13.545Z"
   },
   {
    "duration": 15,
    "start_time": "2022-01-17T09:29:27.413Z"
   },
   {
    "duration": 3,
    "start_time": "2022-01-17T09:29:59.219Z"
   },
   {
    "duration": 14,
    "start_time": "2022-01-17T09:30:04.662Z"
   },
   {
    "duration": 11,
    "start_time": "2022-01-17T09:30:21.214Z"
   },
   {
    "duration": 23,
    "start_time": "2022-01-17T09:30:27.267Z"
   },
   {
    "duration": 8,
    "start_time": "2022-01-17T09:30:37.805Z"
   },
   {
    "duration": 5,
    "start_time": "2022-01-17T09:30:51.594Z"
   },
   {
    "duration": 4,
    "start_time": "2022-01-17T09:31:17.474Z"
   },
   {
    "duration": 11,
    "start_time": "2022-01-17T09:31:29.188Z"
   },
   {
    "duration": 3,
    "start_time": "2022-01-17T09:31:42.877Z"
   },
   {
    "duration": 417,
    "start_time": "2022-01-17T09:31:48.261Z"
   },
   {
    "duration": 4,
    "start_time": "2022-01-17T09:32:06.185Z"
   },
   {
    "duration": 19,
    "start_time": "2022-01-17T09:32:12.258Z"
   },
   {
    "duration": 93,
    "start_time": "2022-01-17T09:32:52.034Z"
   },
   {
    "duration": 319,
    "start_time": "2022-01-17T09:32:55.044Z"
   },
   {
    "duration": 306,
    "start_time": "2022-01-17T09:33:17.366Z"
   },
   {
    "duration": 176,
    "start_time": "2022-01-17T09:33:32.052Z"
   },
   {
    "duration": 164,
    "start_time": "2022-01-17T09:33:46.010Z"
   },
   {
    "duration": 300,
    "start_time": "2022-01-17T09:34:21.639Z"
   },
   {
    "duration": 341,
    "start_time": "2022-01-17T09:34:27.692Z"
   },
   {
    "duration": 141,
    "start_time": "2022-01-17T09:34:34.055Z"
   },
   {
    "duration": 332,
    "start_time": "2022-01-17T09:34:42.935Z"
   },
   {
    "duration": 8,
    "start_time": "2022-01-17T09:35:06.741Z"
   },
   {
    "duration": 455,
    "start_time": "2022-01-17T09:35:39.430Z"
   },
   {
    "duration": 7,
    "start_time": "2022-01-17T09:35:46.996Z"
   },
   {
    "duration": 28,
    "start_time": "2022-01-17T09:36:16.927Z"
   },
   {
    "duration": 25,
    "start_time": "2022-01-17T09:36:19.964Z"
   },
   {
    "duration": 3868,
    "start_time": "2022-01-17T09:36:52.383Z"
   },
   {
    "duration": 3678,
    "start_time": "2022-01-17T09:37:12.183Z"
   },
   {
    "duration": 150,
    "start_time": "2022-01-17T09:37:25.075Z"
   },
   {
    "duration": 7,
    "start_time": "2022-01-17T09:37:37.239Z"
   },
   {
    "duration": 149,
    "start_time": "2022-01-17T09:38:18.640Z"
   },
   {
    "duration": 161,
    "start_time": "2022-01-17T09:38:41.951Z"
   },
   {
    "duration": 238,
    "start_time": "2022-01-17T09:38:57.326Z"
   },
   {
    "duration": 171,
    "start_time": "2022-01-17T09:39:12.863Z"
   },
   {
    "duration": 7,
    "start_time": "2022-01-17T09:39:44.736Z"
   },
   {
    "duration": 12,
    "start_time": "2022-01-17T09:39:50.619Z"
   },
   {
    "duration": 11,
    "start_time": "2022-01-17T09:40:09.765Z"
   },
   {
    "duration": 30,
    "start_time": "2022-01-17T09:40:28.516Z"
   },
   {
    "duration": 25,
    "start_time": "2022-01-17T09:40:45.468Z"
   },
   {
    "duration": 7,
    "start_time": "2022-01-17T09:40:52.068Z"
   },
   {
    "duration": 5,
    "start_time": "2022-01-17T09:41:02.455Z"
   },
   {
    "duration": 176,
    "start_time": "2022-01-17T09:41:24.997Z"
   },
   {
    "duration": 34,
    "start_time": "2022-01-17T09:42:13.180Z"
   },
   {
    "duration": 1262,
    "start_time": "2022-01-17T09:42:19.607Z"
   },
   {
    "duration": 960,
    "start_time": "2022-01-17T09:42:44.160Z"
   },
   {
    "duration": 3,
    "start_time": "2022-01-17T09:43:03.895Z"
   },
   {
    "duration": 666,
    "start_time": "2022-01-17T09:43:09.565Z"
   },
   {
    "duration": 1329,
    "start_time": "2022-01-17T09:44:03.421Z"
   },
   {
    "duration": 3,
    "start_time": "2022-01-17T09:44:38.484Z"
   },
   {
    "duration": 652,
    "start_time": "2022-01-17T09:45:04.314Z"
   },
   {
    "duration": 794,
    "start_time": "2022-01-20T08:48:47.120Z"
   },
   {
    "duration": 8,
    "start_time": "2022-01-20T08:48:47.917Z"
   },
   {
    "duration": 290,
    "start_time": "2022-01-20T08:48:47.928Z"
   },
   {
    "duration": 28,
    "start_time": "2022-01-20T08:48:48.221Z"
   },
   {
    "duration": 73,
    "start_time": "2022-01-20T08:48:48.251Z"
   },
   {
    "duration": 386,
    "start_time": "2022-01-20T08:48:48.327Z"
   },
   {
    "duration": 20,
    "start_time": "2022-01-20T08:48:48.715Z"
   },
   {
    "duration": 30,
    "start_time": "2022-01-20T08:48:48.737Z"
   },
   {
    "duration": 30,
    "start_time": "2022-01-20T08:48:48.769Z"
   },
   {
    "duration": 23,
    "start_time": "2022-01-20T08:48:48.801Z"
   },
   {
    "duration": 39,
    "start_time": "2022-01-20T08:48:48.826Z"
   },
   {
    "duration": 8,
    "start_time": "2022-01-20T08:48:48.867Z"
   },
   {
    "duration": 27,
    "start_time": "2022-01-20T08:48:48.877Z"
   },
   {
    "duration": 48,
    "start_time": "2022-01-20T08:48:48.906Z"
   },
   {
    "duration": 25,
    "start_time": "2022-01-20T08:48:48.956Z"
   },
   {
    "duration": 14,
    "start_time": "2022-01-20T08:48:48.982Z"
   },
   {
    "duration": 25,
    "start_time": "2022-01-20T08:48:48.997Z"
   },
   {
    "duration": 45,
    "start_time": "2022-01-20T08:48:49.023Z"
   },
   {
    "duration": 16,
    "start_time": "2022-01-20T08:48:49.070Z"
   },
   {
    "duration": 3,
    "start_time": "2022-01-20T08:48:49.087Z"
   },
   {
    "duration": 31,
    "start_time": "2022-01-20T08:48:49.091Z"
   },
   {
    "duration": 45,
    "start_time": "2022-01-20T08:48:49.124Z"
   },
   {
    "duration": 60,
    "start_time": "2022-01-20T08:48:49.174Z"
   },
   {
    "duration": 26,
    "start_time": "2022-01-20T08:48:49.236Z"
   },
   {
    "duration": 31,
    "start_time": "2022-01-20T08:48:49.264Z"
   },
   {
    "duration": 12,
    "start_time": "2022-01-20T08:48:49.297Z"
   },
   {
    "duration": 45,
    "start_time": "2022-01-20T08:48:49.311Z"
   },
   {
    "duration": 3,
    "start_time": "2022-01-20T08:48:49.358Z"
   },
   {
    "duration": 516,
    "start_time": "2022-01-20T08:48:49.363Z"
   },
   {
    "duration": 5,
    "start_time": "2022-01-20T08:48:49.881Z"
   },
   {
    "duration": 27,
    "start_time": "2022-01-20T08:48:49.888Z"
   },
   {
    "duration": 138,
    "start_time": "2022-01-20T08:48:49.917Z"
   },
   {
    "duration": 354,
    "start_time": "2022-01-20T08:48:50.057Z"
   },
   {
    "duration": 341,
    "start_time": "2022-01-20T08:48:50.412Z"
   },
   {
    "duration": 213,
    "start_time": "2022-01-20T08:48:50.755Z"
   },
   {
    "duration": 199,
    "start_time": "2022-01-20T08:48:50.970Z"
   },
   {
    "duration": 347,
    "start_time": "2022-01-20T08:48:51.171Z"
   },
   {
    "duration": 443,
    "start_time": "2022-01-20T08:48:51.520Z"
   },
   {
    "duration": 177,
    "start_time": "2022-01-20T08:48:51.965Z"
   },
   {
    "duration": 588,
    "start_time": "2022-01-20T08:48:52.144Z"
   },
   {
    "duration": 10,
    "start_time": "2022-01-20T08:48:52.734Z"
   },
   {
    "duration": 520,
    "start_time": "2022-01-20T08:48:52.761Z"
   },
   {
    "duration": 33,
    "start_time": "2022-01-20T08:48:53.283Z"
   },
   {
    "duration": 45,
    "start_time": "2022-01-20T08:48:53.318Z"
   },
   {
    "duration": 4240,
    "start_time": "2022-01-20T08:48:53.365Z"
   },
   {
    "duration": 184,
    "start_time": "2022-01-20T08:48:57.606Z"
   },
   {
    "duration": 7,
    "start_time": "2022-01-20T08:48:57.791Z"
   },
   {
    "duration": 183,
    "start_time": "2022-01-20T08:48:57.799Z"
   },
   {
    "duration": 192,
    "start_time": "2022-01-20T08:48:57.984Z"
   },
   {
    "duration": 184,
    "start_time": "2022-01-20T08:48:58.178Z"
   },
   {
    "duration": 192,
    "start_time": "2022-01-20T08:48:58.364Z"
   },
   {
    "duration": 8,
    "start_time": "2022-01-20T08:48:58.558Z"
   },
   {
    "duration": 15,
    "start_time": "2022-01-20T08:48:58.568Z"
   },
   {
    "duration": 29,
    "start_time": "2022-01-20T08:48:58.585Z"
   },
   {
    "duration": 50,
    "start_time": "2022-01-20T08:48:58.616Z"
   },
   {
    "duration": 5,
    "start_time": "2022-01-20T08:48:58.668Z"
   },
   {
    "duration": 53,
    "start_time": "2022-01-20T08:48:58.676Z"
   },
   {
    "duration": 204,
    "start_time": "2022-01-20T08:48:58.730Z"
   },
   {
    "duration": 47,
    "start_time": "2022-01-20T08:48:58.936Z"
   },
   {
    "duration": 1428,
    "start_time": "2022-01-20T08:48:58.984Z"
   },
   {
    "duration": 889,
    "start_time": "2022-01-20T08:49:00.414Z"
   },
   {
    "duration": 4,
    "start_time": "2022-01-20T08:49:01.305Z"
   },
   {
    "duration": 1012,
    "start_time": "2022-01-20T08:49:01.312Z"
   },
   {
    "duration": 84,
    "start_time": "2022-01-20T09:04:58.536Z"
   },
   {
    "duration": 1148,
    "start_time": "2022-01-22T12:43:27.966Z"
   },
   {
    "duration": 686,
    "start_time": "2022-02-12T14:07:27.610Z"
   },
   {
    "duration": 7,
    "start_time": "2022-02-12T14:07:28.298Z"
   },
   {
    "duration": 246,
    "start_time": "2022-02-12T14:07:28.307Z"
   },
   {
    "duration": 20,
    "start_time": "2022-02-12T14:07:28.555Z"
   },
   {
    "duration": 58,
    "start_time": "2022-02-12T14:07:28.577Z"
   },
   {
    "duration": 330,
    "start_time": "2022-02-12T14:07:28.637Z"
   },
   {
    "duration": 20,
    "start_time": "2022-02-12T14:07:28.969Z"
   },
   {
    "duration": 32,
    "start_time": "2022-02-12T14:07:28.992Z"
   },
   {
    "duration": 17,
    "start_time": "2022-02-12T14:07:29.026Z"
   },
   {
    "duration": 10,
    "start_time": "2022-02-12T14:07:29.044Z"
   },
   {
    "duration": 26,
    "start_time": "2022-02-12T14:07:29.055Z"
   },
   {
    "duration": 2,
    "start_time": "2022-02-12T14:07:29.083Z"
   },
   {
    "duration": 6,
    "start_time": "2022-02-12T14:07:29.087Z"
   },
   {
    "duration": 25,
    "start_time": "2022-02-12T14:07:29.095Z"
   },
   {
    "duration": 28,
    "start_time": "2022-02-12T14:07:29.121Z"
   },
   {
    "duration": 8,
    "start_time": "2022-02-12T14:07:29.151Z"
   },
   {
    "duration": 13,
    "start_time": "2022-02-12T14:07:29.161Z"
   },
   {
    "duration": 58,
    "start_time": "2022-02-12T14:07:29.175Z"
   },
   {
    "duration": 17,
    "start_time": "2022-02-12T14:07:29.235Z"
   },
   {
    "duration": 5,
    "start_time": "2022-02-12T14:07:29.254Z"
   },
   {
    "duration": 23,
    "start_time": "2022-02-12T14:07:29.261Z"
   },
   {
    "duration": 39,
    "start_time": "2022-02-12T14:07:29.287Z"
   },
   {
    "duration": 26,
    "start_time": "2022-02-12T14:07:29.332Z"
   },
   {
    "duration": 8,
    "start_time": "2022-02-12T14:07:29.361Z"
   },
   {
    "duration": 8,
    "start_time": "2022-02-12T14:07:29.371Z"
   },
   {
    "duration": 5,
    "start_time": "2022-02-12T14:07:29.381Z"
   },
   {
    "duration": 39,
    "start_time": "2022-02-12T14:07:29.388Z"
   },
   {
    "duration": 3,
    "start_time": "2022-02-12T14:07:29.429Z"
   },
   {
    "duration": 493,
    "start_time": "2022-02-12T14:07:29.434Z"
   },
   {
    "duration": 5,
    "start_time": "2022-02-12T14:07:29.929Z"
   },
   {
    "duration": 30,
    "start_time": "2022-02-12T14:07:29.936Z"
   },
   {
    "duration": 133,
    "start_time": "2022-02-12T14:07:29.968Z"
   },
   {
    "duration": 365,
    "start_time": "2022-02-12T14:07:30.103Z"
   },
   {
    "duration": 353,
    "start_time": "2022-02-12T14:07:30.470Z"
   },
   {
    "duration": 204,
    "start_time": "2022-02-12T14:07:30.825Z"
   },
   {
    "duration": 195,
    "start_time": "2022-02-12T14:07:31.031Z"
   },
   {
    "duration": 358,
    "start_time": "2022-02-12T14:07:31.228Z"
   },
   {
    "duration": 395,
    "start_time": "2022-02-12T14:07:31.588Z"
   },
   {
    "duration": 187,
    "start_time": "2022-02-12T14:07:31.984Z"
   },
   {
    "duration": 462,
    "start_time": "2022-02-12T14:07:32.173Z"
   },
   {
    "duration": 9,
    "start_time": "2022-02-12T14:07:32.637Z"
   },
   {
    "duration": 719,
    "start_time": "2022-02-12T14:07:32.647Z"
   },
   {
    "duration": 33,
    "start_time": "2022-02-12T14:07:33.368Z"
   },
   {
    "duration": 40,
    "start_time": "2022-02-12T14:07:33.403Z"
   },
   {
    "duration": 4893,
    "start_time": "2022-02-12T14:07:33.446Z"
   },
   {
    "duration": 194,
    "start_time": "2022-02-12T14:07:38.341Z"
   },
   {
    "duration": 7,
    "start_time": "2022-02-12T14:07:38.537Z"
   },
   {
    "duration": 186,
    "start_time": "2022-02-12T14:07:38.546Z"
   },
   {
    "duration": 199,
    "start_time": "2022-02-12T14:07:38.734Z"
   },
   {
    "duration": 185,
    "start_time": "2022-02-12T14:07:38.935Z"
   },
   {
    "duration": 306,
    "start_time": "2022-02-12T14:07:39.122Z"
   },
   {
    "duration": 9,
    "start_time": "2022-02-12T14:07:39.430Z"
   },
   {
    "duration": 32,
    "start_time": "2022-02-12T14:07:39.441Z"
   },
   {
    "duration": 35,
    "start_time": "2022-02-12T14:07:39.475Z"
   },
   {
    "duration": 29,
    "start_time": "2022-02-12T14:07:39.512Z"
   },
   {
    "duration": 5,
    "start_time": "2022-02-12T14:07:39.543Z"
   },
   {
    "duration": 30,
    "start_time": "2022-02-12T14:07:39.550Z"
   },
   {
    "duration": 208,
    "start_time": "2022-02-12T14:07:39.582Z"
   },
   {
    "duration": 41,
    "start_time": "2022-02-12T14:07:39.792Z"
   },
   {
    "duration": 1451,
    "start_time": "2022-02-12T14:07:39.836Z"
   },
   {
    "duration": 1002,
    "start_time": "2022-02-12T14:07:41.289Z"
   },
   {
    "duration": 3,
    "start_time": "2022-02-12T14:07:42.292Z"
   },
   {
    "duration": 832,
    "start_time": "2022-02-12T14:07:42.297Z"
   },
   {
    "duration": 375,
    "start_time": "2022-06-24T12:05:09.013Z"
   },
   {
    "duration": 682,
    "start_time": "2023-10-23T23:41:56.811Z"
   },
   {
    "duration": 9,
    "start_time": "2023-10-23T23:42:06.411Z"
   },
   {
    "duration": 166,
    "start_time": "2023-10-23T23:42:11.880Z"
   },
   {
    "duration": 15,
    "start_time": "2023-10-23T23:42:14.306Z"
   },
   {
    "duration": 34,
    "start_time": "2023-10-23T23:42:21.145Z"
   },
   {
    "duration": 1308,
    "start_time": "2023-10-23T23:42:36.586Z"
   },
   {
    "duration": 5,
    "start_time": "2023-10-23T23:42:55.859Z"
   },
   {
    "duration": 8,
    "start_time": "2023-10-23T23:43:00.180Z"
   },
   {
    "duration": 6,
    "start_time": "2023-10-23T23:43:12.713Z"
   },
   {
    "duration": 6,
    "start_time": "2023-10-23T23:45:36.014Z"
   },
   {
    "duration": 8,
    "start_time": "2023-10-23T23:48:41.152Z"
   },
   {
    "duration": 7,
    "start_time": "2023-10-23T23:48:48.751Z"
   }
  ],
  "kernelspec": {
   "display_name": "Python 3 (ipykernel)",
   "language": "python",
   "name": "python3"
  },
  "language_info": {
   "codemirror_mode": {
    "name": "ipython",
    "version": 3
   },
   "file_extension": ".py",
   "mimetype": "text/x-python",
   "name": "python",
   "nbconvert_exporter": "python",
   "pygments_lexer": "ipython3",
   "version": "3.9.7"
  },
  "toc": {
   "base_numbering": 1,
   "nav_menu": {},
   "number_sections": true,
   "sideBar": true,
   "skip_h1_title": true,
   "title_cell": "List of content",
   "title_sidebar": "Contents",
   "toc_cell": true,
   "toc_position": {
    "height": "calc(100% - 180px)",
    "left": "10px",
    "top": "150px",
    "width": "165px"
   },
   "toc_section_display": true,
   "toc_window_display": true
  }
 },
 "nbformat": 4,
 "nbformat_minor": 2
}
