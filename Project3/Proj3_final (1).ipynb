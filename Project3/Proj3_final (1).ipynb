{
 "cells": [
  {
   "cell_type": "markdown",
   "id": "7088fcb8",
   "metadata": {
    "toc": true
   },
   "source": [
    "<h1>Table of Contents<span class=\"tocSkip\"></span></h1>\n",
    "<div class=\"toc\"><ul class=\"toc-item\"><li><span><a href=\"#Study-of-Apartment-Sale-Listings\" data-toc-modified-id=\"Study-of-Apartment-Sale-Listings-1\"><span class=\"toc-item-num\">1&nbsp;&nbsp;</span>Study of Apartment Sale Listings</a></span><ul class=\"toc-item\"><li><span><a href=\"#Studying-Data-from-the-File\" data-toc-modified-id=\"Studying-Data-from-the-File-1.1\"><span class=\"toc-item-num\">1.1&nbsp;&nbsp;</span>Studying Data from the File</a></span><ul class=\"toc-item\"><li><span><a href=\"#Conclusion\" data-toc-modified-id=\"Conclusion-1.1.1\"><span class=\"toc-item-num\">1.1.1&nbsp;&nbsp;</span>Conclusion</a></span></li></ul></li></ul></li><li><span><a href=\"#Data-Preprocessing\" data-toc-modified-id=\"Data-Preprocessing-2\"><span class=\"toc-item-num\">2&nbsp;&nbsp;</span>Data Preprocessing</a></span><ul class=\"toc-item\"><li><span><a href=\"#Data-type-replacement\" data-toc-modified-id=\"Data-type-replacement-2.1\"><span class=\"toc-item-num\">2.1&nbsp;&nbsp;</span>Data type replacement</a></span></li><li><span><a href=\"#Conclusion\" data-toc-modified-id=\"Conclusion-2.2\"><span class=\"toc-item-num\">2.2&nbsp;&nbsp;</span>Conclusion</a></span></li></ul></li><li><span><a href=\"#Calculations-and-Adding-Results-to-the-Table\" data-toc-modified-id=\"Calculations-and-Adding-Results-to-the-Table-3\"><span class=\"toc-item-num\">3&nbsp;&nbsp;</span>Calculations and Adding Results to the Table</a></span><ul class=\"toc-item\"><li><span><a href=\"#Conclusion\" data-toc-modified-id=\"Conclusion-3.1\"><span class=\"toc-item-num\">3.1&nbsp;&nbsp;</span>Conclusion</a></span></li></ul></li><li><span><a href=\"#Exploratory-Data-Analysis\" data-toc-modified-id=\"Exploratory-Data-Analysis-4\"><span class=\"toc-item-num\">4&nbsp;&nbsp;</span>Exploratory Data Analysis</a></span><ul class=\"toc-item\"><li><span><a href=\"#Studying-Area,-Price,-Number-of-Rooms,-and-Ceiling-Height\" data-toc-modified-id=\"Studying-Area,-Price,-Number-of-Rooms,-and-Ceiling-Height-4.1\"><span class=\"toc-item-num\">4.1&nbsp;&nbsp;</span>Studying Area, Price, Number of Rooms, and Ceiling Height</a></span></li><li><span><a href=\"#Analysis-of-Apartment-Sale-Time\" data-toc-modified-id=\"Analysis-of-Apartment-Sale-Time-4.2\"><span class=\"toc-item-num\">4.2&nbsp;&nbsp;</span>Analysis of Apartment Sale Time</a></span></li><li><span><a href=\"#Removal-of-Rare-and-Outlying-Values\" data-toc-modified-id=\"Removal-of-Rare-and-Outlying-Values-4.3\"><span class=\"toc-item-num\">4.3&nbsp;&nbsp;</span>Removal of Rare and Outlying Values</a></span></li><li><span><a href=\"#Studying-the-Dependence-of-Price-on-Parameters\" data-toc-modified-id=\"Studying-the-Dependence-of-Price-on-Parameters-4.4\"><span class=\"toc-item-num\">4.4&nbsp;&nbsp;</span>Studying the Dependence of Price on Parameters</a></span></li><li><span><a href=\"#Calculating-the-average-price-per-square-meter-in-the-10-localities-with-the-highest-number-of-listings.\" data-toc-modified-id=\"Calculating-the-average-price-per-square-meter-in-the-10-localities-with-the-highest-number-of-listings.-4.5\"><span class=\"toc-item-num\">4.5&nbsp;&nbsp;</span>Calculating the average price per square meter in the 10 localities with the highest number of listings.</a></span></li><li><span><a href=\"#Identifying-the-Area-That-Falls-Within-the-Center\" data-toc-modified-id=\"Identifying-the-Area-That-Falls-Within-the-Center-4.6\"><span class=\"toc-item-num\">4.6&nbsp;&nbsp;</span>Identifying the Area That Falls Within the Center</a></span></li><li><span><a href=\"#Analysis-of-the-Apartment-Segment-in-the-Center\" data-toc-modified-id=\"Analysis-of-the-Apartment-Segment-in-the-Center-4.7\"><span class=\"toc-item-num\">4.7&nbsp;&nbsp;</span>Analysis of the Apartment Segment in the Center</a></span></li></ul></li><li><span><a href=\"#General-Conclusion\" data-toc-modified-id=\"General-Conclusion-5\"><span class=\"toc-item-num\">5&nbsp;&nbsp;</span>General Conclusion</a></span></li></ul></div>"
   ]
  },
  {
   "cell_type": "markdown",
   "id": "04a782b6",
   "metadata": {},
   "source": [
    "# Study of Apartment Sale Listings\n",
    "\n",
    "In this project, data from the Yandex.Real Estate service will be used — an archive of apartment sale listings in St. Petersburg and neighboring settlements over several years. The goal is to learn how to determine the market value of real estate properties. The task is to identify parameters that will allow the creation of an automated system: it will detect anomalies and fraudulent activity.\n",
    "\n",
    "For each apartment listed for sale, there are two types of data available. The first type is provided by the user, while the second is automatically derived from cartographic data. For example, the distance to the city center, airport, nearest park, and body of water. "
   ]
  },
  {
   "cell_type": "markdown",
   "id": "c27a88a9",
   "metadata": {},
   "source": [
    "## Studying Data from the File"
   ]
  },
  {
   "cell_type": "markdown",
   "id": "e8658ff5",
   "metadata": {},
   "source": [
    "First, let's open the file and inspect the general information"
   ]
  },
  {
   "cell_type": "code",
   "execution_count": 1,
   "id": "01133233",
   "metadata": {},
   "outputs": [],
   "source": [
    "# Importing pandas library\n",
    "import pandas as pd\n",
    "import numpy as np\n",
    "# Importing libraries for plotting histograms\n",
    "import matplotlib.pyplot as plt"
   ]
  },
  {
   "cell_type": "code",
   "execution_count": 2,
   "id": "2433da1a",
   "metadata": {},
   "outputs": [
    {
     "name": "stdout",
     "output_type": "stream",
     "text": [
      "<class 'pandas.core.frame.DataFrame'>\n",
      "RangeIndex: 23699 entries, 0 to 23698\n",
      "Data columns (total 1 columns):\n",
      " #   Column                                                                                                                                                                                                                                                                                           Non-Null Count  Dtype \n",
      "---  ------                                                                                                                                                                                                                                                                                           --------------  ----- \n",
      " 0   total_images\tlast_price\ttotal_area\tfirst_day_exposition\trooms\tceiling_height\tfloors_total\tliving_area\tfloor\tis_apartment\tstudio\topen_plan\tkitchen_area\tbalcony\tlocality_name\tairports_nearest\tcityCenters_nearest\tparks_around3000\tparks_nearest\tponds_around3000\tponds_nearest\tdays_exposition  23699 non-null  object\n",
      "dtypes: object(1)\n",
      "memory usage: 185.3+ KB\n"
     ]
    },
    {
     "data": {
      "text/plain": [
       "None"
      ]
     },
     "metadata": {},
     "output_type": "display_data"
    }
   ],
   "source": [
    "# Opening the file using the try-except method\n",
    "try:\n",
    "    df = pd.read_csv('real_estate_data.csv')\n",
    "except:\n",
    "    print('The required file does not exist!')    \n",
    "# Displaying the first 5 rows of the table\n",
    "display(df.info())"
   ]
  },
  {
   "cell_type": "code",
   "execution_count": 3,
   "id": "7fd96a90",
   "metadata": {},
   "outputs": [
    {
     "data": {
      "text/html": [
       "<div>\n",
       "<style scoped>\n",
       "    .dataframe tbody tr th:only-of-type {\n",
       "        vertical-align: middle;\n",
       "    }\n",
       "\n",
       "    .dataframe tbody tr th {\n",
       "        vertical-align: top;\n",
       "    }\n",
       "\n",
       "    .dataframe thead th {\n",
       "        text-align: right;\n",
       "    }\n",
       "</style>\n",
       "<table border=\"1\" class=\"dataframe\">\n",
       "  <thead>\n",
       "    <tr style=\"text-align: right;\">\n",
       "      <th></th>\n",
       "      <th>0</th>\n",
       "      <th>1</th>\n",
       "      <th>2</th>\n",
       "      <th>3</th>\n",
       "      <th>4</th>\n",
       "      <th>5</th>\n",
       "      <th>6</th>\n",
       "      <th>7</th>\n",
       "      <th>8</th>\n",
       "      <th>9</th>\n",
       "      <th>...</th>\n",
       "      <th>12</th>\n",
       "      <th>13</th>\n",
       "      <th>14</th>\n",
       "      <th>15</th>\n",
       "      <th>16</th>\n",
       "      <th>17</th>\n",
       "      <th>18</th>\n",
       "      <th>19</th>\n",
       "      <th>20</th>\n",
       "      <th>21</th>\n",
       "    </tr>\n",
       "  </thead>\n",
       "  <tbody>\n",
       "    <tr>\n",
       "      <th>0</th>\n",
       "      <td>20</td>\n",
       "      <td>13000000.0</td>\n",
       "      <td>108.0</td>\n",
       "      <td>2019-03-07T00:00:00</td>\n",
       "      <td>3</td>\n",
       "      <td>2.7</td>\n",
       "      <td>16.0</td>\n",
       "      <td>51.0</td>\n",
       "      <td>8</td>\n",
       "      <td></td>\n",
       "      <td>...</td>\n",
       "      <td>25.0</td>\n",
       "      <td></td>\n",
       "      <td>Санкт-Петербург</td>\n",
       "      <td>18863.0</td>\n",
       "      <td>16028.0</td>\n",
       "      <td>1.0</td>\n",
       "      <td>482.0</td>\n",
       "      <td>2.0</td>\n",
       "      <td>755.0</td>\n",
       "      <td></td>\n",
       "    </tr>\n",
       "    <tr>\n",
       "      <th>1</th>\n",
       "      <td>7</td>\n",
       "      <td>3350000.0</td>\n",
       "      <td>40.4</td>\n",
       "      <td>2018-12-04T00:00:00</td>\n",
       "      <td>1</td>\n",
       "      <td></td>\n",
       "      <td>11.0</td>\n",
       "      <td>18.6</td>\n",
       "      <td>1</td>\n",
       "      <td></td>\n",
       "      <td>...</td>\n",
       "      <td>11.0</td>\n",
       "      <td>2.0</td>\n",
       "      <td>посёлок Шушары</td>\n",
       "      <td>12817.0</td>\n",
       "      <td>18603.0</td>\n",
       "      <td>0.0</td>\n",
       "      <td></td>\n",
       "      <td>0.0</td>\n",
       "      <td></td>\n",
       "      <td>81.0</td>\n",
       "    </tr>\n",
       "    <tr>\n",
       "      <th>2</th>\n",
       "      <td>10</td>\n",
       "      <td>5196000.0</td>\n",
       "      <td>56.0</td>\n",
       "      <td>2015-08-20T00:00:00</td>\n",
       "      <td>2</td>\n",
       "      <td></td>\n",
       "      <td>5.0</td>\n",
       "      <td>34.3</td>\n",
       "      <td>4</td>\n",
       "      <td></td>\n",
       "      <td>...</td>\n",
       "      <td>8.3</td>\n",
       "      <td>0.0</td>\n",
       "      <td>Санкт-Петербург</td>\n",
       "      <td>21741.0</td>\n",
       "      <td>13933.0</td>\n",
       "      <td>1.0</td>\n",
       "      <td>90.0</td>\n",
       "      <td>2.0</td>\n",
       "      <td>574.0</td>\n",
       "      <td>558.0</td>\n",
       "    </tr>\n",
       "    <tr>\n",
       "      <th>3</th>\n",
       "      <td>0</td>\n",
       "      <td>64900000.0</td>\n",
       "      <td>159.0</td>\n",
       "      <td>2015-07-24T00:00:00</td>\n",
       "      <td>3</td>\n",
       "      <td></td>\n",
       "      <td>14.0</td>\n",
       "      <td></td>\n",
       "      <td>9</td>\n",
       "      <td></td>\n",
       "      <td>...</td>\n",
       "      <td></td>\n",
       "      <td>0.0</td>\n",
       "      <td>Санкт-Петербург</td>\n",
       "      <td>28098.0</td>\n",
       "      <td>6800.0</td>\n",
       "      <td>2.0</td>\n",
       "      <td>84.0</td>\n",
       "      <td>3.0</td>\n",
       "      <td>234.0</td>\n",
       "      <td>424.0</td>\n",
       "    </tr>\n",
       "    <tr>\n",
       "      <th>4</th>\n",
       "      <td>2</td>\n",
       "      <td>10000000.0</td>\n",
       "      <td>100.0</td>\n",
       "      <td>2018-06-19T00:00:00</td>\n",
       "      <td>2</td>\n",
       "      <td>3.03</td>\n",
       "      <td>14.0</td>\n",
       "      <td>32.0</td>\n",
       "      <td>13</td>\n",
       "      <td></td>\n",
       "      <td>...</td>\n",
       "      <td>41.0</td>\n",
       "      <td></td>\n",
       "      <td>Санкт-Петербург</td>\n",
       "      <td>31856.0</td>\n",
       "      <td>8098.0</td>\n",
       "      <td>2.0</td>\n",
       "      <td>112.0</td>\n",
       "      <td>1.0</td>\n",
       "      <td>48.0</td>\n",
       "      <td>121.0</td>\n",
       "    </tr>\n",
       "    <tr>\n",
       "      <th>...</th>\n",
       "      <td>...</td>\n",
       "      <td>...</td>\n",
       "      <td>...</td>\n",
       "      <td>...</td>\n",
       "      <td>...</td>\n",
       "      <td>...</td>\n",
       "      <td>...</td>\n",
       "      <td>...</td>\n",
       "      <td>...</td>\n",
       "      <td>...</td>\n",
       "      <td>...</td>\n",
       "      <td>...</td>\n",
       "      <td>...</td>\n",
       "      <td>...</td>\n",
       "      <td>...</td>\n",
       "      <td>...</td>\n",
       "      <td>...</td>\n",
       "      <td>...</td>\n",
       "      <td>...</td>\n",
       "      <td>...</td>\n",
       "      <td>...</td>\n",
       "    </tr>\n",
       "    <tr>\n",
       "      <th>23694</th>\n",
       "      <td>9</td>\n",
       "      <td>9700000.0</td>\n",
       "      <td>133.81</td>\n",
       "      <td>2017-03-21T00:00:00</td>\n",
       "      <td>3</td>\n",
       "      <td>3.7</td>\n",
       "      <td>5.0</td>\n",
       "      <td>73.3</td>\n",
       "      <td>3</td>\n",
       "      <td></td>\n",
       "      <td>...</td>\n",
       "      <td>13.83</td>\n",
       "      <td></td>\n",
       "      <td>Санкт-Петербург</td>\n",
       "      <td>24665.0</td>\n",
       "      <td>4232.0</td>\n",
       "      <td>1.0</td>\n",
       "      <td>796.0</td>\n",
       "      <td>3.0</td>\n",
       "      <td>381.0</td>\n",
       "      <td></td>\n",
       "    </tr>\n",
       "    <tr>\n",
       "      <th>23695</th>\n",
       "      <td>14</td>\n",
       "      <td>3100000.0</td>\n",
       "      <td>59.0</td>\n",
       "      <td>2018-01-15T00:00:00</td>\n",
       "      <td>3</td>\n",
       "      <td></td>\n",
       "      <td>5.0</td>\n",
       "      <td>38.0</td>\n",
       "      <td>4</td>\n",
       "      <td></td>\n",
       "      <td>...</td>\n",
       "      <td>8.5</td>\n",
       "      <td></td>\n",
       "      <td>Тосно</td>\n",
       "      <td></td>\n",
       "      <td></td>\n",
       "      <td></td>\n",
       "      <td></td>\n",
       "      <td></td>\n",
       "      <td></td>\n",
       "      <td>45.00000000000001</td>\n",
       "    </tr>\n",
       "    <tr>\n",
       "      <th>23696</th>\n",
       "      <td>18</td>\n",
       "      <td>2500000.0</td>\n",
       "      <td>56.7</td>\n",
       "      <td>2018-02-11T00:00:00</td>\n",
       "      <td>2</td>\n",
       "      <td></td>\n",
       "      <td>3.0</td>\n",
       "      <td>29.7</td>\n",
       "      <td>1</td>\n",
       "      <td></td>\n",
       "      <td>...</td>\n",
       "      <td></td>\n",
       "      <td></td>\n",
       "      <td>село Рождествено</td>\n",
       "      <td></td>\n",
       "      <td></td>\n",
       "      <td></td>\n",
       "      <td></td>\n",
       "      <td></td>\n",
       "      <td></td>\n",
       "      <td></td>\n",
       "    </tr>\n",
       "    <tr>\n",
       "      <th>23697</th>\n",
       "      <td>13</td>\n",
       "      <td>11475000.0</td>\n",
       "      <td>76.75</td>\n",
       "      <td>2017-03-28T00:00:00</td>\n",
       "      <td>2</td>\n",
       "      <td>3.0</td>\n",
       "      <td>17.0</td>\n",
       "      <td></td>\n",
       "      <td>12</td>\n",
       "      <td></td>\n",
       "      <td>...</td>\n",
       "      <td>23.3</td>\n",
       "      <td>2.0</td>\n",
       "      <td>Санкт-Петербург</td>\n",
       "      <td>39140.0</td>\n",
       "      <td>10364.0</td>\n",
       "      <td>2.0</td>\n",
       "      <td>173.0</td>\n",
       "      <td>3.0</td>\n",
       "      <td>196.0</td>\n",
       "      <td>602.0</td>\n",
       "    </tr>\n",
       "    <tr>\n",
       "      <th>23698</th>\n",
       "      <td>4</td>\n",
       "      <td>1350000.0</td>\n",
       "      <td>32.3</td>\n",
       "      <td>2017-07-21T00:00:00</td>\n",
       "      <td>1</td>\n",
       "      <td>2.5</td>\n",
       "      <td>5.0</td>\n",
       "      <td>12.3</td>\n",
       "      <td>1</td>\n",
       "      <td></td>\n",
       "      <td>...</td>\n",
       "      <td>9.0</td>\n",
       "      <td></td>\n",
       "      <td>поселок Новый Учхоз</td>\n",
       "      <td></td>\n",
       "      <td></td>\n",
       "      <td></td>\n",
       "      <td></td>\n",
       "      <td></td>\n",
       "      <td></td>\n",
       "      <td></td>\n",
       "    </tr>\n",
       "  </tbody>\n",
       "</table>\n",
       "<p>23699 rows × 22 columns</p>\n",
       "</div>"
      ],
      "text/plain": [
       "       0           1       2                    3  4     5     6     7   8   \\\n",
       "0      20  13000000.0   108.0  2019-03-07T00:00:00  3   2.7  16.0  51.0   8   \n",
       "1       7   3350000.0    40.4  2018-12-04T00:00:00  1        11.0  18.6   1   \n",
       "2      10   5196000.0    56.0  2015-08-20T00:00:00  2         5.0  34.3   4   \n",
       "3       0  64900000.0   159.0  2015-07-24T00:00:00  3        14.0         9   \n",
       "4       2  10000000.0   100.0  2018-06-19T00:00:00  2  3.03  14.0  32.0  13   \n",
       "...    ..         ...     ...                  ... ..   ...   ...   ...  ..   \n",
       "23694   9   9700000.0  133.81  2017-03-21T00:00:00  3   3.7   5.0  73.3   3   \n",
       "23695  14   3100000.0    59.0  2018-01-15T00:00:00  3         5.0  38.0   4   \n",
       "23696  18   2500000.0    56.7  2018-02-11T00:00:00  2         3.0  29.7   1   \n",
       "23697  13  11475000.0   76.75  2017-03-28T00:00:00  2   3.0  17.0        12   \n",
       "23698   4   1350000.0    32.3  2017-07-21T00:00:00  1   2.5   5.0  12.3   1   \n",
       "\n",
       "      9   ...     12   13                   14       15       16   17     18  \\\n",
       "0         ...   25.0           Санкт-Петербург  18863.0  16028.0  1.0  482.0   \n",
       "1         ...   11.0  2.0       посёлок Шушары  12817.0  18603.0  0.0          \n",
       "2         ...    8.3  0.0      Санкт-Петербург  21741.0  13933.0  1.0   90.0   \n",
       "3         ...         0.0      Санкт-Петербург  28098.0   6800.0  2.0   84.0   \n",
       "4         ...   41.0           Санкт-Петербург  31856.0   8098.0  2.0  112.0   \n",
       "...   ..  ...    ...  ...                  ...      ...      ...  ...    ...   \n",
       "23694     ...  13.83           Санкт-Петербург  24665.0   4232.0  1.0  796.0   \n",
       "23695     ...    8.5                     Тосно                                 \n",
       "23696     ...                 село Рождествено                                 \n",
       "23697     ...   23.3  2.0      Санкт-Петербург  39140.0  10364.0  2.0  173.0   \n",
       "23698     ...    9.0       поселок Новый Учхоз                                 \n",
       "\n",
       "        19     20                 21  \n",
       "0      2.0  755.0                     \n",
       "1      0.0                      81.0  \n",
       "2      2.0  574.0              558.0  \n",
       "3      3.0  234.0              424.0  \n",
       "4      1.0   48.0              121.0  \n",
       "...    ...    ...                ...  \n",
       "23694  3.0  381.0                     \n",
       "23695              45.00000000000001  \n",
       "23696                                 \n",
       "23697  3.0  196.0              602.0  \n",
       "23698                                 \n",
       "\n",
       "[23699 rows x 22 columns]"
      ]
     },
     "metadata": {},
     "output_type": "display_data"
    }
   ],
   "source": [
    "# Делим строку со слипшимися названиями колонок на разные столбцы\n",
    "new_df = df['total_images\tlast_price\ttotal_area\tfirst_day_exposition\t'\n",
    "'rooms\tceiling_height\tfloors_total\tliving_area\tfloor\t'\n",
    "'is_apartment\tstudio\topen_plan\tkitchen_area\tbalcony\tlocality_name\t'\n",
    "'airports_nearest\tcityCenters_nearest\tparks_around3000\tparks_nearest\t'\n",
    "'ponds_around3000\tponds_nearest\tdays_exposition'].str.split('\\t',expand=True)\n",
    "display(new_df)"
   ]
  },
  {
   "cell_type": "code",
   "execution_count": 4,
   "id": "aeb4ea38",
   "metadata": {},
   "outputs": [
    {
     "data": {
      "text/html": [
       "<div>\n",
       "<style scoped>\n",
       "    .dataframe tbody tr th:only-of-type {\n",
       "        vertical-align: middle;\n",
       "    }\n",
       "\n",
       "    .dataframe tbody tr th {\n",
       "        vertical-align: top;\n",
       "    }\n",
       "\n",
       "    .dataframe thead th {\n",
       "        text-align: right;\n",
       "    }\n",
       "</style>\n",
       "<table border=\"1\" class=\"dataframe\">\n",
       "  <thead>\n",
       "    <tr style=\"text-align: right;\">\n",
       "      <th></th>\n",
       "      <th>total_images</th>\n",
       "      <th>last_price</th>\n",
       "      <th>total_area</th>\n",
       "      <th>first_day_exposition</th>\n",
       "      <th>rooms</th>\n",
       "      <th>ceiling_height</th>\n",
       "      <th>floors_total</th>\n",
       "      <th>living_area</th>\n",
       "      <th>floor</th>\n",
       "      <th>is_apartment</th>\n",
       "      <th>...</th>\n",
       "      <th>kitchen_area</th>\n",
       "      <th>balcony</th>\n",
       "      <th>locality_name</th>\n",
       "      <th>airports_nearest</th>\n",
       "      <th>cityCenters_nearest</th>\n",
       "      <th>parks_around3000</th>\n",
       "      <th>parks_nearest</th>\n",
       "      <th>ponds_around3000</th>\n",
       "      <th>ponds_nearest</th>\n",
       "      <th>days_exposition</th>\n",
       "    </tr>\n",
       "  </thead>\n",
       "  <tbody>\n",
       "    <tr>\n",
       "      <th>0</th>\n",
       "      <td>20</td>\n",
       "      <td>13000000.0</td>\n",
       "      <td>108.0</td>\n",
       "      <td>2019-03-07T00:00:00</td>\n",
       "      <td>3</td>\n",
       "      <td>2.7</td>\n",
       "      <td>16.0</td>\n",
       "      <td>51.0</td>\n",
       "      <td>8</td>\n",
       "      <td></td>\n",
       "      <td>...</td>\n",
       "      <td>25.0</td>\n",
       "      <td></td>\n",
       "      <td>Санкт-Петербург</td>\n",
       "      <td>18863.0</td>\n",
       "      <td>16028.0</td>\n",
       "      <td>1.0</td>\n",
       "      <td>482.0</td>\n",
       "      <td>2.0</td>\n",
       "      <td>755.0</td>\n",
       "      <td></td>\n",
       "    </tr>\n",
       "    <tr>\n",
       "      <th>1</th>\n",
       "      <td>7</td>\n",
       "      <td>3350000.0</td>\n",
       "      <td>40.4</td>\n",
       "      <td>2018-12-04T00:00:00</td>\n",
       "      <td>1</td>\n",
       "      <td></td>\n",
       "      <td>11.0</td>\n",
       "      <td>18.6</td>\n",
       "      <td>1</td>\n",
       "      <td></td>\n",
       "      <td>...</td>\n",
       "      <td>11.0</td>\n",
       "      <td>2.0</td>\n",
       "      <td>посёлок Шушары</td>\n",
       "      <td>12817.0</td>\n",
       "      <td>18603.0</td>\n",
       "      <td>0.0</td>\n",
       "      <td></td>\n",
       "      <td>0.0</td>\n",
       "      <td></td>\n",
       "      <td>81.0</td>\n",
       "    </tr>\n",
       "    <tr>\n",
       "      <th>2</th>\n",
       "      <td>10</td>\n",
       "      <td>5196000.0</td>\n",
       "      <td>56.0</td>\n",
       "      <td>2015-08-20T00:00:00</td>\n",
       "      <td>2</td>\n",
       "      <td></td>\n",
       "      <td>5.0</td>\n",
       "      <td>34.3</td>\n",
       "      <td>4</td>\n",
       "      <td></td>\n",
       "      <td>...</td>\n",
       "      <td>8.3</td>\n",
       "      <td>0.0</td>\n",
       "      <td>Санкт-Петербург</td>\n",
       "      <td>21741.0</td>\n",
       "      <td>13933.0</td>\n",
       "      <td>1.0</td>\n",
       "      <td>90.0</td>\n",
       "      <td>2.0</td>\n",
       "      <td>574.0</td>\n",
       "      <td>558.0</td>\n",
       "    </tr>\n",
       "    <tr>\n",
       "      <th>3</th>\n",
       "      <td>0</td>\n",
       "      <td>64900000.0</td>\n",
       "      <td>159.0</td>\n",
       "      <td>2015-07-24T00:00:00</td>\n",
       "      <td>3</td>\n",
       "      <td></td>\n",
       "      <td>14.0</td>\n",
       "      <td></td>\n",
       "      <td>9</td>\n",
       "      <td></td>\n",
       "      <td>...</td>\n",
       "      <td></td>\n",
       "      <td>0.0</td>\n",
       "      <td>Санкт-Петербург</td>\n",
       "      <td>28098.0</td>\n",
       "      <td>6800.0</td>\n",
       "      <td>2.0</td>\n",
       "      <td>84.0</td>\n",
       "      <td>3.0</td>\n",
       "      <td>234.0</td>\n",
       "      <td>424.0</td>\n",
       "    </tr>\n",
       "    <tr>\n",
       "      <th>4</th>\n",
       "      <td>2</td>\n",
       "      <td>10000000.0</td>\n",
       "      <td>100.0</td>\n",
       "      <td>2018-06-19T00:00:00</td>\n",
       "      <td>2</td>\n",
       "      <td>3.03</td>\n",
       "      <td>14.0</td>\n",
       "      <td>32.0</td>\n",
       "      <td>13</td>\n",
       "      <td></td>\n",
       "      <td>...</td>\n",
       "      <td>41.0</td>\n",
       "      <td></td>\n",
       "      <td>Санкт-Петербург</td>\n",
       "      <td>31856.0</td>\n",
       "      <td>8098.0</td>\n",
       "      <td>2.0</td>\n",
       "      <td>112.0</td>\n",
       "      <td>1.0</td>\n",
       "      <td>48.0</td>\n",
       "      <td>121.0</td>\n",
       "    </tr>\n",
       "  </tbody>\n",
       "</table>\n",
       "<p>5 rows × 22 columns</p>\n",
       "</div>"
      ],
      "text/plain": [
       "  total_images  last_price total_area first_day_exposition rooms  \\\n",
       "0           20  13000000.0      108.0  2019-03-07T00:00:00     3   \n",
       "1            7   3350000.0       40.4  2018-12-04T00:00:00     1   \n",
       "2           10   5196000.0       56.0  2015-08-20T00:00:00     2   \n",
       "3            0  64900000.0      159.0  2015-07-24T00:00:00     3   \n",
       "4            2  10000000.0      100.0  2018-06-19T00:00:00     2   \n",
       "\n",
       "  ceiling_height floors_total living_area floor is_apartment  ...  \\\n",
       "0            2.7         16.0        51.0     8               ...   \n",
       "1                        11.0        18.6     1               ...   \n",
       "2                         5.0        34.3     4               ...   \n",
       "3                        14.0                 9               ...   \n",
       "4           3.03         14.0        32.0    13               ...   \n",
       "\n",
       "  kitchen_area balcony    locality_name airports_nearest cityCenters_nearest  \\\n",
       "0         25.0          Санкт-Петербург          18863.0             16028.0   \n",
       "1         11.0     2.0   посёлок Шушары          12817.0             18603.0   \n",
       "2          8.3     0.0  Санкт-Петербург          21741.0             13933.0   \n",
       "3                  0.0  Санкт-Петербург          28098.0              6800.0   \n",
       "4         41.0          Санкт-Петербург          31856.0              8098.0   \n",
       "\n",
       "  parks_around3000 parks_nearest ponds_around3000 ponds_nearest  \\\n",
       "0              1.0         482.0              2.0         755.0   \n",
       "1              0.0                            0.0                 \n",
       "2              1.0          90.0              2.0         574.0   \n",
       "3              2.0          84.0              3.0         234.0   \n",
       "4              2.0         112.0              1.0          48.0   \n",
       "\n",
       "  days_exposition  \n",
       "0                  \n",
       "1            81.0  \n",
       "2           558.0  \n",
       "3           424.0  \n",
       "4           121.0  \n",
       "\n",
       "[5 rows x 22 columns]"
      ]
     },
     "metadata": {},
     "output_type": "display_data"
    }
   ],
   "source": [
    "# Переименование колонок\n",
    "new_df.columns=['total_images','last_price','total_area', 'first_day_exposition', 'rooms', 'ceiling_height', 'floors_total', 'living_area', 'floor', 'is_apartment', 'studio', 'open_plan', 'kitchen_area','balcony', 'locality_name', 'airports_nearest',  'cityCenters_nearest', 'parks_around3000', 'parks_nearest', 'ponds_around3000','ponds_nearest', 'days_exposition']\n",
    "display(new_df.head())"
   ]
  },
  {
   "cell_type": "code",
   "execution_count": 5,
   "id": "a0c19748",
   "metadata": {},
   "outputs": [],
   "source": [
    "# translation_map = {\n",
    "#     'Санкт-Петербург': 'Saint Petersburg',\n",
    "#     'посёлок Шушары': 'Shushary settlement',\n",
    "#     'деревня Кудрово': 'Kudrovo village'\n",
    "# }\n",
    "\n",
    "# # Function to apply the translation based on the mapping\n",
    "# def apply_translation(place):\n",
    "#     return translation_map.get(place, place)  # returns the original if a translation isn't found\n",
    "\n",
    "# # Apply the translation to your dataframe\n",
    "# new_df['locality_name'] = new_df['locality_name'].apply(apply_translation)\n",
    "\n",
    "new_df.to_csv('new_data.csv', index=False)\n"
   ]
  },
  {
   "cell_type": "code",
   "execution_count": 6,
   "id": "8dd329da",
   "metadata": {},
   "outputs": [
    {
     "name": "stdout",
     "output_type": "stream",
     "text": [
      "<class 'pandas.core.frame.DataFrame'>\n",
      "RangeIndex: 23699 entries, 0 to 23698\n",
      "Data columns (total 22 columns):\n",
      " #   Column                Non-Null Count  Dtype  \n",
      "---  ------                --------------  -----  \n",
      " 0   total_images          23699 non-null  int64  \n",
      " 1   last_price            23699 non-null  float64\n",
      " 2   total_area            23699 non-null  float64\n",
      " 3   first_day_exposition  23699 non-null  object \n",
      " 4   rooms                 23699 non-null  int64  \n",
      " 5   ceiling_height        14504 non-null  float64\n",
      " 6   floors_total          23613 non-null  float64\n",
      " 7   living_area           21796 non-null  float64\n",
      " 8   floor                 23699 non-null  int64  \n",
      " 9   is_apartment          2775 non-null   object \n",
      " 10  studio                23699 non-null  bool   \n",
      " 11  open_plan             23699 non-null  bool   \n",
      " 12  kitchen_area          21421 non-null  float64\n",
      " 13  balcony               12180 non-null  float64\n",
      " 14  locality_name         23650 non-null  object \n",
      " 15  airports_nearest      18157 non-null  float64\n",
      " 16  cityCenters_nearest   18180 non-null  float64\n",
      " 17  parks_around3000      18181 non-null  float64\n",
      " 18  parks_nearest         8079 non-null   float64\n",
      " 19  ponds_around3000      18181 non-null  float64\n",
      " 20  ponds_nearest         9110 non-null   float64\n",
      " 21  days_exposition       20518 non-null  float64\n",
      "dtypes: bool(2), float64(14), int64(3), object(3)\n",
      "memory usage: 3.7+ MB\n"
     ]
    },
    {
     "data": {
      "text/plain": [
       "None"
      ]
     },
     "metadata": {},
     "output_type": "display_data"
    }
   ],
   "source": [
    "# Opening the file using the try-except method\n",
    "try:\n",
    "    df = pd.read_csv('new_data.csv')\n",
    "except:\n",
    "    print('The required file does not exist!')    \n",
    "# Displaying the first 5 rows of the table\n",
    "display(df.info())"
   ]
  },
  {
   "cell_type": "markdown",
   "id": "0ae048f6",
   "metadata": {},
   "source": [
    "In the provided table, there are 22 columns. Various data types are represented here: 3 data types of int64, 14 types of float64, 3 types of object, and 2 types of bool.\n",
    "\n",
    "According to the data documentation:\n",
    "\n",
    "* `airports_nearest` — distance to the nearest airport in meters (m)\n",
    "* `balcony` — number of balconies\n",
    "* `ceiling_height` — ceiling height (m)\n",
    "* `cityCenters_nearest` — distance to the city center (m)\n",
    "* `days_exposition` — number of days the ad was posted (from publication to removal)\n",
    "* `first_day_exposition` — publication date\n",
    "* `floor` — floor number\n",
    "* `floors_total` — total number of floors in the building\n",
    "* `is_apartment` — whether the property is an apartment (boolean type)\n",
    "* `kitchen_area` — kitchen area in square meters (m²)\n",
    "* `last_price` — price at the time of removal from publication\n",
    "* `living_area` — living area in square meters (m²)\n",
    "* `locality_name` — name of the locality\n",
    "* `open_plan` — open floor plan (boolean type)\n",
    "* `parks_around3000` — number of parks within a 3 km radius\n",
    "* `parks_nearest` — distance to the nearest park (m)\n",
    "* `ponds_around3000` — number of ponds within a 3 km radius\n",
    "* `ponds_nearest` — distance to the nearest pond (m)\n",
    "* `rooms` — number of rooms\n",
    "* `studio` — studio apartment (boolean type)\n",
    "* `total_area` — total apartment area in square meters (m²)\n",
    "* `total_images` — number of apartment photos in the ad\n",
    "\n",
    "Even at first glance, it's evident that there are missing values in the data. We'll try to address this during data preprocessing."
   ]
  },
  {
   "cell_type": "markdown",
   "id": "e4a4ca2f",
   "metadata": {},
   "source": [
    "### Conclusion\n",
    "\n",
    "Each row in the table contains the primary parameters that can assist in determining the market value of real estate properties in St. Petersburg and the surrounding region: area, price, number of rooms, and ceiling height. Also, parameters such as the floor number, distance from the city center, and the ad's publication date can significantly influence the property's price and how quickly it was sold.\n",
    "\n",
    "In the following sections, we will attempt to fill in all the missing values where appropriate and investigate the possible reasons that could have led to these gaps in the data."
   ]
  },
  {
   "cell_type": "markdown",
   "id": "cb5f5575",
   "metadata": {},
   "source": [
    "# Data Preprocessing"
   ]
  },
  {
   "cell_type": "markdown",
   "id": "00a4b2e4",
   "metadata": {},
   "source": [
    "Initially, it's essential to calculate how many missing values are present in the table. For this purpose, the `isna()` method can be used."
   ]
  },
  {
   "cell_type": "code",
   "execution_count": 7,
   "id": "a9f3035a",
   "metadata": {},
   "outputs": [
    {
     "data": {
      "text/html": [
       "<div>\n",
       "<style scoped>\n",
       "    .dataframe tbody tr th:only-of-type {\n",
       "        vertical-align: middle;\n",
       "    }\n",
       "\n",
       "    .dataframe tbody tr th {\n",
       "        vertical-align: top;\n",
       "    }\n",
       "\n",
       "    .dataframe thead th {\n",
       "        text-align: right;\n",
       "    }\n",
       "</style>\n",
       "<table border=\"1\" class=\"dataframe\">\n",
       "  <thead>\n",
       "    <tr style=\"text-align: right;\">\n",
       "      <th></th>\n",
       "      <th>total_images</th>\n",
       "      <th>last_price</th>\n",
       "      <th>total_area</th>\n",
       "      <th>first_day_exposition</th>\n",
       "      <th>rooms</th>\n",
       "      <th>ceiling_height</th>\n",
       "      <th>floors_total</th>\n",
       "      <th>living_area</th>\n",
       "      <th>floor</th>\n",
       "      <th>is_apartment</th>\n",
       "      <th>...</th>\n",
       "      <th>kitchen_area</th>\n",
       "      <th>balcony</th>\n",
       "      <th>locality_name</th>\n",
       "      <th>airports_nearest</th>\n",
       "      <th>cityCenters_nearest</th>\n",
       "      <th>parks_around3000</th>\n",
       "      <th>parks_nearest</th>\n",
       "      <th>ponds_around3000</th>\n",
       "      <th>ponds_nearest</th>\n",
       "      <th>days_exposition</th>\n",
       "    </tr>\n",
       "  </thead>\n",
       "  <tbody>\n",
       "    <tr>\n",
       "      <th>0</th>\n",
       "      <td>20</td>\n",
       "      <td>13000000.0</td>\n",
       "      <td>108.00</td>\n",
       "      <td>2019-03-07T00:00:00</td>\n",
       "      <td>3</td>\n",
       "      <td>2.70</td>\n",
       "      <td>16.0</td>\n",
       "      <td>51.0</td>\n",
       "      <td>8</td>\n",
       "      <td>NaN</td>\n",
       "      <td>...</td>\n",
       "      <td>25.00</td>\n",
       "      <td>NaN</td>\n",
       "      <td>Санкт-Петербург</td>\n",
       "      <td>18863.0</td>\n",
       "      <td>16028.0</td>\n",
       "      <td>1.0</td>\n",
       "      <td>482.0</td>\n",
       "      <td>2.0</td>\n",
       "      <td>755.0</td>\n",
       "      <td>NaN</td>\n",
       "    </tr>\n",
       "    <tr>\n",
       "      <th>1</th>\n",
       "      <td>7</td>\n",
       "      <td>3350000.0</td>\n",
       "      <td>40.40</td>\n",
       "      <td>2018-12-04T00:00:00</td>\n",
       "      <td>1</td>\n",
       "      <td>NaN</td>\n",
       "      <td>11.0</td>\n",
       "      <td>18.6</td>\n",
       "      <td>1</td>\n",
       "      <td>NaN</td>\n",
       "      <td>...</td>\n",
       "      <td>11.00</td>\n",
       "      <td>2.0</td>\n",
       "      <td>посёлок Шушары</td>\n",
       "      <td>12817.0</td>\n",
       "      <td>18603.0</td>\n",
       "      <td>0.0</td>\n",
       "      <td>NaN</td>\n",
       "      <td>0.0</td>\n",
       "      <td>NaN</td>\n",
       "      <td>81.0</td>\n",
       "    </tr>\n",
       "    <tr>\n",
       "      <th>2</th>\n",
       "      <td>10</td>\n",
       "      <td>5196000.0</td>\n",
       "      <td>56.00</td>\n",
       "      <td>2015-08-20T00:00:00</td>\n",
       "      <td>2</td>\n",
       "      <td>NaN</td>\n",
       "      <td>5.0</td>\n",
       "      <td>34.3</td>\n",
       "      <td>4</td>\n",
       "      <td>NaN</td>\n",
       "      <td>...</td>\n",
       "      <td>8.30</td>\n",
       "      <td>0.0</td>\n",
       "      <td>Санкт-Петербург</td>\n",
       "      <td>21741.0</td>\n",
       "      <td>13933.0</td>\n",
       "      <td>1.0</td>\n",
       "      <td>90.0</td>\n",
       "      <td>2.0</td>\n",
       "      <td>574.0</td>\n",
       "      <td>558.0</td>\n",
       "    </tr>\n",
       "    <tr>\n",
       "      <th>3</th>\n",
       "      <td>0</td>\n",
       "      <td>64900000.0</td>\n",
       "      <td>159.00</td>\n",
       "      <td>2015-07-24T00:00:00</td>\n",
       "      <td>3</td>\n",
       "      <td>NaN</td>\n",
       "      <td>14.0</td>\n",
       "      <td>NaN</td>\n",
       "      <td>9</td>\n",
       "      <td>NaN</td>\n",
       "      <td>...</td>\n",
       "      <td>NaN</td>\n",
       "      <td>0.0</td>\n",
       "      <td>Санкт-Петербург</td>\n",
       "      <td>28098.0</td>\n",
       "      <td>6800.0</td>\n",
       "      <td>2.0</td>\n",
       "      <td>84.0</td>\n",
       "      <td>3.0</td>\n",
       "      <td>234.0</td>\n",
       "      <td>424.0</td>\n",
       "    </tr>\n",
       "    <tr>\n",
       "      <th>4</th>\n",
       "      <td>2</td>\n",
       "      <td>10000000.0</td>\n",
       "      <td>100.00</td>\n",
       "      <td>2018-06-19T00:00:00</td>\n",
       "      <td>2</td>\n",
       "      <td>3.03</td>\n",
       "      <td>14.0</td>\n",
       "      <td>32.0</td>\n",
       "      <td>13</td>\n",
       "      <td>NaN</td>\n",
       "      <td>...</td>\n",
       "      <td>41.00</td>\n",
       "      <td>NaN</td>\n",
       "      <td>Санкт-Петербург</td>\n",
       "      <td>31856.0</td>\n",
       "      <td>8098.0</td>\n",
       "      <td>2.0</td>\n",
       "      <td>112.0</td>\n",
       "      <td>1.0</td>\n",
       "      <td>48.0</td>\n",
       "      <td>121.0</td>\n",
       "    </tr>\n",
       "    <tr>\n",
       "      <th>...</th>\n",
       "      <td>...</td>\n",
       "      <td>...</td>\n",
       "      <td>...</td>\n",
       "      <td>...</td>\n",
       "      <td>...</td>\n",
       "      <td>...</td>\n",
       "      <td>...</td>\n",
       "      <td>...</td>\n",
       "      <td>...</td>\n",
       "      <td>...</td>\n",
       "      <td>...</td>\n",
       "      <td>...</td>\n",
       "      <td>...</td>\n",
       "      <td>...</td>\n",
       "      <td>...</td>\n",
       "      <td>...</td>\n",
       "      <td>...</td>\n",
       "      <td>...</td>\n",
       "      <td>...</td>\n",
       "      <td>...</td>\n",
       "      <td>...</td>\n",
       "    </tr>\n",
       "    <tr>\n",
       "      <th>23694</th>\n",
       "      <td>9</td>\n",
       "      <td>9700000.0</td>\n",
       "      <td>133.81</td>\n",
       "      <td>2017-03-21T00:00:00</td>\n",
       "      <td>3</td>\n",
       "      <td>3.70</td>\n",
       "      <td>5.0</td>\n",
       "      <td>73.3</td>\n",
       "      <td>3</td>\n",
       "      <td>NaN</td>\n",
       "      <td>...</td>\n",
       "      <td>13.83</td>\n",
       "      <td>NaN</td>\n",
       "      <td>Санкт-Петербург</td>\n",
       "      <td>24665.0</td>\n",
       "      <td>4232.0</td>\n",
       "      <td>1.0</td>\n",
       "      <td>796.0</td>\n",
       "      <td>3.0</td>\n",
       "      <td>381.0</td>\n",
       "      <td>NaN</td>\n",
       "    </tr>\n",
       "    <tr>\n",
       "      <th>23695</th>\n",
       "      <td>14</td>\n",
       "      <td>3100000.0</td>\n",
       "      <td>59.00</td>\n",
       "      <td>2018-01-15T00:00:00</td>\n",
       "      <td>3</td>\n",
       "      <td>NaN</td>\n",
       "      <td>5.0</td>\n",
       "      <td>38.0</td>\n",
       "      <td>4</td>\n",
       "      <td>NaN</td>\n",
       "      <td>...</td>\n",
       "      <td>8.50</td>\n",
       "      <td>NaN</td>\n",
       "      <td>Тосно</td>\n",
       "      <td>NaN</td>\n",
       "      <td>NaN</td>\n",
       "      <td>NaN</td>\n",
       "      <td>NaN</td>\n",
       "      <td>NaN</td>\n",
       "      <td>NaN</td>\n",
       "      <td>45.0</td>\n",
       "    </tr>\n",
       "    <tr>\n",
       "      <th>23696</th>\n",
       "      <td>18</td>\n",
       "      <td>2500000.0</td>\n",
       "      <td>56.70</td>\n",
       "      <td>2018-02-11T00:00:00</td>\n",
       "      <td>2</td>\n",
       "      <td>NaN</td>\n",
       "      <td>3.0</td>\n",
       "      <td>29.7</td>\n",
       "      <td>1</td>\n",
       "      <td>NaN</td>\n",
       "      <td>...</td>\n",
       "      <td>NaN</td>\n",
       "      <td>NaN</td>\n",
       "      <td>село Рождествено</td>\n",
       "      <td>NaN</td>\n",
       "      <td>NaN</td>\n",
       "      <td>NaN</td>\n",
       "      <td>NaN</td>\n",
       "      <td>NaN</td>\n",
       "      <td>NaN</td>\n",
       "      <td>NaN</td>\n",
       "    </tr>\n",
       "    <tr>\n",
       "      <th>23697</th>\n",
       "      <td>13</td>\n",
       "      <td>11475000.0</td>\n",
       "      <td>76.75</td>\n",
       "      <td>2017-03-28T00:00:00</td>\n",
       "      <td>2</td>\n",
       "      <td>3.00</td>\n",
       "      <td>17.0</td>\n",
       "      <td>NaN</td>\n",
       "      <td>12</td>\n",
       "      <td>NaN</td>\n",
       "      <td>...</td>\n",
       "      <td>23.30</td>\n",
       "      <td>2.0</td>\n",
       "      <td>Санкт-Петербург</td>\n",
       "      <td>39140.0</td>\n",
       "      <td>10364.0</td>\n",
       "      <td>2.0</td>\n",
       "      <td>173.0</td>\n",
       "      <td>3.0</td>\n",
       "      <td>196.0</td>\n",
       "      <td>602.0</td>\n",
       "    </tr>\n",
       "    <tr>\n",
       "      <th>23698</th>\n",
       "      <td>4</td>\n",
       "      <td>1350000.0</td>\n",
       "      <td>32.30</td>\n",
       "      <td>2017-07-21T00:00:00</td>\n",
       "      <td>1</td>\n",
       "      <td>2.50</td>\n",
       "      <td>5.0</td>\n",
       "      <td>12.3</td>\n",
       "      <td>1</td>\n",
       "      <td>NaN</td>\n",
       "      <td>...</td>\n",
       "      <td>9.00</td>\n",
       "      <td>NaN</td>\n",
       "      <td>поселок Новый Учхоз</td>\n",
       "      <td>NaN</td>\n",
       "      <td>NaN</td>\n",
       "      <td>NaN</td>\n",
       "      <td>NaN</td>\n",
       "      <td>NaN</td>\n",
       "      <td>NaN</td>\n",
       "      <td>NaN</td>\n",
       "    </tr>\n",
       "  </tbody>\n",
       "</table>\n",
       "<p>23699 rows × 22 columns</p>\n",
       "</div>"
      ],
      "text/plain": [
       "       total_images  last_price  total_area first_day_exposition  rooms  \\\n",
       "0                20  13000000.0      108.00  2019-03-07T00:00:00      3   \n",
       "1                 7   3350000.0       40.40  2018-12-04T00:00:00      1   \n",
       "2                10   5196000.0       56.00  2015-08-20T00:00:00      2   \n",
       "3                 0  64900000.0      159.00  2015-07-24T00:00:00      3   \n",
       "4                 2  10000000.0      100.00  2018-06-19T00:00:00      2   \n",
       "...             ...         ...         ...                  ...    ...   \n",
       "23694             9   9700000.0      133.81  2017-03-21T00:00:00      3   \n",
       "23695            14   3100000.0       59.00  2018-01-15T00:00:00      3   \n",
       "23696            18   2500000.0       56.70  2018-02-11T00:00:00      2   \n",
       "23697            13  11475000.0       76.75  2017-03-28T00:00:00      2   \n",
       "23698             4   1350000.0       32.30  2017-07-21T00:00:00      1   \n",
       "\n",
       "       ceiling_height  floors_total  living_area  floor is_apartment  ...  \\\n",
       "0                2.70          16.0         51.0      8          NaN  ...   \n",
       "1                 NaN          11.0         18.6      1          NaN  ...   \n",
       "2                 NaN           5.0         34.3      4          NaN  ...   \n",
       "3                 NaN          14.0          NaN      9          NaN  ...   \n",
       "4                3.03          14.0         32.0     13          NaN  ...   \n",
       "...               ...           ...          ...    ...          ...  ...   \n",
       "23694            3.70           5.0         73.3      3          NaN  ...   \n",
       "23695             NaN           5.0         38.0      4          NaN  ...   \n",
       "23696             NaN           3.0         29.7      1          NaN  ...   \n",
       "23697            3.00          17.0          NaN     12          NaN  ...   \n",
       "23698            2.50           5.0         12.3      1          NaN  ...   \n",
       "\n",
       "       kitchen_area  balcony        locality_name  airports_nearest  \\\n",
       "0             25.00      NaN      Санкт-Петербург           18863.0   \n",
       "1             11.00      2.0       посёлок Шушары           12817.0   \n",
       "2              8.30      0.0      Санкт-Петербург           21741.0   \n",
       "3               NaN      0.0      Санкт-Петербург           28098.0   \n",
       "4             41.00      NaN      Санкт-Петербург           31856.0   \n",
       "...             ...      ...                  ...               ...   \n",
       "23694         13.83      NaN      Санкт-Петербург           24665.0   \n",
       "23695          8.50      NaN                Тосно               NaN   \n",
       "23696           NaN      NaN     село Рождествено               NaN   \n",
       "23697         23.30      2.0      Санкт-Петербург           39140.0   \n",
       "23698          9.00      NaN  поселок Новый Учхоз               NaN   \n",
       "\n",
       "      cityCenters_nearest  parks_around3000  parks_nearest  ponds_around3000  \\\n",
       "0                 16028.0               1.0          482.0               2.0   \n",
       "1                 18603.0               0.0            NaN               0.0   \n",
       "2                 13933.0               1.0           90.0               2.0   \n",
       "3                  6800.0               2.0           84.0               3.0   \n",
       "4                  8098.0               2.0          112.0               1.0   \n",
       "...                   ...               ...            ...               ...   \n",
       "23694              4232.0               1.0          796.0               3.0   \n",
       "23695                 NaN               NaN            NaN               NaN   \n",
       "23696                 NaN               NaN            NaN               NaN   \n",
       "23697             10364.0               2.0          173.0               3.0   \n",
       "23698                 NaN               NaN            NaN               NaN   \n",
       "\n",
       "       ponds_nearest  days_exposition  \n",
       "0              755.0              NaN  \n",
       "1                NaN             81.0  \n",
       "2              574.0            558.0  \n",
       "3              234.0            424.0  \n",
       "4               48.0            121.0  \n",
       "...              ...              ...  \n",
       "23694          381.0              NaN  \n",
       "23695            NaN             45.0  \n",
       "23696            NaN              NaN  \n",
       "23697          196.0            602.0  \n",
       "23698            NaN              NaN  \n",
       "\n",
       "[23699 rows x 22 columns]"
      ]
     },
     "execution_count": 7,
     "metadata": {},
     "output_type": "execute_result"
    }
   ],
   "source": [
    "df"
   ]
  },
  {
   "cell_type": "code",
   "execution_count": 8,
   "id": "18943b36",
   "metadata": {},
   "outputs": [
    {
     "data": {
      "text/plain": [
       "total_images                0\n",
       "last_price                  0\n",
       "total_area                  0\n",
       "first_day_exposition        0\n",
       "rooms                       0\n",
       "ceiling_height           9195\n",
       "floors_total               86\n",
       "living_area              1903\n",
       "floor                       0\n",
       "is_apartment            20924\n",
       "studio                      0\n",
       "open_plan                   0\n",
       "kitchen_area             2278\n",
       "balcony                 11519\n",
       "locality_name              49\n",
       "airports_nearest         5542\n",
       "cityCenters_nearest      5519\n",
       "parks_around3000         5518\n",
       "parks_nearest           15620\n",
       "ponds_around3000         5518\n",
       "ponds_nearest           14589\n",
       "days_exposition          3181\n",
       "dtype: int64"
      ]
     },
     "execution_count": 8,
     "metadata": {},
     "output_type": "execute_result"
    }
   ],
   "source": [
    "# Counting the number of missing values\n",
    "df.isna().sum()"
   ]
  },
  {
   "cell_type": "markdown",
   "id": "b00d1829",
   "metadata": {},
   "source": [
    "In the columns `airports_nearest`, `parks_around3000`, `parks_nearest`, `ponds_around3000`, and `ponds_nearest`, a significant number of missing values can be observed. Fortunately, not all missing values impact the study, so in these columns, some of the missing values can be replaced with a clear indication, while the rest can be left as is.\n",
    "\n",
    "However, the same approach cannot be applied to the columns `ceiling_height`, `floors_total`, `living_area`, `kitchen_area`, `balcony`, `cityCenters_nearest`, and `days_exposition`, the data from which are essential for answering our questions. In a real-world scenario, it would be beneficial to ascertain the cause of the missing values and recover the data. \n",
    "But since we lack that capability, it's necessary to fill these gaps with explicit indications and also assess how much they might affect the calculations.\n",
    "\n",
    "With the `is_apartment` column, things are not so straightforward. There are many missing values, and it's impossible to accurately infer what the data might be without potentially skewing the results of the analysis. Therefore, we'll leave the missing values unfilled.\n",
    "\n",
    "Since there aren't many missing values in the `locality_name` column, we'll replace them with the value `unknown`."
   ]
  },
  {
   "cell_type": "code",
   "execution_count": 9,
   "id": "8e4b3339",
   "metadata": {},
   "outputs": [
    {
     "data": {
      "text/plain": [
       "total_images                0\n",
       "last_price                  0\n",
       "total_area                  0\n",
       "first_day_exposition        0\n",
       "rooms                       0\n",
       "ceiling_height           9195\n",
       "floors_total               86\n",
       "living_area              1903\n",
       "floor                       0\n",
       "is_apartment            20924\n",
       "studio                      0\n",
       "open_plan                   0\n",
       "kitchen_area             2278\n",
       "balcony                     0\n",
       "locality_name              49\n",
       "airports_nearest         5542\n",
       "cityCenters_nearest      5519\n",
       "parks_around3000         5518\n",
       "parks_nearest           15620\n",
       "ponds_around3000         5518\n",
       "ponds_nearest           14589\n",
       "days_exposition          3181\n",
       "dtype: int64"
      ]
     },
     "execution_count": 9,
     "metadata": {},
     "output_type": "execute_result"
    }
   ],
   "source": [
    "# Fill the gaps in column 'balcony' to 0\n",
    "df['balcony'] = df['balcony'].fillna(0)\n",
    "df.isna().sum()"
   ]
  },
  {
   "cell_type": "markdown",
   "id": "6ee42829",
   "metadata": {},
   "source": [
    "If the number of balconies in an apartment is not specified, it's likely that there are none. We can replace the missing values with 0. The same situation could be applied to apartments."
   ]
  },
  {
   "cell_type": "markdown",
   "id": "2acc00c6",
   "metadata": {},
   "source": [
    "Now, let's address the kitchen area. If the property is a studio, we can conclusively fill the missing values with 0, as in studios the room and the kitchen are combined into one."
   ]
  },
  {
   "cell_type": "code",
   "execution_count": 10,
   "id": "30b33f95",
   "metadata": {},
   "outputs": [
    {
     "data": {
      "text/plain": [
       "149"
      ]
     },
     "execution_count": 10,
     "metadata": {},
     "output_type": "execute_result"
    }
   ],
   "source": [
    "# Let's count how many such apartments there are\n",
    "len(df[(np.isnan(df.kitchen_area)) & (df['studio']== True)])"
   ]
  },
  {
   "cell_type": "code",
   "execution_count": 11,
   "id": "32d472c4",
   "metadata": {},
   "outputs": [],
   "source": [
    "# Replace the missing values with 0 for properties that are studios\n",
    "df['kitchen_area'] = df['kitchen_area'].mask(df['studio'] == True, 0)"
   ]
  },
  {
   "cell_type": "markdown",
   "id": "b397307d",
   "metadata": {},
   "source": [
    "Also, if the number of rooms specified is 0, then the apartment is also considered a studio.\n",
    "\n",
    "In other cases, we'll try using median values to minimize errors in further calculations.\n",
    "\n",
    "Since the kitchen area depends on the number of rooms and the total area, we can divide the average kitchen area by the average total area (depending on the number of rooms) and then multiply the entire area by the resulting coefficient."
   ]
  },
  {
   "cell_type": "code",
   "execution_count": 12,
   "id": "70f15bd5",
   "metadata": {},
   "outputs": [],
   "source": [
    "# Function to group data by the first column and find the average value of the second\n",
    "def trandform_func(col1, col2):\n",
    "    return df.groupby(col1)[col2].transform('median')"
   ]
  },
  {
   "cell_type": "code",
   "execution_count": 13,
   "id": "102f2000",
   "metadata": {},
   "outputs": [],
   "source": [
    "# Function to fill missing values in column col with value\n",
    "def fillna_func(col, value):\n",
    "    df[col] = df[col].fillna(value)\n",
    "    return df[col] "
   ]
  },
  {
   "cell_type": "code",
   "execution_count": 14,
   "id": "9f2d6f68",
   "metadata": {},
   "outputs": [
    {
     "data": {
      "text/plain": [
       "0        25.000000\n",
       "1        11.000000\n",
       "2         8.300000\n",
       "3        20.691781\n",
       "4        41.000000\n",
       "           ...    \n",
       "23694    13.830000\n",
       "23695     8.500000\n",
       "23696     9.414340\n",
       "23697    23.300000\n",
       "23698     9.000000\n",
       "Name: kitchen_area, Length: 23699, dtype: float64"
      ]
     },
     "metadata": {},
     "output_type": "display_data"
    }
   ],
   "source": [
    "# Let's group the area of the kitchen by the number of rooms\n",
    "kitchen_rooms = trandform_func('rooms', 'kitchen_area')\n",
    "# Let's group the total  area of the kitchen by the number of rooms\n",
    "total_area_rooms = trandform_func('rooms', 'total_area')\n",
    "# Filling the gaps in the column 'kitchen_area'\n",
    "fillna_func('kitchen_area', df['total_area'] * kitchen_rooms / total_area_rooms)\n",
    "display(df['kitchen_area'])"
   ]
  },
  {
   "cell_type": "markdown",
   "id": "884f7e31",
   "metadata": {},
   "source": [
    "Let's do the same with a column `living_area` which is also depending on the number of rooms and the total area of the apartment. "
   ]
  },
  {
   "cell_type": "code",
   "execution_count": 15,
   "id": "ba71f1ca",
   "metadata": {},
   "outputs": [
    {
     "data": {
      "text/html": [
       "<div>\n",
       "<style scoped>\n",
       "    .dataframe tbody tr th:only-of-type {\n",
       "        vertical-align: middle;\n",
       "    }\n",
       "\n",
       "    .dataframe tbody tr th {\n",
       "        vertical-align: top;\n",
       "    }\n",
       "\n",
       "    .dataframe thead th {\n",
       "        text-align: right;\n",
       "    }\n",
       "</style>\n",
       "<table border=\"1\" class=\"dataframe\">\n",
       "  <thead>\n",
       "    <tr style=\"text-align: right;\">\n",
       "      <th></th>\n",
       "      <th>total_images</th>\n",
       "      <th>last_price</th>\n",
       "      <th>total_area</th>\n",
       "      <th>first_day_exposition</th>\n",
       "      <th>rooms</th>\n",
       "      <th>ceiling_height</th>\n",
       "      <th>floors_total</th>\n",
       "      <th>living_area</th>\n",
       "      <th>floor</th>\n",
       "      <th>is_apartment</th>\n",
       "      <th>...</th>\n",
       "      <th>kitchen_area</th>\n",
       "      <th>balcony</th>\n",
       "      <th>locality_name</th>\n",
       "      <th>airports_nearest</th>\n",
       "      <th>cityCenters_nearest</th>\n",
       "      <th>parks_around3000</th>\n",
       "      <th>parks_nearest</th>\n",
       "      <th>ponds_around3000</th>\n",
       "      <th>ponds_nearest</th>\n",
       "      <th>days_exposition</th>\n",
       "    </tr>\n",
       "  </thead>\n",
       "  <tbody>\n",
       "    <tr>\n",
       "      <th>0</th>\n",
       "      <td>20</td>\n",
       "      <td>13000000.0</td>\n",
       "      <td>108.0</td>\n",
       "      <td>2019-03-07T00:00:00</td>\n",
       "      <td>3</td>\n",
       "      <td>2.70</td>\n",
       "      <td>16.0</td>\n",
       "      <td>51.000000</td>\n",
       "      <td>8</td>\n",
       "      <td>NaN</td>\n",
       "      <td>...</td>\n",
       "      <td>25.000000</td>\n",
       "      <td>0.0</td>\n",
       "      <td>Санкт-Петербург</td>\n",
       "      <td>18863.0</td>\n",
       "      <td>16028.0</td>\n",
       "      <td>1.0</td>\n",
       "      <td>482.0</td>\n",
       "      <td>2.0</td>\n",
       "      <td>755.0</td>\n",
       "      <td>NaN</td>\n",
       "    </tr>\n",
       "    <tr>\n",
       "      <th>1</th>\n",
       "      <td>7</td>\n",
       "      <td>3350000.0</td>\n",
       "      <td>40.4</td>\n",
       "      <td>2018-12-04T00:00:00</td>\n",
       "      <td>1</td>\n",
       "      <td>NaN</td>\n",
       "      <td>11.0</td>\n",
       "      <td>18.600000</td>\n",
       "      <td>1</td>\n",
       "      <td>NaN</td>\n",
       "      <td>...</td>\n",
       "      <td>11.000000</td>\n",
       "      <td>2.0</td>\n",
       "      <td>посёлок Шушары</td>\n",
       "      <td>12817.0</td>\n",
       "      <td>18603.0</td>\n",
       "      <td>0.0</td>\n",
       "      <td>NaN</td>\n",
       "      <td>0.0</td>\n",
       "      <td>NaN</td>\n",
       "      <td>81.0</td>\n",
       "    </tr>\n",
       "    <tr>\n",
       "      <th>2</th>\n",
       "      <td>10</td>\n",
       "      <td>5196000.0</td>\n",
       "      <td>56.0</td>\n",
       "      <td>2015-08-20T00:00:00</td>\n",
       "      <td>2</td>\n",
       "      <td>NaN</td>\n",
       "      <td>5.0</td>\n",
       "      <td>34.300000</td>\n",
       "      <td>4</td>\n",
       "      <td>NaN</td>\n",
       "      <td>...</td>\n",
       "      <td>8.300000</td>\n",
       "      <td>0.0</td>\n",
       "      <td>Санкт-Петербург</td>\n",
       "      <td>21741.0</td>\n",
       "      <td>13933.0</td>\n",
       "      <td>1.0</td>\n",
       "      <td>90.0</td>\n",
       "      <td>2.0</td>\n",
       "      <td>574.0</td>\n",
       "      <td>558.0</td>\n",
       "    </tr>\n",
       "    <tr>\n",
       "      <th>3</th>\n",
       "      <td>0</td>\n",
       "      <td>64900000.0</td>\n",
       "      <td>159.0</td>\n",
       "      <td>2015-07-24T00:00:00</td>\n",
       "      <td>3</td>\n",
       "      <td>NaN</td>\n",
       "      <td>14.0</td>\n",
       "      <td>98.013699</td>\n",
       "      <td>9</td>\n",
       "      <td>NaN</td>\n",
       "      <td>...</td>\n",
       "      <td>20.691781</td>\n",
       "      <td>0.0</td>\n",
       "      <td>Санкт-Петербург</td>\n",
       "      <td>28098.0</td>\n",
       "      <td>6800.0</td>\n",
       "      <td>2.0</td>\n",
       "      <td>84.0</td>\n",
       "      <td>3.0</td>\n",
       "      <td>234.0</td>\n",
       "      <td>424.0</td>\n",
       "    </tr>\n",
       "    <tr>\n",
       "      <th>4</th>\n",
       "      <td>2</td>\n",
       "      <td>10000000.0</td>\n",
       "      <td>100.0</td>\n",
       "      <td>2018-06-19T00:00:00</td>\n",
       "      <td>2</td>\n",
       "      <td>3.03</td>\n",
       "      <td>14.0</td>\n",
       "      <td>32.000000</td>\n",
       "      <td>13</td>\n",
       "      <td>NaN</td>\n",
       "      <td>...</td>\n",
       "      <td>41.000000</td>\n",
       "      <td>0.0</td>\n",
       "      <td>Санкт-Петербург</td>\n",
       "      <td>31856.0</td>\n",
       "      <td>8098.0</td>\n",
       "      <td>2.0</td>\n",
       "      <td>112.0</td>\n",
       "      <td>1.0</td>\n",
       "      <td>48.0</td>\n",
       "      <td>121.0</td>\n",
       "    </tr>\n",
       "  </tbody>\n",
       "</table>\n",
       "<p>5 rows × 22 columns</p>\n",
       "</div>"
      ],
      "text/plain": [
       "   total_images  last_price  total_area first_day_exposition  rooms  \\\n",
       "0            20  13000000.0       108.0  2019-03-07T00:00:00      3   \n",
       "1             7   3350000.0        40.4  2018-12-04T00:00:00      1   \n",
       "2            10   5196000.0        56.0  2015-08-20T00:00:00      2   \n",
       "3             0  64900000.0       159.0  2015-07-24T00:00:00      3   \n",
       "4             2  10000000.0       100.0  2018-06-19T00:00:00      2   \n",
       "\n",
       "   ceiling_height  floors_total  living_area  floor is_apartment  ...  \\\n",
       "0            2.70          16.0    51.000000      8          NaN  ...   \n",
       "1             NaN          11.0    18.600000      1          NaN  ...   \n",
       "2             NaN           5.0    34.300000      4          NaN  ...   \n",
       "3             NaN          14.0    98.013699      9          NaN  ...   \n",
       "4            3.03          14.0    32.000000     13          NaN  ...   \n",
       "\n",
       "   kitchen_area  balcony    locality_name  airports_nearest  \\\n",
       "0     25.000000      0.0  Санкт-Петербург           18863.0   \n",
       "1     11.000000      2.0   посёлок Шушары           12817.0   \n",
       "2      8.300000      0.0  Санкт-Петербург           21741.0   \n",
       "3     20.691781      0.0  Санкт-Петербург           28098.0   \n",
       "4     41.000000      0.0  Санкт-Петербург           31856.0   \n",
       "\n",
       "  cityCenters_nearest  parks_around3000  parks_nearest  ponds_around3000  \\\n",
       "0             16028.0               1.0          482.0               2.0   \n",
       "1             18603.0               0.0            NaN               0.0   \n",
       "2             13933.0               1.0           90.0               2.0   \n",
       "3              6800.0               2.0           84.0               3.0   \n",
       "4              8098.0               2.0          112.0               1.0   \n",
       "\n",
       "   ponds_nearest  days_exposition  \n",
       "0          755.0              NaN  \n",
       "1            NaN             81.0  \n",
       "2          574.0            558.0  \n",
       "3          234.0            424.0  \n",
       "4           48.0            121.0  \n",
       "\n",
       "[5 rows x 22 columns]"
      ]
     },
     "metadata": {},
     "output_type": "display_data"
    }
   ],
   "source": [
    "# Let's group the area of the living area by the number of rooms\n",
    "group_living = trandform_func('rooms', 'living_area')\n",
    "# Filling the gaps in the column 'living_area'\n",
    "fillna_func('living_area', df['total_area'] * group_living  / total_area_rooms)\n",
    "display(df.head())"
   ]
  },
  {
   "cell_type": "markdown",
   "id": "879b2f19",
   "metadata": {},
   "source": [
    "You can't simply fill the `floors_total` column with the median value, because this value might be lower than the value in the `floor` column.\n",
    "\n",
    "Therefore, let's group the total number of floors based on the floor where the real estate object is located."
   ]
  },
  {
   "cell_type": "code",
   "execution_count": 16,
   "id": "d4484e94",
   "metadata": {
    "scrolled": true
   },
   "outputs": [
    {
     "data": {
      "text/plain": [
       "0        16.0\n",
       "1        11.0\n",
       "2         5.0\n",
       "3        14.0\n",
       "4        14.0\n",
       "         ... \n",
       "23694     5.0\n",
       "23695     5.0\n",
       "23696     3.0\n",
       "23697    17.0\n",
       "23698     5.0\n",
       "Name: floors_total, Length: 23699, dtype: float64"
      ]
     },
     "execution_count": 16,
     "metadata": {},
     "output_type": "execute_result"
    }
   ],
   "source": [
    "# Group the number of floors in a building by the floor where the apartment is located\n",
    "group_floor = trandform_func('floor', 'floors_total')\n",
    "# Fill in the missing values in the 'floors_total' column\n",
    "fillna_func('floors_total', group_floor)"
   ]
  },
  {
   "cell_type": "markdown",
   "id": "d457a65b",
   "metadata": {},
   "source": [
    "The `ceiling_height` column might depend on the number of floors, so we'll fill in the missing values with the median ceiling height based on the building's number of floors."
   ]
  },
  {
   "cell_type": "code",
   "execution_count": 17,
   "id": "e3ff4df1",
   "metadata": {},
   "outputs": [
    {
     "data": {
      "text/plain": [
       "0        2.70\n",
       "1        2.75\n",
       "2        2.55\n",
       "3        2.60\n",
       "4        3.03\n",
       "         ... \n",
       "23694    3.70\n",
       "23695    2.55\n",
       "23696    2.80\n",
       "23697    3.00\n",
       "23698    2.50\n",
       "Name: ceiling_height, Length: 23699, dtype: float64"
      ]
     },
     "execution_count": 17,
     "metadata": {},
     "output_type": "execute_result"
    }
   ],
   "source": [
    "# Group ceiling height by the number of floors in a building\n",
    "ceiling = trandform_func('floors_total', 'ceiling_height')\n",
    "# Fill in the missing values in the 'ceiling_height' column\n",
    "fillna_func('ceiling_height', ceiling)\n",
    "#In case some floors appear in our table only once, \n",
    "#we will fill them with the median value for the entire table\n",
    "fillna_func('ceiling_height', df['ceiling_height'].median())"
   ]
  },
  {
   "cell_type": "markdown",
   "id": "3e7bd81b",
   "metadata": {},
   "source": [
    "Now, let's deal with those columns that directly depend on the location of the object under consideration."
   ]
  },
  {
   "cell_type": "code",
   "execution_count": 18,
   "id": "4b6e943c",
   "metadata": {},
   "outputs": [
    {
     "data": {
      "text/html": [
       "<div>\n",
       "<style scoped>\n",
       "    .dataframe tbody tr th:only-of-type {\n",
       "        vertical-align: middle;\n",
       "    }\n",
       "\n",
       "    .dataframe tbody tr th {\n",
       "        vertical-align: top;\n",
       "    }\n",
       "\n",
       "    .dataframe thead th {\n",
       "        text-align: right;\n",
       "    }\n",
       "</style>\n",
       "<table border=\"1\" class=\"dataframe\">\n",
       "  <thead>\n",
       "    <tr style=\"text-align: right;\">\n",
       "      <th></th>\n",
       "      <th>airports_nearest</th>\n",
       "      <th>cityCenters_nearest</th>\n",
       "      <th>parks_around3000</th>\n",
       "      <th>parks_nearest</th>\n",
       "      <th>ponds_around3000</th>\n",
       "      <th>ponds_nearest</th>\n",
       "    </tr>\n",
       "  </thead>\n",
       "  <tbody>\n",
       "    <tr>\n",
       "      <th>0</th>\n",
       "      <td>18863.0</td>\n",
       "      <td>16028.0</td>\n",
       "      <td>1.0</td>\n",
       "      <td>482.0</td>\n",
       "      <td>2.0</td>\n",
       "      <td>755.0</td>\n",
       "    </tr>\n",
       "    <tr>\n",
       "      <th>1</th>\n",
       "      <td>12817.0</td>\n",
       "      <td>18603.0</td>\n",
       "      <td>0.0</td>\n",
       "      <td>NaN</td>\n",
       "      <td>0.0</td>\n",
       "      <td>584.5</td>\n",
       "    </tr>\n",
       "    <tr>\n",
       "      <th>2</th>\n",
       "      <td>21741.0</td>\n",
       "      <td>13933.0</td>\n",
       "      <td>1.0</td>\n",
       "      <td>90.0</td>\n",
       "      <td>2.0</td>\n",
       "      <td>574.0</td>\n",
       "    </tr>\n",
       "    <tr>\n",
       "      <th>3</th>\n",
       "      <td>28098.0</td>\n",
       "      <td>6800.0</td>\n",
       "      <td>2.0</td>\n",
       "      <td>84.0</td>\n",
       "      <td>3.0</td>\n",
       "      <td>234.0</td>\n",
       "    </tr>\n",
       "    <tr>\n",
       "      <th>4</th>\n",
       "      <td>31856.0</td>\n",
       "      <td>8098.0</td>\n",
       "      <td>2.0</td>\n",
       "      <td>112.0</td>\n",
       "      <td>1.0</td>\n",
       "      <td>48.0</td>\n",
       "    </tr>\n",
       "    <tr>\n",
       "      <th>...</th>\n",
       "      <td>...</td>\n",
       "      <td>...</td>\n",
       "      <td>...</td>\n",
       "      <td>...</td>\n",
       "      <td>...</td>\n",
       "      <td>...</td>\n",
       "    </tr>\n",
       "    <tr>\n",
       "      <th>23694</th>\n",
       "      <td>24665.0</td>\n",
       "      <td>4232.0</td>\n",
       "      <td>1.0</td>\n",
       "      <td>796.0</td>\n",
       "      <td>3.0</td>\n",
       "      <td>381.0</td>\n",
       "    </tr>\n",
       "    <tr>\n",
       "      <th>23695</th>\n",
       "      <td>NaN</td>\n",
       "      <td>NaN</td>\n",
       "      <td>NaN</td>\n",
       "      <td>NaN</td>\n",
       "      <td>NaN</td>\n",
       "      <td>NaN</td>\n",
       "    </tr>\n",
       "    <tr>\n",
       "      <th>23696</th>\n",
       "      <td>NaN</td>\n",
       "      <td>NaN</td>\n",
       "      <td>NaN</td>\n",
       "      <td>NaN</td>\n",
       "      <td>NaN</td>\n",
       "      <td>NaN</td>\n",
       "    </tr>\n",
       "    <tr>\n",
       "      <th>23697</th>\n",
       "      <td>39140.0</td>\n",
       "      <td>10364.0</td>\n",
       "      <td>2.0</td>\n",
       "      <td>173.0</td>\n",
       "      <td>3.0</td>\n",
       "      <td>196.0</td>\n",
       "    </tr>\n",
       "    <tr>\n",
       "      <th>23698</th>\n",
       "      <td>NaN</td>\n",
       "      <td>NaN</td>\n",
       "      <td>NaN</td>\n",
       "      <td>NaN</td>\n",
       "      <td>NaN</td>\n",
       "      <td>NaN</td>\n",
       "    </tr>\n",
       "  </tbody>\n",
       "</table>\n",
       "<p>23699 rows × 6 columns</p>\n",
       "</div>"
      ],
      "text/plain": [
       "       airports_nearest  cityCenters_nearest  parks_around3000  parks_nearest  \\\n",
       "0               18863.0              16028.0               1.0          482.0   \n",
       "1               12817.0              18603.0               0.0            NaN   \n",
       "2               21741.0              13933.0               1.0           90.0   \n",
       "3               28098.0               6800.0               2.0           84.0   \n",
       "4               31856.0               8098.0               2.0          112.0   \n",
       "...                 ...                  ...               ...            ...   \n",
       "23694           24665.0               4232.0               1.0          796.0   \n",
       "23695               NaN                  NaN               NaN            NaN   \n",
       "23696               NaN                  NaN               NaN            NaN   \n",
       "23697           39140.0              10364.0               2.0          173.0   \n",
       "23698               NaN                  NaN               NaN            NaN   \n",
       "\n",
       "       ponds_around3000  ponds_nearest  \n",
       "0                   2.0          755.0  \n",
       "1                   0.0          584.5  \n",
       "2                   2.0          574.0  \n",
       "3                   3.0          234.0  \n",
       "4                   1.0           48.0  \n",
       "...                 ...            ...  \n",
       "23694               3.0          381.0  \n",
       "23695               NaN            NaN  \n",
       "23696               NaN            NaN  \n",
       "23697               3.0          196.0  \n",
       "23698               NaN            NaN  \n",
       "\n",
       "[23699 rows x 6 columns]"
      ]
     },
     "execution_count": 18,
     "metadata": {},
     "output_type": "execute_result"
    }
   ],
   "source": [
    "#Create a list of columns where we'll group values\n",
    "#by the 'locality_name' column and replace missing \n",
    "#values with the median value\n",
    "list_of_columns =['airports_nearest', 'cityCenters_nearest', 'parks_around3000', 'parks_nearest',\n",
    "                 'ponds_around3000', 'ponds_nearest']\n",
    "fillna_func(list_of_columns, trandform_func('locality_name', list_of_columns))"
   ]
  },
  {
   "cell_type": "markdown",
   "id": "8aad0abf",
   "metadata": {},
   "source": [
    "<div class=\"alert alert-success\">\n",
    "Columns with parks, ponds, and distance to the airport are filled automatically based on geolocation. Missing values can be left as they are since there isn't enough data (e.g., precise geolocation) for a proper replacement. Such an issue should be reported to the database developers to avoid further complications.\n",
    "    <div>"
   ]
  },
  {
   "cell_type": "markdown",
   "id": "fe7117ac",
   "metadata": {},
   "source": [
    "Let's see if there are any missing values left in our table."
   ]
  },
  {
   "cell_type": "code",
   "execution_count": 19,
   "id": "9369486c",
   "metadata": {},
   "outputs": [
    {
     "data": {
      "text/plain": [
       "total_images                0\n",
       "last_price                  0\n",
       "total_area                  0\n",
       "first_day_exposition        0\n",
       "rooms                       0\n",
       "ceiling_height              0\n",
       "floors_total                0\n",
       "living_area                 0\n",
       "floor                       0\n",
       "is_apartment            20924\n",
       "studio                      0\n",
       "open_plan                   0\n",
       "kitchen_area                0\n",
       "balcony                     0\n",
       "locality_name              49\n",
       "airports_nearest         5394\n",
       "cityCenters_nearest      5394\n",
       "parks_around3000         5394\n",
       "parks_nearest            6032\n",
       "ponds_around3000         5394\n",
       "ponds_nearest            5518\n",
       "days_exposition          3181\n",
       "dtype: int64"
      ]
     },
     "execution_count": 19,
     "metadata": {},
     "output_type": "execute_result"
    }
   ],
   "source": [
    "df.isna().sum()"
   ]
  },
  {
   "cell_type": "markdown",
   "id": "a28bf391",
   "metadata": {},
   "source": [
    "The number of missing values in the `parks_nearest` and p`onds_nearest` columns has decreased by three times, but still, it accounts for almost 20% of all data. Missing values in columns `airports_nearest`, `parks_around3000`, `parks_nearest`, `ponds_around3000`, and `ponds_nearest` can be filled using Yandex.Maps, but these data aren't that crucial to us, so they can be left untouched.\n",
    "\n",
    "However, the columns `cityCenters_nearest` and `days_exposition` are essential for further analysis, but we can't simply fill them with median values because we can't conclusively deduce the relationship between an object's proximity to the center and the number of days the listing was posted. Hence, we'll try to assess the impact of these missing values."
   ]
  },
  {
   "cell_type": "markdown",
   "id": "5de552f2",
   "metadata": {},
   "source": [
    "## Data type replacement"
   ]
  },
  {
   "cell_type": "markdown",
   "id": "de2e5a27",
   "metadata": {},
   "source": [
    "Per the task requirements, the columns `is_apartment`, `open_plan`, and `studio` have a boolean data type, and in the columns `last_price`, `balcony`, `floor`, and `floors_total` it would be good to change the data type to `int`."
   ]
  },
  {
   "cell_type": "code",
   "execution_count": 20,
   "id": "1d95b083",
   "metadata": {},
   "outputs": [],
   "source": [
    "# Function to replace the floating-point data type with a numeric one\n",
    "def change_type(col, type_of_col):\n",
    "    df[col] = df[col].astype(type_of_col)\n",
    "    return df[col]"
   ]
  },
  {
   "cell_type": "code",
   "execution_count": 21,
   "id": "2db9b908",
   "metadata": {
    "scrolled": true
   },
   "outputs": [
    {
     "data": {
      "text/html": [
       "<div>\n",
       "<style scoped>\n",
       "    .dataframe tbody tr th:only-of-type {\n",
       "        vertical-align: middle;\n",
       "    }\n",
       "\n",
       "    .dataframe tbody tr th {\n",
       "        vertical-align: top;\n",
       "    }\n",
       "\n",
       "    .dataframe thead th {\n",
       "        text-align: right;\n",
       "    }\n",
       "</style>\n",
       "<table border=\"1\" class=\"dataframe\">\n",
       "  <thead>\n",
       "    <tr style=\"text-align: right;\">\n",
       "      <th></th>\n",
       "      <th>last_price</th>\n",
       "      <th>balcony</th>\n",
       "      <th>floor</th>\n",
       "      <th>floors_total</th>\n",
       "    </tr>\n",
       "  </thead>\n",
       "  <tbody>\n",
       "    <tr>\n",
       "      <th>0</th>\n",
       "      <td>13000000</td>\n",
       "      <td>0</td>\n",
       "      <td>8</td>\n",
       "      <td>16</td>\n",
       "    </tr>\n",
       "    <tr>\n",
       "      <th>1</th>\n",
       "      <td>3350000</td>\n",
       "      <td>2</td>\n",
       "      <td>1</td>\n",
       "      <td>11</td>\n",
       "    </tr>\n",
       "    <tr>\n",
       "      <th>2</th>\n",
       "      <td>5196000</td>\n",
       "      <td>0</td>\n",
       "      <td>4</td>\n",
       "      <td>5</td>\n",
       "    </tr>\n",
       "    <tr>\n",
       "      <th>3</th>\n",
       "      <td>64900000</td>\n",
       "      <td>0</td>\n",
       "      <td>9</td>\n",
       "      <td>14</td>\n",
       "    </tr>\n",
       "    <tr>\n",
       "      <th>4</th>\n",
       "      <td>10000000</td>\n",
       "      <td>0</td>\n",
       "      <td>13</td>\n",
       "      <td>14</td>\n",
       "    </tr>\n",
       "    <tr>\n",
       "      <th>...</th>\n",
       "      <td>...</td>\n",
       "      <td>...</td>\n",
       "      <td>...</td>\n",
       "      <td>...</td>\n",
       "    </tr>\n",
       "    <tr>\n",
       "      <th>23694</th>\n",
       "      <td>9700000</td>\n",
       "      <td>0</td>\n",
       "      <td>3</td>\n",
       "      <td>5</td>\n",
       "    </tr>\n",
       "    <tr>\n",
       "      <th>23695</th>\n",
       "      <td>3100000</td>\n",
       "      <td>0</td>\n",
       "      <td>4</td>\n",
       "      <td>5</td>\n",
       "    </tr>\n",
       "    <tr>\n",
       "      <th>23696</th>\n",
       "      <td>2500000</td>\n",
       "      <td>0</td>\n",
       "      <td>1</td>\n",
       "      <td>3</td>\n",
       "    </tr>\n",
       "    <tr>\n",
       "      <th>23697</th>\n",
       "      <td>11475000</td>\n",
       "      <td>2</td>\n",
       "      <td>12</td>\n",
       "      <td>17</td>\n",
       "    </tr>\n",
       "    <tr>\n",
       "      <th>23698</th>\n",
       "      <td>1350000</td>\n",
       "      <td>0</td>\n",
       "      <td>1</td>\n",
       "      <td>5</td>\n",
       "    </tr>\n",
       "  </tbody>\n",
       "</table>\n",
       "<p>23699 rows × 4 columns</p>\n",
       "</div>"
      ],
      "text/plain": [
       "       last_price  balcony  floor  floors_total\n",
       "0        13000000        0      8            16\n",
       "1         3350000        2      1            11\n",
       "2         5196000        0      4             5\n",
       "3        64900000        0      9            14\n",
       "4        10000000        0     13            14\n",
       "...           ...      ...    ...           ...\n",
       "23694     9700000        0      3             5\n",
       "23695     3100000        0      4             5\n",
       "23696     2500000        0      1             3\n",
       "23697    11475000        2     12            17\n",
       "23698     1350000        0      1             5\n",
       "\n",
       "[23699 rows x 4 columns]"
      ]
     },
     "execution_count": 21,
     "metadata": {},
     "output_type": "execute_result"
    }
   ],
   "source": [
    "# Changing the value types in the columns 'last_price', 'balcony', 'floor', 'floors_total' to int\n",
    "list_of_columns = ['last_price', 'balcony', 'floor', 'floors_total']\n",
    "change_type(list_of_columns, 'int')"
   ]
  },
  {
   "cell_type": "markdown",
   "id": "2965ab5a",
   "metadata": {},
   "source": [
    "Converting the value type of the `first_day_exposition` column to  `datetime`."
   ]
  },
  {
   "cell_type": "code",
   "execution_count": 22,
   "id": "ac4c402c",
   "metadata": {},
   "outputs": [],
   "source": [
    "# Converting the value type of the 'first_day_exposition' column to datetime\n",
    "df['first_day_exposition'] = pd.to_datetime(df['first_day_exposition'], format='%Y.%m.%dT%H:%M:%S')"
   ]
  },
  {
   "cell_type": "code",
   "execution_count": 23,
   "id": "0b933ed2",
   "metadata": {},
   "outputs": [
    {
     "data": {
      "text/html": [
       "<div>\n",
       "<style scoped>\n",
       "    .dataframe tbody tr th:only-of-type {\n",
       "        vertical-align: middle;\n",
       "    }\n",
       "\n",
       "    .dataframe tbody tr th {\n",
       "        vertical-align: top;\n",
       "    }\n",
       "\n",
       "    .dataframe thead th {\n",
       "        text-align: right;\n",
       "    }\n",
       "</style>\n",
       "<table border=\"1\" class=\"dataframe\">\n",
       "  <thead>\n",
       "    <tr style=\"text-align: right;\">\n",
       "      <th></th>\n",
       "      <th>open_plan</th>\n",
       "      <th>studio</th>\n",
       "    </tr>\n",
       "  </thead>\n",
       "  <tbody>\n",
       "    <tr>\n",
       "      <th>0</th>\n",
       "      <td>False</td>\n",
       "      <td>False</td>\n",
       "    </tr>\n",
       "    <tr>\n",
       "      <th>1</th>\n",
       "      <td>False</td>\n",
       "      <td>False</td>\n",
       "    </tr>\n",
       "    <tr>\n",
       "      <th>2</th>\n",
       "      <td>False</td>\n",
       "      <td>False</td>\n",
       "    </tr>\n",
       "    <tr>\n",
       "      <th>3</th>\n",
       "      <td>False</td>\n",
       "      <td>False</td>\n",
       "    </tr>\n",
       "    <tr>\n",
       "      <th>4</th>\n",
       "      <td>False</td>\n",
       "      <td>False</td>\n",
       "    </tr>\n",
       "    <tr>\n",
       "      <th>...</th>\n",
       "      <td>...</td>\n",
       "      <td>...</td>\n",
       "    </tr>\n",
       "    <tr>\n",
       "      <th>23694</th>\n",
       "      <td>False</td>\n",
       "      <td>False</td>\n",
       "    </tr>\n",
       "    <tr>\n",
       "      <th>23695</th>\n",
       "      <td>False</td>\n",
       "      <td>False</td>\n",
       "    </tr>\n",
       "    <tr>\n",
       "      <th>23696</th>\n",
       "      <td>False</td>\n",
       "      <td>False</td>\n",
       "    </tr>\n",
       "    <tr>\n",
       "      <th>23697</th>\n",
       "      <td>False</td>\n",
       "      <td>False</td>\n",
       "    </tr>\n",
       "    <tr>\n",
       "      <th>23698</th>\n",
       "      <td>False</td>\n",
       "      <td>False</td>\n",
       "    </tr>\n",
       "  </tbody>\n",
       "</table>\n",
       "<p>23699 rows × 2 columns</p>\n",
       "</div>"
      ],
      "text/plain": [
       "       open_plan  studio\n",
       "0          False   False\n",
       "1          False   False\n",
       "2          False   False\n",
       "3          False   False\n",
       "4          False   False\n",
       "...          ...     ...\n",
       "23694      False   False\n",
       "23695      False   False\n",
       "23696      False   False\n",
       "23697      False   False\n",
       "23698      False   False\n",
       "\n",
       "[23699 rows x 2 columns]"
      ]
     },
     "execution_count": 23,
     "metadata": {},
     "output_type": "execute_result"
    }
   ],
   "source": [
    "# Converting the value types of columns 'open_plan', 'studio' to bool\n",
    "list_of_columns = ['open_plan', 'studio']\n",
    "df[list_of_columns] = df[list_of_columns].replace('False', '')\n",
    "change_type(list_of_columns, 'bool')"
   ]
  },
  {
   "cell_type": "code",
   "execution_count": 24,
   "id": "b07925c3",
   "metadata": {},
   "outputs": [
    {
     "data": {
      "text/plain": [
       "False    2725\n",
       "True       50\n",
       "Name: is_apartment, dtype: int64"
      ]
     },
     "execution_count": 24,
     "metadata": {},
     "output_type": "execute_result"
    }
   ],
   "source": [
    "# Checking unique values in the 'is_apartment' column\n",
    "df['is_apartment'].value_counts()"
   ]
  },
  {
   "cell_type": "markdown",
   "id": "29faa854",
   "metadata": {},
   "source": [
    "The `is_apartment` column is not that straightforward since there are many missing values, and it's unclear without skewing analysis results what the data might be. Thus, we'll leave the missing values unfilled."
   ]
  },
  {
   "cell_type": "code",
   "execution_count": 25,
   "id": "42fd4208",
   "metadata": {},
   "outputs": [],
   "source": [
    "# Since the 'days_exposition' column has missing values, \n",
    "#we round to the nearest whole number and convert to type Int64\n",
    "df['days_exposition'] = round(df['days_exposition'])\n",
    "df['days_exposition'] = df['days_exposition'].astype('Int64')"
   ]
  },
  {
   "cell_type": "markdown",
   "id": "fa0ed653",
   "metadata": {},
   "source": [
    "## Conclusion\n",
    "\n",
    "* As per the task requirements, logical substitutions can be made for some missing values. For instance, if a person did not specify the number of balconies — most likely, there aren't any. Thus, missing values in the `balcony` column were replaced with 0;\n",
    "* Missing values in the `ceiling_height` columns were grouped by the number of floors, and `floors_total` by the floor where the real estate object is located, and then replaced with median values;\n",
    "* Missing values in the `living_area`, `kitchen_area` columns were grouped by the number of rooms and total area, then replaced with values equal to the product of the total area times the coefficient ratio of kitchen area and living area to the total area, respectively;\n",
    "* Missing values in the columns `days_exposition`, `airports_nearest`, `cityCenters_nearest`, `parks_around3000`, `parks_nearest`, `ponds_around3000`, `ponds_nearest`, `airports_nearest` were left untouched since they can't be definitively grouped with other parameters and filled with median values.\n",
    "\n",
    "Besides filling in the missing values, data types were replaced:\n",
    "\n",
    "* In the columns `last_price`, `floors_total`, and `balcony`  to integer since the price in the table has a non-zero fractional part, and the number of floors and balconies generally cannot be a non-integer;\n",
    "* In the columns `studio` and `open_plan` to `bool` as per task requirements.\n",
    "\n",
    "In other columns, the value type wasn't changed since, for more accurate calculations, it's better to use the floating-point data type and round off the final result."
   ]
  },
  {
   "cell_type": "markdown",
   "id": "6995b594",
   "metadata": {},
   "source": [
    "# Calculations and Adding Results to the Table"
   ]
  },
  {
   "cell_type": "markdown",
   "id": "43d2211a",
   "metadata": {},
   "source": [
    "Let's calculate the price per square meter."
   ]
  },
  {
   "cell_type": "code",
   "execution_count": 26,
   "id": "66218c00",
   "metadata": {},
   "outputs": [],
   "source": [
    "# Calculate the price per square meter by dividing the price by the total area.\n",
    "df['price_per_square_metre'] = (df['last_price'] / df['total_area'])"
   ]
  },
  {
   "cell_type": "markdown",
   "id": "223c5441",
   "metadata": {},
   "source": [
    "Let's add to the table the day of the week, month, and year of the listing's publication."
   ]
  },
  {
   "cell_type": "code",
   "execution_count": 27,
   "id": "3f729220",
   "metadata": {},
   "outputs": [],
   "source": [
    "# Adding the year to the table.\n",
    "df['day_of_exposition'] = df['first_day_exposition'].dt.dayofweek\n",
    "# the month\n",
    "df['month_of_exposition'] = df['first_day_exposition'].dt.month\n",
    "# and the day of the listing's publication\n",
    "df['year_of_exposition'] = df['first_day_exposition'].dt.year"
   ]
  },
  {
   "cell_type": "markdown",
   "id": "b4ea3689",
   "metadata": {},
   "source": [
    "Also, as required by the task, it's necessary to add the floor the apartment is on; options — first, last, other."
   ]
  },
  {
   "cell_type": "code",
   "execution_count": 28,
   "id": "caf08a77",
   "metadata": {},
   "outputs": [],
   "source": [
    "#Create a function that takes a row of the table as input.\n",
    "def building_floor(row):\n",
    "    # assign the variable floor to the floor of the apartment\n",
    "    floor = row['floor']\n",
    "    # and the variable floors_total to the total number of floors in the building\n",
    "    floors_total = row['floors_total']\n",
    "    # if the floor is 1\n",
    "    if floor == 1:\n",
    "        return 'first'\n",
    "    # if the floor equals the total number of floors in the building\n",
    "    elif floor == floors_total:\n",
    "        return 'last'\n",
    "    # otherwise\n",
    "    else:\n",
    "        return 'other'"
   ]
  },
  {
   "cell_type": "code",
   "execution_count": 29,
   "id": "a2b58e6a",
   "metadata": {},
   "outputs": [],
   "source": [
    "# Apply the function to the table.\n",
    "df['flat_floor'] = df.apply(building_floor, axis = 1)"
   ]
  },
  {
   "cell_type": "markdown",
   "id": "42fb0ebd",
   "metadata": {},
   "source": [
    "What remains is to add the ratio of living area to total area, as well as the ratio of kitchen area to total area."
   ]
  },
  {
   "cell_type": "code",
   "execution_count": 30,
   "id": "3b46c28a",
   "metadata": {},
   "outputs": [],
   "source": [
    "# Find the ratio of living area to total area.\n",
    "df['living_to_total_area'] = df['living_area'] / df['total_area']\n",
    "# and the ratio of kitchen area to total area.\n",
    "df['kitchen_to_total_area'] = df['kitchen_area'] / df['total_area']"
   ]
  },
  {
   "cell_type": "code",
   "execution_count": 31,
   "id": "9574624d",
   "metadata": {
    "scrolled": true
   },
   "outputs": [
    {
     "data": {
      "text/html": [
       "<div>\n",
       "<style scoped>\n",
       "    .dataframe tbody tr th:only-of-type {\n",
       "        vertical-align: middle;\n",
       "    }\n",
       "\n",
       "    .dataframe tbody tr th {\n",
       "        vertical-align: top;\n",
       "    }\n",
       "\n",
       "    .dataframe thead th {\n",
       "        text-align: right;\n",
       "    }\n",
       "</style>\n",
       "<table border=\"1\" class=\"dataframe\">\n",
       "  <thead>\n",
       "    <tr style=\"text-align: right;\">\n",
       "      <th></th>\n",
       "      <th>total_images</th>\n",
       "      <th>last_price</th>\n",
       "      <th>total_area</th>\n",
       "      <th>first_day_exposition</th>\n",
       "      <th>rooms</th>\n",
       "      <th>ceiling_height</th>\n",
       "      <th>floors_total</th>\n",
       "      <th>living_area</th>\n",
       "      <th>floor</th>\n",
       "      <th>is_apartment</th>\n",
       "      <th>...</th>\n",
       "      <th>ponds_around3000</th>\n",
       "      <th>ponds_nearest</th>\n",
       "      <th>days_exposition</th>\n",
       "      <th>price_per_square_metre</th>\n",
       "      <th>day_of_exposition</th>\n",
       "      <th>month_of_exposition</th>\n",
       "      <th>year_of_exposition</th>\n",
       "      <th>flat_floor</th>\n",
       "      <th>living_to_total_area</th>\n",
       "      <th>kitchen_to_total_area</th>\n",
       "    </tr>\n",
       "  </thead>\n",
       "  <tbody>\n",
       "    <tr>\n",
       "      <th>0</th>\n",
       "      <td>20</td>\n",
       "      <td>13000000</td>\n",
       "      <td>108.0</td>\n",
       "      <td>2019-03-07</td>\n",
       "      <td>3</td>\n",
       "      <td>2.70</td>\n",
       "      <td>16</td>\n",
       "      <td>51.000000</td>\n",
       "      <td>8</td>\n",
       "      <td>NaN</td>\n",
       "      <td>...</td>\n",
       "      <td>2.0</td>\n",
       "      <td>755.0</td>\n",
       "      <td>&lt;NA&gt;</td>\n",
       "      <td>120370.370370</td>\n",
       "      <td>3</td>\n",
       "      <td>3</td>\n",
       "      <td>2019</td>\n",
       "      <td>other</td>\n",
       "      <td>0.472222</td>\n",
       "      <td>0.231481</td>\n",
       "    </tr>\n",
       "    <tr>\n",
       "      <th>1</th>\n",
       "      <td>7</td>\n",
       "      <td>3350000</td>\n",
       "      <td>40.4</td>\n",
       "      <td>2018-12-04</td>\n",
       "      <td>1</td>\n",
       "      <td>2.75</td>\n",
       "      <td>11</td>\n",
       "      <td>18.600000</td>\n",
       "      <td>1</td>\n",
       "      <td>NaN</td>\n",
       "      <td>...</td>\n",
       "      <td>0.0</td>\n",
       "      <td>584.5</td>\n",
       "      <td>81</td>\n",
       "      <td>82920.792079</td>\n",
       "      <td>1</td>\n",
       "      <td>12</td>\n",
       "      <td>2018</td>\n",
       "      <td>first</td>\n",
       "      <td>0.460396</td>\n",
       "      <td>0.272277</td>\n",
       "    </tr>\n",
       "    <tr>\n",
       "      <th>2</th>\n",
       "      <td>10</td>\n",
       "      <td>5196000</td>\n",
       "      <td>56.0</td>\n",
       "      <td>2015-08-20</td>\n",
       "      <td>2</td>\n",
       "      <td>2.55</td>\n",
       "      <td>5</td>\n",
       "      <td>34.300000</td>\n",
       "      <td>4</td>\n",
       "      <td>NaN</td>\n",
       "      <td>...</td>\n",
       "      <td>2.0</td>\n",
       "      <td>574.0</td>\n",
       "      <td>558</td>\n",
       "      <td>92785.714286</td>\n",
       "      <td>3</td>\n",
       "      <td>8</td>\n",
       "      <td>2015</td>\n",
       "      <td>other</td>\n",
       "      <td>0.612500</td>\n",
       "      <td>0.148214</td>\n",
       "    </tr>\n",
       "    <tr>\n",
       "      <th>3</th>\n",
       "      <td>0</td>\n",
       "      <td>64900000</td>\n",
       "      <td>159.0</td>\n",
       "      <td>2015-07-24</td>\n",
       "      <td>3</td>\n",
       "      <td>2.60</td>\n",
       "      <td>14</td>\n",
       "      <td>98.013699</td>\n",
       "      <td>9</td>\n",
       "      <td>NaN</td>\n",
       "      <td>...</td>\n",
       "      <td>3.0</td>\n",
       "      <td>234.0</td>\n",
       "      <td>424</td>\n",
       "      <td>408176.100629</td>\n",
       "      <td>4</td>\n",
       "      <td>7</td>\n",
       "      <td>2015</td>\n",
       "      <td>other</td>\n",
       "      <td>0.616438</td>\n",
       "      <td>0.130137</td>\n",
       "    </tr>\n",
       "    <tr>\n",
       "      <th>4</th>\n",
       "      <td>2</td>\n",
       "      <td>10000000</td>\n",
       "      <td>100.0</td>\n",
       "      <td>2018-06-19</td>\n",
       "      <td>2</td>\n",
       "      <td>3.03</td>\n",
       "      <td>14</td>\n",
       "      <td>32.000000</td>\n",
       "      <td>13</td>\n",
       "      <td>NaN</td>\n",
       "      <td>...</td>\n",
       "      <td>1.0</td>\n",
       "      <td>48.0</td>\n",
       "      <td>121</td>\n",
       "      <td>100000.000000</td>\n",
       "      <td>1</td>\n",
       "      <td>6</td>\n",
       "      <td>2018</td>\n",
       "      <td>other</td>\n",
       "      <td>0.320000</td>\n",
       "      <td>0.410000</td>\n",
       "    </tr>\n",
       "  </tbody>\n",
       "</table>\n",
       "<p>5 rows × 29 columns</p>\n",
       "</div>"
      ],
      "text/plain": [
       "   total_images  last_price  total_area first_day_exposition  rooms  \\\n",
       "0            20    13000000       108.0           2019-03-07      3   \n",
       "1             7     3350000        40.4           2018-12-04      1   \n",
       "2            10     5196000        56.0           2015-08-20      2   \n",
       "3             0    64900000       159.0           2015-07-24      3   \n",
       "4             2    10000000       100.0           2018-06-19      2   \n",
       "\n",
       "   ceiling_height  floors_total  living_area  floor is_apartment  ...  \\\n",
       "0            2.70            16    51.000000      8          NaN  ...   \n",
       "1            2.75            11    18.600000      1          NaN  ...   \n",
       "2            2.55             5    34.300000      4          NaN  ...   \n",
       "3            2.60            14    98.013699      9          NaN  ...   \n",
       "4            3.03            14    32.000000     13          NaN  ...   \n",
       "\n",
       "   ponds_around3000  ponds_nearest  days_exposition  price_per_square_metre  \\\n",
       "0               2.0          755.0             <NA>           120370.370370   \n",
       "1               0.0          584.5               81            82920.792079   \n",
       "2               2.0          574.0              558            92785.714286   \n",
       "3               3.0          234.0              424           408176.100629   \n",
       "4               1.0           48.0              121           100000.000000   \n",
       "\n",
       "  day_of_exposition  month_of_exposition  year_of_exposition  flat_floor  \\\n",
       "0                 3                    3                2019       other   \n",
       "1                 1                   12                2018       first   \n",
       "2                 3                    8                2015       other   \n",
       "3                 4                    7                2015       other   \n",
       "4                 1                    6                2018       other   \n",
       "\n",
       "   living_to_total_area  kitchen_to_total_area  \n",
       "0              0.472222               0.231481  \n",
       "1              0.460396               0.272277  \n",
       "2              0.612500               0.148214  \n",
       "3              0.616438               0.130137  \n",
       "4              0.320000               0.410000  \n",
       "\n",
       "[5 rows x 29 columns]"
      ]
     },
     "execution_count": 31,
     "metadata": {},
     "output_type": "execute_result"
    }
   ],
   "source": [
    "# Display the table with new data.\n",
    "df.head()"
   ]
  },
  {
   "cell_type": "markdown",
   "id": "827002d0",
   "metadata": {},
   "source": [
    "## Conclusion\n",
    "\n",
    "As a result, the following were added to the table:\n",
    "\n",
    "* price per square meter;\n",
    "* the day of the week, month, and year of the listing's publication;\n",
    "* the floor of the apartment; options — first, last, other;\n",
    "* the ratio of living area to total area, as well as the ratio of kitchen area to total area.\n",
    "\n",
    "The data obtained will help to conduct a more accurate exploratory data analysis and minimize errors due to missing data."
   ]
  },
  {
   "cell_type": "markdown",
   "id": "7b2a8bee",
   "metadata": {},
   "source": [
    "# Exploratory Data Analysis"
   ]
  },
  {
   "cell_type": "markdown",
   "id": "b6dafcaa",
   "metadata": {},
   "source": [
    "## Studying Area, Price, Number of Rooms, and Ceiling Height"
   ]
  },
  {
   "cell_type": "code",
   "execution_count": 32,
   "id": "238abe08",
   "metadata": {},
   "outputs": [],
   "source": [
    "# A function for the parameter, which plots \n",
    "#a histogram based on the column values of value\n",
    "#within first_border and last_border with the \n",
    "#number of bins specified by number_of_bins\n",
    "\n",
    "def plot_hist(value, number_of_bins, first_boarder, last_boarder ):\n",
    "    graph = df[value].hist(range = (first_boarder, last_boarder),bins = number_of_bins)\n",
    "    plt.show()\n",
    "    return df[value].describe(), graph"
   ]
  },
  {
   "cell_type": "code",
   "execution_count": 33,
   "id": "ed17f93c",
   "metadata": {},
   "outputs": [
    {
     "data": {
      "image/png": "[encoded data removed]",
      "text/plain": [
       "<Figure size 432x288 with 1 Axes>"
      ]
     },
     "metadata": {
      "needs_background": "light"
     },
     "output_type": "display_data"
    },
    {
     "data": {
      "text/plain": [
       "(count    23699.000000\n",
       " mean        60.348651\n",
       " std         35.654083\n",
       " min         12.000000\n",
       " 25%         40.000000\n",
       " 50%         52.000000\n",
       " 75%         69.900000\n",
       " max        900.000000\n",
       " Name: total_area, dtype: float64,\n",
       " <AxesSubplot:>)"
      ]
     },
     "execution_count": 33,
     "metadata": {},
     "output_type": "execute_result"
    }
   ],
   "source": [
    "# Plotting the graph for total area\n",
    "plot_hist('total_area', 100, 10, 200) "
   ]
  },
  {
   "cell_type": "markdown",
   "id": "eb61aad7",
   "metadata": {},
   "source": [
    "The price graph represents a normal distribution, with no suspicious spikes observed."
   ]
  },
  {
   "cell_type": "code",
   "execution_count": 34,
   "id": "5e0fe676",
   "metadata": {},
   "outputs": [
    {
     "data": {
      "image/png": "[encoded data removed]",
      "text/plain": [
       "<Figure size 432x288 with 1 Axes>"
      ]
     },
     "metadata": {
      "needs_background": "light"
     },
     "output_type": "display_data"
    },
    {
     "data": {
      "text/plain": [
       "(count    23699.000000\n",
       " mean         2.070636\n",
       " std          1.078405\n",
       " min          0.000000\n",
       " 25%          1.000000\n",
       " 50%          2.000000\n",
       " 75%          3.000000\n",
       " max         19.000000\n",
       " Name: rooms, dtype: float64,\n",
       " <AxesSubplot:>)"
      ]
     },
     "execution_count": 34,
     "metadata": {},
     "output_type": "execute_result"
    }
   ],
   "source": [
    "# Plotting the graph for the number of rooms\n",
    "plot_hist('rooms',10, 0, 19)  "
   ]
  },
  {
   "cell_type": "markdown",
   "id": "832e759c",
   "metadata": {},
   "source": [
    "The graph for the number of rooms is reasonable - the majority of real estate objects have from 1 to 3 rooms. However, there are odd values with the number of rooms equal to 0. A kitchen can be missing, but not a room. Such values need to be removed."
   ]
  },
  {
   "cell_type": "code",
   "execution_count": 35,
   "id": "7b86d0d8",
   "metadata": {},
   "outputs": [
    {
     "data": {
      "image/png": "[encoded data removed]",
      "text/plain": [
       "<Figure size 432x288 with 1 Axes>"
      ]
     },
     "metadata": {
      "needs_background": "light"
     },
     "output_type": "display_data"
    },
    {
     "data": {
      "text/plain": [
       "(count    23699.000000\n",
       " mean         2.735671\n",
       " std          0.994293\n",
       " min          1.000000\n",
       " 25%          2.550000\n",
       " 50%          2.650000\n",
       " 75%          2.750000\n",
       " max        100.000000\n",
       " Name: ceiling_height, dtype: float64,\n",
       " <AxesSubplot:>)"
      ]
     },
     "execution_count": 35,
     "metadata": {},
     "output_type": "execute_result"
    }
   ],
   "source": [
    "# Plotting the graph for ceiling height\n",
    "plot_hist('ceiling_height',10, 2, 5)  "
   ]
  },
  {
   "cell_type": "markdown",
   "id": "df84edb4",
   "metadata": {},
   "source": [
    "The ceiling height is within the limits of 2.2 to 3 meters, which is a normal height for ceilings in residential and office buildings. A maximum ceiling price of 100 meters is possible, but for our analysis, it's better to remove it so that it does not affect the average indicators."
   ]
  },
  {
   "cell_type": "markdown",
   "id": "1d24b249",
   "metadata": {},
   "source": [
    "**Conclusion**\n",
    "\n",
    "* It's evident from the histogram of the area that 75% of all values are less than 70 sq.m., which means that values greater than ~200 are rare, and values at 900 sq.m. are outliers.\n",
    "* The price histogram looks quite acceptable, except that the price of the majority of real estate objects (~75%) is less than 6,800,000 USD.\n",
    "* The histogram of the number of rooms includes apartments with a zero value. This should not be the case, so such values need to be removed.\n",
    "* The ceiling height also does not raise particular doubts, except for the height of 100 meters. Such values are rare and can be safely removed so as not to influence further research."
   ]
  },
  {
   "cell_type": "markdown",
   "id": "3ffa0ccb",
   "metadata": {},
   "source": [
    "## Analysis of Apartment Sale Time"
   ]
  },
  {
   "cell_type": "code",
   "execution_count": 36,
   "id": "4b3057da",
   "metadata": {},
   "outputs": [
    {
     "data": {
      "image/png": "[encoded data removed]",
      "text/plain": [
       "<Figure size 432x288 with 1 Axes>"
      ]
     },
     "metadata": {
      "needs_background": "light"
     },
     "output_type": "display_data"
    },
    {
     "data": {
      "text/plain": [
       "(count    20518.000000\n",
       " mean       180.888634\n",
       " std        219.727988\n",
       " min          1.000000\n",
       " 25%         45.000000\n",
       " 50%         95.000000\n",
       " 75%        232.000000\n",
       " max       1580.000000\n",
       " Name: days_exposition, dtype: float64,\n",
       " <AxesSubplot:>)"
      ]
     },
     "execution_count": 36,
     "metadata": {},
     "output_type": "execute_result"
    }
   ],
   "source": [
    "# Building a graph of apartment sale time\n",
    "plot_hist('days_exposition', 100, 0, 1580)"
   ]
  },
  {
   "cell_type": "code",
   "execution_count": 37,
   "id": "cce1aa80",
   "metadata": {},
   "outputs": [
    {
     "data": {
      "image/png": "[encoded data removed]",
      "text/plain": [
       "<Figure size 432x288 with 1 Axes>"
      ]
     },
     "metadata": {
      "needs_background": "light"
     },
     "output_type": "display_data"
    },
    {
     "data": {
      "text/plain": [
       "(count    20518.000000\n",
       " mean       180.888634\n",
       " std        219.727988\n",
       " min          1.000000\n",
       " 25%         45.000000\n",
       " 50%         95.000000\n",
       " 75%        232.000000\n",
       " max       1580.000000\n",
       " Name: days_exposition, dtype: float64,\n",
       " <AxesSubplot:>)"
      ]
     },
     "execution_count": 37,
     "metadata": {},
     "output_type": "execute_result"
    }
   ],
   "source": [
    "# Changing the limits\n",
    "plot_hist('days_exposition', 100, 40, 100)"
   ]
  },
  {
   "cell_type": "code",
   "execution_count": 38,
   "id": "84633d57",
   "metadata": {},
   "outputs": [
    {
     "data": {
      "text/plain": [
       "<AxesSubplot:>"
      ]
     },
     "execution_count": 38,
     "metadata": {},
     "output_type": "execute_result"
    },
    {
     "data": {
      "image/png": "[encoded data removed]",
      "text/plain": [
       "<Figure size 432x288 with 1 Axes>"
      ]
     },
     "metadata": {
      "needs_background": "light"
     },
     "output_type": "display_data"
    }
   ],
   "source": [
    "# Evaluating outliers in the 'days_exposition' column\n",
    "df.boxplot(column = 'days_exposition')"
   ]
  },
  {
   "cell_type": "code",
   "execution_count": 39,
   "id": "c87d5ffb",
   "metadata": {},
   "outputs": [
    {
     "data": {
      "text/plain": [
       "<AxesSubplot:xlabel='first_day_exposition'>"
      ]
     },
     "execution_count": 39,
     "metadata": {},
     "output_type": "execute_result"
    },
    {
     "data": {
      "image/png": "[encoded data removed]",
      "text/plain": [
       "<Figure size 864x432 with 1 Axes>"
      ]
     },
     "metadata": {
      "needs_background": "light"
     },
     "output_type": "display_data"
    }
   ],
   "source": [
    "# Let's see how the day of posting is related \n",
    "#to the number of days the ad was published\n",
    "df.plot(x = 'first_day_exposition', y = 'days_exposition', style = 'o', ylim = (0, 1000), grid = True, figsize = (12, 6))"
   ]
  },
  {
   "cell_type": "markdown",
   "id": "92314c82",
   "metadata": {},
   "source": [
    "It can be clearly seen that from the beginning of 2015 to mid-2019, the number of days significantly decreased. However, there is also a strange drop in data - from July 2016 to January 2017."
   ]
  },
  {
   "cell_type": "code",
   "execution_count": 40,
   "id": "3f40d16e",
   "metadata": {},
   "outputs": [
    {
     "data": {
      "text/plain": [
       "0.031056162707287227"
      ]
     },
     "execution_count": 40,
     "metadata": {},
     "output_type": "execute_result"
    }
   ],
   "source": [
    "# Let's assess the data drop relative to the total amount of data\n",
    "len(df.query('first_day_exposition >= \"2016-07-01\" & first_day_exposition <= \"2017-01-01\"')) / df.shape[0]"
   ]
  },
  {
   "cell_type": "markdown",
   "id": "a63892d9",
   "metadata": {},
   "source": [
    "**Conclusion**\n",
    "\n",
    "* A normal period for selling an item ranges from 45 to 232 days, according to the box plot. Accordingly, abnormally fast sales will be less than 45 days, and slow sales will be more than 232 days.\n",
    "* The average value is twice the median (`average` = 180.888634, `median` = 95.000000), which means that outliers affect the data, so it is necessary to somehow limit them. Since the \"whiskers\" of the plot start at around 500 days, this data can be removed.\n",
    "* There are suspicious spikes at 45, 60, and 90 days of publication. These, as per the task condition, will need to be removed.\n",
    "* It can also be seen that from the beginning of 2015 to mid-2019, the number of days for publication significantly decreased - possibly, internet resources have become more popular over time, so the number of days began to decrease. However, there is also a strange drop in data - from July 2016 to January 2017. There might have been some problems in the real estate market or a problem with the data itself."
   ]
  },
  {
   "cell_type": "markdown",
   "id": "2122b6d7",
   "metadata": {},
   "source": [
    "## Removal of Rare and Outlying Values"
   ]
  },
  {
   "cell_type": "code",
   "execution_count": 41,
   "id": "f468eb39",
   "metadata": {
    "scrolled": true
   },
   "outputs": [
    {
     "data": {
      "image/png": "[encoded data removed]",
      "text/plain": [
       "<Figure size 432x288 with 1 Axes>"
      ]
     },
     "metadata": {
      "needs_background": "light"
     },
     "output_type": "display_data"
    },
    {
     "data": {
      "image/png": "[encoded data removed]",
      "text/plain": [
       "<Figure size 432x288 with 1 Axes>"
      ]
     },
     "metadata": {
      "needs_background": "light"
     },
     "output_type": "display_data"
    },
    {
     "data": {
      "image/png": "[encoded data removed]",
      "text/plain": [
       "<Figure size 432x288 with 1 Axes>"
      ]
     },
     "metadata": {
      "needs_background": "light"
     },
     "output_type": "display_data"
    },
    {
     "data": {
      "image/png": "[encoded data removed]",
      "text/plain": [
       "<Figure size 432x288 with 1 Axes>"
      ]
     },
     "metadata": {
      "needs_background": "light"
     },
     "output_type": "display_data"
    }
   ],
   "source": [
    "# List of values under study\n",
    "list_of_columns = ['total_area','last_price', 'rooms', 'ceiling_height' ]\n",
    "# Building box plots to observe\n",
    "for value in list_of_columns:\n",
    "    df.boxplot(column = value)\n",
    "    plt.show()"
   ]
  },
  {
   "cell_type": "code",
   "execution_count": 42,
   "id": "3ea8067f",
   "metadata": {},
   "outputs": [],
   "source": [
    "#We will limit the area to 180 sq.m., as real estate \n",
    "#of larger area is quite rare\n",
    "df = df[(df['total_area'] <= 180)]\n",
    "\n",
    "#We will limit the price, as apartments costing \n",
    "#more than 15000000 make up less than 1% of all data\n",
    "df = df[(df['last_price'] <= 15000000) & (df['last_price'] >= 900000)]\n",
    "\n",
    "#We will discard zero number of rooms and numbers greater than 6\n",
    "df = df[(df['rooms'] <= 6 ) & (df['rooms'] != 0 )]\n",
    "\n",
    "#We will delete ceilings less than 2.3 meters and higher than 3\n",
    "df = df[(df['ceiling_height'] >= 2.3 ) & (df['ceiling_height'] <= 3 )]\n",
    "\n",
    "#We will remove the outlying values of 45, 60, and 90 days in the days of ad publication\n",
    "df = df[(~df['days_exposition'].isin([45, 60, 90])) ]\n",
    "df = df[(df['days_exposition'] < 800 )]"
   ]
  },
  {
   "cell_type": "code",
   "execution_count": 43,
   "id": "69ece746",
   "metadata": {
    "scrolled": true
   },
   "outputs": [
    {
     "name": "stdout",
     "output_type": "stream",
     "text": [
      "total_area count    16472.000000\n",
      "mean        53.331265\n",
      "std         19.625038\n",
      "min         12.000000\n",
      "25%         39.000000\n",
      "50%         48.600000\n",
      "75%         63.000000\n",
      "max        178.000000\n",
      "Name: total_area, dtype: float64\n",
      "\n",
      "last_price count    1.647200e+04\n",
      "mean     4.940061e+06\n",
      "std      2.433000e+06\n",
      "min      9.000000e+05\n",
      "25%      3.350000e+06\n",
      "50%      4.370000e+06\n",
      "75%      5.900000e+06\n",
      "max      1.500000e+07\n",
      "Name: last_price, dtype: float64\n",
      "\n",
      "rooms count    16472.000000\n",
      "mean         1.922353\n",
      "std          0.888669\n",
      "min          1.000000\n",
      "25%          1.000000\n",
      "50%          2.000000\n",
      "75%          3.000000\n",
      "max          6.000000\n",
      "Name: rooms, dtype: float64\n",
      "\n",
      "ceiling_height count    16472.000000\n",
      "mean         2.657479\n",
      "std          0.140241\n",
      "min          2.300000\n",
      "25%          2.550000\n",
      "50%          2.600000\n",
      "75%          2.750000\n",
      "max          3.000000\n",
      "Name: ceiling_height, dtype: float64\n",
      "\n",
      "days_exposition count    16472.000000\n",
      "mean       159.839182\n",
      "std        166.008913\n",
      "min          1.000000\n",
      "25%         38.000000\n",
      "50%        100.000000\n",
      "75%        219.000000\n",
      "max        798.000000\n",
      "Name: days_exposition, dtype: float64\n",
      "\n"
     ]
    }
   ],
   "source": [
    "list_of_columns = ['total_area','last_price', 'rooms', 'ceiling_height', 'days_exposition']\n",
    "for value in list_of_columns:\n",
    "    print(value, df[value].describe())\n",
    "    print()"
   ]
  },
  {
   "cell_type": "markdown",
   "id": "34456086",
   "metadata": {},
   "source": [
    "**Conclusion**\n",
    "\n",
    "* For the total area, we will set the upper limit to 180 sq.m., as a small number of apartments have a larger area, and the \"whiskers\" of the box plot with outliers pass this limit.\n",
    "* The price also needs to be limited to 15 million, as more than this price is posted in less than 1% of ads; we will also limit the lower end to 900000, as there is suspicious real estate priced at 12000.\n",
    "* The number of rooms was limited to 6, and apartments with zero number of rooms were also removed.\n",
    "* The ceiling height was limited between 2.3 and 3 meters, as these are the most common heights, and ceilings of 1 and 100 meters are quite rare.\n",
    "* The number of days an ad was published was also limited to 800 days, and strange spikes around 45, 60, and 90 days were removed. Now the average has moved a little closer to the median value (`average` = 159.726761, `median` = 100.000000), making the data more accurate. However, the difference is still significant - this indicates that we have not got rid of all the outliers."
   ]
  },
  {
   "cell_type": "markdown",
   "id": "c5ab0a28",
   "metadata": {},
   "source": [
    "## Studying the Dependence of Price on Parameters"
   ]
  },
  {
   "cell_type": "markdown",
   "id": "07ad2756",
   "metadata": {},
   "source": [
    "Let's check if the price depends on the area, number of rooms, and distance from the center."
   ]
  },
  {
   "cell_type": "code",
   "execution_count": 44,
   "id": "dc08c8ae",
   "metadata": {},
   "outputs": [
    {
     "data": {
      "text/plain": [
       "array([[<AxesSubplot:xlabel='last_price', ylabel='last_price'>,\n",
       "        <AxesSubplot:xlabel='total_area', ylabel='last_price'>,\n",
       "        <AxesSubplot:xlabel='rooms', ylabel='last_price'>,\n",
       "        <AxesSubplot:xlabel='cityCenters_nearest', ylabel='last_price'>],\n",
       "       [<AxesSubplot:xlabel='last_price', ylabel='total_area'>,\n",
       "        <AxesSubplot:xlabel='total_area', ylabel='total_area'>,\n",
       "        <AxesSubplot:xlabel='rooms', ylabel='total_area'>,\n",
       "        <AxesSubplot:xlabel='cityCenters_nearest', ylabel='total_area'>],\n",
       "       [<AxesSubplot:xlabel='last_price', ylabel='rooms'>,\n",
       "        <AxesSubplot:xlabel='total_area', ylabel='rooms'>,\n",
       "        <AxesSubplot:xlabel='rooms', ylabel='rooms'>,\n",
       "        <AxesSubplot:xlabel='cityCenters_nearest', ylabel='rooms'>],\n",
       "       [<AxesSubplot:xlabel='last_price', ylabel='cityCenters_nearest'>,\n",
       "        <AxesSubplot:xlabel='total_area', ylabel='cityCenters_nearest'>,\n",
       "        <AxesSubplot:xlabel='rooms', ylabel='cityCenters_nearest'>,\n",
       "        <AxesSubplot:xlabel='cityCenters_nearest', ylabel='cityCenters_nearest'>]],\n",
       "      dtype=object)"
      ]
     },
     "execution_count": 44,
     "metadata": {},
     "output_type": "execute_result"
    },
    {
     "data": {
      "image/png": "[encoded data removed]",
      "text/plain": [
       "<Figure size 864x864 with 16 Axes>"
      ]
     },
     "metadata": {
      "needs_background": "light"
     },
     "output_type": "display_data"
    }
   ],
   "source": [
    "# Let's build a scatter matrix to look at all the parameters at once\n",
    "list_of_columns = ['last_price','total_area','rooms','cityCenters_nearest']\n",
    "pd.plotting.scatter_matrix(df[list_of_columns], figsize=(12, 12), alpha = 0.03)"
   ]
  },
  {
   "cell_type": "code",
   "execution_count": 45,
   "id": "d26525d3",
   "metadata": {},
   "outputs": [
    {
     "data": {
      "text/plain": [
       "<AxesSubplot:xlabel='rooms'>"
      ]
     },
     "execution_count": 45,
     "metadata": {},
     "output_type": "execute_result"
    },
    {
     "data": {
      "image/png": "[encoded data removed]",
      "text/plain": [
       "<Figure size 432x288 with 1 Axes>"
      ]
     },
     "metadata": {
      "needs_background": "light"
     },
     "output_type": "display_data"
    }
   ],
   "source": [
    "# Let's group the data by the number of rooms according to the price per square meter\n",
    "pivot_table_df = df.pivot_table(index = 'rooms', values = 'price_per_square_metre',aggfunc = 'median')\n",
    "pivot_table_df.plot()"
   ]
  },
  {
   "cell_type": "code",
   "execution_count": 46,
   "id": "a40b02ab",
   "metadata": {
    "scrolled": true
   },
   "outputs": [
    {
     "name": "stdout",
     "output_type": "stream",
     "text": [
      "last_price 0.9999999999999998\n",
      "total_area 0.741170610933254\n",
      "rooms 0.470809273580349\n",
      "cityCenters_nearest -0.32583005595493664\n"
     ]
    }
   ],
   "source": [
    "# Let's calculate the correlation for these parameters\n",
    "for value in list_of_columns:\n",
    "    print(value, df['last_price'].corr(df[value]))"
   ]
  },
  {
   "cell_type": "markdown",
   "id": "8fae709e",
   "metadata": {},
   "source": [
    "**Conclusion**\n",
    "\n",
    "From the graph and the correlation coefficient, it is clear that:\n",
    "\n",
    "- the larger the area, the higher the price of the property;\n",
    "- the most common are one-bedroom, two-bedroom, and three-bedroom apartments. The more rooms (up to three), the higher the price. However, the price per square meter decreases with an increase in the number of rooms;\n",
    "- the further from the center, the cheaper the apartment, and most of the apartments are offered within the range of 10 to 20 km from the center.\n",
    "\n",
    "Let's examine the dependence of the price on the floor on which the apartment is located: first, last, or another."
   ]
  },
  {
   "cell_type": "code",
   "execution_count": 47,
   "id": "7a95796d",
   "metadata": {},
   "outputs": [
    {
     "data": {
      "text/plain": [
       "<AxesSubplot:xlabel='flat_floor'>"
      ]
     },
     "execution_count": 47,
     "metadata": {},
     "output_type": "execute_result"
    },
    {
     "data": {
      "image/png": "[encoded data removed]",
      "text/plain": [
       "<Figure size 432x288 with 1 Axes>"
      ]
     },
     "metadata": {
      "needs_background": "light"
     },
     "output_type": "display_data"
    }
   ],
   "source": [
    "# Let's group the data by floors\n",
    "pivot_table_df = df.pivot_table(index = 'flat_floor', values = 'last_price',aggfunc = 'median')\n",
    "pivot_table_df.plot()"
   ]
  },
  {
   "cell_type": "markdown",
   "id": "7e8b2dcc",
   "metadata": {},
   "source": [
    "The cheapest apartments are on the first floor, the most expensive - on other floors."
   ]
  },
  {
   "cell_type": "markdown",
   "id": "52772d6b",
   "metadata": {},
   "source": [
    "Let's study the dependence on the date of posting: day of the week, month, and year."
   ]
  },
  {
   "cell_type": "code",
   "execution_count": 48,
   "id": "bf9a8b41",
   "metadata": {},
   "outputs": [
    {
     "data": {
      "text/plain": [
       "<AxesSubplot:xlabel='day_of_exposition'>"
      ]
     },
     "execution_count": 48,
     "metadata": {},
     "output_type": "execute_result"
    },
    {
     "data": {
      "image/png": "[encoded data removed]",
      "text/plain": [
       "<Figure size 432x288 with 1 Axes>"
      ]
     },
     "metadata": {
      "needs_background": "light"
     },
     "output_type": "display_data"
    }
   ],
   "source": [
    "# Let's group the data by days of the week\n",
    "pivot_table_df = df.pivot_table(index = 'day_of_exposition', values = 'last_price',aggfunc = 'median')\n",
    "pivot_table_df.plot()"
   ]
  },
  {
   "cell_type": "markdown",
   "id": "67313b43",
   "metadata": {},
   "source": [
    "It seems that the cheapest apartments are sold on Fridays, and the most expensive on Tuesdays, Wednesdays, Thursdays, and Saturdays."
   ]
  },
  {
   "cell_type": "code",
   "execution_count": 49,
   "id": "58861ca4",
   "metadata": {},
   "outputs": [
    {
     "data": {
      "text/plain": [
       "<AxesSubplot:xlabel='month_of_exposition'>"
      ]
     },
     "execution_count": 49,
     "metadata": {},
     "output_type": "execute_result"
    },
    {
     "data": {
      "image/png": "[encoded data removed]",
      "text/plain": [
       "<Figure size 432x288 with 1 Axes>"
      ]
     },
     "metadata": {
      "needs_background": "light"
     },
     "output_type": "display_data"
    }
   ],
   "source": [
    "# Let's group the data by months\n",
    "pivot_table_df = df.pivot_table(index = 'month_of_exposition', values = 'last_price',aggfunc = 'median')\n",
    "pivot_table_df.plot()"
   ]
  },
  {
   "cell_type": "markdown",
   "id": "d4980902",
   "metadata": {},
   "source": [
    "The graph shows that the most expensive apartments are sold at the beginning of the year and closer to the end of autumn, while the cheapest are sold in the middle of the year."
   ]
  },
  {
   "cell_type": "code",
   "execution_count": 50,
   "id": "6d5033ef",
   "metadata": {},
   "outputs": [
    {
     "data": {
      "text/plain": [
       "<AxesSubplot:xlabel='year_of_exposition'>"
      ]
     },
     "execution_count": 50,
     "metadata": {},
     "output_type": "execute_result"
    },
    {
     "data": {
      "image/png": "[encoded data removed]",
      "text/plain": [
       "<Figure size 432x288 with 1 Axes>"
      ]
     },
     "metadata": {
      "needs_background": "light"
     },
     "output_type": "display_data"
    }
   ],
   "source": [
    "# Let's group the data by years\n",
    "pivot_table_df = df.pivot_table(index = 'year_of_exposition', values = 'last_price',aggfunc = 'median')\n",
    "pivot_table_df.plot()"
   ]
  },
  {
   "cell_type": "markdown",
   "id": "6247021f",
   "metadata": {},
   "source": [
    "From 2014 to 2016 the market significantly dropped in price, but after that, it began to gradually increase."
   ]
  },
  {
   "cell_type": "markdown",
   "id": "699b19c6",
   "metadata": {},
   "source": [
    "**Conclusion**\n",
    "\n",
    "* The cheapest apartments are on the first floor - which is understandable: the first floors are usually occupied by various shops and salons, and living in such an environment is not very pleasant, so many prefer to live higher up. However, not on the last floor, since \"another\" floor is more expensive. This can also be related to the fact that on higher floors the water pressure in the pipes can be lower, if the elevator breaks, you will have to walk up very high, but undoubtedly, the view must be beautiful.\n",
    "* The most expensive apartments are sold at the beginning and the end of the year - possibly, this is the peak time for sales - people are eager to start life anew, or receive an annual bonus and start buying apartments. Demand creates supply, and the price may change upwards. In the middle of the year, there's a lull, everyone is on vacation, then it's not the time for apartments.\n",
    "* After experiencing a price peak in 2014, the real estate market slowed down by 2016 - possibly, the global crisis of 2014 had an impact. However, after that, the price started to slowly increase and, undoubtedly, at present could well have beaten the 2014 record."
   ]
  },
  {
   "cell_type": "markdown",
   "id": "d93d9f23",
   "metadata": {},
   "source": [
    "## Calculating the average price per square meter in the 10 localities with the highest number of listings."
   ]
  },
  {
   "cell_type": "code",
   "execution_count": 51,
   "id": "21bbec68",
   "metadata": {},
   "outputs": [
    {
     "data": {
      "text/plain": [
       "Санкт-Петербург      10767\n",
       "посёлок Мурино         444\n",
       "посёлок Шушары         360\n",
       "Всеволожск             292\n",
       "Колпино                266\n",
       "Пушкин                 260\n",
       "посёлок Парголово      257\n",
       "деревня Кудрово        245\n",
       "Гатчина                230\n",
       "Выборг                 163\n",
       "Name: locality_name, dtype: int64"
      ]
     },
     "execution_count": 51,
     "metadata": {},
     "output_type": "execute_result"
    }
   ],
   "source": [
    "# Let's select 10 localities with the highest number of listings\n",
    "df['locality_name'].value_counts().head(10)"
   ]
  },
  {
   "cell_type": "markdown",
   "id": "df8023cd",
   "metadata": {},
   "source": [
    "It is evident that the list of the most popular localities is led by Saint Petersburg. However, there is a chance that not all localities are accounted for in the list, as the same locality might have been recorded as a town or simply as a settlement. Therefore, let's count the names ourselves."
   ]
  },
  {
   "cell_type": "code",
   "execution_count": 52,
   "id": "91e95b83",
   "metadata": {},
   "outputs": [],
   "source": [
    "df['locality_name'].fillna('unknown', inplace=True)"
   ]
  },
  {
   "cell_type": "code",
   "execution_count": 53,
   "id": "b757f184",
   "metadata": {},
   "outputs": [
    {
     "data": {
      "text/plain": [
       "Санкт-Петербург    10767\n",
       "Мурино               477\n",
       "Кудрово              369\n",
       "Шушары               360\n",
       "Всеволожск           292\n",
       "Колпино              266\n",
       "Пушкин               260\n",
       "Парголово            257\n",
       "Гатчина              230\n",
       "Выборг               163\n",
       "Name: new_names, dtype: int64"
      ]
     },
     "execution_count": 53,
     "metadata": {},
     "output_type": "execute_result"
    }
   ],
   "source": [
    "# Create a separate list, where we will enter the names of all localities\n",
    "list_of_names = []\n",
    "# Add to the list the localities from the 'locality_name' column\n",
    "list_of_names = df['locality_name'].tolist()\n",
    "# We will separate any extra words starting with a\n",
    "# lowercase letter from the names and display a new list\n",
    "df.loc[:,'new_names'] = [' '.join(w for w in a.split() if w.lower() != w)  for a in list_of_names]\n",
    "df['new_names'].value_counts().head(10)"
   ]
  },
  {
   "cell_type": "markdown",
   "id": "5433515c",
   "metadata": {},
   "source": [
    "It turns out there are more listings in Kudrovo than in Shushary."
   ]
  },
  {
   "cell_type": "code",
   "execution_count": 54,
   "id": "94d45471",
   "metadata": {},
   "outputs": [
    {
     "data": {
      "text/html": [
       "<div>\n",
       "<style scoped>\n",
       "    .dataframe tbody tr th:only-of-type {\n",
       "        vertical-align: middle;\n",
       "    }\n",
       "\n",
       "    .dataframe tbody tr th {\n",
       "        vertical-align: top;\n",
       "    }\n",
       "\n",
       "    .dataframe thead th {\n",
       "        text-align: right;\n",
       "    }\n",
       "</style>\n",
       "<table border=\"1\" class=\"dataframe\">\n",
       "  <thead>\n",
       "    <tr style=\"text-align: right;\">\n",
       "      <th></th>\n",
       "      <th>count</th>\n",
       "      <th>price_per_square_metre</th>\n",
       "    </tr>\n",
       "    <tr>\n",
       "      <th>new_names</th>\n",
       "      <th></th>\n",
       "      <th></th>\n",
       "    </tr>\n",
       "  </thead>\n",
       "  <tbody>\n",
       "    <tr>\n",
       "      <th>Санкт-Петербург</th>\n",
       "      <td>10767</td>\n",
       "      <td>101333.333333</td>\n",
       "    </tr>\n",
       "    <tr>\n",
       "      <th>Мурино</th>\n",
       "      <td>477</td>\n",
       "      <td>84239.130435</td>\n",
       "    </tr>\n",
       "    <tr>\n",
       "      <th>Кудрово</th>\n",
       "      <td>369</td>\n",
       "      <td>93714.285714</td>\n",
       "    </tr>\n",
       "    <tr>\n",
       "      <th>Шушары</th>\n",
       "      <td>360</td>\n",
       "      <td>75933.553427</td>\n",
       "    </tr>\n",
       "    <tr>\n",
       "      <th>Всеволожск</th>\n",
       "      <td>292</td>\n",
       "      <td>65054.507353</td>\n",
       "    </tr>\n",
       "    <tr>\n",
       "      <th>Колпино</th>\n",
       "      <td>266</td>\n",
       "      <td>74256.465517</td>\n",
       "    </tr>\n",
       "    <tr>\n",
       "      <th>Пушкин</th>\n",
       "      <td>260</td>\n",
       "      <td>97478.813559</td>\n",
       "    </tr>\n",
       "    <tr>\n",
       "      <th>Парголово</th>\n",
       "      <td>257</td>\n",
       "      <td>92051.282051</td>\n",
       "    </tr>\n",
       "    <tr>\n",
       "      <th>Гатчина</th>\n",
       "      <td>230</td>\n",
       "      <td>66869.918699</td>\n",
       "    </tr>\n",
       "    <tr>\n",
       "      <th>Выборг</th>\n",
       "      <td>163</td>\n",
       "      <td>56818.181818</td>\n",
       "    </tr>\n",
       "  </tbody>\n",
       "</table>\n",
       "</div>"
      ],
      "text/plain": [
       "                 count  price_per_square_metre\n",
       "new_names                                     \n",
       "Санкт-Петербург  10767           101333.333333\n",
       "Мурино             477            84239.130435\n",
       "Кудрово            369            93714.285714\n",
       "Шушары             360            75933.553427\n",
       "Всеволожск         292            65054.507353\n",
       "Колпино            266            74256.465517\n",
       "Пушкин             260            97478.813559\n",
       "Парголово          257            92051.282051\n",
       "Гатчина            230            66869.918699\n",
       "Выборг             163            56818.181818"
      ]
     },
     "execution_count": 54,
     "metadata": {},
     "output_type": "execute_result"
    }
   ],
   "source": [
    "# Let's calculate the average price per square meter in these localities\n",
    "new_pivot = df.pivot_table(index = 'new_names', values = 'price_per_square_metre', aggfunc = ['count','median'])\n",
    "new_pivot.columns = ['count', 'price_per_square_metre']\n",
    "new_pivot.sort_values(by = 'count', ascending = False).head(10)"
   ]
  },
  {
   "cell_type": "code",
   "execution_count": 55,
   "id": "461c149a",
   "metadata": {},
   "outputs": [
    {
     "data": {
      "text/plain": [
       "total_images                               10\n",
       "last_price                           15000000\n",
       "total_area                               95.0\n",
       "first_day_exposition      2017-06-27 00:00:00\n",
       "rooms                                       3\n",
       "ceiling_height                           2.75\n",
       "floors_total                               20\n",
       "living_area                              53.0\n",
       "floor                                       1\n",
       "is_apartment                              NaN\n",
       "studio                                  False\n",
       "open_plan                               False\n",
       "kitchen_area                             16.0\n",
       "balcony                                     0\n",
       "locality_name                 Санкт-Петербург\n",
       "airports_nearest                      40417.0\n",
       "cityCenters_nearest                   12120.0\n",
       "parks_around3000                          2.0\n",
       "parks_nearest                           159.0\n",
       "ponds_around3000                          0.0\n",
       "ponds_nearest                           503.0\n",
       "days_exposition                            49\n",
       "price_per_square_metre          157894.736842\n",
       "day_of_exposition                           1\n",
       "month_of_exposition                         6\n",
       "year_of_exposition                       2017\n",
       "flat_floor                              first\n",
       "living_to_total_area                 0.557895\n",
       "kitchen_to_total_area                0.168421\n",
       "new_names                     Санкт-Петербург\n",
       "Name: 4327, dtype: object"
      ]
     },
     "execution_count": 55,
     "metadata": {},
     "output_type": "execute_result"
    }
   ],
   "source": [
    "# Find the locality with the highest cost of housing\n",
    "df.loc[df['last_price'].idxmax()]"
   ]
  },
  {
   "cell_type": "code",
   "execution_count": 56,
   "id": "a2bbeb9c",
   "metadata": {},
   "outputs": [
    {
     "data": {
      "text/plain": [
       "total_images                                2\n",
       "last_price                             900000\n",
       "total_area                               42.8\n",
       "first_day_exposition      2017-06-14 00:00:00\n",
       "rooms                                       2\n",
       "ceiling_height                           2.55\n",
       "floors_total                                5\n",
       "living_area                              32.0\n",
       "floor                                       5\n",
       "is_apartment                              NaN\n",
       "studio                                  False\n",
       "open_plan                               False\n",
       "kitchen_area                              5.0\n",
       "balcony                                     0\n",
       "locality_name                       Сясьстрой\n",
       "airports_nearest                          NaN\n",
       "cityCenters_nearest                       NaN\n",
       "parks_around3000                          NaN\n",
       "parks_nearest                             NaN\n",
       "ponds_around3000                          NaN\n",
       "ponds_nearest                             NaN\n",
       "days_exposition                           247\n",
       "price_per_square_metre           21028.037383\n",
       "day_of_exposition                           2\n",
       "month_of_exposition                         6\n",
       "year_of_exposition                       2017\n",
       "flat_floor                               last\n",
       "living_to_total_area                 0.747664\n",
       "kitchen_to_total_area                0.116822\n",
       "new_names                           Сясьстрой\n",
       "Name: 293, dtype: object"
      ]
     },
     "execution_count": 56,
     "metadata": {},
     "output_type": "execute_result"
    }
   ],
   "source": [
    "# Find the locality with the lowest cost of housing\n",
    "df.loc[df['last_price'].idxmin()]"
   ]
  },
  {
   "cell_type": "markdown",
   "id": "a77247c4",
   "metadata": {},
   "source": [
    "**Conclusion**\n",
    "\n",
    "In the top ten most popular listings, the first place is taken by Saint Petersburg as the center of Leningrad Oblast, with Vyborg closing the list.\n",
    "Also, the most expensive housing is found in Saint Petersburg, while the most advantageous real estate purchase is in Syasstroy - just 144 km away from Petersburg."
   ]
  },
  {
   "cell_type": "markdown",
   "id": "92462b08",
   "metadata": {},
   "source": [
    "## Identifying the Area That Falls Within the Center"
   ]
  },
  {
   "cell_type": "code",
   "execution_count": 57,
   "id": "4f48a721",
   "metadata": {},
   "outputs": [
    {
     "data": {
      "text/plain": [
       "<AxesSubplot:xlabel='cityCenters_km'>"
      ]
     },
     "execution_count": 57,
     "metadata": {},
     "output_type": "execute_result"
    },
    {
     "data": {
      "image/png": "[encoded data removed]",
      "text/plain": [
       "<Figure size 360x360 with 1 Axes>"
      ]
     },
     "metadata": {
      "needs_background": "light"
     },
     "output_type": "display_data"
    }
   ],
   "source": [
    "# Let's round the distance to the center to kilometers\n",
    "#and record it in a new column 'cityCenters_km'\n",
    "df['cityCenters_km'] = round(df['cityCenters_nearest'] / 1000)\n",
    "\n",
    "# Group by distance to the center\n",
    "pivot_km = df.pivot_table(index='cityCenters_km', values= 'last_price', aggfunc='median')\n",
    "pivot_km.plot(figsize=(5,5))"
   ]
  },
  {
   "cell_type": "markdown",
   "id": "11ebb9b1",
   "metadata": {},
   "source": [
    "**Conclusion**\n",
    "\n",
    "The graph increases up to approximately 3 km, and then starts to fall sharply. We will select this range as the boundaries of the center of Saint Petersburg."
   ]
  },
  {
   "cell_type": "markdown",
   "id": "4bc65c9b",
   "metadata": {},
   "source": [
    "## Analysis of the Apartment Segment in the Center"
   ]
  },
  {
   "cell_type": "markdown",
   "id": "224a85ed",
   "metadata": {},
   "source": [
    "First, let's examine parameters such as: area, price, number of rooms, and ceiling height."
   ]
  },
  {
   "cell_type": "code",
   "execution_count": 58,
   "id": "19bed219",
   "metadata": {},
   "outputs": [
    {
     "data": {
      "text/html": [
       "<div>\n",
       "<style scoped>\n",
       "    .dataframe tbody tr th:only-of-type {\n",
       "        vertical-align: middle;\n",
       "    }\n",
       "\n",
       "    .dataframe tbody tr th {\n",
       "        vertical-align: top;\n",
       "    }\n",
       "\n",
       "    .dataframe thead th {\n",
       "        text-align: right;\n",
       "    }\n",
       "</style>\n",
       "<table border=\"1\" class=\"dataframe\">\n",
       "  <thead>\n",
       "    <tr style=\"text-align: right;\">\n",
       "      <th></th>\n",
       "      <th>total_images</th>\n",
       "      <th>last_price</th>\n",
       "      <th>total_area</th>\n",
       "      <th>first_day_exposition</th>\n",
       "      <th>rooms</th>\n",
       "      <th>ceiling_height</th>\n",
       "      <th>floors_total</th>\n",
       "      <th>living_area</th>\n",
       "      <th>floor</th>\n",
       "      <th>is_apartment</th>\n",
       "      <th>...</th>\n",
       "      <th>days_exposition</th>\n",
       "      <th>price_per_square_metre</th>\n",
       "      <th>day_of_exposition</th>\n",
       "      <th>month_of_exposition</th>\n",
       "      <th>year_of_exposition</th>\n",
       "      <th>flat_floor</th>\n",
       "      <th>living_to_total_area</th>\n",
       "      <th>kitchen_to_total_area</th>\n",
       "      <th>new_names</th>\n",
       "      <th>cityCenters_km</th>\n",
       "    </tr>\n",
       "  </thead>\n",
       "  <tbody>\n",
       "    <tr>\n",
       "      <th>24</th>\n",
       "      <td>8</td>\n",
       "      <td>6500000</td>\n",
       "      <td>97.2</td>\n",
       "      <td>2015-10-31</td>\n",
       "      <td>2</td>\n",
       "      <td>2.80</td>\n",
       "      <td>3</td>\n",
       "      <td>46.500000</td>\n",
       "      <td>1</td>\n",
       "      <td>NaN</td>\n",
       "      <td>...</td>\n",
       "      <td>265</td>\n",
       "      <td>66872.427984</td>\n",
       "      <td>5</td>\n",
       "      <td>10</td>\n",
       "      <td>2015</td>\n",
       "      <td>first</td>\n",
       "      <td>0.478395</td>\n",
       "      <td>0.201646</td>\n",
       "      <td>Санкт-Петербург</td>\n",
       "      <td>2.0</td>\n",
       "    </tr>\n",
       "    <tr>\n",
       "      <th>433</th>\n",
       "      <td>15</td>\n",
       "      <td>6800000</td>\n",
       "      <td>57.8</td>\n",
       "      <td>2017-04-28</td>\n",
       "      <td>3</td>\n",
       "      <td>2.80</td>\n",
       "      <td>5</td>\n",
       "      <td>33.700000</td>\n",
       "      <td>4</td>\n",
       "      <td>NaN</td>\n",
       "      <td>...</td>\n",
       "      <td>402</td>\n",
       "      <td>117647.058824</td>\n",
       "      <td>4</td>\n",
       "      <td>4</td>\n",
       "      <td>2017</td>\n",
       "      <td>other</td>\n",
       "      <td>0.583045</td>\n",
       "      <td>0.167820</td>\n",
       "      <td>Санкт-Петербург</td>\n",
       "      <td>1.0</td>\n",
       "    </tr>\n",
       "    <tr>\n",
       "      <th>502</th>\n",
       "      <td>0</td>\n",
       "      <td>11250000</td>\n",
       "      <td>71.0</td>\n",
       "      <td>2017-01-26</td>\n",
       "      <td>2</td>\n",
       "      <td>2.80</td>\n",
       "      <td>3</td>\n",
       "      <td>43.000000</td>\n",
       "      <td>3</td>\n",
       "      <td>NaN</td>\n",
       "      <td>...</td>\n",
       "      <td>35</td>\n",
       "      <td>158450.704225</td>\n",
       "      <td>3</td>\n",
       "      <td>1</td>\n",
       "      <td>2017</td>\n",
       "      <td>last</td>\n",
       "      <td>0.605634</td>\n",
       "      <td>0.112676</td>\n",
       "      <td>Санкт-Петербург</td>\n",
       "      <td>1.0</td>\n",
       "    </tr>\n",
       "    <tr>\n",
       "      <th>555</th>\n",
       "      <td>13</td>\n",
       "      <td>7680000</td>\n",
       "      <td>83.1</td>\n",
       "      <td>2017-05-13</td>\n",
       "      <td>3</td>\n",
       "      <td>2.80</td>\n",
       "      <td>3</td>\n",
       "      <td>50.900000</td>\n",
       "      <td>3</td>\n",
       "      <td>NaN</td>\n",
       "      <td>...</td>\n",
       "      <td>228</td>\n",
       "      <td>92418.772563</td>\n",
       "      <td>5</td>\n",
       "      <td>5</td>\n",
       "      <td>2017</td>\n",
       "      <td>last</td>\n",
       "      <td>0.612515</td>\n",
       "      <td>0.123947</td>\n",
       "      <td>Санкт-Петербург</td>\n",
       "      <td>2.0</td>\n",
       "    </tr>\n",
       "    <tr>\n",
       "      <th>872</th>\n",
       "      <td>10</td>\n",
       "      <td>8200000</td>\n",
       "      <td>64.0</td>\n",
       "      <td>2017-06-02</td>\n",
       "      <td>2</td>\n",
       "      <td>2.70</td>\n",
       "      <td>2</td>\n",
       "      <td>39.000000</td>\n",
       "      <td>2</td>\n",
       "      <td>NaN</td>\n",
       "      <td>...</td>\n",
       "      <td>160</td>\n",
       "      <td>128125.000000</td>\n",
       "      <td>4</td>\n",
       "      <td>6</td>\n",
       "      <td>2017</td>\n",
       "      <td>last</td>\n",
       "      <td>0.609375</td>\n",
       "      <td>0.156250</td>\n",
       "      <td>Санкт-Петербург</td>\n",
       "      <td>2.0</td>\n",
       "    </tr>\n",
       "    <tr>\n",
       "      <th>...</th>\n",
       "      <td>...</td>\n",
       "      <td>...</td>\n",
       "      <td>...</td>\n",
       "      <td>...</td>\n",
       "      <td>...</td>\n",
       "      <td>...</td>\n",
       "      <td>...</td>\n",
       "      <td>...</td>\n",
       "      <td>...</td>\n",
       "      <td>...</td>\n",
       "      <td>...</td>\n",
       "      <td>...</td>\n",
       "      <td>...</td>\n",
       "      <td>...</td>\n",
       "      <td>...</td>\n",
       "      <td>...</td>\n",
       "      <td>...</td>\n",
       "      <td>...</td>\n",
       "      <td>...</td>\n",
       "      <td>...</td>\n",
       "      <td>...</td>\n",
       "    </tr>\n",
       "    <tr>\n",
       "      <th>22414</th>\n",
       "      <td>4</td>\n",
       "      <td>8280000</td>\n",
       "      <td>97.0</td>\n",
       "      <td>2016-12-04</td>\n",
       "      <td>3</td>\n",
       "      <td>2.80</td>\n",
       "      <td>3</td>\n",
       "      <td>65.000000</td>\n",
       "      <td>2</td>\n",
       "      <td>NaN</td>\n",
       "      <td>...</td>\n",
       "      <td>208</td>\n",
       "      <td>85360.824742</td>\n",
       "      <td>6</td>\n",
       "      <td>12</td>\n",
       "      <td>2016</td>\n",
       "      <td>other</td>\n",
       "      <td>0.670103</td>\n",
       "      <td>0.092784</td>\n",
       "      <td>Санкт-Петербург</td>\n",
       "      <td>2.0</td>\n",
       "    </tr>\n",
       "    <tr>\n",
       "      <th>22533</th>\n",
       "      <td>11</td>\n",
       "      <td>9000000</td>\n",
       "      <td>69.5</td>\n",
       "      <td>2017-06-27</td>\n",
       "      <td>4</td>\n",
       "      <td>2.70</td>\n",
       "      <td>4</td>\n",
       "      <td>50.300000</td>\n",
       "      <td>4</td>\n",
       "      <td>NaN</td>\n",
       "      <td>...</td>\n",
       "      <td>21</td>\n",
       "      <td>129496.402878</td>\n",
       "      <td>1</td>\n",
       "      <td>6</td>\n",
       "      <td>2017</td>\n",
       "      <td>last</td>\n",
       "      <td>0.723741</td>\n",
       "      <td>0.086331</td>\n",
       "      <td>Санкт-Петербург</td>\n",
       "      <td>1.0</td>\n",
       "    </tr>\n",
       "    <tr>\n",
       "      <th>22968</th>\n",
       "      <td>7</td>\n",
       "      <td>6700000</td>\n",
       "      <td>54.0</td>\n",
       "      <td>2017-11-08</td>\n",
       "      <td>3</td>\n",
       "      <td>2.80</td>\n",
       "      <td>3</td>\n",
       "      <td>36.000000</td>\n",
       "      <td>2</td>\n",
       "      <td>NaN</td>\n",
       "      <td>...</td>\n",
       "      <td>210</td>\n",
       "      <td>124074.074074</td>\n",
       "      <td>2</td>\n",
       "      <td>11</td>\n",
       "      <td>2017</td>\n",
       "      <td>other</td>\n",
       "      <td>0.666667</td>\n",
       "      <td>0.185185</td>\n",
       "      <td>Санкт-Петербург</td>\n",
       "      <td>2.0</td>\n",
       "    </tr>\n",
       "    <tr>\n",
       "      <th>23077</th>\n",
       "      <td>10</td>\n",
       "      <td>12500000</td>\n",
       "      <td>107.0</td>\n",
       "      <td>2017-09-25</td>\n",
       "      <td>4</td>\n",
       "      <td>2.55</td>\n",
       "      <td>5</td>\n",
       "      <td>68.531722</td>\n",
       "      <td>4</td>\n",
       "      <td>NaN</td>\n",
       "      <td>...</td>\n",
       "      <td>229</td>\n",
       "      <td>116822.429907</td>\n",
       "      <td>0</td>\n",
       "      <td>9</td>\n",
       "      <td>2017</td>\n",
       "      <td>other</td>\n",
       "      <td>0.640483</td>\n",
       "      <td>0.111782</td>\n",
       "      <td>Санкт-Петербург</td>\n",
       "      <td>2.0</td>\n",
       "    </tr>\n",
       "    <tr>\n",
       "      <th>23602</th>\n",
       "      <td>0</td>\n",
       "      <td>8700000</td>\n",
       "      <td>73.0</td>\n",
       "      <td>2019-01-23</td>\n",
       "      <td>3</td>\n",
       "      <td>2.65</td>\n",
       "      <td>4</td>\n",
       "      <td>45.000000</td>\n",
       "      <td>4</td>\n",
       "      <td>NaN</td>\n",
       "      <td>...</td>\n",
       "      <td>34</td>\n",
       "      <td>119178.082192</td>\n",
       "      <td>2</td>\n",
       "      <td>1</td>\n",
       "      <td>2019</td>\n",
       "      <td>last</td>\n",
       "      <td>0.616438</td>\n",
       "      <td>0.130137</td>\n",
       "      <td>Санкт-Петербург</td>\n",
       "      <td>2.0</td>\n",
       "    </tr>\n",
       "  </tbody>\n",
       "</table>\n",
       "<p>166 rows × 31 columns</p>\n",
       "</div>"
      ],
      "text/plain": [
       "       total_images  last_price  total_area first_day_exposition  rooms  \\\n",
       "24                8     6500000        97.2           2015-10-31      2   \n",
       "433              15     6800000        57.8           2017-04-28      3   \n",
       "502               0    11250000        71.0           2017-01-26      2   \n",
       "555              13     7680000        83.1           2017-05-13      3   \n",
       "872              10     8200000        64.0           2017-06-02      2   \n",
       "...             ...         ...         ...                  ...    ...   \n",
       "22414             4     8280000        97.0           2016-12-04      3   \n",
       "22533            11     9000000        69.5           2017-06-27      4   \n",
       "22968             7     6700000        54.0           2017-11-08      3   \n",
       "23077            10    12500000       107.0           2017-09-25      4   \n",
       "23602             0     8700000        73.0           2019-01-23      3   \n",
       "\n",
       "       ceiling_height  floors_total  living_area  floor is_apartment  ...  \\\n",
       "24               2.80             3    46.500000      1          NaN  ...   \n",
       "433              2.80             5    33.700000      4          NaN  ...   \n",
       "502              2.80             3    43.000000      3          NaN  ...   \n",
       "555              2.80             3    50.900000      3          NaN  ...   \n",
       "872              2.70             2    39.000000      2          NaN  ...   \n",
       "...               ...           ...          ...    ...          ...  ...   \n",
       "22414            2.80             3    65.000000      2          NaN  ...   \n",
       "22533            2.70             4    50.300000      4          NaN  ...   \n",
       "22968            2.80             3    36.000000      2          NaN  ...   \n",
       "23077            2.55             5    68.531722      4          NaN  ...   \n",
       "23602            2.65             4    45.000000      4          NaN  ...   \n",
       "\n",
       "       days_exposition  price_per_square_metre  day_of_exposition  \\\n",
       "24                 265            66872.427984                  5   \n",
       "433                402           117647.058824                  4   \n",
       "502                 35           158450.704225                  3   \n",
       "555                228            92418.772563                  5   \n",
       "872                160           128125.000000                  4   \n",
       "...                ...                     ...                ...   \n",
       "22414              208            85360.824742                  6   \n",
       "22533               21           129496.402878                  1   \n",
       "22968              210           124074.074074                  2   \n",
       "23077              229           116822.429907                  0   \n",
       "23602               34           119178.082192                  2   \n",
       "\n",
       "       month_of_exposition year_of_exposition  flat_floor  \\\n",
       "24                      10               2015       first   \n",
       "433                      4               2017       other   \n",
       "502                      1               2017        last   \n",
       "555                      5               2017        last   \n",
       "872                      6               2017        last   \n",
       "...                    ...                ...         ...   \n",
       "22414                   12               2016       other   \n",
       "22533                    6               2017        last   \n",
       "22968                   11               2017       other   \n",
       "23077                    9               2017       other   \n",
       "23602                    1               2019        last   \n",
       "\n",
       "       living_to_total_area  kitchen_to_total_area        new_names  \\\n",
       "24                 0.478395               0.201646  Санкт-Петербург   \n",
       "433                0.583045               0.167820  Санкт-Петербург   \n",
       "502                0.605634               0.112676  Санкт-Петербург   \n",
       "555                0.612515               0.123947  Санкт-Петербург   \n",
       "872                0.609375               0.156250  Санкт-Петербург   \n",
       "...                     ...                    ...              ...   \n",
       "22414              0.670103               0.092784  Санкт-Петербург   \n",
       "22533              0.723741               0.086331  Санкт-Петербург   \n",
       "22968              0.666667               0.185185  Санкт-Петербург   \n",
       "23077              0.640483               0.111782  Санкт-Петербург   \n",
       "23602              0.616438               0.130137  Санкт-Петербург   \n",
       "\n",
       "       cityCenters_km  \n",
       "24                2.0  \n",
       "433               1.0  \n",
       "502               1.0  \n",
       "555               2.0  \n",
       "872               2.0  \n",
       "...               ...  \n",
       "22414             2.0  \n",
       "22533             1.0  \n",
       "22968             2.0  \n",
       "23077             2.0  \n",
       "23602             2.0  \n",
       "\n",
       "[166 rows x 31 columns]"
      ]
     },
     "execution_count": 58,
     "metadata": {},
     "output_type": "execute_result"
    }
   ],
   "source": [
    "# Let's select only those apartments that are located less than three kilometers from the center.\n",
    "rich_df = df[(df['cityCenters_km'] < 3)]\n",
    "rich_df"
   ]
  },
  {
   "cell_type": "code",
   "execution_count": 59,
   "id": "137c53e8",
   "metadata": {},
   "outputs": [
    {
     "name": "stdout",
     "output_type": "stream",
     "text": [
      "count    166.000000\n",
      "mean      73.940301\n",
      "std       25.786718\n",
      "min       12.000000\n",
      "25%       54.250000\n",
      "50%       71.500000\n",
      "75%       92.000000\n",
      "max      165.000000\n",
      "Name: total_area, dtype: float64\n"
     ]
    },
    {
     "data": {
      "image/png": "[encoded data removed]",
      "text/plain": [
       "<Figure size 432x288 with 1 Axes>"
      ]
     },
     "metadata": {
      "needs_background": "light"
     },
     "output_type": "display_data"
    },
    {
     "name": "stdout",
     "output_type": "stream",
     "text": [
      "count    1.660000e+02\n",
      "mean     8.324904e+06\n",
      "std      2.734138e+06\n",
      "min      2.400000e+06\n",
      "25%      6.462500e+06\n",
      "50%      8.265000e+06\n",
      "75%      9.750000e+06\n",
      "max      1.500000e+07\n",
      "Name: last_price, dtype: float64\n"
     ]
    },
    {
     "data": {
      "image/png": "[encoded data removed]",
      "text/plain": [
       "<Figure size 432x288 with 1 Axes>"
      ]
     },
     "metadata": {
      "needs_background": "light"
     },
     "output_type": "display_data"
    },
    {
     "name": "stdout",
     "output_type": "stream",
     "text": [
      "count    166.000000\n",
      "mean       2.656627\n",
      "std        1.019292\n",
      "min        1.000000\n",
      "25%        2.000000\n",
      "50%        3.000000\n",
      "75%        3.000000\n",
      "max        6.000000\n",
      "Name: rooms, dtype: float64\n"
     ]
    },
    {
     "data": {
      "image/png": "[encoded data removed]",
      "text/plain": [
       "<Figure size 432x288 with 1 Axes>"
      ]
     },
     "metadata": {
      "needs_background": "light"
     },
     "output_type": "display_data"
    },
    {
     "name": "stdout",
     "output_type": "stream",
     "text": [
      "count    166.000000\n",
      "mean       2.809096\n",
      "std        0.187254\n",
      "min        2.500000\n",
      "25%        2.562500\n",
      "50%        2.800000\n",
      "75%        3.000000\n",
      "max        3.000000\n",
      "Name: ceiling_height, dtype: float64\n"
     ]
    },
    {
     "data": {
      "image/png": "[encoded data removed]",
      "text/plain": [
       "<Figure size 432x288 with 1 Axes>"
      ]
     },
     "metadata": {
      "needs_background": "light"
     },
     "output_type": "display_data"
    }
   ],
   "source": [
    "# Create a list of columns to study\n",
    "list_of_columns = ['total_area', 'last_price', 'rooms','ceiling_height']\n",
    "# For each column, we will build a histogram and look at the spread\n",
    "for value in list_of_columns:\n",
    "    rich_df[value].hist(bins = 100)\n",
    "    print(rich_df[value].describe())\n",
    "    plt.show()"
   ]
  },
  {
   "cell_type": "markdown",
   "id": "e8cb2fa6",
   "metadata": {},
   "source": [
    "The histograms look more \"fluffy\" than those built from all the data in the table, but the general trend can be observed.\n",
    "\n",
    "Now let's identify factors that affect the price of an apartment (number of rooms, floor, distance from the center, date of posting)."
   ]
  },
  {
   "cell_type": "code",
   "execution_count": 60,
   "id": "d8b8b895",
   "metadata": {},
   "outputs": [
    {
     "data": {
      "text/plain": [
       "array([[<AxesSubplot:xlabel='last_price', ylabel='last_price'>,\n",
       "        <AxesSubplot:xlabel='rooms', ylabel='last_price'>,\n",
       "        <AxesSubplot:xlabel='cityCenters_nearest', ylabel='last_price'>],\n",
       "       [<AxesSubplot:xlabel='last_price', ylabel='rooms'>,\n",
       "        <AxesSubplot:xlabel='rooms', ylabel='rooms'>,\n",
       "        <AxesSubplot:xlabel='cityCenters_nearest', ylabel='rooms'>],\n",
       "       [<AxesSubplot:xlabel='last_price', ylabel='cityCenters_nearest'>,\n",
       "        <AxesSubplot:xlabel='rooms', ylabel='cityCenters_nearest'>,\n",
       "        <AxesSubplot:xlabel='cityCenters_nearest', ylabel='cityCenters_nearest'>]],\n",
       "      dtype=object)"
      ]
     },
     "execution_count": 60,
     "metadata": {},
     "output_type": "execute_result"
    },
    {
     "data": {
      "image/png": "[encoded data removed]",
      "text/plain": [
       "<Figure size 648x648 with 9 Axes>"
      ]
     },
     "metadata": {
      "needs_background": "light"
     },
     "output_type": "display_data"
    }
   ],
   "source": [
    "pd.plotting.scatter_matrix(rich_df[['last_price','rooms','cityCenters_nearest']], figsize=(9, 9))"
   ]
  },
  {
   "cell_type": "markdown",
   "id": "e784496f",
   "metadata": {},
   "source": [
    "The more rooms, the more expensive the housing. There is no specific direction of data distribution in terms of distance from the center."
   ]
  },
  {
   "cell_type": "code",
   "execution_count": 61,
   "id": "04311640",
   "metadata": {},
   "outputs": [],
   "source": [
    "# Create a function that groups each value \n",
    "#from the list of columns and returns \n",
    "#a plot with the median price\n",
    "def rich(value):\n",
    "    pivot_df = rich_df.pivot_table(index = value, values = 'last_price',aggfunc = 'median')\n",
    "    return pivot_df.plot()"
   ]
  },
  {
   "cell_type": "code",
   "execution_count": 62,
   "id": "5e35f623",
   "metadata": {},
   "outputs": [
    {
     "data": {
      "image/png": "[encoded data removed]",
      "text/plain": [
       "<Figure size 432x288 with 1 Axes>"
      ]
     },
     "metadata": {
      "needs_background": "light"
     },
     "output_type": "display_data"
    },
    {
     "data": {
      "image/png": "[encoded data removed]",
      "text/plain": [
       "<Figure size 432x288 with 1 Axes>"
      ]
     },
     "metadata": {
      "needs_background": "light"
     },
     "output_type": "display_data"
    },
    {
     "data": {
      "image/png": "[encoded data removed]",
      "text/plain": [
       "<Figure size 432x288 with 1 Axes>"
      ]
     },
     "metadata": {
      "needs_background": "light"
     },
     "output_type": "display_data"
    },
    {
     "data": {
      "image/png": "[encoded data removed]",
      "text/plain": [
       "<Figure size 432x288 with 1 Axes>"
      ]
     },
     "metadata": {
      "needs_background": "light"
     },
     "output_type": "display_data"
    }
   ],
   "source": [
    "# Build a histogram for each column from the list of columns\n",
    "list_of_columns = ['flat_floor', 'day_of_exposition', 'month_of_exposition', 'year_of_exposition']\n",
    "for value in list_of_columns:\n",
    "    rich(value)\n",
    "    plt.show()"
   ]
  },
  {
   "cell_type": "markdown",
   "id": "876724c4",
   "metadata": {},
   "source": [
    "The first floor is the cheapest, the most expensive apartments are sold on Wednesdays, at the beginning of the year and in summer; and the peak of prices was in 2016."
   ]
  },
  {
   "cell_type": "markdown",
   "id": "0537814b",
   "metadata": {},
   "source": [
    "**Conclusion**\n",
    "\n",
    "* The area of apartments according to all data is 50 sq.m., while in the center of Saint Petersburg it is 70 sq.m., and accordingly, there are more rooms on average in the center (3 rooms) than in the entire dataset (2 rooms). The prices differ by approximately 4 million, and the ceiling height tends to be 3 meters, which is not surprising since the city center mostly consists of old buildings where ceilings were built to be maximally high.\n",
    "* People living in the center are also reluctant to take apartments on the first floor. Also, in the center, there is not such a dependency of distance from the square as in the entire segment of properties, where the closer to the center, the more expensive the apartment.\n",
    "* Apartments in the center are most often sold on Wednesdays, at the beginning of the year, and in the summer, unlike the overall data, where summer is the time with the lowest price levels. Unlike the peak prices of 2014 for all apartments, properties in the center only became more expensive by 2016."
   ]
  },
  {
   "cell_type": "markdown",
   "id": "b41d90fd",
   "metadata": {},
   "source": [
    "# General Conclusion"
   ]
  },
  {
   "cell_type": "markdown",
   "id": "9af6f36e",
   "metadata": {},
   "source": [
    "Having processed a database consisting of various parameters about apartments in Saint Petersburg and the surrounding area, it was possible to establish:\n",
    "\n",
    "1. Missing entries were found and filled, and rare and outlier values were found and processed (zero number of rooms in an apartment, ceilings of one meter and a hundred meters, as well as apartments for $12,300);\n",
    "2.The normal sale period is within 45 to 232 days;\n",
    "3. From 2016 to 2019, there is a trend towards a reduction in the number of days of sale, which may be the result of the increasing popularity of internet resources leading to a faster transaction;\n",
    "4. It was established that the larger the area, the higher the price of the property; however, the price per square meter decreases with an increase in the number of rooms;\n",
    "5. As the distance from the center increases, the apartment becomes cheaper, and the majority of apartments are presented in the range of 10 to 20 km from the center.\n",
    "6. The boundaries of the center of Saint Petersburg can be defined by an area with a radius of 3 km;\n",
    "7. It was found out that the cheapest apartments are located on the first floors. Also, people are not particularly keen to buy apartments on the last floors, preferring others;\n",
    "8. In comparison with the general trend of selling expensive apartments in the winter period (at the end and beginning of the year), apartments in the center also have a high price in the summer;\n",
    "9. While on average the peak of real estate prices was observed in 2014, apartments in the center only gained popularity by 2016, subsequently changing from growth to decline;\n",
    "10. The day of the week and ceiling height have a negligible effect on the cost of the property, while the distance from the center, floor, and area have a greater impact on the price."
   ]
  }
 ],
 "metadata": {
  "kernelspec": {
   "display_name": "Python 3 (ipykernel)",
   "language": "python",
   "name": "python3"
  },
  "language_info": {
   "codemirror_mode": {
    "name": "ipython",
    "version": 3
   },
   "file_extension": ".py",
   "mimetype": "text/x-python",
   "name": "python",
   "nbconvert_exporter": "python",
   "pygments_lexer": "ipython3",
   "version": "3.9.7"
  },
  "toc": {
   "base_numbering": 1,
   "nav_menu": {},
   "number_sections": true,
   "sideBar": true,
   "skip_h1_title": false,
   "title_cell": "Table of Contents",
   "title_sidebar": "Contents",
   "toc_cell": true,
   "toc_position": {
    "height": "calc(100% - 180px)",
    "left": "10px",
    "top": "150px",
    "width": "165px"
   },
   "toc_section_display": true,
   "toc_window_display": true
  }
 },
 "nbformat": 4,
 "nbformat_minor": 5
}
