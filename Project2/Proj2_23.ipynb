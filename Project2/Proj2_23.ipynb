{
 "cells": [
  {
   "cell_type": "markdown",
   "metadata": {},
   "source": [
    "# Study on Borrower Reliability\n",
    "The client is a bank's credit department. The task is to understand whether a client's marital status and number of children affect the repayment of loans on time. The input data from the bank is statistics on clients' solvency.\n",
    "\n",
    "The results of the study will be taken into account when building a credit scoring model — a special system that assesses the ability of a potential borrower to repay a loan to the bank.\n",
    "\n",
    "The purpose of the study is to preprocess the data and answer the following questions:\n",
    "\n",
    "* Is there a correlation between having children and repaying a loan on time?\n",
    "* Is there a correlation between marital status and repaying a loan on time?\n",
    "* Is there a correlation between income level and repaying a loan on time?\n",
    "* How do different loan purposes affect repayment on time?"
   ]
  },
  {
   "cell_type": "markdown",
   "metadata": {},
   "source": [
    "## Opening and Reviewing the Data\n",
    "To begin the investigation, it is necessary to study general information about the potential borrowers' data."
   ]
  },
  {
   "cell_type": "markdown",
   "metadata": {},
   "source": [
    "To get a complete picture of the data, it is first necessary to import the pandas library and install additional libraries."
   ]
  },
  {
   "cell_type": "code",
   "execution_count": null,
   "metadata": {},
   "outputs": [],
   "source": [
    "!pip install nltk"
   ]
  },
  {
   "cell_type": "code",
   "execution_count": 116,
   "metadata": {},
   "outputs": [
    {
     "name": "stderr",
     "output_type": "stream",
     "text": [
      "[nltk_data] Downloading package wordnet to\n",
      "[nltk_data]     /Users/ivanmakarov/nltk_data...\n",
      "[nltk_data]   Package wordnet is already up-to-date!\n"
     ]
    }
   ],
   "source": [
    "#Importing the pandas library\n",
    "import pandas as pd\n",
    "#Importing matplotlib.pyplot library for plotting\n",
    "import matplotlib.pyplot as plt\n",
    "\n",
    "import nltk\n",
    "from nltk.stem import WordNetLemmatizer\n",
    "from nltk.corpus import wordnet\n",
    "\n",
    "# Download necessary NLTK data\n",
    "nltk.download('wordnet')\n",
    "\n",
    "# Importing the collections module from the Counter library\n",
    "from collections import Counter"
   ]
  },
  {
   "cell_type": "markdown",
   "metadata": {},
   "source": [
    "Opening the data file using the try-except method for file paths (in case the file is loaded locally).\n",
    "\n",
    "We will study the first ten rows of the table to familiarize ourselves with the data."
   ]
  },
  {
   "cell_type": "code",
   "execution_count": 68,
   "metadata": {},
   "outputs": [
    {
     "data": {
      "text/html": [
       "<div>\n",
       "<style scoped>\n",
       "    .dataframe tbody tr th:only-of-type {\n",
       "        vertical-align: middle;\n",
       "    }\n",
       "\n",
       "    .dataframe tbody tr th {\n",
       "        vertical-align: top;\n",
       "    }\n",
       "\n",
       "    .dataframe thead th {\n",
       "        text-align: right;\n",
       "    }\n",
       "</style>\n",
       "<table border=\"1\" class=\"dataframe\">\n",
       "  <thead>\n",
       "    <tr style=\"text-align: right;\">\n",
       "      <th></th>\n",
       "      <th>children</th>\n",
       "      <th>days_employed</th>\n",
       "      <th>dob_years</th>\n",
       "      <th>education</th>\n",
       "      <th>education_id</th>\n",
       "      <th>family_status</th>\n",
       "      <th>family_status_id</th>\n",
       "      <th>gender</th>\n",
       "      <th>income_type</th>\n",
       "      <th>debt</th>\n",
       "      <th>total_income</th>\n",
       "      <th>purpose</th>\n",
       "    </tr>\n",
       "  </thead>\n",
       "  <tbody>\n",
       "    <tr>\n",
       "      <th>0</th>\n",
       "      <td>1</td>\n",
       "      <td>-8437.673028</td>\n",
       "      <td>42</td>\n",
       "      <td>higher</td>\n",
       "      <td>0</td>\n",
       "      <td>married</td>\n",
       "      <td>0</td>\n",
       "      <td>F</td>\n",
       "      <td>employee</td>\n",
       "      <td>0</td>\n",
       "      <td>253875.639453</td>\n",
       "      <td>home purchase</td>\n",
       "    </tr>\n",
       "    <tr>\n",
       "      <th>1</th>\n",
       "      <td>1</td>\n",
       "      <td>-4024.803754</td>\n",
       "      <td>36</td>\n",
       "      <td>average</td>\n",
       "      <td>1</td>\n",
       "      <td>married</td>\n",
       "      <td>0</td>\n",
       "      <td>F</td>\n",
       "      <td>employee</td>\n",
       "      <td>0</td>\n",
       "      <td>112080.014102</td>\n",
       "      <td>purchasing a car</td>\n",
       "    </tr>\n",
       "    <tr>\n",
       "      <th>2</th>\n",
       "      <td>0</td>\n",
       "      <td>-5623.422610</td>\n",
       "      <td>33</td>\n",
       "      <td>Average</td>\n",
       "      <td>1</td>\n",
       "      <td>married</td>\n",
       "      <td>0</td>\n",
       "      <td>M</td>\n",
       "      <td>employee</td>\n",
       "      <td>0</td>\n",
       "      <td>145885.952297</td>\n",
       "      <td>home purchase</td>\n",
       "    </tr>\n",
       "    <tr>\n",
       "      <th>3</th>\n",
       "      <td>3</td>\n",
       "      <td>-4124.747207</td>\n",
       "      <td>32</td>\n",
       "      <td>average</td>\n",
       "      <td>1</td>\n",
       "      <td>married</td>\n",
       "      <td>0</td>\n",
       "      <td>M</td>\n",
       "      <td>employee</td>\n",
       "      <td>0</td>\n",
       "      <td>267628.550329</td>\n",
       "      <td>additional education</td>\n",
       "    </tr>\n",
       "    <tr>\n",
       "      <th>4</th>\n",
       "      <td>0</td>\n",
       "      <td>340266.072047</td>\n",
       "      <td>53</td>\n",
       "      <td>average</td>\n",
       "      <td>1</td>\n",
       "      <td>civil marriage</td>\n",
       "      <td>1</td>\n",
       "      <td>F</td>\n",
       "      <td>pensioner</td>\n",
       "      <td>0</td>\n",
       "      <td>158616.077870</td>\n",
       "      <td>get married</td>\n",
       "    </tr>\n",
       "    <tr>\n",
       "      <th>5</th>\n",
       "      <td>0</td>\n",
       "      <td>-926.185831</td>\n",
       "      <td>27</td>\n",
       "      <td>higher</td>\n",
       "      <td>0</td>\n",
       "      <td>civil marriage</td>\n",
       "      <td>1</td>\n",
       "      <td>M</td>\n",
       "      <td>companion</td>\n",
       "      <td>0</td>\n",
       "      <td>255763.565419</td>\n",
       "      <td>home purchase</td>\n",
       "    </tr>\n",
       "    <tr>\n",
       "      <th>6</th>\n",
       "      <td>0</td>\n",
       "      <td>-2879.202052</td>\n",
       "      <td>43</td>\n",
       "      <td>higher</td>\n",
       "      <td>0</td>\n",
       "      <td>married</td>\n",
       "      <td>0</td>\n",
       "      <td>F</td>\n",
       "      <td>companion</td>\n",
       "      <td>0</td>\n",
       "      <td>240525.971920</td>\n",
       "      <td>housing transactions</td>\n",
       "    </tr>\n",
       "    <tr>\n",
       "      <th>7</th>\n",
       "      <td>0</td>\n",
       "      <td>-152.779569</td>\n",
       "      <td>50</td>\n",
       "      <td>AVERAGE</td>\n",
       "      <td>1</td>\n",
       "      <td>married</td>\n",
       "      <td>0</td>\n",
       "      <td>M</td>\n",
       "      <td>employee</td>\n",
       "      <td>0</td>\n",
       "      <td>135823.934197</td>\n",
       "      <td>education</td>\n",
       "    </tr>\n",
       "    <tr>\n",
       "      <th>8</th>\n",
       "      <td>2</td>\n",
       "      <td>-6929.865299</td>\n",
       "      <td>35</td>\n",
       "      <td>HIGHER</td>\n",
       "      <td>0</td>\n",
       "      <td>civil marriage</td>\n",
       "      <td>1</td>\n",
       "      <td>F</td>\n",
       "      <td>employee</td>\n",
       "      <td>0</td>\n",
       "      <td>95856.832424</td>\n",
       "      <td>for a wedding</td>\n",
       "    </tr>\n",
       "    <tr>\n",
       "      <th>9</th>\n",
       "      <td>0</td>\n",
       "      <td>-2188.756445</td>\n",
       "      <td>41</td>\n",
       "      <td>average</td>\n",
       "      <td>1</td>\n",
       "      <td>married</td>\n",
       "      <td>0</td>\n",
       "      <td>M</td>\n",
       "      <td>employee</td>\n",
       "      <td>0</td>\n",
       "      <td>144425.938277</td>\n",
       "      <td>buying a home for a family</td>\n",
       "    </tr>\n",
       "  </tbody>\n",
       "</table>\n",
       "</div>"
      ],
      "text/plain": [
       "   children  days_employed  dob_years education  education_id   family_status  \\\n",
       "0         1   -8437.673028         42    higher             0         married   \n",
       "1         1   -4024.803754         36   average             1         married   \n",
       "2         0   -5623.422610         33   Average             1         married   \n",
       "3         3   -4124.747207         32   average             1         married   \n",
       "4         0  340266.072047         53   average             1  civil marriage   \n",
       "5         0    -926.185831         27    higher             0  civil marriage   \n",
       "6         0   -2879.202052         43    higher             0         married   \n",
       "7         0    -152.779569         50   AVERAGE             1         married   \n",
       "8         2   -6929.865299         35    HIGHER             0  civil marriage   \n",
       "9         0   -2188.756445         41   average             1         married   \n",
       "\n",
       "   family_status_id gender income_type  debt   total_income  \\\n",
       "0                 0      F    employee     0  253875.639453   \n",
       "1                 0      F    employee     0  112080.014102   \n",
       "2                 0      M    employee     0  145885.952297   \n",
       "3                 0      M    employee     0  267628.550329   \n",
       "4                 1      F   pensioner     0  158616.077870   \n",
       "5                 1      M   companion     0  255763.565419   \n",
       "6                 0      F   companion     0  240525.971920   \n",
       "7                 0      M    employee     0  135823.934197   \n",
       "8                 1      F    employee     0   95856.832424   \n",
       "9                 0      M    employee     0  144425.938277   \n",
       "\n",
       "                      purpose  \n",
       "0               home purchase  \n",
       "1            purchasing a car  \n",
       "2               home purchase  \n",
       "3        additional education  \n",
       "4                 get married  \n",
       "5               home purchase  \n",
       "6        housing transactions  \n",
       "7                   education  \n",
       "8               for a wedding  \n",
       "9  buying a home for a family  "
      ]
     },
     "metadata": {},
     "output_type": "display_data"
    }
   ],
   "source": [
    "#Opening the file using the try-except method\n",
    "try:\n",
    "    df = pd.read_csv('new_translated_data.csv')\n",
    "except:\n",
    "    print('The required file does not exist!')\n",
    "    \n",
    "display(df.head(10))    "
   ]
  },
  {
   "cell_type": "markdown",
   "metadata": {},
   "source": [
    "And also get full information about the whole table."
   ]
  },
  {
   "cell_type": "code",
   "execution_count": 69,
   "metadata": {},
   "outputs": [
    {
     "name": "stdout",
     "output_type": "stream",
     "text": [
      "<class 'pandas.core.frame.DataFrame'>\n",
      "RangeIndex: 21525 entries, 0 to 21524\n",
      "Data columns (total 12 columns):\n",
      " #   Column            Non-Null Count  Dtype  \n",
      "---  ------            --------------  -----  \n",
      " 0   children          21525 non-null  int64  \n",
      " 1   days_employed     19351 non-null  float64\n",
      " 2   dob_years         21525 non-null  int64  \n",
      " 3   education         21525 non-null  object \n",
      " 4   education_id      21525 non-null  int64  \n",
      " 5   family_status     21525 non-null  object \n",
      " 6   family_status_id  21525 non-null  int64  \n",
      " 7   gender            21525 non-null  object \n",
      " 8   income_type       21525 non-null  object \n",
      " 9   debt              21525 non-null  int64  \n",
      " 10  total_income      19351 non-null  float64\n",
      " 11  purpose           21525 non-null  object \n",
      "dtypes: float64(2), int64(5), object(5)\n",
      "memory usage: 2.0+ MB\n"
     ]
    }
   ],
   "source": [
    "df.info()"
   ]
  },
  {
   "cell_type": "markdown",
   "metadata": {},
   "source": [
    "This table has 12 columns. Various data types are represented: 5 data types of int64, 2 types of float64, and 5 types of object.\n",
    "\n",
    "According to the data documentation:\n",
    "\n",
    "* `children` — the number of children in the family;\n",
    "* `days_employed` — total employment duration in days;\n",
    "* `dob_years` — client's age in years;\n",
    "* `education` — client's education level;\n",
    "* `education_id` — identifier of the education level;\n",
    "* `family_status` — marital status;\n",
    "* `family_status_id` — identifier of marital status;\n",
    "* `gender` — client's gender;\n",
    "* `income_type` — type of employment;\n",
    "* `debt` — whether the client had debts on loans;\n",
    "* `total_income` — monthly income;\n",
    "* `purpose` — the purpose of the loan.\n",
    "\n",
    "As there are missing values in some columns, it's understood that there are some missing values in this data.\n",
    "\n"
   ]
  },
  {
   "cell_type": "markdown",
   "metadata": {},
   "source": [
    "**Conclusion**\n",
    "\n",
    "Each row of the table contains essential parameters that help roughly evaluate a person as a potential client: overall employment duration, monthly income, client's age, presence of debts, and type of employment. The table also presents such data as the number of children in the family, the purpose of the loan, marital status, and the client's education level. These parameters can provide additional information for analysis and answer the question of what can help determine whether a person is capable of repaying a loan on time.\n",
    "\n",
    "At first glance, it is noticeable that in the columns with the number of children in the family and total employment duration in days, some values are less than zero, and there are discrepancies in the records about the education level with good style. Therefore, to move forward, it is necessary to preprocess the data."
   ]
  },
  {
   "cell_type": "markdown",
   "metadata": {},
   "source": [
    "## Data Preprocessing"
   ]
  },
  {
   "cell_type": "markdown",
   "metadata": {},
   "source": [
    "### Handling Missing Values"
   ]
  },
  {
   "cell_type": "markdown",
   "metadata": {},
   "source": [
    "First, we need to count how many missing values there are in the table. We can use the `isna()` method for this."
   ]
  },
  {
   "cell_type": "code",
   "execution_count": 70,
   "metadata": {},
   "outputs": [
    {
     "data": {
      "text/plain": [
       "children               0\n",
       "days_employed       2174\n",
       "dob_years              0\n",
       "education              0\n",
       "education_id           0\n",
       "family_status          0\n",
       "family_status_id       0\n",
       "gender                 0\n",
       "income_type            0\n",
       "debt                   0\n",
       "total_income        2174\n",
       "purpose                0\n",
       "dtype: int64"
      ]
     },
     "execution_count": 70,
     "metadata": {},
     "output_type": "execute_result"
    }
   ],
   "source": [
    "#Counting the number of missing values\n",
    "df.isna().sum()"
   ]
  },
  {
   "cell_type": "markdown",
   "metadata": {},
   "source": [
    "In the `days_employed` and `total_income` columns, you can see the number of missing values. Since not all missing values affect the study, these gaps in the `days_employed` column can be replaced with some explicit notation.\n",
    "\n",
    "However, the same cannot be done with the `total_income` column, which is one of the main parameters in the higher questions. In reality, it would be good to establish the reason for the gaps and restore the data. But we don't have that opportunity, so we need to fill these gaps with explicit notations as well, and also assess how much they will damage the calculations.\n"
   ]
  },
  {
   "cell_type": "markdown",
   "metadata": {},
   "source": [
    "To correct \"negative\" values where they shouldn't be, we'll use the `mask()` function."
   ]
  },
  {
   "cell_type": "code",
   "execution_count": 71,
   "metadata": {},
   "outputs": [
    {
     "data": {
      "text/html": [
       "<div>\n",
       "<style scoped>\n",
       "    .dataframe tbody tr th:only-of-type {\n",
       "        vertical-align: middle;\n",
       "    }\n",
       "\n",
       "    .dataframe tbody tr th {\n",
       "        vertical-align: top;\n",
       "    }\n",
       "\n",
       "    .dataframe thead th {\n",
       "        text-align: right;\n",
       "    }\n",
       "</style>\n",
       "<table border=\"1\" class=\"dataframe\">\n",
       "  <thead>\n",
       "    <tr style=\"text-align: right;\">\n",
       "      <th></th>\n",
       "      <th>children</th>\n",
       "      <th>days_employed</th>\n",
       "      <th>dob_years</th>\n",
       "      <th>education</th>\n",
       "      <th>education_id</th>\n",
       "      <th>family_status</th>\n",
       "      <th>family_status_id</th>\n",
       "      <th>gender</th>\n",
       "      <th>income_type</th>\n",
       "      <th>debt</th>\n",
       "      <th>total_income</th>\n",
       "      <th>purpose</th>\n",
       "    </tr>\n",
       "  </thead>\n",
       "  <tbody>\n",
       "    <tr>\n",
       "      <th>0</th>\n",
       "      <td>1</td>\n",
       "      <td>8437.673028</td>\n",
       "      <td>42</td>\n",
       "      <td>higher</td>\n",
       "      <td>0</td>\n",
       "      <td>married</td>\n",
       "      <td>0</td>\n",
       "      <td>F</td>\n",
       "      <td>employee</td>\n",
       "      <td>0</td>\n",
       "      <td>253875.639453</td>\n",
       "      <td>home purchase</td>\n",
       "    </tr>\n",
       "    <tr>\n",
       "      <th>1</th>\n",
       "      <td>1</td>\n",
       "      <td>4024.803754</td>\n",
       "      <td>36</td>\n",
       "      <td>average</td>\n",
       "      <td>1</td>\n",
       "      <td>married</td>\n",
       "      <td>0</td>\n",
       "      <td>F</td>\n",
       "      <td>employee</td>\n",
       "      <td>0</td>\n",
       "      <td>112080.014102</td>\n",
       "      <td>purchasing a car</td>\n",
       "    </tr>\n",
       "    <tr>\n",
       "      <th>2</th>\n",
       "      <td>0</td>\n",
       "      <td>5623.422610</td>\n",
       "      <td>33</td>\n",
       "      <td>Average</td>\n",
       "      <td>1</td>\n",
       "      <td>married</td>\n",
       "      <td>0</td>\n",
       "      <td>M</td>\n",
       "      <td>employee</td>\n",
       "      <td>0</td>\n",
       "      <td>145885.952297</td>\n",
       "      <td>home purchase</td>\n",
       "    </tr>\n",
       "    <tr>\n",
       "      <th>3</th>\n",
       "      <td>3</td>\n",
       "      <td>4124.747207</td>\n",
       "      <td>32</td>\n",
       "      <td>average</td>\n",
       "      <td>1</td>\n",
       "      <td>married</td>\n",
       "      <td>0</td>\n",
       "      <td>M</td>\n",
       "      <td>employee</td>\n",
       "      <td>0</td>\n",
       "      <td>267628.550329</td>\n",
       "      <td>additional education</td>\n",
       "    </tr>\n",
       "    <tr>\n",
       "      <th>4</th>\n",
       "      <td>0</td>\n",
       "      <td>340266.072047</td>\n",
       "      <td>53</td>\n",
       "      <td>average</td>\n",
       "      <td>1</td>\n",
       "      <td>civil marriage</td>\n",
       "      <td>1</td>\n",
       "      <td>F</td>\n",
       "      <td>pensioner</td>\n",
       "      <td>0</td>\n",
       "      <td>158616.077870</td>\n",
       "      <td>get married</td>\n",
       "    </tr>\n",
       "    <tr>\n",
       "      <th>...</th>\n",
       "      <td>...</td>\n",
       "      <td>...</td>\n",
       "      <td>...</td>\n",
       "      <td>...</td>\n",
       "      <td>...</td>\n",
       "      <td>...</td>\n",
       "      <td>...</td>\n",
       "      <td>...</td>\n",
       "      <td>...</td>\n",
       "      <td>...</td>\n",
       "      <td>...</td>\n",
       "      <td>...</td>\n",
       "    </tr>\n",
       "    <tr>\n",
       "      <th>21520</th>\n",
       "      <td>1</td>\n",
       "      <td>4529.316663</td>\n",
       "      <td>43</td>\n",
       "      <td>average</td>\n",
       "      <td>1</td>\n",
       "      <td>civil marriage</td>\n",
       "      <td>1</td>\n",
       "      <td>F</td>\n",
       "      <td>companion</td>\n",
       "      <td>0</td>\n",
       "      <td>224791.862382</td>\n",
       "      <td>housing transactions</td>\n",
       "    </tr>\n",
       "    <tr>\n",
       "      <th>21521</th>\n",
       "      <td>0</td>\n",
       "      <td>343937.404131</td>\n",
       "      <td>67</td>\n",
       "      <td>average</td>\n",
       "      <td>1</td>\n",
       "      <td>married</td>\n",
       "      <td>0</td>\n",
       "      <td>F</td>\n",
       "      <td>pensioner</td>\n",
       "      <td>0</td>\n",
       "      <td>155999.806512</td>\n",
       "      <td>car deal</td>\n",
       "    </tr>\n",
       "    <tr>\n",
       "      <th>21522</th>\n",
       "      <td>1</td>\n",
       "      <td>2113.346888</td>\n",
       "      <td>38</td>\n",
       "      <td>average</td>\n",
       "      <td>1</td>\n",
       "      <td>civil marriage</td>\n",
       "      <td>1</td>\n",
       "      <td>M</td>\n",
       "      <td>employee</td>\n",
       "      <td>1</td>\n",
       "      <td>89672.561153</td>\n",
       "      <td>real estate</td>\n",
       "    </tr>\n",
       "    <tr>\n",
       "      <th>21523</th>\n",
       "      <td>3</td>\n",
       "      <td>3112.481705</td>\n",
       "      <td>38</td>\n",
       "      <td>average</td>\n",
       "      <td>1</td>\n",
       "      <td>married</td>\n",
       "      <td>0</td>\n",
       "      <td>M</td>\n",
       "      <td>employee</td>\n",
       "      <td>1</td>\n",
       "      <td>244093.050500</td>\n",
       "      <td>to buy your car</td>\n",
       "    </tr>\n",
       "    <tr>\n",
       "      <th>21524</th>\n",
       "      <td>2</td>\n",
       "      <td>1984.507589</td>\n",
       "      <td>40</td>\n",
       "      <td>average</td>\n",
       "      <td>1</td>\n",
       "      <td>married</td>\n",
       "      <td>0</td>\n",
       "      <td>F</td>\n",
       "      <td>employee</td>\n",
       "      <td>0</td>\n",
       "      <td>82047.418899</td>\n",
       "      <td>to buy a car</td>\n",
       "    </tr>\n",
       "  </tbody>\n",
       "</table>\n",
       "<p>21525 rows × 12 columns</p>\n",
       "</div>"
      ],
      "text/plain": [
       "       children  days_employed  dob_years education  education_id  \\\n",
       "0             1    8437.673028         42    higher             0   \n",
       "1             1    4024.803754         36   average             1   \n",
       "2             0    5623.422610         33   Average             1   \n",
       "3             3    4124.747207         32   average             1   \n",
       "4             0  340266.072047         53   average             1   \n",
       "...         ...            ...        ...       ...           ...   \n",
       "21520         1    4529.316663         43   average             1   \n",
       "21521         0  343937.404131         67   average             1   \n",
       "21522         1    2113.346888         38   average             1   \n",
       "21523         3    3112.481705         38   average             1   \n",
       "21524         2    1984.507589         40   average             1   \n",
       "\n",
       "        family_status  family_status_id gender income_type  debt  \\\n",
       "0             married                 0      F    employee     0   \n",
       "1             married                 0      F    employee     0   \n",
       "2             married                 0      M    employee     0   \n",
       "3             married                 0      M    employee     0   \n",
       "4      civil marriage                 1      F   pensioner     0   \n",
       "...               ...               ...    ...         ...   ...   \n",
       "21520  civil marriage                 1      F   companion     0   \n",
       "21521         married                 0      F   pensioner     0   \n",
       "21522  civil marriage                 1      M    employee     1   \n",
       "21523         married                 0      M    employee     1   \n",
       "21524         married                 0      F    employee     0   \n",
       "\n",
       "        total_income               purpose  \n",
       "0      253875.639453         home purchase  \n",
       "1      112080.014102      purchasing a car  \n",
       "2      145885.952297         home purchase  \n",
       "3      267628.550329  additional education  \n",
       "4      158616.077870           get married  \n",
       "...              ...                   ...  \n",
       "21520  224791.862382  housing transactions  \n",
       "21521  155999.806512              car deal  \n",
       "21522   89672.561153           real estate  \n",
       "21523  244093.050500       to buy your car  \n",
       "21524   82047.418899          to buy a car  \n",
       "\n",
       "[21525 rows x 12 columns]"
      ]
     },
     "metadata": {},
     "output_type": "display_data"
    }
   ],
   "source": [
    "#In the function's condition, we check if the element in the 'days_employed' column is negative,\n",
    "#then we rewrite it to the opposite\n",
    "df['days_employed'] = df['days_employed'].mask(df['days_employed'] < 0, -(df['days_employed']))\n",
    "display(df)"
   ]
  },
  {
   "cell_type": "markdown",
   "metadata": {},
   "source": [
    "Next, we will use the `median()` method to fill in the gaps with the median value for the column."
   ]
  },
  {
   "cell_type": "code",
   "execution_count": 72,
   "metadata": {},
   "outputs": [],
   "source": [
    "#Filling gaps with the median value of the 'days_employed' column\n",
    "df['days_employed'] = df['days_employed'].fillna(df['days_employed'].median())"
   ]
  },
  {
   "cell_type": "markdown",
   "metadata": {},
   "source": [
    "Filling missing values in the `total_income` column with the `median()` method is not so suitable because monthly income can depend on many parameters. To minimize the impact of missing values on the research result, you can group data by education level and employment type, and then find the average value."
   ]
  },
  {
   "cell_type": "code",
   "execution_count": 73,
   "metadata": {},
   "outputs": [],
   "source": [
    "#Filling gaps with the average value of the 'total_income' column\n",
    "df['total_income'] = df['total_income'].fillna(df.groupby(['education','income_type'])['total_income'].transform('mean'))"
   ]
  },
  {
   "cell_type": "markdown",
   "metadata": {},
   "source": [
    "Let's check if there are still any gaps in the table."
   ]
  },
  {
   "cell_type": "code",
   "execution_count": 74,
   "metadata": {
    "scrolled": true
   },
   "outputs": [
    {
     "data": {
      "text/plain": [
       "children            0\n",
       "days_employed       0\n",
       "dob_years           0\n",
       "education           0\n",
       "education_id        0\n",
       "family_status       0\n",
       "family_status_id    0\n",
       "gender              0\n",
       "income_type         0\n",
       "debt                0\n",
       "total_income        0\n",
       "purpose             0\n",
       "dtype: int64"
      ]
     },
     "execution_count": 74,
     "metadata": {},
     "output_type": "execute_result"
    }
   ],
   "source": [
    "#Counting gaps\n",
    "df.isna().sum()"
   ]
  },
  {
   "cell_type": "markdown",
   "metadata": {},
   "source": [
    "It's a good way to fill in the gaps based on groups within our data as this way, we are pinpointing an increase in the level of dispersion."
   ]
  },
  {
   "cell_type": "markdown",
   "metadata": {},
   "source": [
    "Although we managed to fill in the gaps, we need to check the other columns for incorrect values. Perhaps there is a negative number of children in the family somewhere, or different fonts are used in different rows.\n",
    "\n",
    "To search for incorrect values in the other columns, we will use the `value_counts()` method."
   ]
  },
  {
   "cell_type": "code",
   "execution_count": 75,
   "metadata": {},
   "outputs": [
    {
     "data": {
      "text/plain": [
       " 0     14149\n",
       " 1      4818\n",
       " 2      2055\n",
       " 3       330\n",
       " 20       76\n",
       "-1        47\n",
       " 4        41\n",
       " 5         9\n",
       "Name: children, dtype: int64"
      ]
     },
     "execution_count": 75,
     "metadata": {},
     "output_type": "execute_result"
    }
   ],
   "source": [
    "#Checking for incorrect values in the 'children' column\n",
    "df['children'].value_counts()"
   ]
  },
  {
   "cell_type": "markdown",
   "metadata": {},
   "source": [
    "The table has sneaked in 47 \"negative\" children. Since 47 people out of 21525 clients make up about 0.2%, we will replace the number of these children with an absolute value by modulus."
   ]
  },
  {
   "cell_type": "code",
   "execution_count": 76,
   "metadata": {},
   "outputs": [
    {
     "data": {
      "text/plain": [
       "0     14149\n",
       "1      4865\n",
       "2      2055\n",
       "3       330\n",
       "20       76\n",
       "4        41\n",
       "5         9\n",
       "Name: children, dtype: int64"
      ]
     },
     "execution_count": 76,
     "metadata": {},
     "output_type": "execute_result"
    }
   ],
   "source": [
    "#In the function's condition, we check if the element in the 'children' column is negative,\n",
    "#then we rewrite it to the opposite\n",
    "df['children'] = df['children'].mask(df['children'] < 0, -(df['children']))\n",
    "#Checking for incorrect values in the 'children' column\n",
    "df['children'].value_counts()"
   ]
  },
  {
   "cell_type": "markdown",
   "metadata": {},
   "source": [
    "The \"negative\" children have turned into \"positive\" ones, and we can move on to processing other columns."
   ]
  },
  {
   "cell_type": "code",
   "execution_count": 77,
   "metadata": {
    "scrolled": true
   },
   "outputs": [
    {
     "data": {
      "text/plain": [
       "35    617\n",
       "40    609\n",
       "41    607\n",
       "34    603\n",
       "38    598\n",
       "42    597\n",
       "33    581\n",
       "39    573\n",
       "31    560\n",
       "36    555\n",
       "44    547\n",
       "29    545\n",
       "30    540\n",
       "48    538\n",
       "37    537\n",
       "50    514\n",
       "43    513\n",
       "32    510\n",
       "49    508\n",
       "28    503\n",
       "45    497\n",
       "27    493\n",
       "56    487\n",
       "52    484\n",
       "47    480\n",
       "54    479\n",
       "46    475\n",
       "58    461\n",
       "57    460\n",
       "53    459\n",
       "51    448\n",
       "59    444\n",
       "55    443\n",
       "26    408\n",
       "60    377\n",
       "25    357\n",
       "61    355\n",
       "62    352\n",
       "63    269\n",
       "64    265\n",
       "24    264\n",
       "23    254\n",
       "65    194\n",
       "22    183\n",
       "66    183\n",
       "67    167\n",
       "21    111\n",
       "0     101\n",
       "68     99\n",
       "69     85\n",
       "70     65\n",
       "71     58\n",
       "20     51\n",
       "72     33\n",
       "19     14\n",
       "73      8\n",
       "74      6\n",
       "75      1\n",
       "Name: dob_years, dtype: int64"
      ]
     },
     "execution_count": 77,
     "metadata": {},
     "output_type": "execute_result"
    }
   ],
   "source": [
    "#Checking for incorrect values in the 'dob_years' column\n",
    "df['dob_years'].value_counts()"
   ]
  },
  {
   "cell_type": "markdown",
   "metadata": {},
   "source": [
    "The `dob_years` column tells us that the table includes 101 clients aged 0 years. Since the values of this column will not be used in further responses to questions, we will fill them with the average value."
   ]
  },
  {
   "cell_type": "code",
   "execution_count": 78,
   "metadata": {
    "scrolled": true
   },
   "outputs": [
    {
     "data": {
      "text/plain": [
       "42.0    698\n",
       "35.0    617\n",
       "40.0    609\n",
       "41.0    607\n",
       "34.0    603\n",
       "38.0    598\n",
       "33.0    581\n",
       "39.0    573\n",
       "31.0    560\n",
       "36.0    555\n",
       "44.0    547\n",
       "29.0    545\n",
       "30.0    540\n",
       "48.0    538\n",
       "37.0    537\n",
       "50.0    514\n",
       "43.0    513\n",
       "32.0    510\n",
       "49.0    508\n",
       "28.0    503\n",
       "45.0    497\n",
       "27.0    493\n",
       "56.0    487\n",
       "52.0    484\n",
       "47.0    480\n",
       "54.0    479\n",
       "46.0    475\n",
       "58.0    461\n",
       "57.0    460\n",
       "53.0    459\n",
       "51.0    448\n",
       "59.0    444\n",
       "55.0    443\n",
       "26.0    408\n",
       "60.0    377\n",
       "25.0    357\n",
       "61.0    355\n",
       "62.0    352\n",
       "63.0    269\n",
       "64.0    265\n",
       "24.0    264\n",
       "23.0    254\n",
       "65.0    194\n",
       "22.0    183\n",
       "66.0    183\n",
       "67.0    167\n",
       "21.0    111\n",
       "68.0     99\n",
       "69.0     85\n",
       "70.0     65\n",
       "71.0     58\n",
       "20.0     51\n",
       "72.0     33\n",
       "19.0     14\n",
       "73.0      8\n",
       "74.0      6\n",
       "75.0      1\n",
       "Name: dob_years, dtype: int64"
      ]
     },
     "execution_count": 78,
     "metadata": {},
     "output_type": "execute_result"
    }
   ],
   "source": [
    "#Finding the average age value in the column\n",
    "mean_value = df['dob_years'].median()\n",
    "#We will use a lambda function with the condition \n",
    "#that if the age is less than zero, then replace \n",
    "#it with the average value\n",
    "df['dob_years'] = df.dob_years.apply(lambda i : i if i > 0 else mean_value)\n",
    "df['dob_years'].value_counts()"
   ]
  },
  {
   "cell_type": "markdown",
   "metadata": {},
   "source": [
    "The age has now become a `float` type, but this is not a problem as the conversion from float to integer type is ahead."
   ]
  },
  {
   "cell_type": "markdown",
   "metadata": {},
   "source": [
    "We check the `education` column."
   ]
  },
  {
   "cell_type": "code",
   "execution_count": 79,
   "metadata": {
    "scrolled": true
   },
   "outputs": [
    {
     "data": {
      "text/plain": [
       "average                        13750\n",
       "higher                          4718\n",
       "AVERAGE                          772\n",
       "Average                          711\n",
       "incomplete higher education      668\n",
       "HIGHER                           274\n",
       "Higher                           268\n",
       "initial                          250\n",
       "Incomplete higher education       47\n",
       "INCOMPLETE HIGHER EDUCATION       29\n",
       "INITIAL                           17\n",
       "Initial                           15\n",
       "academic degree                    4\n",
       "Academic degree                    1\n",
       "ACADEMIC DEGREE                    1\n",
       "Name: education, dtype: int64"
      ]
     },
     "execution_count": 79,
     "metadata": {},
     "output_type": "execute_result"
    }
   ],
   "source": [
    "df['education'].value_counts()"
   ]
  },
  {
   "cell_type": "markdown",
   "metadata": {},
   "source": [
    "It can be seen that different font sizes are used in some places, so we will standardize everything using the `str.lower()` method."
   ]
  },
  {
   "cell_type": "code",
   "execution_count": 80,
   "metadata": {
    "scrolled": true
   },
   "outputs": [
    {
     "data": {
      "text/plain": [
       "average                        15233\n",
       "higher                          5260\n",
       "incomplete higher education      744\n",
       "initial                          282\n",
       "academic degree                    6\n",
       "Name: education, dtype: int64"
      ]
     },
     "execution_count": 80,
     "metadata": {},
     "output_type": "execute_result"
    }
   ],
   "source": [
    "#Checking for incorrect values in the 'education' column\n",
    "df['education'] = df['education'].str.lower()\n",
    "df['education'].value_counts()"
   ]
  },
  {
   "cell_type": "code",
   "execution_count": 81,
   "metadata": {},
   "outputs": [
    {
     "data": {
      "text/plain": [
       "1    15233\n",
       "0     5260\n",
       "2      744\n",
       "3      282\n",
       "4        6\n",
       "Name: education_id, dtype: int64"
      ]
     },
     "execution_count": 81,
     "metadata": {},
     "output_type": "execute_result"
    }
   ],
   "source": [
    "#Checking for incorrect values in the 'education_id' column\n",
    "df['education_id'].value_counts()"
   ]
  },
  {
   "cell_type": "code",
   "execution_count": 82,
   "metadata": {},
   "outputs": [
    {
     "data": {
      "text/plain": [
       "married               12380\n",
       "civil marriage         4177\n",
       "Single/not married     2813\n",
       "divorced               1195\n",
       "widower/widow           960\n",
       "Name: family_status, dtype: int64"
      ]
     },
     "execution_count": 82,
     "metadata": {},
     "output_type": "execute_result"
    }
   ],
   "source": [
    "#Checking for incorrect values in the 'family_status' column\n",
    "df['family_status'].value_counts()"
   ]
  },
  {
   "cell_type": "markdown",
   "metadata": {},
   "source": [
    "In the `family_status` column, we also standardize everything to one font size using the `str.lower()` method."
   ]
  },
  {
   "cell_type": "code",
   "execution_count": 83,
   "metadata": {},
   "outputs": [
    {
     "data": {
      "text/plain": [
       "married               12380\n",
       "civil marriage         4177\n",
       "single/not married     2813\n",
       "divorced               1195\n",
       "widower/widow           960\n",
       "Name: family_status, dtype: int64"
      ]
     },
     "execution_count": 83,
     "metadata": {},
     "output_type": "execute_result"
    }
   ],
   "source": [
    "#Standardizing all fonts to one size\n",
    "df['family_status'] = df['family_status'].str.lower()\n",
    "df['family_status'].value_counts()"
   ]
  },
  {
   "cell_type": "code",
   "execution_count": 84,
   "metadata": {},
   "outputs": [
    {
     "data": {
      "text/plain": [
       "0    12380\n",
       "1     4177\n",
       "4     2813\n",
       "3     1195\n",
       "2      960\n",
       "Name: family_status_id, dtype: int64"
      ]
     },
     "execution_count": 84,
     "metadata": {},
     "output_type": "execute_result"
    }
   ],
   "source": [
    "#Checking for incorrect values in the 'family_status_id' column\n",
    "df['family_status_id'].value_counts()"
   ]
  },
  {
   "cell_type": "code",
   "execution_count": 85,
   "metadata": {},
   "outputs": [
    {
     "data": {
      "text/plain": [
       "F      14236\n",
       "M       7288\n",
       "XNA        1\n",
       "Name: gender, dtype: int64"
      ]
     },
     "execution_count": 85,
     "metadata": {},
     "output_type": "execute_result"
    }
   ],
   "source": [
    "#Checking for incorrect values in the 'gender' column\n",
    "df['gender'].value_counts()"
   ]
  },
  {
   "cell_type": "code",
   "execution_count": 86,
   "metadata": {},
   "outputs": [
    {
     "data": {
      "text/plain": [
       "employee              11119\n",
       "companion              5085\n",
       "pensioner              3856\n",
       "civil servant          1459\n",
       "unemployed                2\n",
       "entrepreneur              2\n",
       "a student                 1\n",
       "on maternity leave        1\n",
       "Name: income_type, dtype: int64"
      ]
     },
     "execution_count": 86,
     "metadata": {},
     "output_type": "execute_result"
    }
   ],
   "source": [
    "#Checking for incorrect values in the 'income_type' column\n",
    "df['income_type'].value_counts()"
   ]
  },
  {
   "cell_type": "code",
   "execution_count": 87,
   "metadata": {},
   "outputs": [
    {
     "data": {
      "text/plain": [
       "0    19784\n",
       "1     1741\n",
       "Name: debt, dtype: int64"
      ]
     },
     "execution_count": 87,
     "metadata": {},
     "output_type": "execute_result"
    }
   ],
   "source": [
    "#Checking for incorrect values in the 'debt' column\n",
    "df['debt'].value_counts()"
   ]
  },
  {
   "cell_type": "code",
   "execution_count": 88,
   "metadata": {
    "scrolled": true
   },
   "outputs": [
    {
     "data": {
      "text/plain": [
       "children            0\n",
       "days_employed       0\n",
       "dob_years           0\n",
       "education           0\n",
       "education_id        0\n",
       "family_status       0\n",
       "family_status_id    0\n",
       "gender              0\n",
       "income_type         0\n",
       "debt                0\n",
       "total_income        0\n",
       "purpose             0\n",
       "dtype: int64"
      ]
     },
     "execution_count": 88,
     "metadata": {},
     "output_type": "execute_result"
    }
   ],
   "source": [
    "#Checking for incorrect values in the 'total_income' column - income cannot be negative\n",
    "df[df['total_income'] <0].count()"
   ]
  },
  {
   "cell_type": "code",
   "execution_count": 89,
   "metadata": {
    "scrolled": true
   },
   "outputs": [
    {
     "data": {
      "text/plain": [
       "wedding                                 797\n",
       "for a wedding                           777\n",
       "get married                             774\n",
       "real estate transactions                676\n",
       "purchase of commercial real estate      664\n",
       "housing transactions                    653\n",
       "buying a rental property                653\n",
       "commercial real estate transactions     651\n",
       "home purchase                           647\n",
       "housing                                 647\n",
       "buying a home for a family              641\n",
       "construction of your own real estate    635\n",
       "real estate                             634\n",
       "residential real estate construction    626\n",
       "buying a property                       624\n",
       "real estate construction                620\n",
       "buying your own home                    620\n",
       "home renovation                         612\n",
       "purchase of residential property        607\n",
       "operations with your real estate        535\n",
       "to buy your car                         505\n",
       "pursue higher education                 496\n",
       "automobile                              495\n",
       "used car deal                           489\n",
       "your car                                480\n",
       "to buy a used car                       479\n",
       "cars                                    478\n",
       "to buy a car                            472\n",
       "additional education                    462\n",
       "purchasing a car                        462\n",
       "car deal                                455\n",
       "higher education                        453\n",
       "obtaining additional education          447\n",
       "education                               447\n",
       "getting an education                    443\n",
       "specialized education                   436\n",
       "obtaining higher education              426\n",
       "engage in education                     412\n",
       "transactions with your real estate       95\n",
       "Name: purpose, dtype: int64"
      ]
     },
     "execution_count": 89,
     "metadata": {},
     "output_type": "execute_result"
    }
   ],
   "source": [
    "#Checking for incorrect values in the 'purpose' column\n",
    "df['purpose'].value_counts()"
   ]
  },
  {
   "cell_type": "markdown",
   "metadata": {},
   "source": [
    "**Conclusion**\n",
    "\n",
    "The only columns with missing data were `days_employed` and `total_income`. While the first column's missing values could be filled with obvious ones, the second has the risk that such filling can significantly affect analysis results and distort real outcomes. To minimize this risk, it was decided to group the data by education level and type of activity and find the average value.\n",
    "\n",
    "Also, the following columns were processed:\n",
    "\n",
    "* in the `children` column, 47 \"negative\" children were identified and taken by modulus;\n",
    "* in the `dob_years` column, 101 people were found to be 0 years old. Since the values of this column will not be used in further conclusions, we simply replaced them with the average value for the column;\n",
    "* in the `education` and `family_status` columns, there were differences in font sizes, so all entries were standardized to a single size;\n",
    "\n",
    "There were no discrepancies in the remaining columns, so we can move on to the next stage of data processing."
   ]
  },
  {
   "cell_type": "markdown",
   "metadata": {},
   "source": [
    "###  Data Type Replacement"
   ]
  },
  {
   "cell_type": "markdown",
   "metadata": {},
   "source": [
    "Let's look at the information about the table as a whole because there could have been changes after processing the gaps."
   ]
  },
  {
   "cell_type": "code",
   "execution_count": 90,
   "metadata": {},
   "outputs": [
    {
     "name": "stdout",
     "output_type": "stream",
     "text": [
      "<class 'pandas.core.frame.DataFrame'>\n",
      "RangeIndex: 21525 entries, 0 to 21524\n",
      "Data columns (total 12 columns):\n",
      " #   Column            Non-Null Count  Dtype  \n",
      "---  ------            --------------  -----  \n",
      " 0   children          21525 non-null  int64  \n",
      " 1   days_employed     21525 non-null  float64\n",
      " 2   dob_years         21525 non-null  float64\n",
      " 3   education         21525 non-null  object \n",
      " 4   education_id      21525 non-null  int64  \n",
      " 5   family_status     21525 non-null  object \n",
      " 6   family_status_id  21525 non-null  int64  \n",
      " 7   gender            21525 non-null  object \n",
      " 8   income_type       21525 non-null  object \n",
      " 9   debt              21525 non-null  int64  \n",
      " 10  total_income      21525 non-null  float64\n",
      " 11  purpose           21525 non-null  object \n",
      "dtypes: float64(3), int64(4), object(5)\n",
      "memory usage: 2.0+ MB\n"
     ]
    }
   ],
   "source": [
    "df.info()"
   ]
  },
  {
   "cell_type": "markdown",
   "metadata": {},
   "source": [
    "Indeed, instead of two data types `float64`, now there are 3. To replace the floating-point data type with an integer, we will use the `astype()` function and call the table information again."
   ]
  },
  {
   "cell_type": "code",
   "execution_count": 91,
   "metadata": {
    "scrolled": true
   },
   "outputs": [
    {
     "name": "stdout",
     "output_type": "stream",
     "text": [
      "<class 'pandas.core.frame.DataFrame'>\n",
      "RangeIndex: 21525 entries, 0 to 21524\n",
      "Data columns (total 12 columns):\n",
      " #   Column            Non-Null Count  Dtype \n",
      "---  ------            --------------  ----- \n",
      " 0   children          21525 non-null  int64 \n",
      " 1   days_employed     21525 non-null  int64 \n",
      " 2   dob_years         21525 non-null  int64 \n",
      " 3   education         21525 non-null  object\n",
      " 4   education_id      21525 non-null  int64 \n",
      " 5   family_status     21525 non-null  object\n",
      " 6   family_status_id  21525 non-null  int64 \n",
      " 7   gender            21525 non-null  object\n",
      " 8   income_type       21525 non-null  object\n",
      " 9   debt              21525 non-null  int64 \n",
      " 10  total_income      21525 non-null  int64 \n",
      " 11  purpose           21525 non-null  object\n",
      "dtypes: int64(7), object(5)\n",
      "memory usage: 2.0+ MB\n"
     ]
    }
   ],
   "source": [
    "#Function to convert floating-point values to integers\n",
    "def convert_to_int (value):\n",
    "    df[value] = df[value].astype('int')\n",
    "convert_to_int('days_employed')\n",
    "convert_to_int('dob_years')\n",
    "convert_to_int('total_income')\n",
    "df.info()"
   ]
  },
  {
   "cell_type": "markdown",
   "metadata": {},
   "source": [
    "**Вывод**\n",
    "\n",
    "Conclusion:\n",
    "After converting floating-point values to integers, we are left with 7 parameters of type `int64` and 5 parameters of type `object`."
   ]
  },
  {
   "cell_type": "markdown",
   "metadata": {},
   "source": [
    "<div class=\"alert alert-success\">\n",
    "\n",
    "We can also apply the `fillna` and `astype` methods to multiple columns at the same time.\n",
    "\n",
    "If there are more than 2 columns, it's recommended to use a `for` loop.\n",
    "\n",
    "Example:\n",
    "    \n",
    "`df.astype({ \"col1\": \"float64\", \"col2\": \"int64\"})`\n",
    "    \n",
    "</div>"
   ]
  },
  {
   "cell_type": "markdown",
   "metadata": {},
   "source": [
    "```python\n",
    "\n",
    "columns = [col1, col2, col3]\n",
    "\n",
    "for i in columns:\n",
    "    df[i] = df[i].fillna(0)\n",
    "\n",
    "```"
   ]
  },
  {
   "cell_type": "markdown",
   "metadata": {},
   "source": [
    "###  Duplicate Processing"
   ]
  },
  {
   "cell_type": "markdown",
   "metadata": {},
   "source": [
    "First, let's count the number of explicit duplicates."
   ]
  },
  {
   "cell_type": "code",
   "execution_count": 92,
   "metadata": {},
   "outputs": [
    {
     "data": {
      "text/plain": [
       "53"
      ]
     },
     "execution_count": 92,
     "metadata": {},
     "output_type": "execute_result"
    }
   ],
   "source": [
    "#Counting explicit duplicates\n",
    "df.duplicated().sum()"
   ]
  },
  {
   "cell_type": "markdown",
   "metadata": {},
   "source": [
    "Let's delete the duplicates and count their number in the table again."
   ]
  },
  {
   "cell_type": "code",
   "execution_count": 93,
   "metadata": {},
   "outputs": [
    {
     "data": {
      "text/plain": [
       "0"
      ]
     },
     "execution_count": 93,
     "metadata": {},
     "output_type": "execute_result"
    }
   ],
   "source": [
    "# Removing explicit duplicates (with old indexes removed and new ones formed)\n",
    "df = df.drop_duplicates().reset_index(drop=True)\n",
    "# Check for no duplicates\n",
    "df.duplicated().sum()"
   ]
  },
  {
   "cell_type": "markdown",
   "metadata": {},
   "source": [
    "Now let's look for implicit duplicates in the `purpose` column."
   ]
  },
  {
   "cell_type": "code",
   "execution_count": 94,
   "metadata": {
    "scrolled": true
   },
   "outputs": [
    {
     "data": {
      "text/plain": [
       "array(['additional education', 'automobile', 'buying a home for a family',\n",
       "       'buying a property', 'buying a rental property',\n",
       "       'buying your own home', 'car deal', 'cars',\n",
       "       'commercial real estate transactions',\n",
       "       'construction of your own real estate', 'education',\n",
       "       'engage in education', 'for a wedding', 'get married',\n",
       "       'getting an education', 'higher education', 'home purchase',\n",
       "       'home renovation', 'housing', 'housing transactions',\n",
       "       'obtaining additional education', 'obtaining higher education',\n",
       "       'operations with your real estate',\n",
       "       'purchase of commercial real estate',\n",
       "       'purchase of residential property', 'purchasing a car',\n",
       "       'pursue higher education', 'real estate',\n",
       "       'real estate construction', 'real estate transactions',\n",
       "       'residential real estate construction', 'specialized education',\n",
       "       'to buy a car', 'to buy a used car', 'to buy your car',\n",
       "       'transactions with your real estate', 'used car deal', 'wedding',\n",
       "       'your car'], dtype=object)"
      ]
     },
     "execution_count": 94,
     "metadata": {},
     "output_type": "execute_result"
    }
   ],
   "source": [
    "# Searching for implicit duplicates\n",
    "purpose_column = df['purpose'].sort_values().unique()\n",
    "purpose_column"
   ]
  },
  {
   "cell_type": "markdown",
   "metadata": {},
   "source": [
    "**Conclusion:**\n",
    "\n",
    "1. Explicit duplicates were removed with the deletion of old indexes and the appearance of new ones. The appearance of duplicates can be justified by an error in data unloading or human factor.\n",
    "\n",
    "2. According to the table, you can identify 4 main purposes of getting a loan:\n",
    "\n",
    "* `Real Estate`;\n",
    "* `Automobiles`;\n",
    "* `Education`;\n",
    "* `Weddings`.\n",
    "\n",
    "We can replace all positions using `replace()`, but listing all duplicates can take a lot of time. Everyone forms their goals differently, as there is no single rule for writing credit goals. Therefore, it's better to leave them as they are and process them through lemmatization."
   ]
  },
  {
   "cell_type": "markdown",
   "metadata": {},
   "source": [
    "### Lemmatization"
   ]
  },
  {
   "cell_type": "markdown",
   "metadata": {},
   "source": [
    "We will identify the lemmas in the values of the column with the purposes of obtaining credit."
   ]
  },
  {
   "cell_type": "code",
   "execution_count": 62,
   "metadata": {},
   "outputs": [
    {
     "name": "stdout",
     "output_type": "stream",
     "text": [
      "Requirement already satisfied: nltk in /Users/ivanmakarov/opt/anaconda3/lib/python3.9/site-packages (3.6.5)\n",
      "Requirement already satisfied: click in /Users/ivanmakarov/opt/anaconda3/lib/python3.9/site-packages (from nltk) (8.0.3)\n",
      "Requirement already satisfied: joblib in /Users/ivanmakarov/opt/anaconda3/lib/python3.9/site-packages (from nltk) (1.2.0)\n",
      "Requirement already satisfied: regex>=2021.8.3 in /Users/ivanmakarov/opt/anaconda3/lib/python3.9/site-packages (from nltk) (2021.8.3)\n",
      "Requirement already satisfied: tqdm in /Users/ivanmakarov/opt/anaconda3/lib/python3.9/site-packages (from nltk) (4.62.3)\n",
      "\u001b[33mDEPRECATION: pyodbc 4.0.0-unsupported has a non-standard version number. pip 23.3 will enforce this behaviour change. A possible replacement is to upgrade to a newer version of pyodbc or contact the author to suggest that they release a version with a conforming version number. Discussion can be found at https://github.com/pypa/pip/issues/12063\u001b[0m\u001b[33m\n",
      "\u001b[0m\n",
      "\u001b[1m[\u001b[0m\u001b[34;49mnotice\u001b[0m\u001b[1;39;49m]\u001b[0m\u001b[39;49m A new release of pip is available: \u001b[0m\u001b[31;49m23.2.1\u001b[0m\u001b[39;49m -> \u001b[0m\u001b[32;49m23.3\u001b[0m\n",
      "\u001b[1m[\u001b[0m\u001b[34;49mnotice\u001b[0m\u001b[1;39;49m]\u001b[0m\u001b[39;49m To update, run: \u001b[0m\u001b[32;49mpip install --upgrade pip\u001b[0m\n"
     ]
    }
   ],
   "source": []
  },
  {
   "cell_type": "code",
   "execution_count": 96,
   "metadata": {
    "scrolled": true
   },
   "outputs": [
    {
     "name": "stderr",
     "output_type": "stream",
     "text": [
      "[nltk_data] Downloading package wordnet to\n",
      "[nltk_data]     /Users/ivanmakarov/nltk_data...\n",
      "[nltk_data]   Package wordnet is already up-to-date!\n"
     ]
    },
    {
     "data": {
      "text/html": [
       "<div>\n",
       "<style scoped>\n",
       "    .dataframe tbody tr th:only-of-type {\n",
       "        vertical-align: middle;\n",
       "    }\n",
       "\n",
       "    .dataframe tbody tr th {\n",
       "        vertical-align: top;\n",
       "    }\n",
       "\n",
       "    .dataframe thead th {\n",
       "        text-align: right;\n",
       "    }\n",
       "</style>\n",
       "<table border=\"1\" class=\"dataframe\">\n",
       "  <thead>\n",
       "    <tr style=\"text-align: right;\">\n",
       "      <th></th>\n",
       "      <th>children</th>\n",
       "      <th>days_employed</th>\n",
       "      <th>dob_years</th>\n",
       "      <th>education</th>\n",
       "      <th>education_id</th>\n",
       "      <th>family_status</th>\n",
       "      <th>family_status_id</th>\n",
       "      <th>gender</th>\n",
       "      <th>income_type</th>\n",
       "      <th>debt</th>\n",
       "      <th>total_income</th>\n",
       "      <th>purpose</th>\n",
       "      <th>lemmas</th>\n",
       "    </tr>\n",
       "  </thead>\n",
       "  <tbody>\n",
       "    <tr>\n",
       "      <th>0</th>\n",
       "      <td>1</td>\n",
       "      <td>8437</td>\n",
       "      <td>42</td>\n",
       "      <td>higher</td>\n",
       "      <td>0</td>\n",
       "      <td>married</td>\n",
       "      <td>0</td>\n",
       "      <td>F</td>\n",
       "      <td>employee</td>\n",
       "      <td>0</td>\n",
       "      <td>253875</td>\n",
       "      <td>home purchase</td>\n",
       "      <td>home purchase</td>\n",
       "    </tr>\n",
       "    <tr>\n",
       "      <th>1</th>\n",
       "      <td>1</td>\n",
       "      <td>4024</td>\n",
       "      <td>36</td>\n",
       "      <td>average</td>\n",
       "      <td>1</td>\n",
       "      <td>married</td>\n",
       "      <td>0</td>\n",
       "      <td>F</td>\n",
       "      <td>employee</td>\n",
       "      <td>0</td>\n",
       "      <td>112080</td>\n",
       "      <td>purchasing a car</td>\n",
       "      <td>purchase a car</td>\n",
       "    </tr>\n",
       "    <tr>\n",
       "      <th>2</th>\n",
       "      <td>0</td>\n",
       "      <td>5623</td>\n",
       "      <td>33</td>\n",
       "      <td>average</td>\n",
       "      <td>1</td>\n",
       "      <td>married</td>\n",
       "      <td>0</td>\n",
       "      <td>M</td>\n",
       "      <td>employee</td>\n",
       "      <td>0</td>\n",
       "      <td>145885</td>\n",
       "      <td>home purchase</td>\n",
       "      <td>home purchase</td>\n",
       "    </tr>\n",
       "    <tr>\n",
       "      <th>3</th>\n",
       "      <td>3</td>\n",
       "      <td>4124</td>\n",
       "      <td>32</td>\n",
       "      <td>average</td>\n",
       "      <td>1</td>\n",
       "      <td>married</td>\n",
       "      <td>0</td>\n",
       "      <td>M</td>\n",
       "      <td>employee</td>\n",
       "      <td>0</td>\n",
       "      <td>267628</td>\n",
       "      <td>additional education</td>\n",
       "      <td>additional education</td>\n",
       "    </tr>\n",
       "    <tr>\n",
       "      <th>4</th>\n",
       "      <td>0</td>\n",
       "      <td>340266</td>\n",
       "      <td>53</td>\n",
       "      <td>average</td>\n",
       "      <td>1</td>\n",
       "      <td>civil marriage</td>\n",
       "      <td>1</td>\n",
       "      <td>F</td>\n",
       "      <td>pensioner</td>\n",
       "      <td>0</td>\n",
       "      <td>158616</td>\n",
       "      <td>get married</td>\n",
       "      <td>get married</td>\n",
       "    </tr>\n",
       "    <tr>\n",
       "      <th>5</th>\n",
       "      <td>0</td>\n",
       "      <td>926</td>\n",
       "      <td>27</td>\n",
       "      <td>higher</td>\n",
       "      <td>0</td>\n",
       "      <td>civil marriage</td>\n",
       "      <td>1</td>\n",
       "      <td>M</td>\n",
       "      <td>companion</td>\n",
       "      <td>0</td>\n",
       "      <td>255763</td>\n",
       "      <td>home purchase</td>\n",
       "      <td>home purchase</td>\n",
       "    </tr>\n",
       "    <tr>\n",
       "      <th>6</th>\n",
       "      <td>0</td>\n",
       "      <td>2879</td>\n",
       "      <td>43</td>\n",
       "      <td>higher</td>\n",
       "      <td>0</td>\n",
       "      <td>married</td>\n",
       "      <td>0</td>\n",
       "      <td>F</td>\n",
       "      <td>companion</td>\n",
       "      <td>0</td>\n",
       "      <td>240525</td>\n",
       "      <td>housing transactions</td>\n",
       "      <td>housing transaction</td>\n",
       "    </tr>\n",
       "    <tr>\n",
       "      <th>7</th>\n",
       "      <td>0</td>\n",
       "      <td>152</td>\n",
       "      <td>50</td>\n",
       "      <td>average</td>\n",
       "      <td>1</td>\n",
       "      <td>married</td>\n",
       "      <td>0</td>\n",
       "      <td>M</td>\n",
       "      <td>employee</td>\n",
       "      <td>0</td>\n",
       "      <td>135823</td>\n",
       "      <td>education</td>\n",
       "      <td>education</td>\n",
       "    </tr>\n",
       "    <tr>\n",
       "      <th>8</th>\n",
       "      <td>2</td>\n",
       "      <td>6929</td>\n",
       "      <td>35</td>\n",
       "      <td>higher</td>\n",
       "      <td>0</td>\n",
       "      <td>civil marriage</td>\n",
       "      <td>1</td>\n",
       "      <td>F</td>\n",
       "      <td>employee</td>\n",
       "      <td>0</td>\n",
       "      <td>95856</td>\n",
       "      <td>for a wedding</td>\n",
       "      <td>for a wedding</td>\n",
       "    </tr>\n",
       "    <tr>\n",
       "      <th>9</th>\n",
       "      <td>0</td>\n",
       "      <td>2188</td>\n",
       "      <td>41</td>\n",
       "      <td>average</td>\n",
       "      <td>1</td>\n",
       "      <td>married</td>\n",
       "      <td>0</td>\n",
       "      <td>M</td>\n",
       "      <td>employee</td>\n",
       "      <td>0</td>\n",
       "      <td>144425</td>\n",
       "      <td>buying a home for a family</td>\n",
       "      <td>buy a home for a family</td>\n",
       "    </tr>\n",
       "    <tr>\n",
       "      <th>10</th>\n",
       "      <td>2</td>\n",
       "      <td>4171</td>\n",
       "      <td>36</td>\n",
       "      <td>higher</td>\n",
       "      <td>0</td>\n",
       "      <td>married</td>\n",
       "      <td>0</td>\n",
       "      <td>M</td>\n",
       "      <td>companion</td>\n",
       "      <td>0</td>\n",
       "      <td>113943</td>\n",
       "      <td>buying a property</td>\n",
       "      <td>buy a property</td>\n",
       "    </tr>\n",
       "    <tr>\n",
       "      <th>11</th>\n",
       "      <td>0</td>\n",
       "      <td>792</td>\n",
       "      <td>40</td>\n",
       "      <td>average</td>\n",
       "      <td>1</td>\n",
       "      <td>married</td>\n",
       "      <td>0</td>\n",
       "      <td>F</td>\n",
       "      <td>employee</td>\n",
       "      <td>0</td>\n",
       "      <td>77069</td>\n",
       "      <td>purchase of commercial real estate</td>\n",
       "      <td>purchase of commercial real estate</td>\n",
       "    </tr>\n",
       "    <tr>\n",
       "      <th>12</th>\n",
       "      <td>0</td>\n",
       "      <td>2194</td>\n",
       "      <td>65</td>\n",
       "      <td>average</td>\n",
       "      <td>1</td>\n",
       "      <td>civil marriage</td>\n",
       "      <td>1</td>\n",
       "      <td>M</td>\n",
       "      <td>pensioner</td>\n",
       "      <td>0</td>\n",
       "      <td>130999</td>\n",
       "      <td>get married</td>\n",
       "      <td>get married</td>\n",
       "    </tr>\n",
       "    <tr>\n",
       "      <th>13</th>\n",
       "      <td>0</td>\n",
       "      <td>1846</td>\n",
       "      <td>54</td>\n",
       "      <td>incomplete higher education</td>\n",
       "      <td>2</td>\n",
       "      <td>married</td>\n",
       "      <td>0</td>\n",
       "      <td>F</td>\n",
       "      <td>employee</td>\n",
       "      <td>0</td>\n",
       "      <td>130458</td>\n",
       "      <td>purchasing a car</td>\n",
       "      <td>purchase a car</td>\n",
       "    </tr>\n",
       "    <tr>\n",
       "      <th>14</th>\n",
       "      <td>0</td>\n",
       "      <td>1844</td>\n",
       "      <td>56</td>\n",
       "      <td>higher</td>\n",
       "      <td>0</td>\n",
       "      <td>civil marriage</td>\n",
       "      <td>1</td>\n",
       "      <td>F</td>\n",
       "      <td>companion</td>\n",
       "      <td>1</td>\n",
       "      <td>165127</td>\n",
       "      <td>purchase of residential property</td>\n",
       "      <td>purchase of residential property</td>\n",
       "    </tr>\n",
       "  </tbody>\n",
       "</table>\n",
       "</div>"
      ],
      "text/plain": [
       "    children  days_employed  dob_years                    education  \\\n",
       "0          1           8437         42                       higher   \n",
       "1          1           4024         36                      average   \n",
       "2          0           5623         33                      average   \n",
       "3          3           4124         32                      average   \n",
       "4          0         340266         53                      average   \n",
       "5          0            926         27                       higher   \n",
       "6          0           2879         43                       higher   \n",
       "7          0            152         50                      average   \n",
       "8          2           6929         35                       higher   \n",
       "9          0           2188         41                      average   \n",
       "10         2           4171         36                       higher   \n",
       "11         0            792         40                      average   \n",
       "12         0           2194         65                      average   \n",
       "13         0           1846         54  incomplete higher education   \n",
       "14         0           1844         56                       higher   \n",
       "\n",
       "    education_id   family_status  family_status_id gender income_type  debt  \\\n",
       "0              0         married                 0      F    employee     0   \n",
       "1              1         married                 0      F    employee     0   \n",
       "2              1         married                 0      M    employee     0   \n",
       "3              1         married                 0      M    employee     0   \n",
       "4              1  civil marriage                 1      F   pensioner     0   \n",
       "5              0  civil marriage                 1      M   companion     0   \n",
       "6              0         married                 0      F   companion     0   \n",
       "7              1         married                 0      M    employee     0   \n",
       "8              0  civil marriage                 1      F    employee     0   \n",
       "9              1         married                 0      M    employee     0   \n",
       "10             0         married                 0      M   companion     0   \n",
       "11             1         married                 0      F    employee     0   \n",
       "12             1  civil marriage                 1      M   pensioner     0   \n",
       "13             2         married                 0      F    employee     0   \n",
       "14             0  civil marriage                 1      F   companion     1   \n",
       "\n",
       "    total_income                             purpose  \\\n",
       "0         253875                       home purchase   \n",
       "1         112080                    purchasing a car   \n",
       "2         145885                       home purchase   \n",
       "3         267628                additional education   \n",
       "4         158616                         get married   \n",
       "5         255763                       home purchase   \n",
       "6         240525                housing transactions   \n",
       "7         135823                           education   \n",
       "8          95856                       for a wedding   \n",
       "9         144425          buying a home for a family   \n",
       "10        113943                   buying a property   \n",
       "11         77069  purchase of commercial real estate   \n",
       "12        130999                         get married   \n",
       "13        130458                    purchasing a car   \n",
       "14        165127    purchase of residential property   \n",
       "\n",
       "                                lemmas  \n",
       "0                        home purchase  \n",
       "1                       purchase a car  \n",
       "2                        home purchase  \n",
       "3                 additional education  \n",
       "4                          get married  \n",
       "5                        home purchase  \n",
       "6                  housing transaction  \n",
       "7                            education  \n",
       "8                        for a wedding  \n",
       "9              buy a home for a family  \n",
       "10                      buy a property  \n",
       "11  purchase of commercial real estate  \n",
       "12                         get married  \n",
       "13                      purchase a car  \n",
       "14    purchase of residential property  "
      ]
     },
     "metadata": {},
     "output_type": "display_data"
    }
   ],
   "source": [
    "\n",
    "\n",
    "# Initialize the lemmatizer\n",
    "lemmatizer = WordNetLemmatizer()\n",
    "\n",
    "# Function to convert a part of speech tag into a wordnet tag\n",
    "def get_wordnet_pos(tag):\n",
    "    if tag.startswith('J'):\n",
    "        return wordnet.ADJ\n",
    "    elif tag.startswith('V'):\n",
    "        return wordnet.VERB\n",
    "    elif tag.startswith('N'):\n",
    "        return wordnet.NOUN\n",
    "    elif tag.startswith('R'):\n",
    "        return wordnet.ADV\n",
    "    else:\n",
    "        return wordnet.NOUN\n",
    "\n",
    "# Lemmatize each purpose description\n",
    "for i in range(df.shape[0]):\n",
    "    # Tokenize the sentence into words and part-of-speech tag each word\n",
    "    tokens = nltk.pos_tag(nltk.word_tokenize(df['purpose'][i]))\n",
    "    # Lemmatize each word with the appropriate POS tag\n",
    "    lemmas = [\n",
    "        lemmatizer.lemmatize(word, get_wordnet_pos(tag)) for word, tag in tokens\n",
    "    ]\n",
    "    # Save the list of lemmas back as a string\n",
    "    df.loc[i, 'lemmas'] = ' '.join(lemmas)\n",
    "\n",
    "# Display the data\n",
    "display(df.head(15))\n"
   ]
  },
  {
   "cell_type": "markdown",
   "metadata": {},
   "source": [
    "Let's identify the most common lemmas for creating \"dictionaries.\""
   ]
  },
  {
   "cell_type": "code",
   "execution_count": 98,
   "metadata": {},
   "outputs": [
    {
     "data": {
      "text/plain": [
       "[(' ', 79),\n",
       " (\"' '\", 24),\n",
       " (\"'\\n\", 14),\n",
       " (\" '\", 14),\n",
       " ('education', 9),\n",
       " ('real', 9),\n",
       " ('estate', 9),\n",
       " ('a', 8),\n",
       " ('car', 8),\n",
       " ('buy', 7),\n",
       " ('your', 6),\n",
       " ('home', 4),\n",
       " ('purchase', 4),\n",
       " ('transaction', 4),\n",
       " ('property', 3),\n",
       " ('of', 3),\n",
       " ('construction', 3),\n",
       " ('to', 3),\n",
       " ('high', 3),\n",
       " ('additional', 2),\n",
       " ('get', 2),\n",
       " ('housing', 2),\n",
       " ('for', 2),\n",
       " ('wedding', 2),\n",
       " ('commercial', 2),\n",
       " ('residential', 2),\n",
       " ('own', 2),\n",
       " ('used', 2),\n",
       " ('with', 2),\n",
       " ('deal', 2),\n",
       " ('obtain', 2),\n",
       " (\"['\", 1),\n",
       " ('married', 1),\n",
       " ('family', 1),\n",
       " ('operation', 1),\n",
       " ('engage', 1),\n",
       " ('in', 1),\n",
       " ('an', 1),\n",
       " ('automobile', 1),\n",
       " ('specialized', 1),\n",
       " ('rental', 1),\n",
       " ('renovation', 1),\n",
       " ('pursue', 1),\n",
       " (\"']\\n\", 1)]"
      ]
     },
     "execution_count": 98,
     "metadata": {},
     "output_type": "execute_result"
    }
   ],
   "source": [
    "#Creating a variable common_lemmas, where unique values from\n",
    "#the 'lemmas' column are stored, converted into a string, \n",
    "#and then the most frequent words are counted\n",
    "common_lemmas = Counter(m.lemmatize(str(df['lemmas'].unique()))).most_common()\n",
    "common_lemmas"
   ]
  },
  {
   "cell_type": "markdown",
   "metadata": {},
   "source": [
    "**Conclusion**\n",
    "\n",
    "Our hypothesis in the section searching for implicit duplicates was confirmed; the most popular lemmas are:\n",
    "\n",
    "* real estate/housing\n",
    "* car\n",
    "* education\n",
    "* as well as weddings and renovations, although they are few in the list of unique values: if we sample all values, the credit goals related to weddings and renovations will not be in the last place."
   ]
  },
  {
   "cell_type": "markdown",
   "metadata": {},
   "source": [
    "### Data Categorization"
   ]
  },
  {
   "cell_type": "markdown",
   "metadata": {},
   "source": [
    "Since the main task is to find answers to questions related to parameters such as:\n",
    "\n",
    "* the presence of children;\n",
    "* marital status;\n",
    "* income level;\n",
    "* purpose of the loan,\n",
    "\n",
    "it's necessary to categorize these data.\n",
    "\n",
    "Marital status and the presence of children don't have many unique values, so they can easily be summarized in a table. However, income level and loan purposes need to be categorized due to the large number of values."
   ]
  },
  {
   "cell_type": "markdown",
   "metadata": {},
   "source": [
    "To categorize the `total_income` column, we need to find the maximum and minimum income in the column and then divide them into conditional groups for clarity."
   ]
  },
  {
   "cell_type": "code",
   "execution_count": 99,
   "metadata": {},
   "outputs": [
    {
     "data": {
      "text/plain": [
       "children                          0\n",
       "days_employed                  1477\n",
       "dob_years                        44\n",
       "education                    higher\n",
       "education_id                      0\n",
       "family_status               married\n",
       "family_status_id                  0\n",
       "gender                            M\n",
       "income_type               companion\n",
       "debt                              0\n",
       "total_income                2265604\n",
       "purpose             home renovation\n",
       "lemmas              home renovation\n",
       "Name: 12397, dtype: object"
      ]
     },
     "execution_count": 99,
     "metadata": {},
     "output_type": "execute_result"
    }
   ],
   "source": [
    "# Finding the maximum income\n",
    "df.loc[df['total_income'].idxmax()]"
   ]
  },
  {
   "cell_type": "code",
   "execution_count": 100,
   "metadata": {},
   "outputs": [
    {
     "data": {
      "text/plain": [
       "children                      0\n",
       "days_employed            359219\n",
       "dob_years                    57\n",
       "education               average\n",
       "education_id                  1\n",
       "family_status           married\n",
       "family_status_id              0\n",
       "gender                        F\n",
       "income_type           pensioner\n",
       "debt                          1\n",
       "total_income              20667\n",
       "purpose             real estate\n",
       "lemmas              real estate\n",
       "Name: 14563, dtype: object"
      ]
     },
     "execution_count": 100,
     "metadata": {},
     "output_type": "execute_result"
    }
   ],
   "source": [
    "#Finding the minimum income\n",
    "df.loc[df['total_income'].idxmin()]"
   ]
  },
  {
   "cell_type": "markdown",
   "metadata": {},
   "source": [
    "The range of values is approximately `2,000,000` units, so we'll divide incomes into levels: low, below average, average, above average, high, very high."
   ]
  },
  {
   "cell_type": "code",
   "execution_count": 101,
   "metadata": {},
   "outputs": [],
   "source": [
    "# Declaration of function with income parameter\n",
    "def income_func(income):\n",
    "    if income <= 50000:\n",
    "        return 'low'\n",
    "    elif income <= 80000:\n",
    "        return 'below average'\n",
    "    elif income <= 100000:\n",
    "        return 'average'\n",
    "    elif income <= 250000:\n",
    "        return 'above average'\n",
    "    elif income <= 500000:\n",
    "        return 'high'\n",
    "    return 'very high'\n",
    "#Apply the function to 'total_income' and add new values to the 'income_category' column\n",
    "df['income_category'] = df['total_income'].apply(income_func)"
   ]
  },
  {
   "cell_type": "markdown",
   "metadata": {},
   "source": [
    "We will also categorize the `lemmas` column to make it easier to see the dependency."
   ]
  },
  {
   "cell_type": "code",
   "execution_count": 103,
   "metadata": {
    "scrolled": true
   },
   "outputs": [
    {
     "data": {
      "text/plain": [
       "array(['home purchase', 'purchase a car', 'additional education',\n",
       "       'get married', 'housing transaction', 'education', 'for a wedding',\n",
       "       'buy a home for a family', 'buy a property',\n",
       "       'purchase of commercial real estate',\n",
       "       'purchase of residential property',\n",
       "       'construction of your own real estate', 'real estate',\n",
       "       'real estate construction', 'to buy a used car', 'to buy your car',\n",
       "       'commercial real estate transaction',\n",
       "       'residential real estate construction', 'housing',\n",
       "       'operation with your real estate', 'car', 'engage in education',\n",
       "       'used car deal', 'get an education', 'automobile', 'wedding',\n",
       "       'obtain additional education', 'buy your own home',\n",
       "       'real estate transaction', 'obtain high education', 'your car',\n",
       "       'car deal', 'specialized education', 'high education',\n",
       "       'buy a rental property', 'to buy a car', 'home renovation',\n",
       "       'pursue high education', 'transaction with your real estate'],\n",
       "      dtype=object)"
      ]
     },
     "execution_count": 103,
     "metadata": {},
     "output_type": "execute_result"
    }
   ],
   "source": [
    "df['lemmas'].unique()"
   ]
  },
  {
   "cell_type": "code",
   "execution_count": 39,
   "metadata": {
    "scrolled": true
   },
   "outputs": [
    {
     "data": {
      "text/html": [
       "<div>\n",
       "<style scoped>\n",
       "    .dataframe tbody tr th:only-of-type {\n",
       "        vertical-align: middle;\n",
       "    }\n",
       "\n",
       "    .dataframe tbody tr th {\n",
       "        vertical-align: top;\n",
       "    }\n",
       "\n",
       "    .dataframe thead th {\n",
       "        text-align: right;\n",
       "    }\n",
       "</style>\n",
       "<table border=\"1\" class=\"dataframe\">\n",
       "  <thead>\n",
       "    <tr style=\"text-align: right;\">\n",
       "      <th></th>\n",
       "      <th>children</th>\n",
       "      <th>days_employed</th>\n",
       "      <th>dob_years</th>\n",
       "      <th>education</th>\n",
       "      <th>education_id</th>\n",
       "      <th>family_status</th>\n",
       "      <th>family_status_id</th>\n",
       "      <th>gender</th>\n",
       "      <th>income_type</th>\n",
       "      <th>debt</th>\n",
       "      <th>total_income</th>\n",
       "      <th>purpose</th>\n",
       "      <th>lemmas</th>\n",
       "      <th>income_category</th>\n",
       "      <th>type_of_purpose</th>\n",
       "    </tr>\n",
       "  </thead>\n",
       "  <tbody>\n",
       "    <tr>\n",
       "      <td>21450</td>\n",
       "      <td>0</td>\n",
       "      <td>338904</td>\n",
       "      <td>53</td>\n",
       "      <td>среднее</td>\n",
       "      <td>1</td>\n",
       "      <td>гражданский брак</td>\n",
       "      <td>1</td>\n",
       "      <td>M</td>\n",
       "      <td>пенсионер</td>\n",
       "      <td>0</td>\n",
       "      <td>75439</td>\n",
       "      <td>сыграть свадьбу</td>\n",
       "      <td>сыграть свадьба\\n</td>\n",
       "      <td>ниже среднего</td>\n",
       "      <td>свадьба</td>\n",
       "    </tr>\n",
       "    <tr>\n",
       "      <td>21451</td>\n",
       "      <td>1</td>\n",
       "      <td>1556</td>\n",
       "      <td>33</td>\n",
       "      <td>высшее</td>\n",
       "      <td>0</td>\n",
       "      <td>гражданский брак</td>\n",
       "      <td>1</td>\n",
       "      <td>F</td>\n",
       "      <td>сотрудник</td>\n",
       "      <td>0</td>\n",
       "      <td>145541</td>\n",
       "      <td>свадьба</td>\n",
       "      <td>свадьба\\n</td>\n",
       "      <td>выше среднего</td>\n",
       "      <td>свадьба</td>\n",
       "    </tr>\n",
       "    <tr>\n",
       "      <td>21452</td>\n",
       "      <td>1</td>\n",
       "      <td>79</td>\n",
       "      <td>32</td>\n",
       "      <td>среднее</td>\n",
       "      <td>1</td>\n",
       "      <td>гражданский брак</td>\n",
       "      <td>1</td>\n",
       "      <td>F</td>\n",
       "      <td>госслужащий</td>\n",
       "      <td>0</td>\n",
       "      <td>98180</td>\n",
       "      <td>сделка с подержанным автомобилем</td>\n",
       "      <td>сделка с подержанный автомобиль\\n</td>\n",
       "      <td>средний</td>\n",
       "      <td>автомобиль</td>\n",
       "    </tr>\n",
       "    <tr>\n",
       "      <td>21453</td>\n",
       "      <td>0</td>\n",
       "      <td>386497</td>\n",
       "      <td>62</td>\n",
       "      <td>среднее</td>\n",
       "      <td>1</td>\n",
       "      <td>женат / замужем</td>\n",
       "      <td>0</td>\n",
       "      <td>M</td>\n",
       "      <td>пенсионер</td>\n",
       "      <td>0</td>\n",
       "      <td>72638</td>\n",
       "      <td>недвижимость</td>\n",
       "      <td>недвижимость\\n</td>\n",
       "      <td>ниже среднего</td>\n",
       "      <td>недвижимость</td>\n",
       "    </tr>\n",
       "    <tr>\n",
       "      <td>21454</td>\n",
       "      <td>0</td>\n",
       "      <td>362161</td>\n",
       "      <td>59</td>\n",
       "      <td>высшее</td>\n",
       "      <td>0</td>\n",
       "      <td>женат / замужем</td>\n",
       "      <td>0</td>\n",
       "      <td>M</td>\n",
       "      <td>пенсионер</td>\n",
       "      <td>0</td>\n",
       "      <td>73029</td>\n",
       "      <td>операции с недвижимостью</td>\n",
       "      <td>операция с недвижимость\\n</td>\n",
       "      <td>ниже среднего</td>\n",
       "      <td>недвижимость</td>\n",
       "    </tr>\n",
       "    <tr>\n",
       "      <td>21455</td>\n",
       "      <td>2</td>\n",
       "      <td>2194</td>\n",
       "      <td>28</td>\n",
       "      <td>среднее</td>\n",
       "      <td>1</td>\n",
       "      <td>женат / замужем</td>\n",
       "      <td>0</td>\n",
       "      <td>F</td>\n",
       "      <td>сотрудник</td>\n",
       "      <td>0</td>\n",
       "      <td>152894</td>\n",
       "      <td>приобретение автомобиля</td>\n",
       "      <td>приобретение автомобиль\\n</td>\n",
       "      <td>выше среднего</td>\n",
       "      <td>автомобиль</td>\n",
       "    </tr>\n",
       "    <tr>\n",
       "      <td>21456</td>\n",
       "      <td>0</td>\n",
       "      <td>612</td>\n",
       "      <td>29</td>\n",
       "      <td>высшее</td>\n",
       "      <td>0</td>\n",
       "      <td>гражданский брак</td>\n",
       "      <td>1</td>\n",
       "      <td>F</td>\n",
       "      <td>сотрудник</td>\n",
       "      <td>1</td>\n",
       "      <td>140068</td>\n",
       "      <td>покупка жилья для сдачи</td>\n",
       "      <td>покупка жилье для сдача\\n</td>\n",
       "      <td>выше среднего</td>\n",
       "      <td>недвижимость</td>\n",
       "    </tr>\n",
       "    <tr>\n",
       "      <td>21457</td>\n",
       "      <td>0</td>\n",
       "      <td>165</td>\n",
       "      <td>26</td>\n",
       "      <td>высшее</td>\n",
       "      <td>0</td>\n",
       "      <td>не женат / не замужем</td>\n",
       "      <td>4</td>\n",
       "      <td>M</td>\n",
       "      <td>компаньон</td>\n",
       "      <td>0</td>\n",
       "      <td>147301</td>\n",
       "      <td>получение дополнительного образования</td>\n",
       "      <td>получение дополнительный образование\\n</td>\n",
       "      <td>выше среднего</td>\n",
       "      <td>образование</td>\n",
       "    </tr>\n",
       "    <tr>\n",
       "      <td>21458</td>\n",
       "      <td>0</td>\n",
       "      <td>1166</td>\n",
       "      <td>35</td>\n",
       "      <td>среднее</td>\n",
       "      <td>1</td>\n",
       "      <td>женат / замужем</td>\n",
       "      <td>0</td>\n",
       "      <td>F</td>\n",
       "      <td>сотрудник</td>\n",
       "      <td>0</td>\n",
       "      <td>250986</td>\n",
       "      <td>покупка жилья</td>\n",
       "      <td>покупка жилье\\n</td>\n",
       "      <td>высокий</td>\n",
       "      <td>недвижимость</td>\n",
       "    </tr>\n",
       "    <tr>\n",
       "      <td>21459</td>\n",
       "      <td>0</td>\n",
       "      <td>280</td>\n",
       "      <td>27</td>\n",
       "      <td>неоконченное высшее</td>\n",
       "      <td>2</td>\n",
       "      <td>не женат / не замужем</td>\n",
       "      <td>4</td>\n",
       "      <td>M</td>\n",
       "      <td>компаньон</td>\n",
       "      <td>0</td>\n",
       "      <td>355988</td>\n",
       "      <td>строительство недвижимости</td>\n",
       "      <td>строительство недвижимость\\n</td>\n",
       "      <td>высокий</td>\n",
       "      <td>недвижимость</td>\n",
       "    </tr>\n",
       "    <tr>\n",
       "      <td>21460</td>\n",
       "      <td>1</td>\n",
       "      <td>467</td>\n",
       "      <td>28</td>\n",
       "      <td>среднее</td>\n",
       "      <td>1</td>\n",
       "      <td>женат / замужем</td>\n",
       "      <td>0</td>\n",
       "      <td>F</td>\n",
       "      <td>сотрудник</td>\n",
       "      <td>1</td>\n",
       "      <td>109486</td>\n",
       "      <td>заняться образованием</td>\n",
       "      <td>заниматься образование\\n</td>\n",
       "      <td>выше среднего</td>\n",
       "      <td>образование</td>\n",
       "    </tr>\n",
       "    <tr>\n",
       "      <td>21461</td>\n",
       "      <td>0</td>\n",
       "      <td>914</td>\n",
       "      <td>42</td>\n",
       "      <td>высшее</td>\n",
       "      <td>0</td>\n",
       "      <td>женат / замужем</td>\n",
       "      <td>0</td>\n",
       "      <td>F</td>\n",
       "      <td>компаньон</td>\n",
       "      <td>0</td>\n",
       "      <td>322807</td>\n",
       "      <td>покупка своего жилья</td>\n",
       "      <td>покупка свой жилье\\n</td>\n",
       "      <td>высокий</td>\n",
       "      <td>недвижимость</td>\n",
       "    </tr>\n",
       "    <tr>\n",
       "      <td>21462</td>\n",
       "      <td>0</td>\n",
       "      <td>404</td>\n",
       "      <td>42</td>\n",
       "      <td>высшее</td>\n",
       "      <td>0</td>\n",
       "      <td>гражданский брак</td>\n",
       "      <td>1</td>\n",
       "      <td>F</td>\n",
       "      <td>компаньон</td>\n",
       "      <td>0</td>\n",
       "      <td>178059</td>\n",
       "      <td>на покупку своего автомобиля</td>\n",
       "      <td>на покупка свой автомобиль\\n</td>\n",
       "      <td>выше среднего</td>\n",
       "      <td>автомобиль</td>\n",
       "    </tr>\n",
       "    <tr>\n",
       "      <td>21463</td>\n",
       "      <td>0</td>\n",
       "      <td>373995</td>\n",
       "      <td>59</td>\n",
       "      <td>среднее</td>\n",
       "      <td>1</td>\n",
       "      <td>женат / замужем</td>\n",
       "      <td>0</td>\n",
       "      <td>F</td>\n",
       "      <td>пенсионер</td>\n",
       "      <td>0</td>\n",
       "      <td>153864</td>\n",
       "      <td>сделка с автомобилем</td>\n",
       "      <td>сделка с автомобиль\\n</td>\n",
       "      <td>выше среднего</td>\n",
       "      <td>автомобиль</td>\n",
       "    </tr>\n",
       "    <tr>\n",
       "      <td>21464</td>\n",
       "      <td>1</td>\n",
       "      <td>2351</td>\n",
       "      <td>37</td>\n",
       "      <td>ученая степень</td>\n",
       "      <td>4</td>\n",
       "      <td>в разводе</td>\n",
       "      <td>3</td>\n",
       "      <td>M</td>\n",
       "      <td>сотрудник</td>\n",
       "      <td>0</td>\n",
       "      <td>115949</td>\n",
       "      <td>покупка коммерческой недвижимости</td>\n",
       "      <td>покупка коммерческий недвижимость\\n</td>\n",
       "      <td>выше среднего</td>\n",
       "      <td>недвижимость</td>\n",
       "    </tr>\n",
       "    <tr>\n",
       "      <td>21465</td>\n",
       "      <td>1</td>\n",
       "      <td>4529</td>\n",
       "      <td>43</td>\n",
       "      <td>среднее</td>\n",
       "      <td>1</td>\n",
       "      <td>гражданский брак</td>\n",
       "      <td>1</td>\n",
       "      <td>F</td>\n",
       "      <td>компаньон</td>\n",
       "      <td>0</td>\n",
       "      <td>224791</td>\n",
       "      <td>операции с жильем</td>\n",
       "      <td>операция с жилье\\n</td>\n",
       "      <td>выше среднего</td>\n",
       "      <td>недвижимость</td>\n",
       "    </tr>\n",
       "    <tr>\n",
       "      <td>21466</td>\n",
       "      <td>0</td>\n",
       "      <td>343937</td>\n",
       "      <td>67</td>\n",
       "      <td>среднее</td>\n",
       "      <td>1</td>\n",
       "      <td>женат / замужем</td>\n",
       "      <td>0</td>\n",
       "      <td>F</td>\n",
       "      <td>пенсионер</td>\n",
       "      <td>0</td>\n",
       "      <td>155999</td>\n",
       "      <td>сделка с автомобилем</td>\n",
       "      <td>сделка с автомобиль\\n</td>\n",
       "      <td>выше среднего</td>\n",
       "      <td>автомобиль</td>\n",
       "    </tr>\n",
       "    <tr>\n",
       "      <td>21467</td>\n",
       "      <td>1</td>\n",
       "      <td>2113</td>\n",
       "      <td>38</td>\n",
       "      <td>среднее</td>\n",
       "      <td>1</td>\n",
       "      <td>гражданский брак</td>\n",
       "      <td>1</td>\n",
       "      <td>M</td>\n",
       "      <td>сотрудник</td>\n",
       "      <td>1</td>\n",
       "      <td>89672</td>\n",
       "      <td>недвижимость</td>\n",
       "      <td>недвижимость\\n</td>\n",
       "      <td>средний</td>\n",
       "      <td>недвижимость</td>\n",
       "    </tr>\n",
       "    <tr>\n",
       "      <td>21468</td>\n",
       "      <td>3</td>\n",
       "      <td>3112</td>\n",
       "      <td>38</td>\n",
       "      <td>среднее</td>\n",
       "      <td>1</td>\n",
       "      <td>женат / замужем</td>\n",
       "      <td>0</td>\n",
       "      <td>M</td>\n",
       "      <td>сотрудник</td>\n",
       "      <td>1</td>\n",
       "      <td>244093</td>\n",
       "      <td>на покупку своего автомобиля</td>\n",
       "      <td>на покупка свой автомобиль\\n</td>\n",
       "      <td>выше среднего</td>\n",
       "      <td>автомобиль</td>\n",
       "    </tr>\n",
       "    <tr>\n",
       "      <td>21469</td>\n",
       "      <td>2</td>\n",
       "      <td>1984</td>\n",
       "      <td>40</td>\n",
       "      <td>среднее</td>\n",
       "      <td>1</td>\n",
       "      <td>женат / замужем</td>\n",
       "      <td>0</td>\n",
       "      <td>F</td>\n",
       "      <td>сотрудник</td>\n",
       "      <td>0</td>\n",
       "      <td>82047</td>\n",
       "      <td>на покупку автомобиля</td>\n",
       "      <td>на покупка автомобиль\\n</td>\n",
       "      <td>средний</td>\n",
       "      <td>автомобиль</td>\n",
       "    </tr>\n",
       "  </tbody>\n",
       "</table>\n",
       "</div>"
      ],
      "text/plain": [
       "       children  days_employed  dob_years            education  education_id  \\\n",
       "21450         0         338904         53              среднее             1   \n",
       "21451         1           1556         33               высшее             0   \n",
       "21452         1             79         32              среднее             1   \n",
       "21453         0         386497         62              среднее             1   \n",
       "21454         0         362161         59               высшее             0   \n",
       "21455         2           2194         28              среднее             1   \n",
       "21456         0            612         29               высшее             0   \n",
       "21457         0            165         26               высшее             0   \n",
       "21458         0           1166         35              среднее             1   \n",
       "21459         0            280         27  неоконченное высшее             2   \n",
       "21460         1            467         28              среднее             1   \n",
       "21461         0            914         42               высшее             0   \n",
       "21462         0            404         42               высшее             0   \n",
       "21463         0         373995         59              среднее             1   \n",
       "21464         1           2351         37       ученая степень             4   \n",
       "21465         1           4529         43              среднее             1   \n",
       "21466         0         343937         67              среднее             1   \n",
       "21467         1           2113         38              среднее             1   \n",
       "21468         3           3112         38              среднее             1   \n",
       "21469         2           1984         40              среднее             1   \n",
       "\n",
       "               family_status  family_status_id gender  income_type  debt  \\\n",
       "21450       гражданский брак                 1      M    пенсионер     0   \n",
       "21451       гражданский брак                 1      F    сотрудник     0   \n",
       "21452       гражданский брак                 1      F  госслужащий     0   \n",
       "21453        женат / замужем                 0      M    пенсионер     0   \n",
       "21454        женат / замужем                 0      M    пенсионер     0   \n",
       "21455        женат / замужем                 0      F    сотрудник     0   \n",
       "21456       гражданский брак                 1      F    сотрудник     1   \n",
       "21457  не женат / не замужем                 4      M    компаньон     0   \n",
       "21458        женат / замужем                 0      F    сотрудник     0   \n",
       "21459  не женат / не замужем                 4      M    компаньон     0   \n",
       "21460        женат / замужем                 0      F    сотрудник     1   \n",
       "21461        женат / замужем                 0      F    компаньон     0   \n",
       "21462       гражданский брак                 1      F    компаньон     0   \n",
       "21463        женат / замужем                 0      F    пенсионер     0   \n",
       "21464              в разводе                 3      M    сотрудник     0   \n",
       "21465       гражданский брак                 1      F    компаньон     0   \n",
       "21466        женат / замужем                 0      F    пенсионер     0   \n",
       "21467       гражданский брак                 1      M    сотрудник     1   \n",
       "21468        женат / замужем                 0      M    сотрудник     1   \n",
       "21469        женат / замужем                 0      F    сотрудник     0   \n",
       "\n",
       "       total_income                                purpose  \\\n",
       "21450         75439                        сыграть свадьбу   \n",
       "21451        145541                                свадьба   \n",
       "21452         98180       сделка с подержанным автомобилем   \n",
       "21453         72638                           недвижимость   \n",
       "21454         73029               операции с недвижимостью   \n",
       "21455        152894                приобретение автомобиля   \n",
       "21456        140068                покупка жилья для сдачи   \n",
       "21457        147301  получение дополнительного образования   \n",
       "21458        250986                          покупка жилья   \n",
       "21459        355988             строительство недвижимости   \n",
       "21460        109486                  заняться образованием   \n",
       "21461        322807                   покупка своего жилья   \n",
       "21462        178059           на покупку своего автомобиля   \n",
       "21463        153864                   сделка с автомобилем   \n",
       "21464        115949      покупка коммерческой недвижимости   \n",
       "21465        224791                      операции с жильем   \n",
       "21466        155999                   сделка с автомобилем   \n",
       "21467         89672                           недвижимость   \n",
       "21468        244093           на покупку своего автомобиля   \n",
       "21469         82047                  на покупку автомобиля   \n",
       "\n",
       "                                       lemmas income_category type_of_purpose  \n",
       "21450                       сыграть свадьба\\n   ниже среднего         свадьба  \n",
       "21451                               свадьба\\n   выше среднего         свадьба  \n",
       "21452       сделка с подержанный автомобиль\\n         средний      автомобиль  \n",
       "21453                          недвижимость\\n   ниже среднего    недвижимость  \n",
       "21454               операция с недвижимость\\n   ниже среднего    недвижимость  \n",
       "21455               приобретение автомобиль\\n   выше среднего      автомобиль  \n",
       "21456               покупка жилье для сдача\\n   выше среднего    недвижимость  \n",
       "21457  получение дополнительный образование\\n   выше среднего     образование  \n",
       "21458                         покупка жилье\\n         высокий    недвижимость  \n",
       "21459            строительство недвижимость\\n         высокий    недвижимость  \n",
       "21460                заниматься образование\\n   выше среднего     образование  \n",
       "21461                    покупка свой жилье\\n         высокий    недвижимость  \n",
       "21462            на покупка свой автомобиль\\n   выше среднего      автомобиль  \n",
       "21463                   сделка с автомобиль\\n   выше среднего      автомобиль  \n",
       "21464     покупка коммерческий недвижимость\\n   выше среднего    недвижимость  \n",
       "21465                      операция с жилье\\n   выше среднего    недвижимость  \n",
       "21466                   сделка с автомобиль\\n   выше среднего      автомобиль  \n",
       "21467                          недвижимость\\n         средний    недвижимость  \n",
       "21468            на покупка свой автомобиль\\n   выше среднего      автомобиль  \n",
       "21469                 на покупка автомобиль\\n         средний      автомобиль  "
      ]
     },
     "metadata": {},
     "output_type": "display_data"
    }
   ],
   "source": [
    "#Создаем переменную для списка лемм из столбца 'lemmas'\n",
    "list_of_new_lemmas = []\n",
    "#Присваиваем переменной list_of_new_lemmas столбец 'lemmas', преобразованный в тип list\n",
    "list_of_new_lemmas = list(df['lemmas'])\n",
    "#Создаем цикл по всем значениям списка list_of_new_lemmas\n",
    "for index in range(len(list_of_new_lemmas)):\n",
    "    #Проверяем, если есть такое значение в нашем списке\n",
    "    if ('автомобил' in list_of_new_lemmas[index]):\n",
    "        #Добавляем это значение в новый столбец 'type_of_purpose' с новым названием\n",
    "        df.loc[index,'type_of_purpose'] = 'автомобиль'\n",
    "    elif ('недвижимост' in list_of_new_lemmas[index]) |  ('жиль' in list_of_new_lemmas[index]) :\n",
    "        df.loc[index,'type_of_purpose'] = 'недвижимость'\n",
    "    elif ('свадьб' in list_of_new_lemmas[index]):\n",
    "        df.loc[index,'type_of_purpose'] = 'свадьба'\n",
    "    elif ('образовани' in list_of_new_lemmas[index]):\n",
    "        df.loc[index,'type_of_purpose'] = 'образование'\n",
    "    else:\n",
    "        df.loc[index,'type_of_purpose'] = 'None'\n",
    "#Проверяем, как теперь выглядит таблица        \n",
    "display(df.tail(20))"
   ]
  },
  {
   "cell_type": "code",
   "execution_count": 114,
   "metadata": {},
   "outputs": [
    {
     "data": {
      "text/html": [
       "<div>\n",
       "<style scoped>\n",
       "    .dataframe tbody tr th:only-of-type {\n",
       "        vertical-align: middle;\n",
       "    }\n",
       "\n",
       "    .dataframe tbody tr th {\n",
       "        vertical-align: top;\n",
       "    }\n",
       "\n",
       "    .dataframe thead th {\n",
       "        text-align: right;\n",
       "    }\n",
       "</style>\n",
       "<table border=\"1\" class=\"dataframe\">\n",
       "  <thead>\n",
       "    <tr style=\"text-align: right;\">\n",
       "      <th></th>\n",
       "      <th>children</th>\n",
       "      <th>days_employed</th>\n",
       "      <th>dob_years</th>\n",
       "      <th>education</th>\n",
       "      <th>education_id</th>\n",
       "      <th>family_status</th>\n",
       "      <th>family_status_id</th>\n",
       "      <th>gender</th>\n",
       "      <th>income_type</th>\n",
       "      <th>debt</th>\n",
       "      <th>total_income</th>\n",
       "      <th>purpose</th>\n",
       "      <th>lemmas</th>\n",
       "      <th>income_category</th>\n",
       "      <th>type_of_purpose</th>\n",
       "    </tr>\n",
       "  </thead>\n",
       "  <tbody>\n",
       "    <tr>\n",
       "      <th>21452</th>\n",
       "      <td>0</td>\n",
       "      <td>338904</td>\n",
       "      <td>53</td>\n",
       "      <td>average</td>\n",
       "      <td>1</td>\n",
       "      <td>civil marriage</td>\n",
       "      <td>1</td>\n",
       "      <td>M</td>\n",
       "      <td>pensioner</td>\n",
       "      <td>0</td>\n",
       "      <td>75439</td>\n",
       "      <td>get married</td>\n",
       "      <td>get married</td>\n",
       "      <td>below average</td>\n",
       "      <td>wedding</td>\n",
       "    </tr>\n",
       "    <tr>\n",
       "      <th>21453</th>\n",
       "      <td>1</td>\n",
       "      <td>1556</td>\n",
       "      <td>33</td>\n",
       "      <td>higher</td>\n",
       "      <td>0</td>\n",
       "      <td>civil marriage</td>\n",
       "      <td>1</td>\n",
       "      <td>F</td>\n",
       "      <td>employee</td>\n",
       "      <td>0</td>\n",
       "      <td>145541</td>\n",
       "      <td>wedding</td>\n",
       "      <td>wedding</td>\n",
       "      <td>above average</td>\n",
       "      <td>wedding</td>\n",
       "    </tr>\n",
       "    <tr>\n",
       "      <th>21454</th>\n",
       "      <td>1</td>\n",
       "      <td>79</td>\n",
       "      <td>32</td>\n",
       "      <td>average</td>\n",
       "      <td>1</td>\n",
       "      <td>civil marriage</td>\n",
       "      <td>1</td>\n",
       "      <td>F</td>\n",
       "      <td>civil servant</td>\n",
       "      <td>0</td>\n",
       "      <td>98180</td>\n",
       "      <td>used car deal</td>\n",
       "      <td>used car deal</td>\n",
       "      <td>average</td>\n",
       "      <td>car</td>\n",
       "    </tr>\n",
       "    <tr>\n",
       "      <th>21455</th>\n",
       "      <td>0</td>\n",
       "      <td>386497</td>\n",
       "      <td>62</td>\n",
       "      <td>average</td>\n",
       "      <td>1</td>\n",
       "      <td>married</td>\n",
       "      <td>0</td>\n",
       "      <td>M</td>\n",
       "      <td>pensioner</td>\n",
       "      <td>0</td>\n",
       "      <td>72638</td>\n",
       "      <td>real estate</td>\n",
       "      <td>real estate</td>\n",
       "      <td>below average</td>\n",
       "      <td>real estate</td>\n",
       "    </tr>\n",
       "    <tr>\n",
       "      <th>21456</th>\n",
       "      <td>0</td>\n",
       "      <td>362161</td>\n",
       "      <td>59</td>\n",
       "      <td>higher</td>\n",
       "      <td>0</td>\n",
       "      <td>married</td>\n",
       "      <td>0</td>\n",
       "      <td>M</td>\n",
       "      <td>pensioner</td>\n",
       "      <td>0</td>\n",
       "      <td>73029</td>\n",
       "      <td>real estate transactions</td>\n",
       "      <td>real estate transaction</td>\n",
       "      <td>below average</td>\n",
       "      <td>real estate</td>\n",
       "    </tr>\n",
       "    <tr>\n",
       "      <th>21457</th>\n",
       "      <td>2</td>\n",
       "      <td>2194</td>\n",
       "      <td>28</td>\n",
       "      <td>average</td>\n",
       "      <td>1</td>\n",
       "      <td>married</td>\n",
       "      <td>0</td>\n",
       "      <td>F</td>\n",
       "      <td>employee</td>\n",
       "      <td>0</td>\n",
       "      <td>152894</td>\n",
       "      <td>purchasing a car</td>\n",
       "      <td>purchase a car</td>\n",
       "      <td>above average</td>\n",
       "      <td>car</td>\n",
       "    </tr>\n",
       "    <tr>\n",
       "      <th>21458</th>\n",
       "      <td>0</td>\n",
       "      <td>612</td>\n",
       "      <td>29</td>\n",
       "      <td>higher</td>\n",
       "      <td>0</td>\n",
       "      <td>civil marriage</td>\n",
       "      <td>1</td>\n",
       "      <td>F</td>\n",
       "      <td>employee</td>\n",
       "      <td>1</td>\n",
       "      <td>140068</td>\n",
       "      <td>buying a rental property</td>\n",
       "      <td>buy a rental property</td>\n",
       "      <td>above average</td>\n",
       "      <td>real estate</td>\n",
       "    </tr>\n",
       "    <tr>\n",
       "      <th>21459</th>\n",
       "      <td>0</td>\n",
       "      <td>165</td>\n",
       "      <td>26</td>\n",
       "      <td>higher</td>\n",
       "      <td>0</td>\n",
       "      <td>single/not married</td>\n",
       "      <td>4</td>\n",
       "      <td>M</td>\n",
       "      <td>companion</td>\n",
       "      <td>0</td>\n",
       "      <td>147301</td>\n",
       "      <td>obtaining additional education</td>\n",
       "      <td>obtain additional education</td>\n",
       "      <td>above average</td>\n",
       "      <td>education</td>\n",
       "    </tr>\n",
       "    <tr>\n",
       "      <th>21460</th>\n",
       "      <td>0</td>\n",
       "      <td>1166</td>\n",
       "      <td>35</td>\n",
       "      <td>average</td>\n",
       "      <td>1</td>\n",
       "      <td>married</td>\n",
       "      <td>0</td>\n",
       "      <td>F</td>\n",
       "      <td>employee</td>\n",
       "      <td>0</td>\n",
       "      <td>250986</td>\n",
       "      <td>home purchase</td>\n",
       "      <td>home purchase</td>\n",
       "      <td>high</td>\n",
       "      <td>real estate</td>\n",
       "    </tr>\n",
       "    <tr>\n",
       "      <th>21461</th>\n",
       "      <td>0</td>\n",
       "      <td>280</td>\n",
       "      <td>27</td>\n",
       "      <td>incomplete higher education</td>\n",
       "      <td>2</td>\n",
       "      <td>single/not married</td>\n",
       "      <td>4</td>\n",
       "      <td>M</td>\n",
       "      <td>companion</td>\n",
       "      <td>0</td>\n",
       "      <td>355988</td>\n",
       "      <td>real estate construction</td>\n",
       "      <td>real estate construction</td>\n",
       "      <td>high</td>\n",
       "      <td>real estate</td>\n",
       "    </tr>\n",
       "    <tr>\n",
       "      <th>21462</th>\n",
       "      <td>1</td>\n",
       "      <td>467</td>\n",
       "      <td>28</td>\n",
       "      <td>average</td>\n",
       "      <td>1</td>\n",
       "      <td>married</td>\n",
       "      <td>0</td>\n",
       "      <td>F</td>\n",
       "      <td>employee</td>\n",
       "      <td>1</td>\n",
       "      <td>109486</td>\n",
       "      <td>engage in education</td>\n",
       "      <td>engage in education</td>\n",
       "      <td>above average</td>\n",
       "      <td>education</td>\n",
       "    </tr>\n",
       "    <tr>\n",
       "      <th>21463</th>\n",
       "      <td>0</td>\n",
       "      <td>914</td>\n",
       "      <td>42</td>\n",
       "      <td>higher</td>\n",
       "      <td>0</td>\n",
       "      <td>married</td>\n",
       "      <td>0</td>\n",
       "      <td>F</td>\n",
       "      <td>companion</td>\n",
       "      <td>0</td>\n",
       "      <td>322807</td>\n",
       "      <td>buying your own home</td>\n",
       "      <td>buy your own home</td>\n",
       "      <td>high</td>\n",
       "      <td>real estate</td>\n",
       "    </tr>\n",
       "    <tr>\n",
       "      <th>21464</th>\n",
       "      <td>0</td>\n",
       "      <td>404</td>\n",
       "      <td>42</td>\n",
       "      <td>higher</td>\n",
       "      <td>0</td>\n",
       "      <td>civil marriage</td>\n",
       "      <td>1</td>\n",
       "      <td>F</td>\n",
       "      <td>companion</td>\n",
       "      <td>0</td>\n",
       "      <td>178059</td>\n",
       "      <td>to buy your car</td>\n",
       "      <td>to buy your car</td>\n",
       "      <td>above average</td>\n",
       "      <td>car</td>\n",
       "    </tr>\n",
       "    <tr>\n",
       "      <th>21465</th>\n",
       "      <td>0</td>\n",
       "      <td>373995</td>\n",
       "      <td>59</td>\n",
       "      <td>average</td>\n",
       "      <td>1</td>\n",
       "      <td>married</td>\n",
       "      <td>0</td>\n",
       "      <td>F</td>\n",
       "      <td>pensioner</td>\n",
       "      <td>0</td>\n",
       "      <td>153864</td>\n",
       "      <td>car deal</td>\n",
       "      <td>car deal</td>\n",
       "      <td>above average</td>\n",
       "      <td>car</td>\n",
       "    </tr>\n",
       "    <tr>\n",
       "      <th>21466</th>\n",
       "      <td>1</td>\n",
       "      <td>2351</td>\n",
       "      <td>37</td>\n",
       "      <td>academic degree</td>\n",
       "      <td>4</td>\n",
       "      <td>divorced</td>\n",
       "      <td>3</td>\n",
       "      <td>M</td>\n",
       "      <td>employee</td>\n",
       "      <td>0</td>\n",
       "      <td>115949</td>\n",
       "      <td>purchase of commercial real estate</td>\n",
       "      <td>purchase of commercial real estate</td>\n",
       "      <td>above average</td>\n",
       "      <td>real estate</td>\n",
       "    </tr>\n",
       "    <tr>\n",
       "      <th>21467</th>\n",
       "      <td>1</td>\n",
       "      <td>4529</td>\n",
       "      <td>43</td>\n",
       "      <td>average</td>\n",
       "      <td>1</td>\n",
       "      <td>civil marriage</td>\n",
       "      <td>1</td>\n",
       "      <td>F</td>\n",
       "      <td>companion</td>\n",
       "      <td>0</td>\n",
       "      <td>224791</td>\n",
       "      <td>housing transactions</td>\n",
       "      <td>housing transaction</td>\n",
       "      <td>above average</td>\n",
       "      <td>real estate</td>\n",
       "    </tr>\n",
       "    <tr>\n",
       "      <th>21468</th>\n",
       "      <td>0</td>\n",
       "      <td>343937</td>\n",
       "      <td>67</td>\n",
       "      <td>average</td>\n",
       "      <td>1</td>\n",
       "      <td>married</td>\n",
       "      <td>0</td>\n",
       "      <td>F</td>\n",
       "      <td>pensioner</td>\n",
       "      <td>0</td>\n",
       "      <td>155999</td>\n",
       "      <td>car deal</td>\n",
       "      <td>car deal</td>\n",
       "      <td>above average</td>\n",
       "      <td>car</td>\n",
       "    </tr>\n",
       "    <tr>\n",
       "      <th>21469</th>\n",
       "      <td>1</td>\n",
       "      <td>2113</td>\n",
       "      <td>38</td>\n",
       "      <td>average</td>\n",
       "      <td>1</td>\n",
       "      <td>civil marriage</td>\n",
       "      <td>1</td>\n",
       "      <td>M</td>\n",
       "      <td>employee</td>\n",
       "      <td>1</td>\n",
       "      <td>89672</td>\n",
       "      <td>real estate</td>\n",
       "      <td>real estate</td>\n",
       "      <td>average</td>\n",
       "      <td>real estate</td>\n",
       "    </tr>\n",
       "    <tr>\n",
       "      <th>21470</th>\n",
       "      <td>3</td>\n",
       "      <td>3112</td>\n",
       "      <td>38</td>\n",
       "      <td>average</td>\n",
       "      <td>1</td>\n",
       "      <td>married</td>\n",
       "      <td>0</td>\n",
       "      <td>M</td>\n",
       "      <td>employee</td>\n",
       "      <td>1</td>\n",
       "      <td>244093</td>\n",
       "      <td>to buy your car</td>\n",
       "      <td>to buy your car</td>\n",
       "      <td>above average</td>\n",
       "      <td>car</td>\n",
       "    </tr>\n",
       "    <tr>\n",
       "      <th>21471</th>\n",
       "      <td>2</td>\n",
       "      <td>1984</td>\n",
       "      <td>40</td>\n",
       "      <td>average</td>\n",
       "      <td>1</td>\n",
       "      <td>married</td>\n",
       "      <td>0</td>\n",
       "      <td>F</td>\n",
       "      <td>employee</td>\n",
       "      <td>0</td>\n",
       "      <td>82047</td>\n",
       "      <td>to buy a car</td>\n",
       "      <td>to buy a car</td>\n",
       "      <td>average</td>\n",
       "      <td>car</td>\n",
       "    </tr>\n",
       "  </tbody>\n",
       "</table>\n",
       "</div>"
      ],
      "text/plain": [
       "       children  days_employed  dob_years                    education  \\\n",
       "21452         0         338904         53                      average   \n",
       "21453         1           1556         33                       higher   \n",
       "21454         1             79         32                      average   \n",
       "21455         0         386497         62                      average   \n",
       "21456         0         362161         59                       higher   \n",
       "21457         2           2194         28                      average   \n",
       "21458         0            612         29                       higher   \n",
       "21459         0            165         26                       higher   \n",
       "21460         0           1166         35                      average   \n",
       "21461         0            280         27  incomplete higher education   \n",
       "21462         1            467         28                      average   \n",
       "21463         0            914         42                       higher   \n",
       "21464         0            404         42                       higher   \n",
       "21465         0         373995         59                      average   \n",
       "21466         1           2351         37              academic degree   \n",
       "21467         1           4529         43                      average   \n",
       "21468         0         343937         67                      average   \n",
       "21469         1           2113         38                      average   \n",
       "21470         3           3112         38                      average   \n",
       "21471         2           1984         40                      average   \n",
       "\n",
       "       education_id       family_status  family_status_id gender  \\\n",
       "21452             1      civil marriage                 1      M   \n",
       "21453             0      civil marriage                 1      F   \n",
       "21454             1      civil marriage                 1      F   \n",
       "21455             1             married                 0      M   \n",
       "21456             0             married                 0      M   \n",
       "21457             1             married                 0      F   \n",
       "21458             0      civil marriage                 1      F   \n",
       "21459             0  single/not married                 4      M   \n",
       "21460             1             married                 0      F   \n",
       "21461             2  single/not married                 4      M   \n",
       "21462             1             married                 0      F   \n",
       "21463             0             married                 0      F   \n",
       "21464             0      civil marriage                 1      F   \n",
       "21465             1             married                 0      F   \n",
       "21466             4            divorced                 3      M   \n",
       "21467             1      civil marriage                 1      F   \n",
       "21468             1             married                 0      F   \n",
       "21469             1      civil marriage                 1      M   \n",
       "21470             1             married                 0      M   \n",
       "21471             1             married                 0      F   \n",
       "\n",
       "         income_type  debt  total_income                             purpose  \\\n",
       "21452      pensioner     0         75439                         get married   \n",
       "21453       employee     0        145541                             wedding   \n",
       "21454  civil servant     0         98180                       used car deal   \n",
       "21455      pensioner     0         72638                         real estate   \n",
       "21456      pensioner     0         73029            real estate transactions   \n",
       "21457       employee     0        152894                    purchasing a car   \n",
       "21458       employee     1        140068            buying a rental property   \n",
       "21459      companion     0        147301      obtaining additional education   \n",
       "21460       employee     0        250986                       home purchase   \n",
       "21461      companion     0        355988            real estate construction   \n",
       "21462       employee     1        109486                 engage in education   \n",
       "21463      companion     0        322807                buying your own home   \n",
       "21464      companion     0        178059                     to buy your car   \n",
       "21465      pensioner     0        153864                            car deal   \n",
       "21466       employee     0        115949  purchase of commercial real estate   \n",
       "21467      companion     0        224791                housing transactions   \n",
       "21468      pensioner     0        155999                            car deal   \n",
       "21469       employee     1         89672                         real estate   \n",
       "21470       employee     1        244093                     to buy your car   \n",
       "21471       employee     0         82047                        to buy a car   \n",
       "\n",
       "                                   lemmas income_category type_of_purpose  \n",
       "21452                         get married   below average         wedding  \n",
       "21453                             wedding   above average         wedding  \n",
       "21454                       used car deal         average             car  \n",
       "21455                         real estate   below average     real estate  \n",
       "21456             real estate transaction   below average     real estate  \n",
       "21457                      purchase a car   above average             car  \n",
       "21458               buy a rental property   above average     real estate  \n",
       "21459         obtain additional education   above average       education  \n",
       "21460                       home purchase            high     real estate  \n",
       "21461            real estate construction            high     real estate  \n",
       "21462                 engage in education   above average       education  \n",
       "21463                   buy your own home            high     real estate  \n",
       "21464                     to buy your car   above average             car  \n",
       "21465                            car deal   above average             car  \n",
       "21466  purchase of commercial real estate   above average     real estate  \n",
       "21467                 housing transaction   above average     real estate  \n",
       "21468                            car deal   above average             car  \n",
       "21469                         real estate         average     real estate  \n",
       "21470                     to buy your car   above average             car  \n",
       "21471                        to buy a car         average             car  "
      ]
     },
     "metadata": {},
     "output_type": "display_data"
    }
   ],
   "source": [
    "# Create a variable for a list of lemmas from the 'lemmas' column\n",
    "list_of_new_lemmas = []\n",
    "# Assign the 'lemmas' column, converted to a list type, to the variable list_of_new_lemmas\n",
    "list_of_new_lemmas = list(df['lemmas'])\n",
    "# Create a loop over all values in the list_of_new_lemmas\n",
    "for index in range(len(list_of_new_lemmas)):\n",
    "    # Check if such a value is in our list\n",
    "    if 'car' in list_of_new_lemmas[index] or 'automobile' in list_of_new_lemmas[index]: \n",
    "        # Add this value to the new column 'type_of_purpose' with a new name\n",
    "        df.loc[index, 'type_of_purpose'] = 'car'\n",
    "    elif 'real estate' in list_of_new_lemmas[index] or 'housing' in list_of_new_lemmas[index] or 'home' in list_of_new_lemmas[index] or 'property' in list_of_new_lemmas[index]:\n",
    "        df.loc[index, 'type_of_purpose'] = 'real estate'\n",
    "    elif 'wedding' in list_of_new_lemmas[index] or 'marri' in list_of_new_lemmas[index]:\n",
    "        df.loc[index, 'type_of_purpose'] = 'wedding'\n",
    "    elif 'education' in list_of_new_lemmas[index]:\n",
    "        df.loc[index, 'type_of_purpose'] = 'education'\n",
    "    else:\n",
    "        df.loc[index, 'type_of_purpose'] = 'None'\n",
    "# Check what the table looks like now        \n",
    "display(df.tail(20))\n"
   ]
  },
  {
   "cell_type": "markdown",
   "metadata": {},
   "source": [
    "**Вывод**\n",
    "\n",
    "В ходе выполнения пункта 2.5 были выделены следующие словари:\n",
    "\n",
    "* `income_category`, разделяющий уровень дохода на несколько уровней: низкий, ниже среднего, средний, выше среднего, высокий, очень высокий;\n",
    "* `type_of_purpose`, разделяющий цели кредита на следующие категории: сделка с автомобилем, сделка с недвижимостью, расходы на свадьбу и расходы на образование\n",
    "\n",
    "Разделять на уровни столбцы `children` не нужно, так как уникальных значений там немного. То же самое касается стобца `family_status`, которому уже соответсвует столбец `family_status_id` с выделенными категориями."
   ]
  },
  {
   "cell_type": "markdown",
   "metadata": {},
   "source": [
    "**Conclusion**\n",
    "\n",
    "During the execution of item 2.5, the following dictionaries were identified:\n",
    "\n",
    "* `income_category,` dividing the income level into several levels: low, below average, average, above average, high, very high.\n",
    "* `type_of_purpose,` dividing the loan purposes into the following categories: car transaction, real estate transaction, wedding expenses, and education expenses.\n",
    "\n",
    "It's not necessary to divide the `children` column into levels, as there are few unique values there. The same applies to the `family_status` column, which already corresponds to the `family_status_id` column with designated categories."
   ]
  },
  {
   "cell_type": "markdown",
   "metadata": {},
   "source": [
    "## Answers to questions"
   ]
  },
  {
   "cell_type": "markdown",
   "metadata": {},
   "source": [
    "- Is there a correlation between having children and repaying a loan on time?"
   ]
  },
  {
   "cell_type": "markdown",
   "metadata": {},
   "source": [
    "To answer the question, we can create a pivot table with average values of children relative to loan repayment on time."
   ]
  },
  {
   "cell_type": "code",
   "execution_count": 117,
   "metadata": {},
   "outputs": [
    {
     "data": {
      "image/png": "[encoded data removed]",
      "text/plain": [
       "<Figure size 432x288 with 1 Axes>"
      ]
     },
     "metadata": {
      "needs_background": "light"
     },
     "output_type": "display_data"
    }
   ],
   "source": [
    "#Строим сводную таблицу по количеству детей и возврату кредита в срок, строим график\n",
    "data_pivot = df.pivot_table(index='children', values='debt', aggfunc='mean').plot()"
   ]
  },
  {
   "cell_type": "markdown",
   "metadata": {},
   "source": [
    "**Conclusion**\n",
    "\n",
    "The table does not show a linear relationship between the number of children and the presence of debts. It can only be said that families with three to five children likely repay loans on time slightly more often than clients with a different number of children."
   ]
  },
  {
   "cell_type": "markdown",
   "metadata": {},
   "source": [
    "- Is there a correlation between marital status and repaying a loan on time?"
   ]
  },
  {
   "cell_type": "code",
   "execution_count": 118,
   "metadata": {},
   "outputs": [
    {
     "data": {
      "image/png": "[encoded data removed]",
      "text/plain": [
       "<Figure size 432x288 with 1 Axes>"
      ]
     },
     "metadata": {
      "needs_background": "light"
     },
     "output_type": "display_data"
    }
   ],
   "source": [
    "#Building a pivot table based on marital status and loan repayment on time, then plotting it\n",
    "data_pivot = df.pivot_table(index='family_status_id', values='debt', aggfunc='mean').plot()"
   ]
  },
  {
   "cell_type": "markdown",
   "metadata": {},
   "source": [
    "**Conclusion**\n",
    "\n",
    "The chart shows that divorced individuals `(family_status_id = 3)` and widowers/widows `(family_status_id = 2)` have the lowest rates, while single individuals `(family_status_id = 4)` and clients living in civil marriages `(family_status_id = 1)` are more likely not to return the loan on time."
   ]
  },
  {
   "cell_type": "markdown",
   "metadata": {},
   "source": [
    "- Is there a correlation between income level and repaying a loan on time?"
   ]
  },
  {
   "cell_type": "code",
   "execution_count": 119,
   "metadata": {},
   "outputs": [
    {
     "data": {
      "image/png": "[encoded data removed]",
      "text/plain": [
       "<Figure size 432x288 with 1 Axes>"
      ]
     },
     "metadata": {
      "needs_background": "light"
     },
     "output_type": "display_data"
    }
   ],
   "source": [
    "#Building a pivot table based on income level and loan repayment on time, then plotting it\n",
    "data_pivot = df.pivot_table(index='income_category', values='debt', aggfunc='mean').plot()"
   ]
  },
  {
   "cell_type": "markdown",
   "metadata": {},
   "source": [
    "**Conclusion**\n",
    "\n",
    "The chart suggests that clients with low incomes are more willing to return money than people with average and above-average incomes. Clients with high and very high income levels possibly rarely use credit services. However, they can be relied upon when it comes to repaying funds on time."
   ]
  },
  {
   "cell_type": "markdown",
   "metadata": {},
   "source": [
    "<div class=\"alert alert-success\">\n",
    "    \n",
    "We could also have calculated this using an alternative grouping method, `groupby`.\n",
    "    \n",
    "</div>"
   ]
  },
  {
   "cell_type": "markdown",
   "metadata": {},
   "source": [
    "- How do different loan purposes affect its repayment on time?"
   ]
  },
  {
   "cell_type": "code",
   "execution_count": 120,
   "metadata": {},
   "outputs": [
    {
     "data": {
      "image/png": "[encoded data removed]",
      "text/plain": [
       "<Figure size 432x288 with 1 Axes>"
      ]
     },
     "metadata": {
      "needs_background": "light"
     },
     "output_type": "display_data"
    }
   ],
   "source": [
    "#Building a pivot table based on income level and timely loan repayment, then plotting it\n",
    "data_pivot = df.pivot_table(index='type_of_purpose', values='debt', aggfunc='mean').plot()"
   ]
  },
  {
   "cell_type": "markdown",
   "metadata": {},
   "source": [
    "**Conclusion**\n",
    "\n",
    "The most orderly and responsible clients are those who take out loans for real estate. This may be due to the fact that often people take out a mortgage and this is their only housing. The fear of losing their home may influence the client to conscientiously repay the money to the bank. On the other hand, consumer loans for weddings, cars, and education are not as risky, so clients are less worried about this."
   ]
  },
  {
   "cell_type": "markdown",
   "metadata": {},
   "source": [
    "## General Conclusion"
   ]
  },
  {
   "cell_type": "markdown",
   "metadata": {},
   "source": [
    "By answering 4 questions, it was possible to establish:\n",
    "\n",
    "1. If a client has children, but not in the number from 3 to 5, there is a probability that they will not be able to repay the loan on time.\n",
    "\n",
    "\n",
    "2. Clients who are married or those who have ever been in marital relationships approach the issue of lending and timely money return more responsibly than clients who are not in marital relationships or living in civil marriages (which, de facto, is also considered an analogue of free relationships).\n",
    "\n",
    "\n",
    "3. Clients with low income levels return money on time more often than people with average income and above-average income. Clients with high and very high income levels also repay the borrowed money on time. However, this result could have been different if there had been no gaps in the data.\n",
    "\n",
    "\n",
    "4. Clients taking out loans for real estate are more willing to return money to the bank than clients who took out loans for weddings, cars, and education."
   ]
  }
 ],
 "metadata": {
  "ExecuteTimeLog": [
   {
    "duration": 634,
    "start_time": "2021-12-11T15:53:06.657Z"
   },
   {
    "duration": 117,
    "start_time": "2021-12-11T15:55:39.685Z"
   },
   {
    "duration": 433,
    "start_time": "2021-12-11T15:55:45.026Z"
   },
   {
    "duration": 124,
    "start_time": "2021-12-11T15:55:55.867Z"
   },
   {
    "duration": 122,
    "start_time": "2021-12-11T15:56:26.312Z"
   },
   {
    "duration": 688,
    "start_time": "2021-12-11T15:56:35.606Z"
   },
   {
    "duration": 1553,
    "start_time": "2021-12-11T15:56:42.379Z"
   },
   {
    "duration": 733,
    "start_time": "2021-12-20T18:49:37.731Z"
   },
   {
    "duration": 756,
    "start_time": "2021-12-21T09:33:38.481Z"
   },
   {
    "duration": 57,
    "start_time": "2021-12-21T09:34:01.959Z"
   },
   {
    "duration": 21,
    "start_time": "2021-12-21T09:34:27.441Z"
   },
   {
    "duration": 68,
    "start_time": "2021-12-21T09:34:46.410Z"
   },
   {
    "duration": 11,
    "start_time": "2021-12-21T09:35:06.953Z"
   },
   {
    "duration": 9,
    "start_time": "2021-12-21T09:36:11.965Z"
   },
   {
    "duration": 26,
    "start_time": "2021-12-21T09:36:41.886Z"
   },
   {
    "duration": 6,
    "start_time": "2021-12-21T09:40:51.877Z"
   },
   {
    "duration": 9,
    "start_time": "2021-12-21T09:41:19.486Z"
   },
   {
    "duration": 11,
    "start_time": "2021-12-21T09:41:45.232Z"
   },
   {
    "duration": 6,
    "start_time": "2021-12-21T09:42:10.480Z"
   },
   {
    "duration": 9,
    "start_time": "2021-12-21T09:42:24.662Z"
   },
   {
    "duration": 68,
    "start_time": "2021-12-21T09:42:32.995Z"
   },
   {
    "duration": 6,
    "start_time": "2021-12-21T09:42:47.936Z"
   },
   {
    "duration": 16,
    "start_time": "2021-12-21T09:43:07.047Z"
   },
   {
    "duration": 7,
    "start_time": "2021-12-21T09:43:46.826Z"
   },
   {
    "duration": 18,
    "start_time": "2021-12-21T09:44:03.365Z"
   },
   {
    "duration": 6,
    "start_time": "2021-12-21T09:44:10.034Z"
   },
   {
    "duration": 8,
    "start_time": "2021-12-21T09:44:17.007Z"
   },
   {
    "duration": 20,
    "start_time": "2021-12-21T09:44:48.877Z"
   },
   {
    "duration": 7,
    "start_time": "2021-12-21T09:44:55.998Z"
   },
   {
    "duration": 8,
    "start_time": "2021-12-21T09:45:01.246Z"
   },
   {
    "duration": 8,
    "start_time": "2021-12-21T09:45:09.012Z"
   },
   {
    "duration": 6,
    "start_time": "2021-12-21T09:45:16.677Z"
   },
   {
    "duration": 13,
    "start_time": "2021-12-21T09:45:24.415Z"
   },
   {
    "duration": 8,
    "start_time": "2021-12-21T09:47:07.939Z"
   },
   {
    "duration": 7,
    "start_time": "2021-12-21T09:47:11.866Z"
   },
   {
    "duration": 8,
    "start_time": "2021-12-21T09:47:17.206Z"
   },
   {
    "duration": 13,
    "start_time": "2021-12-21T09:47:58.805Z"
   },
   {
    "duration": 17,
    "start_time": "2021-12-21T09:48:14.315Z"
   },
   {
    "duration": 18,
    "start_time": "2021-12-21T09:48:53.712Z"
   },
   {
    "duration": 34,
    "start_time": "2021-12-21T09:49:18.659Z"
   },
   {
    "duration": 19,
    "start_time": "2021-12-21T09:49:31.124Z"
   },
   {
    "duration": 38404,
    "start_time": "2021-12-21T09:50:14.118Z"
   },
   {
    "duration": 28,
    "start_time": "2021-12-21T09:51:06.383Z"
   },
   {
    "duration": 7,
    "start_time": "2021-12-21T09:51:36.240Z"
   },
   {
    "duration": 6,
    "start_time": "2021-12-21T09:51:41.740Z"
   },
   {
    "duration": 10,
    "start_time": "2021-12-21T09:52:11.293Z"
   },
   {
    "duration": 33686,
    "start_time": "2021-12-21T09:52:28.970Z"
   },
   {
    "duration": 286,
    "start_time": "2021-12-21T09:53:19.302Z"
   },
   {
    "duration": 196,
    "start_time": "2021-12-21T09:53:41.593Z"
   },
   {
    "duration": 160,
    "start_time": "2021-12-21T09:54:38.635Z"
   },
   {
    "duration": 221,
    "start_time": "2021-12-21T09:55:06.340Z"
   },
   {
    "duration": 74,
    "start_time": "2021-12-21T09:55:34.184Z"
   },
   {
    "duration": 9,
    "start_time": "2021-12-21T09:56:59.300Z"
   },
   {
    "duration": 9,
    "start_time": "2021-12-21T09:57:12.731Z"
   },
   {
    "duration": 19,
    "start_time": "2021-12-21T09:57:32.532Z"
   },
   {
    "duration": 28,
    "start_time": "2021-12-21T09:57:36.592Z"
   },
   {
    "duration": 6,
    "start_time": "2021-12-21T09:57:51.648Z"
   },
   {
    "duration": 6,
    "start_time": "2021-12-21T09:57:56.330Z"
   }
  ],
  "kernelspec": {
   "display_name": "Python 3 (ipykernel)",
   "language": "python",
   "name": "python3"
  },
  "language_info": {
   "codemirror_mode": {
    "name": "ipython",
    "version": 3
   },
   "file_extension": ".py",
   "mimetype": "text/x-python",
   "name": "python",
   "nbconvert_exporter": "python",
   "pygments_lexer": "ipython3",
   "version": "3.9.7"
  },
  "toc": {
   "base_numbering": 1,
   "nav_menu": {},
   "number_sections": true,
   "sideBar": true,
   "skip_h1_title": true,
   "title_cell": "Table of Contents",
   "title_sidebar": "Contents",
   "toc_cell": false,
   "toc_position": {},
   "toc_section_display": true,
   "toc_window_display": false
  }
 },
 "nbformat": 4,
 "nbformat_minor": 2
}
