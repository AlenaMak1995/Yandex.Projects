{
 "cells": [
  {
   "cell_type": "markdown",
   "metadata": {},
   "source": [
    "\n"
   ]
  },
  {
   "cell_type": "markdown",
   "metadata": {
    "id": "E0vqbgi9ay0H"
   },
   "source": [
    "# Yandex.Music"
   ]
  },
  {
   "cell_type": "markdown",
   "metadata": {
    "id": "VUC88oWjTJw2"
   },
   "source": [
    "The comparison between Moscow and Saint Petersburg is surrounded by myths. For example:\n",
    " * Moscow is a megacity governed by the strict rhythm of the workweek;\n",
    " * Saint Petersburg is the cultural capital, with its own unique flavors.\n",
    "\n",
    "Using the data from Yandex.Music, I will compare the user behavior in the two capitals.\n",
    "\n",
    "**Research objective** —  to test three hypotheses:\n",
    "1. User activity depends on the day of the week. Moreover, this is manifested differently in Moscow and Saint Petersburg.\n",
    "2. On Monday morning in Moscow, certain genres prevail, while in Saint Petersburg, there are others. Similarly, on Friday evening, different genres prevail depending on the city.\n",
    "3. Moscow and Saint Petersburg prefer different music genres. Pop music is more often listened to in Moscow, while Russian rap is more popular in Saint Petersburg.\n",
    "\n",
    "**Course of the investigation**\n",
    "\n",
    "I will obtain user behavior data from the `yandex_music_project.csv` file. Nothing is known about the data quality. Therefore, a data review will be required before testing the hypotheses.\n",
    "\n",
    "I will check the data for errors and assess their impact on the research. Then, during the data preprocessing stage, I will look for opportunities to correct the most critical data errors.\n",
    " \n",
    "Thus, the investigation will proceed in three stages:\n",
    " 1. Data review.\n",
    " 2. Data preprocessing.\n",
    " 3. Hypothesis testing.\n",
    "\n"
   ]
  },
  {
   "cell_type": "markdown",
   "metadata": {
    "id": "Ml1hmfXC_Zcs"
   },
   "source": [
    "## Data Review\n",
    "\n",
    "Let's form the initial understanding of the Yandex.Music data.\n",
    "\n",
    "\n"
   ]
  },
  {
   "cell_type": "markdown",
   "metadata": {
    "id": "57eAOGIz_Zcs"
   },
   "source": [
    "The main tool for an analyst is `pandas`. Let's import this library."
   ]
  },
  {
   "cell_type": "code",
   "execution_count": 2,
   "metadata": {
    "id": "AXN7PHPN_Zcs"
   },
   "outputs": [],
   "source": [
    "# import library pandas\n",
    "import pandas as pd"
   ]
  },
  {
   "cell_type": "markdown",
   "metadata": {
    "id": "SG23P8tt_Zcs"
   },
   "source": [
    "Let's read the file `yandex_music_project.csv` from the `/datasets` folder and store it in the variable `df`:"
   ]
  },
  {
   "cell_type": "code",
   "execution_count": 4,
   "metadata": {
    "id": "fFVu7vqh_Zct"
   },
   "outputs": [],
   "source": [
    "# reading the file with data and saving to df\n",
    "df = pd.read_csv('yandex_music_project.csv')"
   ]
  },
  {
   "cell_type": "markdown",
   "metadata": {
    "id": "rDoOMd3uTqnZ"
   },
   "source": [
    "Displaying the first ten rows of the table:"
   ]
  },
  {
   "cell_type": "code",
   "execution_count": 5,
   "metadata": {
    "id": "oWTVX3gW_Zct"
   },
   "outputs": [
    {
     "data": {
      "text/html": [
       "<div>\n",
       "<style scoped>\n",
       "    .dataframe tbody tr th:only-of-type {\n",
       "        vertical-align: middle;\n",
       "    }\n",
       "\n",
       "    .dataframe tbody tr th {\n",
       "        vertical-align: top;\n",
       "    }\n",
       "\n",
       "    .dataframe thead th {\n",
       "        text-align: right;\n",
       "    }\n",
       "</style>\n",
       "<table border=\"1\" class=\"dataframe\">\n",
       "  <thead>\n",
       "    <tr style=\"text-align: right;\">\n",
       "      <th></th>\n",
       "      <th>userID</th>\n",
       "      <th>Track</th>\n",
       "      <th>artist</th>\n",
       "      <th>genre</th>\n",
       "      <th>City</th>\n",
       "      <th>time</th>\n",
       "      <th>Day</th>\n",
       "    </tr>\n",
       "  </thead>\n",
       "  <tbody>\n",
       "    <tr>\n",
       "      <th>0</th>\n",
       "      <td>FFB692EC</td>\n",
       "      <td>Kamigata To Boots</td>\n",
       "      <td>The Mass Missile</td>\n",
       "      <td>rock</td>\n",
       "      <td>Saint-Petersburg</td>\n",
       "      <td>20:28:33</td>\n",
       "      <td>Wednesday</td>\n",
       "    </tr>\n",
       "    <tr>\n",
       "      <th>1</th>\n",
       "      <td>55204538</td>\n",
       "      <td>Delayed Because of Accident</td>\n",
       "      <td>Andreas Rönnberg</td>\n",
       "      <td>rock</td>\n",
       "      <td>Moscow</td>\n",
       "      <td>14:07:09</td>\n",
       "      <td>Friday</td>\n",
       "    </tr>\n",
       "    <tr>\n",
       "      <th>2</th>\n",
       "      <td>20EC38</td>\n",
       "      <td>Funiculì funiculà</td>\n",
       "      <td>Mario Lanza</td>\n",
       "      <td>pop</td>\n",
       "      <td>Saint-Petersburg</td>\n",
       "      <td>20:58:07</td>\n",
       "      <td>Wednesday</td>\n",
       "    </tr>\n",
       "    <tr>\n",
       "      <th>3</th>\n",
       "      <td>A3DD03C9</td>\n",
       "      <td>Dragons in the Sunset</td>\n",
       "      <td>Fire + Ice</td>\n",
       "      <td>folk</td>\n",
       "      <td>Saint-Petersburg</td>\n",
       "      <td>08:37:09</td>\n",
       "      <td>Monday</td>\n",
       "    </tr>\n",
       "    <tr>\n",
       "      <th>4</th>\n",
       "      <td>E2DC1FAE</td>\n",
       "      <td>Soul People</td>\n",
       "      <td>Space Echo</td>\n",
       "      <td>dance</td>\n",
       "      <td>Moscow</td>\n",
       "      <td>08:34:34</td>\n",
       "      <td>Monday</td>\n",
       "    </tr>\n",
       "    <tr>\n",
       "      <th>5</th>\n",
       "      <td>842029A1</td>\n",
       "      <td>Преданная</td>\n",
       "      <td>IMPERVTOR</td>\n",
       "      <td>rusrap</td>\n",
       "      <td>Saint-Petersburg</td>\n",
       "      <td>13:09:41</td>\n",
       "      <td>Friday</td>\n",
       "    </tr>\n",
       "    <tr>\n",
       "      <th>6</th>\n",
       "      <td>4CB90AA5</td>\n",
       "      <td>True</td>\n",
       "      <td>Roman Messer</td>\n",
       "      <td>dance</td>\n",
       "      <td>Moscow</td>\n",
       "      <td>13:00:07</td>\n",
       "      <td>Wednesday</td>\n",
       "    </tr>\n",
       "    <tr>\n",
       "      <th>7</th>\n",
       "      <td>F03E1C1F</td>\n",
       "      <td>Feeling This Way</td>\n",
       "      <td>Polina Griffith</td>\n",
       "      <td>dance</td>\n",
       "      <td>Moscow</td>\n",
       "      <td>20:47:49</td>\n",
       "      <td>Wednesday</td>\n",
       "    </tr>\n",
       "    <tr>\n",
       "      <th>8</th>\n",
       "      <td>8FA1D3BE</td>\n",
       "      <td>И вновь продолжается бой</td>\n",
       "      <td>NaN</td>\n",
       "      <td>ruspop</td>\n",
       "      <td>Moscow</td>\n",
       "      <td>09:17:40</td>\n",
       "      <td>Friday</td>\n",
       "    </tr>\n",
       "    <tr>\n",
       "      <th>9</th>\n",
       "      <td>E772D5C0</td>\n",
       "      <td>Pessimist</td>\n",
       "      <td>NaN</td>\n",
       "      <td>dance</td>\n",
       "      <td>Saint-Petersburg</td>\n",
       "      <td>21:20:49</td>\n",
       "      <td>Wednesday</td>\n",
       "    </tr>\n",
       "  </tbody>\n",
       "</table>\n",
       "</div>"
      ],
      "text/plain": [
       "     userID                        Track            artist   genre  \\\n",
       "0  FFB692EC            Kamigata To Boots  The Mass Missile    rock   \n",
       "1  55204538  Delayed Because of Accident  Andreas Rönnberg    rock   \n",
       "2    20EC38            Funiculì funiculà       Mario Lanza     pop   \n",
       "3  A3DD03C9        Dragons in the Sunset        Fire + Ice    folk   \n",
       "4  E2DC1FAE                  Soul People        Space Echo   dance   \n",
       "5  842029A1                    Преданная         IMPERVTOR  rusrap   \n",
       "6  4CB90AA5                         True      Roman Messer   dance   \n",
       "7  F03E1C1F             Feeling This Way   Polina Griffith   dance   \n",
       "8  8FA1D3BE     И вновь продолжается бой               NaN  ruspop   \n",
       "9  E772D5C0                    Pessimist               NaN   dance   \n",
       "\n",
       "             City        time        Day  \n",
       "0  Saint-Petersburg  20:28:33  Wednesday  \n",
       "1            Moscow  14:07:09     Friday  \n",
       "2  Saint-Petersburg  20:58:07  Wednesday  \n",
       "3  Saint-Petersburg  08:37:09     Monday  \n",
       "4            Moscow  08:34:34     Monday  \n",
       "5  Saint-Petersburg  13:09:41     Friday  \n",
       "6            Moscow  13:00:07  Wednesday  \n",
       "7            Moscow  20:47:49  Wednesday  \n",
       "8            Moscow  09:17:40     Friday  \n",
       "9  Saint-Petersburg  21:20:49  Wednesday  "
      ]
     },
     "metadata": {},
     "output_type": "display_data"
    }
   ],
   "source": [
    "# retrieving the first 10 rows of the df table\n",
    "display(df.head(10))"
   ]
  },
  {
   "cell_type": "markdown",
   "metadata": {
    "id": "EO73Kwic_Zct"
   },
   "source": [
    "The first look at raw data is an important part of any research. We can get general information about the table with one command:"
   ]
  },
  {
   "cell_type": "code",
   "execution_count": 6,
   "metadata": {
    "id": "DSf2kIb-_Zct"
   },
   "outputs": [
    {
     "name": "stdout",
     "output_type": "stream",
     "text": [
      "<class 'pandas.core.frame.DataFrame'>\n",
      "RangeIndex: 65079 entries, 0 to 65078\n",
      "Data columns (total 7 columns):\n",
      " #   Column    Non-Null Count  Dtype \n",
      "---  ------    --------------  ----- \n",
      " 0     userID  65079 non-null  object\n",
      " 1   Track     63848 non-null  object\n",
      " 2   artist    57876 non-null  object\n",
      " 3   genre     63881 non-null  object\n",
      " 4     City    65079 non-null  object\n",
      " 5   time      65079 non-null  object\n",
      " 6   Day       65079 non-null  object\n",
      "dtypes: object(7)\n",
      "memory usage: 3.5+ MB\n"
     ]
    }
   ],
   "source": [
    "# obtaining general information about the data in the df table\n",
    "df.info()"
   ]
  },
  {
   "cell_type": "markdown",
   "metadata": {},
   "source": [
    "<div class=\"alert alert-success\">\n",
    "<h2> Комментарий ревьюера ✔️ <a class=\"tocSkip\"> </h2>\n",
    "\n",
    "Пайплан первичной обработки можно усилить добавив [describe](https://pandas.pydata.org/pandas-docs/stable/reference/api/pandas.DataFrame.describe.html) \n"
   ]
  },
  {
   "cell_type": "markdown",
   "metadata": {},
   "source": [
    "So, there are seven columns in the table. The data type in all columns is `objec`t.\n",
    "\n",
    "According to the data documentation:\n",
    "\n",
    "* `userID` — user identifier;\n",
    "* `Track` — track title;\n",
    "* `artist` — artist's name;\n",
    "* `genre` — genre name;\n",
    "* `City` — user's city;\n",
    "* `time` — time of starting to listen;\n",
    "* `Day` — day of the week.\n",
    "* `There` are three violations of style in the column names:\n",
    "\n",
    "Lowercase letters are mixed with uppercase.\n",
    "1. Spaces are present.\n",
    "2. Some words need to be written in “snake_case”\n",
    "3. The number of values in columns varies. \n",
    "\n",
    "This means there are missing values in the data."
   ]
  },
  {
   "cell_type": "markdown",
   "metadata": {},
   "source": [
    "**Conclusions**\n",
    "\n",
    "Each row of the table contains data about a track listened to. Part of the columns describes the composition itself: its title, performer, and genre. The rest of the data tells about the user: what city they're from, when they listened to music.\n",
    "\n",
    "Preliminarily, it can be stated that there is enough data to test hypotheses. However, there are gaps in the data, and there are discrepancies with good style in the column names.\n",
    "\n",
    "To move forward, it's necessary to address these issues in the data."
   ]
  },
  {
   "cell_type": "markdown",
   "metadata": {
    "id": "SjYF6Ub9_Zct"
   },
   "source": [
    "## Data Preprocessing\n",
    "Let's correct the style in the column headers, eliminate the gaps. Then check the data for duplicates."
   ]
  },
  {
   "cell_type": "markdown",
   "metadata": {
    "id": "dIaKXr29_Zct"
   },
   "source": [
    "### Column Header Style\n",
    "Let's display the column names:"
   ]
  },
  {
   "cell_type": "code",
   "execution_count": 7,
   "metadata": {
    "id": "oKOTdF_Q_Zct",
    "scrolled": true
   },
   "outputs": [
    {
     "data": {
      "text/plain": [
       "Index(['  userID', 'Track', 'artist', 'genre', '  City  ', 'time', 'Day'], dtype='object')"
      ]
     },
     "execution_count": 7,
     "metadata": {},
     "output_type": "execute_result"
    }
   ],
   "source": [
    "# list of df table column names\n",
    "df.columns"
   ]
  },
  {
   "cell_type": "markdown",
   "metadata": {},
   "source": [
    "Let's conform the names to good style:\n",
    "\n",
    "* write multiple words in the title in “snake_case”,\n",
    "* make all characters lowercase,\n",
    "* eliminate spaces.\n",
    "\n",
    "To do this, we'll rename the columns as follows:\n",
    "\n",
    "* `' userID'` → `'user_id'`;\n",
    "* `'Track'` → `'track'`;\n",
    "* `' City '` → `'city'`;\n",
    "* `'Day'` → `'day'`."
   ]
  },
  {
   "cell_type": "code",
   "execution_count": 8,
   "metadata": {
    "id": "ISlFqs5y_Zct"
   },
   "outputs": [],
   "source": [
    "# renaming columns\n",
    "df = df.rename(columns = {'  userID':'user_id', \n",
    "                          'Track':'track', \n",
    "                          '  City  ':'city', \n",
    "                          'Day':'day'})"
   ]
  },
  {
   "cell_type": "markdown",
   "metadata": {
    "id": "1dqbh00J_Zct"
   },
   "source": [
    "Let's check the result. To do this, we'll display the column names again:"
   ]
  },
  {
   "cell_type": "code",
   "execution_count": 9,
   "metadata": {
    "id": "d4NOAmTW_Zct"
   },
   "outputs": [
    {
     "data": {
      "text/plain": [
       "Index(['user_id', 'track', 'artist', 'genre', 'city', 'time', 'day'], dtype='object')"
      ]
     },
     "execution_count": 9,
     "metadata": {},
     "output_type": "execute_result"
    }
   ],
   "source": [
    "# checking results - list of column names\n",
    "df.columns"
   ]
  },
  {
   "cell_type": "markdown",
   "metadata": {
    "id": "5ISfbcfY_Zct"
   },
   "source": [
    "### Missing Values\n",
    "First, we'll count how many missing values there are in the table. For this, two `pandas` methods are sufficient:\n"
   ]
  },
  {
   "cell_type": "code",
   "execution_count": 10,
   "metadata": {
    "id": "RskX29qr_Zct",
    "scrolled": true
   },
   "outputs": [
    {
     "data": {
      "text/plain": [
       "user_id       0\n",
       "track      1231\n",
       "artist     7203\n",
       "genre      1198\n",
       "city          0\n",
       "time          0\n",
       "day           0\n",
       "dtype: int64"
      ]
     },
     "execution_count": 10,
     "metadata": {},
     "output_type": "execute_result"
    }
   ],
   "source": [
    "# counting missing values\n",
    "df.isna().sum()"
   ]
  },
  {
   "cell_type": "markdown",
   "metadata": {},
   "source": [
    "The methods `isna()` and `isnull()` are similar, but `isnull()` is a copy (alias) for `isna()`, so using it is considered best practice."
   ]
  },
  {
   "cell_type": "markdown",
   "metadata": {},
   "source": [
    "Not all missing values affect the research. So in `track` and `artist`, gaps are not important for our work. It's enough to replace them with explicit designations.\n",
    "\n",
    "However, gaps in the `genre` may hinder the comparison of musical tastes in Moscow and St. Petersburg. In practice, it would be correct to establish the cause of the gaps and restore the data. I will have to:\n",
    "\n",
    "* fill in these gaps with explicit designations,\n",
    "* assess how much they will harm the calculations."
   ]
  },
  {
   "cell_type": "markdown",
   "metadata": {},
   "source": [
    "Replace the missing values in the `track`, `artist`, and `genre` columns with the string `'unknown'`. For this, I'll create a list `columns_to_replace`, iterate through its elements, and for each column, perform the replacement of missing values:"
   ]
  },
  {
   "cell_type": "code",
   "execution_count": 11,
   "metadata": {
    "id": "KplB5qWs_Zct"
   },
   "outputs": [],
   "source": [
    "# iterating through column names and replacing missing values with 'unknown'\n",
    "columns_to_replace = ['track', 'artist', 'genre']\n",
    "df[columns_to_replace] = df[columns_to_replace].fillna('unknown')"
   ]
  },
  {
   "cell_type": "markdown",
   "metadata": {
    "id": "Ilsm-MZo_Zct"
   },
   "source": [
    "Let's make sure there are no more gaps in the table. To do this, we'll count the missing values again.\n",
    "\n"
   ]
  },
  {
   "cell_type": "code",
   "execution_count": 12,
   "metadata": {
    "id": "Tq4nYRX4_Zct"
   },
   "outputs": [
    {
     "data": {
      "text/plain": [
       "user_id    0\n",
       "track      0\n",
       "artist     0\n",
       "genre      0\n",
       "city       0\n",
       "time       0\n",
       "day        0\n",
       "dtype: int64"
      ]
     },
     "execution_count": 12,
     "metadata": {},
     "output_type": "execute_result"
    }
   ],
   "source": [
    "# counting missing values\n",
    "df.isna().sum()"
   ]
  },
  {
   "cell_type": "markdown",
   "metadata": {
    "id": "BWKRtBJ3_Zct"
   },
   "source": [
    "### Duplicates\n",
    "Let's calculate the explicit duplicates in the table with one command:"
   ]
  },
  {
   "cell_type": "code",
   "execution_count": 13,
   "metadata": {
    "id": "36eES_S0_Zct"
   },
   "outputs": [
    {
     "data": {
      "text/plain": [
       "3826"
      ]
     },
     "execution_count": 13,
     "metadata": {},
     "output_type": "execute_result"
    }
   ],
   "source": [
    "# counting explicit duplicates\n",
    "df.duplicated().sum()"
   ]
  },
  {
   "cell_type": "markdown",
   "metadata": {},
   "source": [
    "<div class=\"alert alert-success\">\n",
    "\n",
    "Wow, that's a lot...\n",
    "\n",
    "![](https://i.ibb.co/s13m30m/C2pL.gif)\n"
   ]
  },
  {
   "cell_type": "markdown",
   "metadata": {
    "id": "Ot25h6XR_Zct"
   },
   "source": [
    "Let's invoke a special `pandas` method to remove explicit duplicates"
   ]
  },
  {
   "cell_type": "code",
   "execution_count": 14,
   "metadata": {
    "id": "exFHq6tt_Zct"
   },
   "outputs": [],
   "source": [
    "# removing explicit duplicates (deleting old indexes and forming new ones)\n",
    "df = df.drop_duplicates().reset_index(drop=True)"
   ]
  },
  {
   "cell_type": "markdown",
   "metadata": {
    "id": "Im2YwBEG_Zct"
   },
   "source": [
    "Let's count the explicit duplicates in the table again to ensure they are completely gone:"
   ]
  },
  {
   "cell_type": "code",
   "execution_count": 15,
   "metadata": {
    "id": "-8PuNWQ0_Zct"
   },
   "outputs": [
    {
     "data": {
      "text/plain": [
       "0"
      ]
     },
     "execution_count": 15,
     "metadata": {},
     "output_type": "execute_result"
    }
   ],
   "source": [
    "# checking for the absence of duplicates\n",
    "df.duplicated().sum()"
   ]
  },
  {
   "cell_type": "markdown",
   "metadata": {
    "id": "QlFBsxAr_Zct"
   },
   "source": [
    "Now, let's eliminate the implicit duplicates in the `genre` column. For example, the name of the same genre might be recorded slightly differently. Such mistakes will also affect the research outcome."
   ]
  },
  {
   "cell_type": "markdown",
   "metadata": {},
   "source": [
    "Let's display a list of unique genre names, sorted in alphabetical order. To do this, we'll:\n",
    "\n",
    "* extract the necessary dataframe column,\n",
    "* apply the sorting method to it,\n",
    "* for the sorted column, invoke the method that will return unique values from the column."
   ]
  },
  {
   "cell_type": "code",
   "execution_count": 16,
   "metadata": {
    "id": "JIUcqzZN_Zct"
   },
   "outputs": [
    {
     "data": {
      "text/plain": [
       "array(['acid', 'acoustic', 'action', 'adult', 'africa', 'afrikaans',\n",
       "       'alternative', 'alternativepunk', 'ambient', 'americana',\n",
       "       'animated', 'anime', 'arabesk', 'arabic', 'arena',\n",
       "       'argentinetango', 'art', 'audiobook', 'author', 'avantgarde',\n",
       "       'axé', 'baile', 'balkan', 'beats', 'bigroom', 'black', 'bluegrass',\n",
       "       'blues', 'bollywood', 'bossa', 'brazilian', 'breakbeat', 'breaks',\n",
       "       'broadway', 'cantautori', 'cantopop', 'canzone', 'caribbean',\n",
       "       'caucasian', 'celtic', 'chamber', 'chanson', 'children', 'chill',\n",
       "       'chinese', 'choral', 'christian', 'christmas', 'classical',\n",
       "       'classicmetal', 'club', 'colombian', 'comedy', 'conjazz',\n",
       "       'contemporary', 'country', 'cuban', 'dance', 'dancehall',\n",
       "       'dancepop', 'dark', 'death', 'deep', 'deutschrock', 'deutschspr',\n",
       "       'dirty', 'disco', 'dnb', 'documentary', 'downbeat', 'downtempo',\n",
       "       'drum', 'dub', 'dubstep', 'eastern', 'easy', 'electronic',\n",
       "       'electropop', 'emo', 'entehno', 'epicmetal', 'estrada', 'ethnic',\n",
       "       'eurofolk', 'european', 'experimental', 'extrememetal', 'fado',\n",
       "       'fairytail', 'film', 'fitness', 'flamenco', 'folk', 'folklore',\n",
       "       'folkmetal', 'folkrock', 'folktronica', 'forró', 'frankreich',\n",
       "       'französisch', 'french', 'funk', 'future', 'gangsta', 'garage',\n",
       "       'german', 'ghazal', 'gitarre', 'glitch', 'gospel', 'gothic',\n",
       "       'grime', 'grunge', 'gypsy', 'handsup', \"hard'n'heavy\", 'hardcore',\n",
       "       'hardstyle', 'hardtechno', 'hip', 'hip-hop', 'hiphop',\n",
       "       'historisch', 'holiday', 'hop', 'horror', 'house', 'hymn', 'idm',\n",
       "       'independent', 'indian', 'indie', 'indipop', 'industrial',\n",
       "       'inspirational', 'instrumental', 'international', 'irish', 'jam',\n",
       "       'japanese', 'jazz', 'jewish', 'jpop', 'jungle', 'k-pop',\n",
       "       'karadeniz', 'karaoke', 'kayokyoku', 'korean', 'laiko', 'latin',\n",
       "       'latino', 'leftfield', 'local', 'lounge', 'loungeelectronic',\n",
       "       'lovers', 'malaysian', 'mandopop', 'marschmusik', 'meditative',\n",
       "       'mediterranean', 'melodic', 'metal', 'metalcore', 'mexican',\n",
       "       'middle', 'minimal', 'miscellaneous', 'modern', 'mood', 'mpb',\n",
       "       'muslim', 'native', 'neoklassik', 'neue', 'new', 'newage',\n",
       "       'newwave', 'nu', 'nujazz', 'numetal', 'oceania', 'old', 'opera',\n",
       "       'orchestral', 'other', 'piano', 'podcasts', 'pop', 'popdance',\n",
       "       'popelectronic', 'popeurodance', 'poprussian', 'post',\n",
       "       'posthardcore', 'postrock', 'power', 'progmetal', 'progressive',\n",
       "       'psychedelic', 'punjabi', 'punk', 'quebecois', 'ragga', 'ram',\n",
       "       'rancheras', 'rap', 'rave', 'reggae', 'reggaeton', 'regional',\n",
       "       'relax', 'religious', 'retro', 'rhythm', 'rnb', 'rnr', 'rock',\n",
       "       'rockabilly', 'rockalternative', 'rockindie', 'rockother',\n",
       "       'romance', 'roots', 'ruspop', 'rusrap', 'rusrock', 'russian',\n",
       "       'salsa', 'samba', 'scenic', 'schlager', 'self', 'sertanejo',\n",
       "       'shanson', 'shoegazing', 'showtunes', 'singer', 'ska', 'skarock',\n",
       "       'slow', 'smooth', 'soft', 'soul', 'soulful', 'sound', 'soundtrack',\n",
       "       'southern', 'specialty', 'speech', 'spiritual', 'sport',\n",
       "       'stonerrock', 'surf', 'swing', 'synthpop', 'synthrock',\n",
       "       'sängerportrait', 'tango', 'tanzorchester', 'taraftar', 'tatar',\n",
       "       'tech', 'techno', 'teen', 'thrash', 'top', 'traditional',\n",
       "       'tradjazz', 'trance', 'tribal', 'trip', 'triphop', 'tropical',\n",
       "       'türk', 'türkçe', 'ukrrock', 'unknown', 'urban', 'uzbek',\n",
       "       'variété', 'vi', 'videogame', 'vocal', 'western', 'world',\n",
       "       'worldbeat', 'ïîï', 'электроника'], dtype=object)"
      ]
     },
     "execution_count": 16,
     "metadata": {},
     "output_type": "execute_result"
    }
   ],
   "source": [
    "# Viewing unique genre names\n",
    "genre_column = df['genre'].sort_values().unique()\n",
    "genre_column"
   ]
  },
  {
   "cell_type": "markdown",
   "metadata": {},
   "source": [
    "Let's review the list and find implicit duplicates for the name hiphop. These could be names with mistakes or alternative names for the same genre.\n",
    "\n",
    "I can see the following implicit duplicates:\n",
    "\n",
    "* *hip*,\n",
    "* *hop*,\n",
    "* *hip-hop*.\n",
    "\n",
    "To clean the table from them, let's write a function replace_wrong_genres() with two parameters:\n",
    "\n",
    "* `wrong_genres` — a list of duplicates,\n",
    "* `correct_genre` — a string with the correct value.\n",
    "\n",
    "The function should correct the `genre` column in the `df` table: replace each value from the `wrong_genres` list with the value from `correct_genre`."
   ]
  },
  {
   "cell_type": "code",
   "execution_count": 17,
   "metadata": {
    "id": "ErNDkmns_Zct"
   },
   "outputs": [],
   "source": [
    "# the function for the e;iminating of the duplicates\n",
    "def replace_wrong_genres(wrong_genres, correct_genre):\n",
    "    df['genre'] = df['genre'].replace(wrong_genres, correct_genre)\n",
    "    return df"
   ]
  },
  {
   "cell_type": "markdown",
   "metadata": {},
   "source": [
    "<div class=\"alert alert-success\">\n",
    "\n",
    "To make thi things siplier, we can use one `replace`: \n",
    "    \n",
    "```python\n",
    "duplicates = ['hip', 'hop', 'hip-hop']\n",
    "correct_name = 'hiphop'  \n",
    "\n",
    "df['genre'] = df['genre'].replace(duplicates, correct_name)\n",
    "```\n",
    "\n",
    "We can also use this method:\n",
    "\n",
    "    \n",
    "```python\n",
    "df['genre'] = df['genre'].replace(['hip', 'hop', 'hip-hop'], 'hiphop')\n",
    "```\n"
   ]
  },
  {
   "cell_type": "markdown",
   "metadata": {
    "id": "aDoBJxbA_Zct"
   },
   "source": [
    "Let's call `replace_wrong_genres()` and pass the arguments, such that the words `hip`, `hop` and `hip-hop` will be replaces on `hiphop`:"
   ]
  },
  {
   "cell_type": "code",
   "execution_count": 18,
   "metadata": {
    "id": "YN5i2hpmSo09"
   },
   "outputs": [],
   "source": [
    "# eliminating the duplicates\n",
    "list_of_wrong_genres = ['hip', 'hop', 'hip-hop']\n",
    "for element in list_of_wrong_genres:\n",
    "    replace_wrong_genres(element, 'hiphop')"
   ]
  },
  {
   "cell_type": "markdown",
   "metadata": {},
   "source": [
    "Let's check that we have replaced the incorrect names:\n",
    "\n",
    "*   hip\n",
    "*   hop\n",
    "*   hip-hop\n",
    "\n",
    "And let's output the sorted list of unique values from the `genre` column:"
   ]
  },
  {
   "cell_type": "code",
   "execution_count": 19,
   "metadata": {
    "id": "wvixALnFG15m",
    "scrolled": true
   },
   "outputs": [
    {
     "data": {
      "text/plain": [
       "array(['acid', 'acoustic', 'action', 'adult', 'africa', 'afrikaans',\n",
       "       'alternative', 'alternativepunk', 'ambient', 'americana',\n",
       "       'animated', 'anime', 'arabesk', 'arabic', 'arena',\n",
       "       'argentinetango', 'art', 'audiobook', 'author', 'avantgarde',\n",
       "       'axé', 'baile', 'balkan', 'beats', 'bigroom', 'black', 'bluegrass',\n",
       "       'blues', 'bollywood', 'bossa', 'brazilian', 'breakbeat', 'breaks',\n",
       "       'broadway', 'cantautori', 'cantopop', 'canzone', 'caribbean',\n",
       "       'caucasian', 'celtic', 'chamber', 'chanson', 'children', 'chill',\n",
       "       'chinese', 'choral', 'christian', 'christmas', 'classical',\n",
       "       'classicmetal', 'club', 'colombian', 'comedy', 'conjazz',\n",
       "       'contemporary', 'country', 'cuban', 'dance', 'dancehall',\n",
       "       'dancepop', 'dark', 'death', 'deep', 'deutschrock', 'deutschspr',\n",
       "       'dirty', 'disco', 'dnb', 'documentary', 'downbeat', 'downtempo',\n",
       "       'drum', 'dub', 'dubstep', 'eastern', 'easy', 'electronic',\n",
       "       'electropop', 'emo', 'entehno', 'epicmetal', 'estrada', 'ethnic',\n",
       "       'eurofolk', 'european', 'experimental', 'extrememetal', 'fado',\n",
       "       'fairytail', 'film', 'fitness', 'flamenco', 'folk', 'folklore',\n",
       "       'folkmetal', 'folkrock', 'folktronica', 'forró', 'frankreich',\n",
       "       'französisch', 'french', 'funk', 'future', 'gangsta', 'garage',\n",
       "       'german', 'ghazal', 'gitarre', 'glitch', 'gospel', 'gothic',\n",
       "       'grime', 'grunge', 'gypsy', 'handsup', \"hard'n'heavy\", 'hardcore',\n",
       "       'hardstyle', 'hardtechno', 'hiphop', 'historisch', 'holiday',\n",
       "       'horror', 'house', 'hymn', 'idm', 'independent', 'indian', 'indie',\n",
       "       'indipop', 'industrial', 'inspirational', 'instrumental',\n",
       "       'international', 'irish', 'jam', 'japanese', 'jazz', 'jewish',\n",
       "       'jpop', 'jungle', 'k-pop', 'karadeniz', 'karaoke', 'kayokyoku',\n",
       "       'korean', 'laiko', 'latin', 'latino', 'leftfield', 'local',\n",
       "       'lounge', 'loungeelectronic', 'lovers', 'malaysian', 'mandopop',\n",
       "       'marschmusik', 'meditative', 'mediterranean', 'melodic', 'metal',\n",
       "       'metalcore', 'mexican', 'middle', 'minimal', 'miscellaneous',\n",
       "       'modern', 'mood', 'mpb', 'muslim', 'native', 'neoklassik', 'neue',\n",
       "       'new', 'newage', 'newwave', 'nu', 'nujazz', 'numetal', 'oceania',\n",
       "       'old', 'opera', 'orchestral', 'other', 'piano', 'podcasts', 'pop',\n",
       "       'popdance', 'popelectronic', 'popeurodance', 'poprussian', 'post',\n",
       "       'posthardcore', 'postrock', 'power', 'progmetal', 'progressive',\n",
       "       'psychedelic', 'punjabi', 'punk', 'quebecois', 'ragga', 'ram',\n",
       "       'rancheras', 'rap', 'rave', 'reggae', 'reggaeton', 'regional',\n",
       "       'relax', 'religious', 'retro', 'rhythm', 'rnb', 'rnr', 'rock',\n",
       "       'rockabilly', 'rockalternative', 'rockindie', 'rockother',\n",
       "       'romance', 'roots', 'ruspop', 'rusrap', 'rusrock', 'russian',\n",
       "       'salsa', 'samba', 'scenic', 'schlager', 'self', 'sertanejo',\n",
       "       'shanson', 'shoegazing', 'showtunes', 'singer', 'ska', 'skarock',\n",
       "       'slow', 'smooth', 'soft', 'soul', 'soulful', 'sound', 'soundtrack',\n",
       "       'southern', 'specialty', 'speech', 'spiritual', 'sport',\n",
       "       'stonerrock', 'surf', 'swing', 'synthpop', 'synthrock',\n",
       "       'sängerportrait', 'tango', 'tanzorchester', 'taraftar', 'tatar',\n",
       "       'tech', 'techno', 'teen', 'thrash', 'top', 'traditional',\n",
       "       'tradjazz', 'trance', 'tribal', 'trip', 'triphop', 'tropical',\n",
       "       'türk', 'türkçe', 'ukrrock', 'unknown', 'urban', 'uzbek',\n",
       "       'variété', 'vi', 'videogame', 'vocal', 'western', 'world',\n",
       "       'worldbeat', 'ïîï', 'электроника'], dtype=object)"
      ]
     },
     "execution_count": 19,
     "metadata": {},
     "output_type": "execute_result"
    }
   ],
   "source": [
    "# Cheching the duplicates\n",
    "genre_column = df['genre'].sort_values()\n",
    "genre_column.unique()"
   ]
  },
  {
   "cell_type": "markdown",
   "metadata": {},
   "source": [
    "**Conclusions**\n",
    "\n",
    "The preprocessing revealed three problems with the data:\n",
    "\n",
    "- violations in header style,\n",
    "- missing values,\n",
    "- duplicates — both explicit and implicit.\n",
    "\n",
    "We corrected the headers to simplify working with the table. The research will be more accurate without duplicates.\n",
    "\n",
    "We replaced missing values with `'unknown'`. It remains to be seen whether the missing data in the genre column will harm the research.\n",
    "\n",
    "Now we can move on to hypothesis testing."
   ]
  },
  {
   "cell_type": "markdown",
   "metadata": {
    "id": "WttZHXH0SqKk"
   },
   "source": [
    "## Hypothesis Testing"
   ]
  },
  {
   "cell_type": "markdown",
   "metadata": {
    "id": "Im936VVi_Zcu"
   },
   "source": [
    "### Comparison of User Behavior in Two Capitals"
   ]
  },
  {
   "cell_type": "markdown",
   "metadata": {},
   "source": [
    "The first hypothesis claims that users listen to music differently in Moscow and Saint Petersburg. Let's verify this assumption based on data from three weekdays - Monday, Wednesday, and Friday. To do this, we'll:\n",
    "\n",
    "* Divide the users from Moscow and Saint Petersburg.\n",
    "* Compare how many tracks each group of users listened to on Monday, Wednesday, and Friday.\n",
    "\n",
    "For practice, let's perform each of the calculations separately first, and evaluate user activity in each city. then, we'll group the data by city and count the listens in each group."
   ]
  },
  {
   "cell_type": "code",
   "execution_count": 20,
   "metadata": {
    "id": "0_Qs96oh_Zcu"
   },
   "outputs": [
    {
     "data": {
      "text/plain": [
       "city\n",
       "Moscow              42741\n",
       "Saint-Petersburg    18512\n",
       "Name: track, dtype: int64"
      ]
     },
     "execution_count": 20,
     "metadata": {},
     "output_type": "execute_result"
    }
   ],
   "source": [
    "# Counting listens in each city\n",
    "music_in_cities = df.groupby('city')['track'].count()\n",
    "music_in_cities"
   ]
  },
  {
   "cell_type": "markdown",
   "metadata": {
    "id": "dzli3w8o_Zcu"
   },
   "source": [
    "There are more listens in Moscow than in Saint Petersburg. This doesn't necessarily mean that users in Moscow listen to music more often. There are simply more users in Moscow.\n",
    "\n",
    "Now we'll group the data by weekday and count the listens on Monday, Wednesday, and Friday. We have to note that the data only has information about listens for these days.\n"
   ]
  },
  {
   "cell_type": "code",
   "execution_count": 21,
   "metadata": {
    "id": "uZMKjiJz_Zcu"
   },
   "outputs": [
    {
     "data": {
      "text/plain": [
       "day\n",
       "Friday       21840\n",
       "Monday       21354\n",
       "Wednesday    18059\n",
       "Name: track, dtype: int64"
      ]
     },
     "execution_count": 21,
     "metadata": {},
     "output_type": "execute_result"
    }
   ],
   "source": [
    "# Counting listens on each of the three days\n",
    "music_in_cities = df.groupby('day')['track'].count()\n",
    "music_in_cities"
   ]
  },
  {
   "cell_type": "markdown",
   "metadata": {
    "id": "cC2tNrlL_Zcu"
   },
   "source": [
    "On average, users from both cities are less active on Wednesdays. But the picture may change if we consider each city separately."
   ]
  },
  {
   "cell_type": "markdown",
   "metadata": {},
   "source": [
    "We've seen how grouping works by city and by days of the week. Now we'll write a function that combines these two calculations.\n",
    "\n",
    "Let's create a function `number_tracks()`, which will count the listens for a given day and city. It will need two parameters:\n",
    "\n",
    "* the day of the week,\n",
    "* the name of the city.\n",
    "\n",
    "In the function, we'll save to a variable the rows of the original table where the value:\n",
    "\n",
    "    *  in the `day` column equals the `day` parameter,\n",
    "    *  in the `city` column equals the `city` parameter.\n",
    "    \n",
    "To do this, we'll apply sequential filtering with logical indexing.\n",
    "\n",
    "Then we'll count the values in the `user_id` column of the resulting table and save the result to a new variable. Then we'll return this variable from the function."
   ]
  },
  {
   "cell_type": "code",
   "execution_count": 22,
   "metadata": {
    "id": "Nz3GdQB1_Zcu"
   },
   "outputs": [],
   "source": [
    "# <creating the function number_tracks()>\n",
    "def number_tracks(day, city):\n",
    "    '''A function is declared with two parameters: day, city.'''\n",
    "    # The track_list variable stores those rows of the df table for which \n",
    "    # the value in the 'day' column equals the day parameter and at the same time the value\n",
    "    # in the 'city' column equals the city parameter (we've used sequential filtering\n",
    "    # with logical indexing).\n",
    "    track_list = df[df['day'] == day]\n",
    "    track_list = track_list[track_list['city'] == city]\n",
    "    \n",
    "    # The track_list_count variable stores the number of 'user_id' column values,\n",
    "    # calculated by the count() method for the track_list table.\n",
    "    # The function returns a number - the value of track_list_count.\n",
    "    \n",
    "    # A function to count the listens for a specific city and day.\n",
    "    # Using sequential filtering with logical indexing, it will\n",
    "    # first retrieve rows with the required day from the original table,\n",
    "    # then from the result, it will filter rows with the required city,\n",
    "    # and using the count() method, it will calculate the number of values in the user_id column. \n",
    "    # The function will return this quantity as a result\n",
    "    track_list_count = track_list['user_id'].count()\n",
    "    return track_list_count\n",
    "\n",
    "   \n",
    "\n"
   ]
  },
  {
   "cell_type": "markdown",
   "metadata": {
    "id": "ytf7xFrFJQ2r"
   },
   "source": [
    "Let's call `number_tracks()` six times, changing the parameter values — to get data for each city on each of the three days."
   ]
  },
  {
   "cell_type": "code",
   "execution_count": 23,
   "metadata": {
    "id": "rJcRATNQ_Zcu"
   },
   "outputs": [
    {
     "data": {
      "text/plain": [
       "15740"
      ]
     },
     "execution_count": 23,
     "metadata": {},
     "output_type": "execute_result"
    }
   ],
   "source": [
    "# number of listens in Moscow on Mondays\n",
    "number_tracks('Monday','Moscow')"
   ]
  },
  {
   "cell_type": "code",
   "execution_count": 24,
   "metadata": {
    "id": "hq_ncZ5T_Zcu"
   },
   "outputs": [
    {
     "data": {
      "text/plain": [
       "5614"
      ]
     },
     "execution_count": 24,
     "metadata": {},
     "output_type": "execute_result"
    }
   ],
   "source": [
    "# number of listens in Saint Petersburg on Mondays\n",
    "number_tracks('Monday', 'Saint-Petersburg')"
   ]
  },
  {
   "cell_type": "code",
   "execution_count": 23,
   "metadata": {
    "id": "_NTy2VPU_Zcu"
   },
   "outputs": [
    {
     "data": {
      "text/plain": [
       "11056"
      ]
     },
     "execution_count": 23,
     "metadata": {},
     "output_type": "execute_result"
    }
   ],
   "source": [
    "# number of listens in Moscow on Wednesdays\n",
    "number_tracks('Wednesday', 'Moscow')"
   ]
  },
  {
   "cell_type": "code",
   "execution_count": 25,
   "metadata": {
    "id": "j2y3TAwo_Zcu"
   },
   "outputs": [
    {
     "data": {
      "text/plain": [
       "7003"
      ]
     },
     "execution_count": 25,
     "metadata": {},
     "output_type": "execute_result"
    }
   ],
   "source": [
    "# number of listens in Saint Petersburg on Wednesdays\n",
    "number_tracks('Wednesday', 'Saint-Petersburg')"
   ]
  },
  {
   "cell_type": "code",
   "execution_count": 27,
   "metadata": {
    "id": "vYDw5u_K_Zcu"
   },
   "outputs": [
    {
     "data": {
      "text/plain": [
       "15945"
      ]
     },
     "execution_count": 27,
     "metadata": {},
     "output_type": "execute_result"
    }
   ],
   "source": [
    "# number of listens in Moscow on Fridays\n",
    "number_tracks('Friday', 'Moscow')"
   ]
  },
  {
   "cell_type": "code",
   "execution_count": 28,
   "metadata": {
    "id": "8_yzFtW3_Zcu"
   },
   "outputs": [
    {
     "data": {
      "text/plain": [
       "5895"
      ]
     },
     "execution_count": 28,
     "metadata": {},
     "output_type": "execute_result"
    }
   ],
   "source": [
    "# number of listens in Saint Petersburg on Fridays\n",
    "number_tracks('Friday', 'Saint-Petersburg')"
   ]
  },
  {
   "cell_type": "markdown",
   "metadata": {},
   "source": [
    "<div class=\"alert alert-success\"> \n",
    "\n",
    "We can also do this in a cycle:\n",
    "\n",
    "```python\n",
    "for weekday, city in zip(['Monday', 'Wednesday', 'Friday']*2, sorted(['Moscow', 'Saint-Petersburg']*3)):\n",
    "    print(f'The number of listens in a {city} on {weekday} is {number_tracks(weekday, city)}')\n",
    "```"
   ]
  },
  {
   "cell_type": "markdown",
   "metadata": {
    "id": "7QXffbO-_Zcu"
   },
   "source": [
    "Let's now create a table using the `pd.DataFrame` constructor, where: \n",
    "* column_names  — `['city', 'monday', 'wednesday', 'friday']`;\n",
    "* data - the results I have obtained using `number_tracks`."
   ]
  },
  {
   "cell_type": "code",
   "execution_count": 29,
   "metadata": {
    "id": "APAcLpOr_Zcu"
   },
   "outputs": [
    {
     "data": {
      "text/html": [
       "<div>\n",
       "<style scoped>\n",
       "    .dataframe tbody tr th:only-of-type {\n",
       "        vertical-align: middle;\n",
       "    }\n",
       "\n",
       "    .dataframe tbody tr th {\n",
       "        vertical-align: top;\n",
       "    }\n",
       "\n",
       "    .dataframe thead th {\n",
       "        text-align: right;\n",
       "    }\n",
       "</style>\n",
       "<table border=\"1\" class=\"dataframe\">\n",
       "  <thead>\n",
       "    <tr style=\"text-align: right;\">\n",
       "      <th></th>\n",
       "      <th>city</th>\n",
       "      <th>monday</th>\n",
       "      <th>wednesday</th>\n",
       "      <th>friday</th>\n",
       "    </tr>\n",
       "  </thead>\n",
       "  <tbody>\n",
       "    <tr>\n",
       "      <th>0</th>\n",
       "      <td>Moscow</td>\n",
       "      <td>15740</td>\n",
       "      <td>11056</td>\n",
       "      <td>15945</td>\n",
       "    </tr>\n",
       "    <tr>\n",
       "      <th>1</th>\n",
       "      <td>Saint-Petersburg</td>\n",
       "      <td>5614</td>\n",
       "      <td>7003</td>\n",
       "      <td>5895</td>\n",
       "    </tr>\n",
       "  </tbody>\n",
       "</table>\n",
       "</div>"
      ],
      "text/plain": [
       "               city  monday  wednesday  friday\n",
       "0            Moscow   15740      11056   15945\n",
       "1  Saint-Petersburg    5614       7003    5895"
      ]
     },
     "metadata": {},
     "output_type": "display_data"
    }
   ],
   "source": [
    "# Table with results\n",
    "column_names = ['city', 'monday', 'wednesday', 'friday']\n",
    "data = [['Moscow', 15740, 11056, 15945], ['Saint-Petersburg', 5614, 7003, 5895]]\n",
    "table_city_days = pd.DataFrame(data = data, columns = column_names)\n",
    "display(table_city_days)"
   ]
  },
  {
   "cell_type": "markdown",
   "metadata": {},
   "source": [
    "**Conclusions**\n",
    "\n",
    "The data shows a difference in user behavior:\n",
    "\n",
    "- In Moscow, there's a peak in music listening on Monday and Friday, with a noticeable decrease on Wednesday.\n",
    "- In contrast, in Saint Petersburg, more music is listened to on Wednesdays. Activity on Monday and Friday falls behind that of Wednesday almost equally.\n",
    "\n",
    "This means the data supports the first hypothesis."
   ]
  },
  {
   "cell_type": "markdown",
   "metadata": {
    "id": "atZAxtq4_Zcu"
   },
   "source": [
    "### Music at the beginning and end of the week"
   ]
  },
  {
   "cell_type": "markdown",
   "metadata": {
    "id": "eXrQqXFH_Zcu"
   },
   "source": [
    "According to the second hypothesis, different genres prevail in Moscow on Monday morning, and different ones in Saint Petersburg. Similarly, different genres prevail on Friday evening, depending on the city."
   ]
  },
  {
   "cell_type": "markdown",
   "metadata": {},
   "source": [
    "Let's save the tables with the data into two variables:\n",
    "\n",
    "* for Moscow — in `moscow_general`;\n",
    "* for Saint Petersburg — in `spb_general`."
   ]
  },
  {
   "cell_type": "code",
   "execution_count": 30,
   "metadata": {
    "id": "qeaFfM_P_Zcu"
   },
   "outputs": [],
   "source": [
    "# getting the moscow_general table from those rows of the df table, \n",
    "# for which the value in the 'city' column equals 'Moscow'\n",
    "moscow_general = df[df['city'] == 'Moscow']"
   ]
  },
  {
   "cell_type": "code",
   "execution_count": 31,
   "metadata": {
    "id": "ORaVRKto_Zcu"
   },
   "outputs": [],
   "source": [
    "# getting the spb_general table from those rows of the df table,\n",
    "# for which the value in the 'city' column equals 'Saint-Petersburg'\n",
    "spb_general = df[df['city'] == 'Saint-Petersburg']"
   ]
  },
  {
   "cell_type": "markdown",
   "metadata": {},
   "source": [
    "Let's create a function `genre_weekday()` with four parameters:\n",
    "\n",
    "* a table (dataframe) with data,\n",
    "* the day of the week,\n",
    "* the initial time stamp in the 'hh:mm' format,\n",
    "* the final time stamp in the 'hh:mm' format.\n",
    "\n",
    "The function should return information about the top 10 genres of those tracks that were listened to on the specified day, in the period between the two-time marks."
   ]
  },
  {
   "cell_type": "code",
   "execution_count": 32,
   "metadata": {},
   "outputs": [],
   "source": [
    "def genre_weekday(table, day, time1, time2):\n",
    "    # 1) The genre_df variable stores those rows of the passed dataframe 'table' for which:\n",
    "    #    - the value in the 'day' column is equal to the 'day' argument value\n",
    "    #    - the value in the 'time' column is greater than the 'time1' argument value\n",
    "    #    - the value in the 'time' column is less than the 'time2' argument value\n",
    "    #    Sequential filtering is used with logical indexing.\n",
    "    genre_df = table[table['day'] == day]\n",
    "    genre_df = genre_df[genre_df['time'] > time1]\n",
    "    genre_df = genre_df[genre_df['time'] < time2]\n",
    "    \n",
    "    # 2) Group the 'genre_df' dataframe by the 'genre' column, take one of its columns, \n",
    "    #    and use the count() method to count the number of records for each of the present genres. \n",
    "    #    The resulting Series is recorded in the 'genre_df_count' variable.\n",
    "    genre_df_count = genre_df.groupby('genre')['track'].count()\n",
    "    \n",
    "    # 3) Sort 'genre_df_count' in descending order of frequency and save it \n",
    "    #    in the 'genre_df_sorted' variable.\n",
    "    genre_df_sorted = genre_df_count.sort_values(ascending=False)\n",
    "    \n",
    "    # 4) Return a Series of the first 10 values of 'genre_df_sorted', which will be the top-10\n",
    "    #    popular genres (on the specified day, at the specified time).\n",
    "    return genre_df_sorted.head(10)\n"
   ]
  },
  {
   "cell_type": "markdown",
   "metadata": {
    "id": "la2s2_PF_Zcu"
   },
   "source": [
    "Let's compare the results of the `genre_weekday()` function for Moscow and Saint Petersburg on Monday morning (from 7:00 to 11:00) and Friday evening (from 17:00 to 23:00):"
   ]
  },
  {
   "cell_type": "code",
   "execution_count": 33,
   "metadata": {
    "id": "yz7itPUQ_Zcu"
   },
   "outputs": [
    {
     "data": {
      "text/plain": [
       "genre\n",
       "pop            781\n",
       "dance          549\n",
       "electronic     480\n",
       "rock           474\n",
       "hiphop         286\n",
       "ruspop         186\n",
       "world          181\n",
       "rusrap         175\n",
       "alternative    164\n",
       "unknown        161\n",
       "Name: track, dtype: int64"
      ]
     },
     "execution_count": 33,
     "metadata": {},
     "output_type": "execute_result"
    }
   ],
   "source": [
    "# function call for Monday morning in Moscow (instead of df — the moscow_general table)\n",
    "# objects holding time are strings and are compared as strings\n",
    "# example call: genre_weekday(moscow_general, 'Monday', '07:00', '11:00')\n",
    "genre_weekday(moscow_general, 'Monday', '07:00', '11:00')"
   ]
  },
  {
   "cell_type": "code",
   "execution_count": 34,
   "metadata": {
    "id": "kwUcHPdy_Zcu"
   },
   "outputs": [
    {
     "data": {
      "text/plain": [
       "genre\n",
       "pop            218\n",
       "dance          182\n",
       "rock           162\n",
       "electronic     147\n",
       "hiphop          80\n",
       "ruspop          64\n",
       "alternative     58\n",
       "rusrap          55\n",
       "jazz            44\n",
       "classical       40\n",
       "Name: track, dtype: int64"
      ]
     },
     "execution_count": 34,
     "metadata": {},
     "output_type": "execute_result"
    }
   ],
   "source": [
    "# function call for Monday morning in Saint Petersburg (instead of df — the spb_general table)\n",
    "genre_weekday(spb_general, 'Monday', '07:00', '11:00')"
   ]
  },
  {
   "cell_type": "code",
   "execution_count": 35,
   "metadata": {
    "id": "EzXVRE1o_Zcu"
   },
   "outputs": [
    {
     "data": {
      "text/plain": [
       "genre\n",
       "pop            713\n",
       "rock           517\n",
       "dance          495\n",
       "electronic     482\n",
       "hiphop         273\n",
       "world          208\n",
       "ruspop         170\n",
       "alternative    163\n",
       "classical      163\n",
       "rusrap         142\n",
       "Name: track, dtype: int64"
      ]
     },
     "execution_count": 35,
     "metadata": {},
     "output_type": "execute_result"
    }
   ],
   "source": [
    "# function call for Friday evening in Moscow\n",
    "genre_weekday(moscow_general, 'Friday', '17:00', '23:00')"
   ]
  },
  {
   "cell_type": "code",
   "execution_count": 36,
   "metadata": {
    "id": "JZaEKu5v_Zcu",
    "scrolled": true
   },
   "outputs": [
    {
     "data": {
      "text/plain": [
       "genre\n",
       "pop            256\n",
       "electronic     216\n",
       "rock           216\n",
       "dance          210\n",
       "hiphop          97\n",
       "alternative     63\n",
       "jazz            61\n",
       "classical       60\n",
       "rusrap          59\n",
       "world           54\n",
       "Name: track, dtype: int64"
      ]
     },
     "execution_count": 36,
     "metadata": {},
     "output_type": "execute_result"
    }
   ],
   "source": [
    "# function call for Friday evening in Saint Petersburg\n",
    "genre_weekday(spb_general, 'Friday', '17:00', '23:00')"
   ]
  },
  {
   "cell_type": "markdown",
   "metadata": {},
   "source": [
    "**Conclusions**\n",
    "\n",
    "Upon comparing the top 10 genres on Monday morning, the following conclusions can be drawn:\n",
    "\n",
    "1. Both Moscow and Saint Petersburg listeners enjoy similar music. The only difference is the inclusion of the \"world\" genre in the Moscow ranking, while jazz and classical music made it to the Saint Petersburg list.\n",
    "\n",
    "2. In Moscow, there were so many missing values that the `'unknown'` category ranked tenth among the most popular genres. This suggests that missing values constitute a significant portion of the data and pose a threat to the reliability of the study.\n",
    "\n",
    "Friday evening does not alter this picture significantly. Some genres move slightly up, others go down, but overall, the top 10 remains the same.\n",
    "\n",
    "Thus, the second hypothesis is only partially confirmed:\n",
    "\n",
    "* Users listen to similar music at the beginning and the end of the week.\n",
    "* The difference between Moscow and Saint Petersburg is not too pronounced. Russian pop music is more frequently listened to in Moscow, while jazz is more popular in Saint Petersburg.\n",
    "\n",
    "However, gaps in the data cast doubt on this result. There are so many in Moscow that the top 10 ranking could look different if not for the lost data on genres."
   ]
  },
  {
   "cell_type": "markdown",
   "metadata": {
    "id": "JolODAqr_Zcu"
   },
   "source": [
    "### Genre Preferences in Moscow and Saint Petersburg\n",
    "\n",
    "Hypothesis: Saint Petersburg is the capital of rap, and music of this genre is listened to more frequently there than in Moscow. Moscow, on the other hand, is a city of contrasts, where pop music nonetheless prevails."
   ]
  },
  {
   "cell_type": "markdown",
   "metadata": {},
   "source": [
    "Let's group the `moscow_general` table by genre and count the number of track plays for each genre using the `count()` method. Then we'll sort the results in descending order and save it in the `moscow_genres` table."
   ]
  },
  {
   "cell_type": "code",
   "execution_count": 37,
   "metadata": {
    "id": "r19lIPke_Zcu"
   },
   "outputs": [],
   "source": [
    "# in one line: grouping the moscow_general table by the 'genre' column,\n",
    "# counting the number of 'genre' values in this grouping using the count() method,\n",
    "# sorting the resulting Series in descending order and saving it in moscow_genres\n",
    "moscow_genres = moscow_general.groupby('genre')['genre'].count().sort_values(ascending = False)"
   ]
  },
  {
   "cell_type": "markdown",
   "metadata": {
    "id": "6kMuomxTiIr8"
   },
   "source": [
    "Let's display the first ten rows of `moscow_genres`:"
   ]
  },
  {
   "cell_type": "code",
   "execution_count": 38,
   "metadata": {
    "id": "WhCSooF8_Zcv",
    "scrolled": true
   },
   "outputs": [
    {
     "data": {
      "text/plain": [
       "genre\n",
       "pop            5892\n",
       "dance          4435\n",
       "rock           3965\n",
       "electronic     3786\n",
       "hiphop         2096\n",
       "classical      1616\n",
       "world          1432\n",
       "alternative    1379\n",
       "ruspop         1372\n",
       "rusrap         1161\n",
       "Name: genre, dtype: int64"
      ]
     },
     "execution_count": 38,
     "metadata": {},
     "output_type": "execute_result"
    }
   ],
   "source": [
    "# view the first 10 rows of moscow_genres\n",
    "moscow_genres.head(10)"
   ]
  },
  {
   "cell_type": "code",
   "execution_count": 39,
   "metadata": {},
   "outputs": [
    {
     "data": {
      "text/html": [
       "<div>\n",
       "<style scoped>\n",
       "    .dataframe tbody tr th:only-of-type {\n",
       "        vertical-align: middle;\n",
       "    }\n",
       "\n",
       "    .dataframe tbody tr th {\n",
       "        vertical-align: top;\n",
       "    }\n",
       "\n",
       "    .dataframe thead th {\n",
       "        text-align: right;\n",
       "    }\n",
       "</style>\n",
       "<table border=\"1\" class=\"dataframe\">\n",
       "  <thead>\n",
       "    <tr style=\"text-align: right;\">\n",
       "      <th></th>\n",
       "      <th>genre</th>\n",
       "    </tr>\n",
       "    <tr>\n",
       "      <th>genre</th>\n",
       "      <th></th>\n",
       "    </tr>\n",
       "  </thead>\n",
       "  <tbody>\n",
       "    <tr>\n",
       "      <th>pop</th>\n",
       "      <td>5892</td>\n",
       "    </tr>\n",
       "    <tr>\n",
       "      <th>dance</th>\n",
       "      <td>4435</td>\n",
       "    </tr>\n",
       "    <tr>\n",
       "      <th>rock</th>\n",
       "      <td>3965</td>\n",
       "    </tr>\n",
       "    <tr>\n",
       "      <th>electronic</th>\n",
       "      <td>3786</td>\n",
       "    </tr>\n",
       "    <tr>\n",
       "      <th>hiphop</th>\n",
       "      <td>2096</td>\n",
       "    </tr>\n",
       "    <tr>\n",
       "      <th>...</th>\n",
       "      <td>...</td>\n",
       "    </tr>\n",
       "    <tr>\n",
       "      <th>neoklassik</th>\n",
       "      <td>1</td>\n",
       "    </tr>\n",
       "    <tr>\n",
       "      <th>mood</th>\n",
       "      <td>1</td>\n",
       "    </tr>\n",
       "    <tr>\n",
       "      <th>metalcore</th>\n",
       "      <td>1</td>\n",
       "    </tr>\n",
       "    <tr>\n",
       "      <th>marschmusik</th>\n",
       "      <td>1</td>\n",
       "    </tr>\n",
       "    <tr>\n",
       "      <th>ïîï</th>\n",
       "      <td>1</td>\n",
       "    </tr>\n",
       "  </tbody>\n",
       "</table>\n",
       "<p>267 rows × 1 columns</p>\n",
       "</div>"
      ],
      "text/plain": [
       "             genre\n",
       "genre             \n",
       "pop           5892\n",
       "dance         4435\n",
       "rock          3965\n",
       "electronic    3786\n",
       "hiphop        2096\n",
       "...            ...\n",
       "neoklassik       1\n",
       "mood             1\n",
       "metalcore        1\n",
       "marschmusik      1\n",
       "ïîï              1\n",
       "\n",
       "[267 rows x 1 columns]"
      ]
     },
     "execution_count": 39,
     "metadata": {},
     "output_type": "execute_result"
    }
   ],
   "source": [
    "moscow_genres.to_frame()"
   ]
  },
  {
   "cell_type": "markdown",
   "metadata": {
    "id": "cnPG2vnN_Zcv"
   },
   "source": [
    "Now let's repeat the same process for Saint Petersburg.\n",
    "\n",
    "Let's group the `spb_general` table by genre and count the number of times tracks of each genre were played. Then we'll sort the results in descending order and save them in the `spb_genres` table:"
   ]
  },
  {
   "cell_type": "code",
   "execution_count": 40,
   "metadata": {
    "id": "gluLIpE7_Zcv"
   },
   "outputs": [],
   "source": [
    "# in one line: grouping the spb_general table by the 'genre' column,\n",
    "# counting the number of 'genre' values in this group using the count() method,\n",
    "# sorting the resulting Series in descending order and saving it in spb_genres\n",
    "spb_genres = spb_general.groupby('genre')['genre'].count().sort_values(ascending = False)"
   ]
  },
  {
   "cell_type": "markdown",
   "metadata": {
    "id": "5Doha_ODgyQ8"
   },
   "source": [
    "Let's display the first ten rows of `spb_genres`:"
   ]
  },
  {
   "cell_type": "code",
   "execution_count": 41,
   "metadata": {
    "id": "uaGJHjVU_Zcv"
   },
   "outputs": [
    {
     "data": {
      "text/plain": [
       "genre\n",
       "pop            2431\n",
       "dance          1932\n",
       "rock           1879\n",
       "electronic     1736\n",
       "hiphop          960\n",
       "alternative     649\n",
       "classical       646\n",
       "rusrap          564\n",
       "ruspop          538\n",
       "world           515\n",
       "Name: genre, dtype: int64"
      ]
     },
     "execution_count": 41,
     "metadata": {},
     "output_type": "execute_result"
    }
   ],
   "source": [
    "# viewing the first 10 rows of spb_genres\n",
    "spb_genres.head(10)"
   ]
  },
  {
   "cell_type": "markdown",
   "metadata": {
    "id": "RY51YJYu_Zcv"
   },
   "source": [
    "**Conclusions**"
   ]
  },
  {
   "cell_type": "markdown",
   "metadata": {},
   "source": [
    "The hypothesis is partially confirmed:\n",
    "\n",
    "* Pop music is the most popular genre in Moscow, as the hypothesis suggested. Furthermore, a related genre - Russian pop music - is also in the top 10.\n",
    "* Contrary to expectations, rap is equally popular in both Moscow and Saint Petersburg."
   ]
  },
  {
   "cell_type": "markdown",
   "metadata": {
    "id": "ykKQ0N65_Zcv"
   },
   "source": [
    "## Research Findings"
   ]
  },
  {
   "cell_type": "markdown",
   "metadata": {},
   "source": [
    "We have tested three hypotheses and determined:\n",
    "\n",
    "1. The day of the week affects user activity differently in Moscow and Saint Petersburg.\n",
    "\n",
    "The first hypothesis was fully confirmed.\n",
    "\n",
    "2. Musical preferences don't change much throughout the week — be it Moscow or Saint Petersburg. Minor differences are noticeable at the beginning of the week, on Mondays:\n",
    "* in Moscow, they listen to “world” music,\n",
    "* in Saint Petersburg — jazz and classical.\n",
    "\n",
    "Thus, the second hypothesis was only partially confirmed. This result could have been different if not for the missing data.\n",
    "\n",
    "3. The tastes of users in Moscow and Saint Petersburg have more in common than differences. Contrary to expectations, genre preferences in Saint Petersburg resemble those in Moscow.\n",
    "\n",
    "The third hypothesis was not confirmed. If differences in preferences do exist, they are not noticeable among the majority of users.\n",
    "\n",
    "**In practice, research involves testing statistical hypotheses.**\n",
    "\n",
    "It's not always possible to draw conclusions about all the residents of a city from the data of one service. \n",
    "\n",
    "Testing statistical hypotheses will show how reliable they are based on the available data. "
   ]
  }
 ],
 "metadata": {
  "ExecuteTimeLog": [
   {
    "duration": 624,
    "start_time": "2021-11-29T13:01:44.067Z"
   },
   {
    "duration": 407,
    "start_time": "2021-11-29T13:02:10.277Z"
   },
   {
    "duration": 145,
    "start_time": "2021-11-29T13:02:17.272Z"
   },
   {
    "duration": 8,
    "start_time": "2021-11-29T13:02:27.154Z"
   },
   {
    "duration": 16,
    "start_time": "2021-11-29T13:02:35.430Z"
   },
   {
    "duration": 44,
    "start_time": "2021-11-29T13:02:58.917Z"
   },
   {
    "duration": 4,
    "start_time": "2021-11-29T13:05:14.892Z"
   },
   {
    "duration": 21,
    "start_time": "2021-11-29T13:09:34.543Z"
   },
   {
    "duration": 4,
    "start_time": "2021-11-29T13:09:40.528Z"
   },
   {
    "duration": 23,
    "start_time": "2021-11-29T13:10:31.731Z"
   },
   {
    "duration": 103,
    "start_time": "2021-11-29T13:12:53.348Z"
   },
   {
    "duration": 24,
    "start_time": "2021-11-29T13:13:03.400Z"
   },
   {
    "duration": 57,
    "start_time": "2021-11-29T13:13:32.414Z"
   },
   {
    "duration": 65,
    "start_time": "2021-11-29T13:14:03.679Z"
   },
   {
    "duration": 3,
    "start_time": "2021-11-29T13:14:06.191Z"
   },
   {
    "duration": 53,
    "start_time": "2021-11-29T13:14:12.096Z"
   },
   {
    "duration": 6,
    "start_time": "2021-11-29T13:15:15.662Z"
   },
   {
    "duration": 338,
    "start_time": "2021-11-29T13:15:23.310Z"
   },
   {
    "duration": 5,
    "start_time": "2021-11-29T13:16:12.522Z"
   },
   {
    "duration": 342,
    "start_time": "2021-11-29T13:16:32.180Z"
   },
   {
    "duration": 384,
    "start_time": "2021-11-29T13:16:56.976Z"
   },
   {
    "duration": 360,
    "start_time": "2021-11-29T13:17:20.888Z"
   },
   {
    "duration": 6,
    "start_time": "2021-11-29T13:17:40.266Z"
   },
   {
    "duration": 325,
    "start_time": "2021-11-29T13:17:51.866Z"
   },
   {
    "duration": 6,
    "start_time": "2021-11-29T13:18:03.697Z"
   },
   {
    "duration": 40,
    "start_time": "2021-11-29T13:18:13.165Z"
   },
   {
    "duration": 41,
    "start_time": "2021-11-29T13:18:23.675Z"
   },
   {
    "duration": 2,
    "start_time": "2021-11-29T13:19:07.856Z"
   },
   {
    "duration": 10,
    "start_time": "2021-11-29T13:23:33.350Z"
   },
   {
    "duration": 35,
    "start_time": "2021-11-29T13:23:46.775Z"
   },
   {
    "duration": 20,
    "start_time": "2021-11-29T13:37:42.367Z"
   },
   {
    "duration": 55,
    "start_time": "2021-11-29T13:38:02.878Z"
   },
   {
    "duration": 1134,
    "start_time": "2021-11-29T13:38:19.865Z"
   },
   {
    "duration": 54,
    "start_time": "2021-11-29T13:38:36.149Z"
   },
   {
    "duration": 44,
    "start_time": "2021-11-29T13:38:44.363Z"
   },
   {
    "duration": 52,
    "start_time": "2021-11-29T13:39:04.681Z"
   },
   {
    "duration": 49,
    "start_time": "2021-11-29T13:39:19.087Z"
   },
   {
    "duration": 53,
    "start_time": "2021-11-29T13:39:21.448Z"
   },
   {
    "duration": 2,
    "start_time": "2021-11-29T13:39:50.369Z"
   },
   {
    "duration": 9,
    "start_time": "2021-11-29T13:39:51.875Z"
   },
   {
    "duration": 7,
    "start_time": "2021-11-29T13:40:11.680Z"
   },
   {
    "duration": 345,
    "start_time": "2021-11-29T13:40:29.858Z"
   },
   {
    "duration": 336,
    "start_time": "2021-11-29T13:40:38.595Z"
   },
   {
    "duration": 45,
    "start_time": "2021-11-29T13:40:44.104Z"
   },
   {
    "duration": 455,
    "start_time": "2021-11-29T13:40:48.716Z"
   },
   {
    "duration": 45,
    "start_time": "2021-11-29T13:40:57.728Z"
   },
   {
    "duration": 44,
    "start_time": "2021-11-29T13:41:18.218Z"
   },
   {
    "duration": 45,
    "start_time": "2021-11-29T13:41:31.290Z"
   },
   {
    "duration": 371,
    "start_time": "2021-11-29T13:42:08.667Z"
   },
   {
    "duration": 45,
    "start_time": "2021-11-29T13:42:12.237Z"
   },
   {
    "duration": 2,
    "start_time": "2021-11-29T13:42:42.997Z"
   },
   {
    "duration": 69,
    "start_time": "2021-11-29T13:42:47.282Z"
   },
   {
    "duration": 41,
    "start_time": "2021-11-29T13:43:32.167Z"
   },
   {
    "duration": 10,
    "start_time": "2021-11-29T13:43:39.547Z"
   },
   {
    "duration": 46,
    "start_time": "2021-11-29T13:43:42.169Z"
   },
   {
    "duration": 40,
    "start_time": "2021-11-29T13:43:46.352Z"
   },
   {
    "duration": 49,
    "start_time": "2021-11-29T13:44:06.128Z"
   },
   {
    "duration": 3,
    "start_time": "2021-11-29T13:44:55.583Z"
   },
   {
    "duration": 724,
    "start_time": "2021-11-29T13:46:13.814Z"
   },
   {
    "duration": 152,
    "start_time": "2021-11-29T13:46:15.489Z"
   },
   {
    "duration": 21,
    "start_time": "2021-11-29T13:46:16.938Z"
   },
   {
    "duration": 26,
    "start_time": "2021-11-29T13:46:19.396Z"
   },
   {
    "duration": 6,
    "start_time": "2021-11-29T13:46:25.871Z"
   },
   {
    "duration": 21,
    "start_time": "2021-11-29T13:46:28.158Z"
   },
   {
    "duration": 4,
    "start_time": "2021-11-29T13:46:30.069Z"
   },
   {
    "duration": 25,
    "start_time": "2021-11-29T13:46:32.916Z"
   },
   {
    "duration": 64,
    "start_time": "2021-11-29T13:46:36.100Z"
   },
   {
    "duration": 23,
    "start_time": "2021-11-29T13:46:37.608Z"
   },
   {
    "duration": 57,
    "start_time": "2021-11-29T13:46:39.381Z"
   },
   {
    "duration": 63,
    "start_time": "2021-11-29T13:46:41.770Z"
   },
   {
    "duration": 53,
    "start_time": "2021-11-29T13:46:43.059Z"
   },
   {
    "duration": 445,
    "start_time": "2021-11-29T13:46:48.684Z"
   },
   {
    "duration": 43,
    "start_time": "2021-11-29T13:46:52.685Z"
   },
   {
    "duration": 492,
    "start_time": "2021-11-29T13:47:06.619Z"
   },
   {
    "duration": 576,
    "start_time": "2021-11-29T13:47:20.384Z"
   },
   {
    "duration": 41,
    "start_time": "2021-11-29T13:47:25.549Z"
   },
   {
    "duration": 3,
    "start_time": "2021-11-29T13:47:35.651Z"
   },
   {
    "duration": 10,
    "start_time": "2021-11-29T13:47:37.387Z"
   },
   {
    "duration": 3,
    "start_time": "2021-11-29T13:48:31.070Z"
   },
   {
    "duration": 4,
    "start_time": "2021-11-29T13:48:36.804Z"
   },
   {
    "duration": 32,
    "start_time": "2021-11-29T13:48:49.290Z"
   },
   {
    "duration": 31,
    "start_time": "2021-11-29T13:49:28.109Z"
   },
   {
    "duration": 358,
    "start_time": "2021-11-29T13:49:58.905Z"
   },
   {
    "duration": 13,
    "start_time": "2021-11-29T13:50:08.161Z"
   },
   {
    "duration": 465,
    "start_time": "2021-11-29T13:51:22.299Z"
   },
   {
    "duration": 5,
    "start_time": "2021-11-29T13:51:34.047Z"
   },
   {
    "duration": 30,
    "start_time": "2021-11-29T13:51:44.594Z"
   },
   {
    "duration": 12,
    "start_time": "2021-11-29T13:52:17.828Z"
   },
   {
    "duration": 4,
    "start_time": "2021-11-29T13:57:31.757Z"
   },
   {
    "duration": 9,
    "start_time": "2021-11-29T13:57:33.093Z"
   },
   {
    "duration": 22,
    "start_time": "2021-11-29T13:57:59.248Z"
   },
   {
    "duration": 332,
    "start_time": "2021-11-29T13:58:07.151Z"
   },
   {
    "duration": 4,
    "start_time": "2021-11-29T13:58:08.993Z"
   },
   {
    "duration": 12,
    "start_time": "2021-11-29T13:58:17.747Z"
   },
   {
    "duration": 8,
    "start_time": "2021-11-29T13:58:42.905Z"
   },
   {
    "duration": 9,
    "start_time": "2021-11-29T13:58:54.130Z"
   },
   {
    "duration": 9,
    "start_time": "2021-11-29T13:59:03.135Z"
   },
   {
    "duration": 3,
    "start_time": "2021-11-29T13:59:06.800Z"
   },
   {
    "duration": 9,
    "start_time": "2021-11-29T13:59:17.410Z"
   },
   {
    "duration": 9,
    "start_time": "2021-11-29T13:59:21.268Z"
   },
   {
    "duration": 3,
    "start_time": "2021-11-29T14:00:17.417Z"
   },
   {
    "duration": 4,
    "start_time": "2021-11-29T14:00:27.827Z"
   },
   {
    "duration": 330,
    "start_time": "2021-11-29T14:00:33.360Z"
   },
   {
    "duration": 5,
    "start_time": "2021-11-29T14:01:06.363Z"
   },
   {
    "duration": 3,
    "start_time": "2021-11-29T14:01:51.899Z"
   },
   {
    "duration": 9,
    "start_time": "2021-11-29T14:01:54.136Z"
   },
   {
    "duration": 9,
    "start_time": "2021-11-29T14:01:56.925Z"
   },
   {
    "duration": 3,
    "start_time": "2021-11-29T14:02:15.672Z"
   },
   {
    "duration": 9,
    "start_time": "2021-11-29T14:02:17.850Z"
   },
   {
    "duration": 8,
    "start_time": "2021-11-29T14:02:50.959Z"
   },
   {
    "duration": 9,
    "start_time": "2021-11-29T14:02:58.126Z"
   },
   {
    "duration": 15,
    "start_time": "2021-11-29T14:03:25.573Z"
   },
   {
    "duration": 13,
    "start_time": "2021-11-29T14:03:31.624Z"
   },
   {
    "duration": 3,
    "start_time": "2021-11-29T14:03:37.056Z"
   },
   {
    "duration": 18,
    "start_time": "2021-11-29T14:03:38.581Z"
   },
   {
    "duration": 15,
    "start_time": "2021-11-29T14:03:51.750Z"
   },
   {
    "duration": 17,
    "start_time": "2021-11-29T14:04:05.958Z"
   },
   {
    "duration": 16,
    "start_time": "2021-11-29T14:04:15.183Z"
   },
   {
    "duration": 17,
    "start_time": "2021-11-29T14:04:21.363Z"
   },
   {
    "duration": 15,
    "start_time": "2021-11-29T14:04:29.819Z"
   },
   {
    "duration": 10,
    "start_time": "2021-11-29T14:08:07.913Z"
   },
   {
    "duration": 344,
    "start_time": "2021-11-29T14:08:57.120Z"
   },
   {
    "duration": 109,
    "start_time": "2021-11-29T14:10:21.746Z"
   },
   {
    "duration": 9,
    "start_time": "2021-11-29T14:10:27.890Z"
   },
   {
    "duration": 11,
    "start_time": "2021-11-29T14:12:52.120Z"
   },
   {
    "duration": 860,
    "start_time": "2021-11-29T14:12:52.531Z"
   },
   {
    "duration": 9,
    "start_time": "2021-11-29T14:13:06.138Z"
   },
   {
    "duration": 21,
    "start_time": "2021-11-29T14:13:11.655Z"
   },
   {
    "duration": 10,
    "start_time": "2021-11-29T14:13:16.855Z"
   },
   {
    "duration": 10,
    "start_time": "2021-11-29T14:13:18.099Z"
   },
   {
    "duration": 113,
    "start_time": "2021-11-29T14:17:31.702Z"
   },
   {
    "duration": 4,
    "start_time": "2021-11-29T14:17:36.540Z"
   },
   {
    "duration": 345,
    "start_time": "2021-11-29T14:18:13.389Z"
   },
   {
    "duration": 678,
    "start_time": "2021-11-29T14:18:18.814Z"
   },
   {
    "duration": 5,
    "start_time": "2021-11-29T14:18:42.114Z"
   },
   {
    "duration": 25,
    "start_time": "2021-11-29T14:18:43.727Z"
   },
   {
    "duration": 4,
    "start_time": "2021-11-29T14:20:11.348Z"
   },
   {
    "duration": 25,
    "start_time": "2021-11-29T14:20:13.002Z"
   },
   {
    "duration": 4,
    "start_time": "2021-11-29T14:20:31.968Z"
   },
   {
    "duration": 24,
    "start_time": "2021-11-29T14:20:33.272Z"
   },
   {
    "duration": 11,
    "start_time": "2021-11-29T14:21:25.500Z"
   },
   {
    "duration": 22,
    "start_time": "2021-11-29T14:22:00.527Z"
   },
   {
    "duration": 18,
    "start_time": "2021-11-29T14:22:16.835Z"
   },
   {
    "duration": 19,
    "start_time": "2021-11-29T14:22:25.694Z"
   },
   {
    "duration": 4,
    "start_time": "2021-11-29T14:23:09.517Z"
   },
   {
    "duration": 26,
    "start_time": "2021-11-29T14:23:11.173Z"
   },
   {
    "duration": 17,
    "start_time": "2021-11-29T14:23:13.426Z"
   },
   {
    "duration": 22,
    "start_time": "2021-11-29T14:23:16.960Z"
   },
   {
    "duration": 17,
    "start_time": "2021-11-29T14:23:17.835Z"
   },
   {
    "duration": 5,
    "start_time": "2021-11-29T14:23:52.189Z"
   },
   {
    "duration": 778,
    "start_time": "2021-11-29T14:23:53.986Z"
   },
   {
    "duration": 5,
    "start_time": "2021-11-29T14:24:08.279Z"
   },
   {
    "duration": 22,
    "start_time": "2021-11-29T14:24:09.314Z"
   },
   {
    "duration": 15,
    "start_time": "2021-11-29T14:24:11.525Z"
   },
   {
    "duration": 17,
    "start_time": "2021-11-29T14:24:12.048Z"
   },
   {
    "duration": 13,
    "start_time": "2021-11-29T14:24:12.622Z"
   },
   {
    "duration": 351,
    "start_time": "2021-11-29T14:28:24.158Z"
   },
   {
    "duration": 356,
    "start_time": "2021-11-29T14:28:53.370Z"
   },
   {
    "duration": 368,
    "start_time": "2021-11-29T14:29:05.753Z"
   },
   {
    "duration": 55,
    "start_time": "2021-11-29T14:29:09.549Z"
   },
   {
    "duration": 10,
    "start_time": "2021-11-29T14:29:26.144Z"
   },
   {
    "duration": 11,
    "start_time": "2021-11-29T14:29:41.050Z"
   },
   {
    "duration": 11,
    "start_time": "2021-11-29T14:29:46.322Z"
   },
   {
    "duration": 5,
    "start_time": "2021-11-29T14:30:05.293Z"
   },
   {
    "duration": 8,
    "start_time": "2021-11-29T14:30:07.016Z"
   },
   {
    "duration": 5,
    "start_time": "2021-11-29T14:30:09.203Z"
   },
   {
    "duration": 7,
    "start_time": "2021-11-29T14:30:32.359Z"
   },
   {
    "duration": 5,
    "start_time": "2021-11-29T14:30:40.165Z"
   },
   {
    "duration": 10,
    "start_time": "2021-11-29T14:33:10.159Z"
   },
   {
    "duration": 6,
    "start_time": "2021-11-29T14:33:11.063Z"
   },
   {
    "duration": 5,
    "start_time": "2021-11-29T14:33:17.847Z"
   },
   {
    "duration": 6,
    "start_time": "2021-11-29T14:33:18.601Z"
   },
   {
    "duration": 566,
    "start_time": "2021-11-30T06:45:39.088Z"
   },
   {
    "duration": 136,
    "start_time": "2021-11-30T06:45:39.656Z"
   },
   {
    "duration": 15,
    "start_time": "2021-11-30T06:45:39.794Z"
   },
   {
    "duration": 36,
    "start_time": "2021-11-30T06:45:39.811Z"
   },
   {
    "duration": 7,
    "start_time": "2021-11-30T06:45:39.849Z"
   },
   {
    "duration": 35,
    "start_time": "2021-11-30T06:45:39.857Z"
   },
   {
    "duration": 21,
    "start_time": "2021-11-30T06:45:39.894Z"
   },
   {
    "duration": 40,
    "start_time": "2021-11-30T06:45:39.917Z"
   },
   {
    "duration": 87,
    "start_time": "2021-11-30T06:45:39.959Z"
   },
   {
    "duration": 23,
    "start_time": "2021-11-30T06:45:40.048Z"
   },
   {
    "duration": 65,
    "start_time": "2021-11-30T06:45:40.073Z"
   },
   {
    "duration": 67,
    "start_time": "2021-11-30T06:45:40.140Z"
   },
   {
    "duration": 63,
    "start_time": "2021-11-30T06:45:40.209Z"
   },
   {
    "duration": 37,
    "start_time": "2021-11-30T06:45:40.273Z"
   },
   {
    "duration": 20,
    "start_time": "2021-11-30T06:45:40.312Z"
   },
   {
    "duration": 29,
    "start_time": "2021-11-30T06:45:40.334Z"
   },
   {
    "duration": 48,
    "start_time": "2021-11-30T06:45:40.365Z"
   },
   {
    "duration": 14,
    "start_time": "2021-11-30T06:45:40.415Z"
   },
   {
    "duration": 12,
    "start_time": "2021-11-30T06:45:40.430Z"
   },
   {
    "duration": 18,
    "start_time": "2021-11-30T06:45:40.444Z"
   },
   {
    "duration": 39,
    "start_time": "2021-11-30T06:45:40.464Z"
   },
   {
    "duration": 15,
    "start_time": "2021-11-30T06:45:40.505Z"
   },
   {
    "duration": 35,
    "start_time": "2021-11-30T06:45:40.523Z"
   },
   {
    "duration": 17,
    "start_time": "2021-11-30T06:45:40.560Z"
   },
   {
    "duration": 25,
    "start_time": "2021-11-30T06:45:40.579Z"
   },
   {
    "duration": 21,
    "start_time": "2021-11-30T06:45:40.605Z"
   },
   {
    "duration": 23,
    "start_time": "2021-11-30T06:45:40.628Z"
   },
   {
    "duration": 25,
    "start_time": "2021-11-30T06:45:40.653Z"
   },
   {
    "duration": 29,
    "start_time": "2021-11-30T06:45:40.680Z"
   },
   {
    "duration": 11,
    "start_time": "2021-11-30T06:45:40.710Z"
   },
   {
    "duration": 39,
    "start_time": "2021-11-30T06:45:40.722Z"
   },
   {
    "duration": 25,
    "start_time": "2021-11-30T06:45:40.763Z"
   },
   {
    "duration": 27,
    "start_time": "2021-11-30T06:45:40.789Z"
   },
   {
    "duration": 16,
    "start_time": "2021-11-30T06:45:40.818Z"
   },
   {
    "duration": 10,
    "start_time": "2021-11-30T06:45:40.836Z"
   },
   {
    "duration": 12,
    "start_time": "2021-11-30T06:45:40.848Z"
   },
   {
    "duration": 29,
    "start_time": "2021-11-30T06:45:40.862Z"
   },
   {
    "duration": 16,
    "start_time": "2021-11-30T06:45:40.893Z"
   },
   {
    "duration": 5,
    "start_time": "2021-11-30T06:54:15.628Z"
   },
   {
    "duration": 201,
    "start_time": "2021-12-02T17:00:45.758Z"
   },
   {
    "duration": 580,
    "start_time": "2021-12-02T17:00:54.687Z"
   },
   {
    "duration": 145,
    "start_time": "2021-12-02T17:00:57.207Z"
   },
   {
    "duration": 23,
    "start_time": "2021-12-02T17:01:00.402Z"
   },
   {
    "duration": 27,
    "start_time": "2021-12-02T17:01:09.006Z"
   },
   {
    "duration": 4156,
    "start_time": "2021-12-02T17:01:12.045Z"
   },
   {
    "duration": 23,
    "start_time": "2021-12-02T17:01:16.278Z"
   },
   {
    "duration": 176,
    "start_time": "2021-12-02T17:01:51.599Z"
   },
   {
    "duration": 4,
    "start_time": "2021-12-02T17:01:58.241Z"
   },
   {
    "duration": 4,
    "start_time": "2021-12-02T17:02:04.300Z"
   },
   {
    "duration": 21,
    "start_time": "2021-12-02T17:02:06.231Z"
   },
   {
    "duration": 4,
    "start_time": "2021-12-02T17:02:08.546Z"
   },
   {
    "duration": 21,
    "start_time": "2021-12-02T17:02:10.416Z"
   },
   {
    "duration": 26,
    "start_time": "2021-12-02T17:02:13.151Z"
   },
   {
    "duration": 23,
    "start_time": "2021-12-02T17:02:16.178Z"
   },
   {
    "duration": 17,
    "start_time": "2021-12-02T17:02:23.817Z"
   },
   {
    "duration": 23,
    "start_time": "2021-12-02T17:02:26.461Z"
   },
   {
    "duration": 3,
    "start_time": "2021-12-02T17:04:47.580Z"
   },
   {
    "duration": 56,
    "start_time": "2021-12-02T17:05:07.898Z"
   },
   {
    "duration": 54,
    "start_time": "2021-12-02T17:05:25.763Z"
   },
   {
    "duration": 4,
    "start_time": "2021-12-02T17:05:38.964Z"
   },
   {
    "duration": 175,
    "start_time": "2021-12-02T17:10:21.229Z"
   },
   {
    "duration": 166,
    "start_time": "2021-12-02T17:10:26.632Z"
   },
   {
    "duration": 166,
    "start_time": "2021-12-02T17:10:35.871Z"
   }
  ],
  "colab": {
   "collapsed_sections": [
    "E0vqbgi9ay0H",
    "VUC88oWjTJw2"
   ],
   "name": "yandex_music_project_2021.2.ipynb",
   "provenance": []
  },
  "kernelspec": {
   "display_name": "Python 3 (ipykernel)",
   "language": "python",
   "name": "python3"
  },
  "language_info": {
   "codemirror_mode": {
    "name": "ipython",
    "version": 3
   },
   "file_extension": ".py",
   "mimetype": "text/x-python",
   "name": "python",
   "nbconvert_exporter": "python",
   "pygments_lexer": "ipython3",
   "version": "3.9.7"
  },
  "toc": {
   "base_numbering": 1,
   "nav_menu": {},
   "number_sections": true,
   "sideBar": true,
   "skip_h1_title": true,
   "title_cell": "Table of Contents",
   "title_sidebar": "Contents",
   "toc_cell": false,
   "toc_position": {},
   "toc_section_display": true,
   "toc_window_display": false
  }
 },
 "nbformat": 4,
 "nbformat_minor": 1
}
